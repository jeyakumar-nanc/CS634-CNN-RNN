{
  "nbformat": 4,
  "nbformat_minor": 0,
  "metadata": {
    "colab": {
      "name": "MLE_Gaussian_Assigment.ipynb",
      "provenance": [],
      "collapsed_sections": [],
      "authorship_tag": "ABX9TyMbCFujD3rLvYNRqMSVxM2d"
    },
    "kernelspec": {
      "name": "python3",
      "display_name": "Python 3"
    },
    "language_info": {
      "name": "python"
    }
  },
  "cells": [
    {
      "cell_type": "markdown",
      "metadata": {
        "id": "_fEbFJwIBNa5"
      },
      "source": [
        "**Exercise 1: MLE of a Gaussian p_model(50 points)**"
      ]
    },
    {
      "cell_type": "code",
      "metadata": {
        "id": "Mi3IFw6geb3U"
      },
      "source": [
        "import matplotlib.pyplot as plt\n",
        "import numpy as np\n",
        "import scipy.stats\n",
        "import warnings\n",
        "import math"
      ],
      "execution_count": null,
      "outputs": []
    },
    {
      "cell_type": "code",
      "metadata": {
        "id": "62JZfyQFu0VH"
      },
      "source": [
        "#partial derivative w.r.t to mean x-mu/sigma_2\n",
        "def partial_deriv_mean(data, est_mean, est_var):\n",
        "  warnings.filterwarnings(\"ignore\")\n",
        "  return (np.sum(data - est_mean))/est_var**2\n",
        "  "
      ],
      "execution_count": null,
      "outputs": []
    },
    {
      "cell_type": "code",
      "metadata": {
        "id": "NsmQPEeU-D9M"
      },
      "source": [
        "#partial derivative w.r.t to variance\n",
        "def partial_deriv_var(data, est_mean, est_var,N):\n",
        "  warnings.filterwarnings(\"ignore\")\n",
        "  return (((np.sum((data - est_mean)**2))/est_var**2)-N)/2*(est_var**2);\n",
        "  "
      ],
      "execution_count": null,
      "outputs": []
    },
    {
      "cell_type": "code",
      "metadata": {
        "id": "IDB4qmRmiPLr"
      },
      "source": [
        "def gradient_descent(data, est_mean, est_var, learning_rate, epochs):\n",
        "  #prev_w = np.array([est_mean, est_var])\n",
        "  for k in range(epochs):\n",
        "    for x in data:\n",
        "      d_mean = partial_deriv_mean(x, est_mean, est_var)\n",
        "      d_var = partial_deriv_var(x, est_mean, est_var,len(data))\n",
        "  \n",
        "      est_mean = est_mean - (learning_rate*(-d_mean))\n",
        "      est_var = est_var - (learning_rate*(-d_var))\n",
        "\n",
        "  print(\"MLE for mean gaussian parameters - %.2f, variance - %.2f\" % (est_mean,est_var)) "
      ],
      "execution_count": null,
      "outputs": []
    },
    {
      "cell_type": "code",
      "metadata": {
        "colab": {
          "base_uri": "https://localhost:8080/"
        },
        "id": "MH40OyevxVxt",
        "outputId": "78257530-a437-4955-fb08-4414d519fe73"
      },
      "source": [
        "data = [4, 5, 7, 8, 8, 9, 10, 5, 2, 3, 5, 4, 8, 9]\n",
        "gradient_descent(data,0,1,0.01,100000)"
      ],
      "execution_count": null,
      "outputs": [
        {
          "output_type": "stream",
          "name": "stdout",
          "text": [
            "MLE for mean gaussian parameters - 6.22, variance - 2.43\n"
          ]
        }
      ]
    },
    {
      "cell_type": "markdown",
      "metadata": {
        "id": "NoOD3pi7BgZA"
      },
      "source": [
        "To estimate the optimal values of gaussian distribution used stochastic gradient descent algorithm.\n",
        "1. started with initial values for mean and variance as 0 , 1, learning rate 0.01\n",
        "2. computed the partial derivates of mean and variance starting with random values of mean and variance\n",
        "3. Plug and chug the derivate values to calculate the gradient\n",
        "4. Estimated mean and varianance is derived from the formula est val = est val - loss fn ; where loss fn = learning rate * (partial derivate of mean/variance)\n",
        "5. Repeated the process until we get very small value for loss function. The value of est_mean and est_var at the end of the iterations are optimal values for gaussian distribution\n",
        "\n",
        "For our data, MLE for gaussian parameters mean - 6.22, variance - 2.43"
      ]
    },
    {
      "cell_type": "markdown",
      "metadata": {
        "id": "QOcEew8ZTsvw"
      },
      "source": [
        "**Exercise 2: MLE of a Gaussian p_model for a regression problem (50 points)**"
      ]
    },
    {
      "cell_type": "code",
      "metadata": {
        "id": "00XXf0dDTrPs"
      },
      "source": [
        "def linear_gradient_descent(x,y,learning_rate,epochs):  \n",
        "  plt.scatter(x, y) #plot the data\n",
        "  m_curr = 0\n",
        "  c_curr = 0\n",
        "  n = float(len(x))\n",
        "  \n",
        "  for i in range(epochs):\n",
        "    y_pred = m_curr * x + c_curr    #linear equation y = mx+c\n",
        "    #at each step calculating the predicted values of y\n",
        "    md = (-2/n) *sum(x*(y-y_pred)) #partial derivative of m\n",
        "    cd = (-2/n) *sum(y-y_pred) #partial derivative of m\n",
        "    m_curr = m_curr - (learning_rate * md)\n",
        "    c_curr = c_curr - (learning_rate * cd)\n",
        "    \n",
        "  plt.plot(x,y_pred)    #plot the model that fits the data closely\n",
        "  \n",
        "  print (\"MLE for linear regression m  -> {}, c -> {}\".format(m_curr,c_curr))\n",
        "  \n",
        "  "
      ],
      "execution_count": null,
      "outputs": []
    },
    {
      "cell_type": "code",
      "metadata": {
        "colab": {
          "base_uri": "https://localhost:8080/",
          "height": 284
        },
        "id": "e1w6vZP44sTu",
        "outputId": "34e25d1f-4b79-49a7-8fd2-1ed8a7caa2d7"
      },
      "source": [
        "x = np.array([8, 16, 22, 33, 50, 51])\n",
        "y = np.array([5, 20, 14, 32, 42, 58])\n",
        "\n",
        "linear_gradient_descent(x,y,0.0001,1000)\n"
      ],
      "execution_count": null,
      "outputs": [
        {
          "output_type": "stream",
          "name": "stdout",
          "text": [
            "MLE for linear regression m  -> 0.9720324681885764, c -> -0.0915723644677935\n"
          ]
        },
        {
          "output_type": "display_data",
          "data": {
            "image/png": "[encoded data removed]",
            "text/plain": [
              "<Figure size 432x288 with 1 Axes>"
            ]
          },
          "metadata": {
            "needs_background": "light"
          }
        }
      ]
    },
    {
      "cell_type": "markdown",
      "metadata": {
        "id": "S398us0njNyz"
      },
      "source": [
        "Linear equation => y = mx+c\n",
        "Applying gradient descent algorithm to determine the optimal value for m and c.\n",
        "1. Initially let m = 0 and c = 0 and learning rate as 0.0001. This controls how much the value of m changes with each step\n",
        "2. Calculated the partial derivative of the loss function with respect to m, and plug in the current values of x, y, m and c in it to obtain the derivative value D.\n",
        "3. Similarly found the partial derivative with respect to c\n",
        "4. Updated current value of m and c using the formula:\n",
        "m_curr = m_curr - (learning_rate * derivative of m)\n",
        "c_curr = c_curr - (learning_rate * derivative of c)\n",
        "5. Repeated the process until we got very small value for loss function. The value of m and c at the end of the iterations are optimal values\n",
        "In our example, it is m  -> 0.9720324681885764, c -> -0.0915723644677935"
      ]
    }
  ]
}