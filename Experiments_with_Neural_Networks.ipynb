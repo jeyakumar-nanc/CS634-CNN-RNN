{
  "cells": [
    {
      "cell_type": "markdown",
      "metadata": {
        "id": "view-in-github",
        "colab_type": "text"
      },
      "source": [
        "<a href=\"https://colab.research.google.com/github/jeyakumar-nanc/MachineLearning/blob/main/Experiments_with_Neural_Networks.ipynb\" target=\"_parent\"><img src=\"https://colab.research.google.com/assets/colab-badge.svg\" alt=\"Open In Colab\"/></a>"
      ]
    },
    {
      "cell_type": "markdown",
      "metadata": {
        "id": "Tajfsk_7JY3E"
      },
      "source": [
        "**Note to grader:** Each question consists of parts, e.g. Q1(i), Q1(ii), etc. Each part must be graded  on a 0-4 scale, following the standard NJIT convention (A:4, B+: 3.5, B:3, C+: 2.5, C: 2, D:1, F:0). \n",
        "The total score must be re-scaled to 100 -- that should apply to all future assignments so that Canvas assigns the same weight on all assignments. \n",
        "\n"
      ]
    },
    {
      "cell_type": "code",
      "execution_count": null,
      "metadata": {
        "id": "zPnHTf9MfT5X"
      },
      "outputs": [],
      "source": [
        "# Grader's area\n",
        "import numpy as np\n",
        "G = np.zeros([10,10])\n",
        "maxScore = 0\n"
      ]
    },
    {
      "cell_type": "markdown",
      "metadata": {
        "id": "1NnOFlqPI1qn"
      },
      "source": [
        "# **Assignment 5**\n",
        "<br>\n",
        "\n",
        "<font>"
      ]
    },
    {
      "cell_type": "code",
      "execution_count": null,
      "metadata": {
        "id": "zSyX_FIzI1qn"
      },
      "outputs": [],
      "source": [
        "from IPython.display import Math\n",
        "from IPython.display import Latex\n",
        "\n",
        "import numpy as np\n",
        "import os\n",
        "import struct\n",
        "\n",
        "from sklearn.metrics import classification_report,confusion_matrix\n",
        "from sklearn.neural_network import MLPClassifier"
      ]
    },
    {
      "cell_type": "markdown",
      "metadata": {
        "id": "cc6kqRYyliiK"
      },
      "source": [
        "----------------\n",
        "----------------\n",
        "----------------"
      ]
    },
    {
      "cell_type": "markdown",
      "metadata": {
        "id": "aXayK-GxI1qo"
      },
      "source": [
        "## <font color='blue'> Question 0. MLP with scikit-learn: Explore outputs for the MNIST dataset </font>\n",
        "\n",
        "The purpose of this question is to get some practice time with MLP classifiers. We will be using the the MNIST data set. \n",
        "\n",
        "\n"
      ]
    },
    {
      "cell_type": "code",
      "execution_count": null,
      "metadata": {
        "id": "xscTgg2dI1qo"
      },
      "outputs": [],
      "source": [
        "# Let's first load the MNIST data set. \n",
        "\n",
        "from sklearn.datasets import fetch_openml\n",
        "from sklearn.model_selection import train_test_split\n",
        "\n",
        "\n",
        "X, y = fetch_openml('mnist_784', version=1, return_X_y=True)\n",
        "y = y.astype(int)\n",
        "X = ((X / 255.) - .5) * 2\n",
        "X_train, X_test, y_train, y_test = train_test_split(\n",
        "    X, y, test_size=10000, random_state=123, stratify=y)\n"
      ]
    },
    {
      "cell_type": "code",
      "execution_count": null,
      "metadata": {
        "colab": {
          "base_uri": "https://localhost:8080/"
        },
        "id": "o-cNggshRhNY",
        "outputId": "b198e48f-8cde-4774-bb0f-8c0d128e2fef"
      },
      "outputs": [
        {
          "output_type": "stream",
          "name": "stdout",
          "text": [
            "(60000, 784)\n",
            "(10000, 784)\n"
          ]
        }
      ],
      "source": [
        "print(X_train.shape)\n",
        "print(X_test.shape)"
      ]
    },
    {
      "cell_type": "markdown",
      "metadata": {
        "id": "uYAL83hpI1qp"
      },
      "source": [
        "<br> **Q0-0**: This the classifier we built in class. Find a setting for *batch_size* and *max_iter*, so that the subsequent fit function **converges**. \n",
        "\n",
        "\n",
        "\n"
      ]
    },
    {
      "cell_type": "code",
      "execution_count": null,
      "metadata": {
        "id": "6I39VdCmI1qp"
      },
      "outputs": [],
      "source": [
        "\n",
        "mlp_mnist = MLPClassifier(verbose = True, hidden_layer_sizes=(50,), batch_size = 5, \\\n",
        "                          max_iter=50, solver='sgd', activation='logistic',\\\n",
        "                          learning_rate = 'constant', learning_rate_init = 0.001, random_state=1)\n",
        "\n"
      ]
    },
    {
      "cell_type": "code",
      "execution_count": null,
      "metadata": {
        "colab": {
          "base_uri": "https://localhost:8080/"
        },
        "id": "Hv4XQEb-I1qp",
        "outputId": "e239f144-aa69-4bb9-dbcb-ba342c463e6b"
      },
      "outputs": [
        {
          "output_type": "stream",
          "name": "stdout",
          "text": [
            "Iteration 1, loss = 0.57329662\n",
            "Iteration 2, loss = 0.28629488\n",
            "Iteration 3, loss = 0.23811091\n",
            "Iteration 4, loss = 0.20762641\n",
            "Iteration 5, loss = 0.18553770\n",
            "Iteration 6, loss = 0.16929318\n",
            "Iteration 7, loss = 0.15646485\n",
            "Iteration 8, loss = 0.14587802\n",
            "Iteration 9, loss = 0.13694593\n",
            "Iteration 10, loss = 0.12970190\n",
            "Iteration 11, loss = 0.12320933\n",
            "Iteration 12, loss = 0.11772963\n",
            "Iteration 13, loss = 0.11267477\n",
            "Iteration 14, loss = 0.10835127\n",
            "Iteration 15, loss = 0.10453760\n",
            "Iteration 16, loss = 0.10073217\n",
            "Iteration 17, loss = 0.09726995\n",
            "Iteration 18, loss = 0.09425700\n",
            "Iteration 19, loss = 0.09151431\n",
            "Iteration 20, loss = 0.08889736\n",
            "Iteration 21, loss = 0.08643857\n",
            "Iteration 22, loss = 0.08418907\n",
            "Iteration 23, loss = 0.08249839\n",
            "Iteration 24, loss = 0.08000014\n",
            "Iteration 25, loss = 0.07834150\n",
            "Iteration 26, loss = 0.07665299\n",
            "Iteration 27, loss = 0.07502774\n",
            "Iteration 28, loss = 0.07348437\n",
            "Iteration 29, loss = 0.07206173\n",
            "Iteration 30, loss = 0.07059095\n",
            "Iteration 31, loss = 0.06904452\n",
            "Iteration 32, loss = 0.06804828\n",
            "Iteration 33, loss = 0.06670843\n",
            "Iteration 34, loss = 0.06531548\n",
            "Iteration 35, loss = 0.06463879\n",
            "Iteration 36, loss = 0.06318098\n",
            "Iteration 37, loss = 0.06233041\n",
            "Iteration 38, loss = 0.06147756\n",
            "Iteration 39, loss = 0.06044707\n",
            "Iteration 40, loss = 0.05937900\n",
            "Iteration 41, loss = 0.05860980\n",
            "Iteration 42, loss = 0.05802491\n",
            "Iteration 43, loss = 0.05700755\n",
            "Iteration 44, loss = 0.05620678\n",
            "Iteration 45, loss = 0.05553365\n",
            "Iteration 46, loss = 0.05483653\n",
            "Iteration 47, loss = 0.05419409\n",
            "Iteration 48, loss = 0.05357554\n",
            "Iteration 49, loss = 0.05269414\n",
            "Iteration 50, loss = 0.05199743\n"
          ]
        },
        {
          "output_type": "stream",
          "name": "stderr",
          "text": [
            "/usr/local/lib/python3.7/dist-packages/sklearn/neural_network/_multilayer_perceptron.py:696: ConvergenceWarning: Stochastic Optimizer: Maximum iterations (50) reached and the optimization hasn't converged yet.\n",
            "  ConvergenceWarning,\n"
          ]
        },
        {
          "output_type": "execute_result",
          "data": {
            "text/plain": [
              "MLPClassifier(activation='logistic', batch_size=5, hidden_layer_sizes=(50,),\n",
              "              max_iter=50, random_state=1, solver='sgd', verbose=True)"
            ]
          },
          "metadata": {},
          "execution_count": 6
        }
      ],
      "source": [
        "mlp_mnist.fit(X_train,y_train)\n",
        "#"
      ]
    },
    {
      "cell_type": "code",
      "execution_count": null,
      "metadata": {
        "colab": {
          "base_uri": "https://localhost:8080/"
        },
        "id": "mDpqVYN1I1qq",
        "outputId": "62e8ea57-5cc9-40d6-fba0-1ba641934c6d"
      },
      "outputs": [
        {
          "output_type": "stream",
          "name": "stdout",
          "text": [
            "10000\n"
          ]
        },
        {
          "output_type": "execute_result",
          "data": {
            "text/plain": [
              "array([8.23495266e-01, 2.02135851e-03, 1.37493420e-03, 7.80373899e-05,\n",
              "       2.35945456e-06, 1.54339750e-01, 1.60191247e-03, 1.77223350e-04,\n",
              "       1.68747039e-02, 3.44547293e-05])"
            ]
          },
          "metadata": {},
          "execution_count": 7
        }
      ],
      "source": [
        "predictions = mlp_mnist.predict(X_test)\n",
        "probability_predictions = mlp_mnist.predict_proba(X_test)\n",
        "print(len(probability_predictions))\n",
        "probability_predictions[0]"
      ]
    },
    {
      "cell_type": "code",
      "source": [
        "print(\"Experimenting with 200 iterations and batch size of 20\")"
      ],
      "metadata": {
        "colab": {
          "base_uri": "https://localhost:8080/"
        },
        "id": "9DfQ0i6VElg_",
        "outputId": "56114df6-ecc5-433a-ac5b-6d8a99bf896f"
      },
      "execution_count": null,
      "outputs": [
        {
          "output_type": "stream",
          "name": "stdout",
          "text": [
            "Experimenting with 200 iterations and batch size of 20\n"
          ]
        }
      ]
    },
    {
      "cell_type": "code",
      "execution_count": null,
      "metadata": {
        "id": "d3ZqtfJTI1qq"
      },
      "outputs": [],
      "source": [
        "### Your code here\n",
        "\n",
        "mlp_mnist = MLPClassifier(verbose = True, hidden_layer_sizes=(50,), batch_size = 20, \\\n",
        "                          max_iter=200, solver='sgd', activation='logistic',\\\n",
        "                          learning_rate = 'constant', learning_rate_init = 0.001, random_state=1)"
      ]
    },
    {
      "cell_type": "code",
      "execution_count": null,
      "metadata": {
        "colab": {
          "base_uri": "https://localhost:8080/"
        },
        "id": "9dVsoM5L9q7m",
        "outputId": "0c502251-7596-4a08-dc15-053e25535118"
      },
      "outputs": [
        {
          "output_type": "stream",
          "name": "stdout",
          "text": [
            "Iteration 1, loss = 1.07589627\n",
            "Iteration 2, loss = 0.46732489\n",
            "Iteration 3, loss = 0.36872987\n",
            "Iteration 4, loss = 0.32572183\n",
            "Iteration 5, loss = 0.29882131\n",
            "Iteration 6, loss = 0.27942237\n",
            "Iteration 7, loss = 0.26370176\n",
            "Iteration 8, loss = 0.25044798\n",
            "Iteration 9, loss = 0.23905264\n",
            "Iteration 10, loss = 0.22881868\n",
            "Iteration 11, loss = 0.21980371\n",
            "Iteration 12, loss = 0.21167679\n",
            "Iteration 13, loss = 0.20430242\n",
            "Iteration 14, loss = 0.19740963\n",
            "Iteration 15, loss = 0.19112666\n",
            "Iteration 16, loss = 0.18507471\n",
            "Iteration 17, loss = 0.17973229\n",
            "Iteration 18, loss = 0.17450256\n",
            "Iteration 19, loss = 0.16987162\n",
            "Iteration 20, loss = 0.16551028\n",
            "Iteration 21, loss = 0.16128073\n",
            "Iteration 22, loss = 0.15721502\n",
            "Iteration 23, loss = 0.15368213\n",
            "Iteration 24, loss = 0.14993207\n",
            "Iteration 25, loss = 0.14685804\n",
            "Iteration 26, loss = 0.14373177\n",
            "Iteration 27, loss = 0.14073130\n",
            "Iteration 28, loss = 0.13792801\n",
            "Iteration 29, loss = 0.13528459\n",
            "Iteration 30, loss = 0.13272948\n",
            "Iteration 31, loss = 0.13010009\n",
            "Iteration 32, loss = 0.12776139\n",
            "Iteration 33, loss = 0.12548881\n",
            "Iteration 34, loss = 0.12327649\n",
            "Iteration 35, loss = 0.12122011\n",
            "Iteration 36, loss = 0.11934787\n",
            "Iteration 37, loss = 0.11729813\n",
            "Iteration 38, loss = 0.11563658\n",
            "Iteration 39, loss = 0.11369508\n",
            "Iteration 40, loss = 0.11177907\n",
            "Iteration 41, loss = 0.11027434\n",
            "Iteration 42, loss = 0.10859721\n",
            "Iteration 43, loss = 0.10732115\n",
            "Iteration 44, loss = 0.10553335\n",
            "Iteration 45, loss = 0.10424381\n",
            "Iteration 46, loss = 0.10270327\n",
            "Iteration 47, loss = 0.10138144\n",
            "Iteration 48, loss = 0.10009641\n",
            "Iteration 49, loss = 0.09861482\n",
            "Iteration 50, loss = 0.09740974\n",
            "Iteration 51, loss = 0.09616604\n",
            "Iteration 52, loss = 0.09495149\n",
            "Iteration 53, loss = 0.09386723\n",
            "Iteration 54, loss = 0.09283266\n",
            "Iteration 55, loss = 0.09172402\n",
            "Iteration 56, loss = 0.09071861\n",
            "Iteration 57, loss = 0.08954061\n",
            "Iteration 58, loss = 0.08854483\n",
            "Iteration 59, loss = 0.08752934\n",
            "Iteration 60, loss = 0.08659243\n",
            "Iteration 61, loss = 0.08571183\n",
            "Iteration 62, loss = 0.08462095\n",
            "Iteration 63, loss = 0.08382440\n",
            "Iteration 64, loss = 0.08297862\n",
            "Iteration 65, loss = 0.08214030\n",
            "Iteration 66, loss = 0.08121897\n",
            "Iteration 67, loss = 0.08046189\n",
            "Iteration 68, loss = 0.07960267\n",
            "Iteration 69, loss = 0.07887628\n",
            "Iteration 70, loss = 0.07805289\n",
            "Iteration 71, loss = 0.07726743\n",
            "Iteration 72, loss = 0.07646042\n",
            "Iteration 73, loss = 0.07585185\n",
            "Iteration 74, loss = 0.07502168\n",
            "Iteration 75, loss = 0.07448171\n",
            "Iteration 76, loss = 0.07368309\n",
            "Iteration 77, loss = 0.07314319\n",
            "Iteration 78, loss = 0.07232396\n",
            "Iteration 79, loss = 0.07170154\n",
            "Iteration 80, loss = 0.07134383\n",
            "Iteration 81, loss = 0.07059669\n",
            "Iteration 82, loss = 0.06994554\n",
            "Iteration 83, loss = 0.06942283\n",
            "Iteration 84, loss = 0.06870435\n",
            "Iteration 85, loss = 0.06821637\n",
            "Iteration 86, loss = 0.06766502\n",
            "Iteration 87, loss = 0.06692145\n",
            "Iteration 88, loss = 0.06648912\n",
            "Iteration 89, loss = 0.06607741\n",
            "Iteration 90, loss = 0.06545107\n",
            "Iteration 91, loss = 0.06490624\n",
            "Iteration 92, loss = 0.06443711\n",
            "Iteration 93, loss = 0.06383988\n",
            "Iteration 94, loss = 0.06332407\n",
            "Iteration 95, loss = 0.06292094\n",
            "Iteration 96, loss = 0.06241320\n",
            "Iteration 97, loss = 0.06192530\n",
            "Iteration 98, loss = 0.06150255\n",
            "Iteration 99, loss = 0.06101403\n",
            "Iteration 100, loss = 0.06061331\n",
            "Iteration 101, loss = 0.06004388\n",
            "Iteration 102, loss = 0.05976665\n",
            "Iteration 103, loss = 0.05920265\n",
            "Iteration 104, loss = 0.05879121\n",
            "Iteration 105, loss = 0.05837635\n",
            "Iteration 106, loss = 0.05800806\n",
            "Iteration 107, loss = 0.05744257\n",
            "Iteration 108, loss = 0.05706034\n",
            "Iteration 109, loss = 0.05673759\n",
            "Iteration 110, loss = 0.05639303\n",
            "Iteration 111, loss = 0.05583076\n",
            "Iteration 112, loss = 0.05554402\n",
            "Iteration 113, loss = 0.05520778\n",
            "Iteration 114, loss = 0.05485824\n",
            "Iteration 115, loss = 0.05438381\n",
            "Iteration 116, loss = 0.05402311\n",
            "Iteration 117, loss = 0.05375015\n",
            "Iteration 118, loss = 0.05325785\n",
            "Iteration 119, loss = 0.05292444\n",
            "Iteration 120, loss = 0.05258537\n",
            "Iteration 121, loss = 0.05217568\n",
            "Iteration 122, loss = 0.05192064\n",
            "Iteration 123, loss = 0.05153169\n",
            "Iteration 124, loss = 0.05114699\n",
            "Iteration 125, loss = 0.05092473\n",
            "Iteration 126, loss = 0.05049296\n",
            "Iteration 127, loss = 0.05021366\n",
            "Iteration 128, loss = 0.04986730\n",
            "Iteration 129, loss = 0.04953228\n",
            "Iteration 130, loss = 0.04916785\n",
            "Iteration 131, loss = 0.04884598\n",
            "Iteration 132, loss = 0.04877563\n",
            "Iteration 133, loss = 0.04831807\n",
            "Iteration 134, loss = 0.04801083\n",
            "Iteration 135, loss = 0.04773158\n",
            "Iteration 136, loss = 0.04746872\n",
            "Iteration 137, loss = 0.04717539\n",
            "Iteration 138, loss = 0.04698386\n",
            "Iteration 139, loss = 0.04657483\n",
            "Iteration 140, loss = 0.04631912\n",
            "Iteration 141, loss = 0.04601922\n",
            "Iteration 142, loss = 0.04567340\n",
            "Iteration 143, loss = 0.04543067\n",
            "Iteration 144, loss = 0.04519850\n",
            "Iteration 145, loss = 0.04496946\n",
            "Iteration 146, loss = 0.04472321\n",
            "Iteration 147, loss = 0.04448793\n",
            "Iteration 148, loss = 0.04413722\n",
            "Iteration 149, loss = 0.04392523\n",
            "Iteration 150, loss = 0.04362641\n",
            "Iteration 151, loss = 0.04340209\n",
            "Iteration 152, loss = 0.04317608\n",
            "Iteration 153, loss = 0.04295757\n",
            "Iteration 154, loss = 0.04268867\n",
            "Iteration 155, loss = 0.04250041\n",
            "Iteration 156, loss = 0.04216111\n",
            "Iteration 157, loss = 0.04195428\n",
            "Iteration 158, loss = 0.04171195\n",
            "Iteration 159, loss = 0.04147932\n",
            "Iteration 160, loss = 0.04120994\n",
            "Iteration 161, loss = 0.04096797\n",
            "Iteration 162, loss = 0.04071711\n",
            "Iteration 163, loss = 0.04056533\n",
            "Iteration 164, loss = 0.04035159\n",
            "Iteration 165, loss = 0.04005218\n",
            "Iteration 166, loss = 0.03998435\n",
            "Iteration 167, loss = 0.03974090\n",
            "Iteration 168, loss = 0.03939271\n",
            "Iteration 169, loss = 0.03923334\n",
            "Iteration 170, loss = 0.03911835\n",
            "Iteration 171, loss = 0.03881466\n",
            "Iteration 172, loss = 0.03865253\n",
            "Iteration 173, loss = 0.03852798\n",
            "Iteration 174, loss = 0.03818120\n",
            "Iteration 175, loss = 0.03806379\n",
            "Iteration 176, loss = 0.03779112\n",
            "Iteration 177, loss = 0.03773681\n",
            "Iteration 178, loss = 0.03738225\n",
            "Iteration 179, loss = 0.03726852\n",
            "Iteration 180, loss = 0.03710704\n",
            "Iteration 181, loss = 0.03688495\n",
            "Iteration 182, loss = 0.03674523\n",
            "Iteration 183, loss = 0.03649823\n",
            "Iteration 184, loss = 0.03635727\n",
            "Iteration 185, loss = 0.03612648\n",
            "Iteration 186, loss = 0.03596501\n",
            "Iteration 187, loss = 0.03576201\n",
            "Iteration 188, loss = 0.03566042\n",
            "Iteration 189, loss = 0.03544690\n",
            "Iteration 190, loss = 0.03523932\n",
            "Iteration 191, loss = 0.03510260\n",
            "Iteration 192, loss = 0.03494929\n",
            "Iteration 193, loss = 0.03476591\n",
            "Iteration 194, loss = 0.03449966\n",
            "Iteration 195, loss = 0.03434320\n",
            "Iteration 196, loss = 0.03430876\n",
            "Iteration 197, loss = 0.03406628\n",
            "Iteration 198, loss = 0.03393122\n",
            "Iteration 199, loss = 0.03378812\n",
            "Iteration 200, loss = 0.03350796\n"
          ]
        },
        {
          "output_type": "stream",
          "name": "stderr",
          "text": [
            "/usr/local/lib/python3.7/dist-packages/sklearn/neural_network/_multilayer_perceptron.py:696: ConvergenceWarning: Stochastic Optimizer: Maximum iterations (200) reached and the optimization hasn't converged yet.\n",
            "  ConvergenceWarning,\n"
          ]
        },
        {
          "output_type": "execute_result",
          "data": {
            "text/plain": [
              "MLPClassifier(activation='logistic', batch_size=20, hidden_layer_sizes=(50,),\n",
              "              random_state=1, solver='sgd', verbose=True)"
            ]
          },
          "metadata": {},
          "execution_count": 44
        }
      ],
      "source": [
        "mlp_mnist.fit(X_train,y_train)"
      ]
    },
    {
      "cell_type": "code",
      "execution_count": null,
      "metadata": {
        "colab": {
          "base_uri": "https://localhost:8080/"
        },
        "id": "aQG_-cfdH_wH",
        "outputId": "83947ced-afdd-439e-a2c5-29d0383f422f"
      },
      "outputs": [
        {
          "output_type": "stream",
          "name": "stdout",
          "text": [
            "[[ 972    0    1    1    0    3    3    2    2    2]\n",
            " [   0 1112    3    4    1    1    0    2    1    1]\n",
            " [   3    4  976    4    1    1    3    3    3    1]\n",
            " [   3    1   11  980    1   13    1    4    5    1]\n",
            " [   0    1    3    0  951    0    7    1    2   10]\n",
            " [   5    1    1   12    3  865    2    1    7    5]\n",
            " [   6    2    4    1    2    7  954    0    6    0]\n",
            " [   3    2   10    4    4    0    0 1006    1   12]\n",
            " [   5    4    5    9    5    8    4    2  932    1]\n",
            " [   6    1    2    6   25    5    0   10    2  937]]\n",
            "              precision    recall  f1-score   support\n",
            "\n",
            "           0       0.97      0.99      0.98       986\n",
            "           1       0.99      0.99      0.99      1125\n",
            "           2       0.96      0.98      0.97       999\n",
            "           3       0.96      0.96      0.96      1020\n",
            "           4       0.96      0.98      0.97       975\n",
            "           5       0.96      0.96      0.96       902\n",
            "           6       0.98      0.97      0.98       982\n",
            "           7       0.98      0.97      0.97      1042\n",
            "           8       0.97      0.96      0.96       975\n",
            "           9       0.97      0.94      0.95       994\n",
            "\n",
            "    accuracy                           0.97     10000\n",
            "   macro avg       0.97      0.97      0.97     10000\n",
            "weighted avg       0.97      0.97      0.97     10000\n",
            "\n"
          ]
        }
      ],
      "source": [
        "print(confusion_matrix(y_test,predictions))\n",
        "print(classification_report(y_test,predictions))"
      ]
    },
    {
      "cell_type": "markdown",
      "metadata": {
        "id": "qaKRY5l7I1qq"
      },
      "source": [
        "**Q0-1**: Write a short function that outputs the **second best** prediction for each point, i.e. the label which gets the second highest probability in the softmax output. "
      ]
    },
    {
      "cell_type": "code",
      "source": [
        "def second_best_pred():\n",
        "  sb = np.argsort(probability_predictions)\n",
        "  return(sb[:,-2]) #sort by desc and get the second best value\n",
        "\n",
        "second_best = second_best_pred()"
      ],
      "metadata": {
        "id": "TBPsnS752T6b"
      },
      "execution_count": null,
      "outputs": []
    },
    {
      "cell_type": "code",
      "source": [
        "second_best"
      ],
      "metadata": {
        "colab": {
          "base_uri": "https://localhost:8080/"
        },
        "id": "SvTa4BX83IhT",
        "outputId": "b0e78f66-8b41-48e3-db26-487fe5dc338f"
      },
      "execution_count": null,
      "outputs": [
        {
          "output_type": "execute_result",
          "data": {
            "text/plain": [
              "array([5, 4, 0, ..., 3, 2, 3])"
            ]
          },
          "metadata": {},
          "execution_count": 55
        }
      ]
    },
    {
      "cell_type": "markdown",
      "metadata": {
        "id": "J7bbDT1CI1qq"
      },
      "source": [
        "**Q0-2**: For each data point misclassified by the model, find if the second best prediction is actually the correct label. Calculate the percentage of missclassified points, that are correctly classified based on the second best prediction. "
      ]
    },
    {
      "cell_type": "code",
      "execution_count": null,
      "metadata": {
        "id": "CVEQ7pLPI1qq",
        "colab": {
          "base_uri": "https://localhost:8080/"
        },
        "outputId": "b2b3c2b3-d80e-4ed1-e247-e57a028d9baa"
      },
      "outputs": [
        {
          "output_type": "stream",
          "name": "stdout",
          "text": [
            "Misclassified percent - 2.1%\n"
          ]
        }
      ],
      "source": [
        "from sklearn.utils.extmath import stable_cumsum\n",
        "### Your code here. Also give some comments about your findings\n",
        "sb_correct = np.argwhere(y_test.to_list() == second_best) #get the correctly classfied based on second predictions\n",
        "misclassify_percent = len(sb_correct)/len(y_test)*100\n",
        "print(f\"Misclassified percent - {misclassify_percent}%\")\n",
        "\n"
      ]
    },
    {
      "cell_type": "markdown",
      "metadata": {
        "id": "uPkG0fb2I1qq"
      },
      "source": [
        "**Q0-3**: From a human point of view, we can perhaps see a frequent similarity between handritten digits 3 and 5 (i.e. sometimes we have to pay closer attention to figure out what the true written digit is). We may want to ask if the MLP also detects digit similarities.    \n",
        "<br>\n",
        " Consider then the subset $X_i$ of data points that have label $i$ (e.g. all data points with label 5). For each label $j\\neq i$, report the frequency by which label $j$ (e.g. label 3) shows up as second best prediction for points in $X_i$. \n",
        "<br>\n",
        "<br> \n",
        "***Further Clarification***: Suppose we have 100 data points with label i=5. Let's say that for 28 of these 100 points, the second predicted label is j=3. Then, the frequency of j=3 as second-best prediction to i=5 is 28%.  We want to compute that frequency for every i and j.  \n",
        "<br>  \n",
        " Give your code and comment on your findings "
      ]
    },
    {
      "cell_type": "code",
      "execution_count": null,
      "metadata": {
        "id": "ZL_sboa1I1qq",
        "colab": {
          "base_uri": "https://localhost:8080/"
        },
        "outputId": "de4068e5-059e-44a5-984c-7e3bd50f366e"
      },
      "outputs": [
        {
          "output_type": "stream",
          "name": "stdout",
          "text": [
            "For label 5, frequency of second best\n",
            "{1: 58, 8: 178, 0: 78, 9: 105, 3: 350, 4: 36, 6: 71, 2: 19, 7: 8}\n",
            "350\n",
            "Frequency of j=3 as second best to i=5 is Percent - 38.759689922480625%\n",
            "\n",
            "For label 3, frequency of second best\n",
            "{5: 402, 1: 107, 9: 197, 2: 103, 7: 90, 8: 103, 0: 9, 6: 3, 4: 7}\n",
            "402\n",
            "Frequency of j=5 as second best to i=3 is Percent - 39.373163565132224%\n"
          ]
        }
      ],
      "source": [
        "### Your code here. Also give some comments about your findings\n",
        "\n",
        "def freq_second_best(second_best, label, similar_label):\n",
        "  tmp = np.argwhere(predictions == label) #get original predictions for given label\n",
        "  sec_best_pred = second_best[tmp] #second best for the label\n",
        "  \n",
        "  #print(total)\n",
        "  counts = dict()\n",
        "  pred_list = list(sec_best_pred[:,0])\n",
        "  for i in range(len(pred_list)):\n",
        "    counts[pred_list[i]] = counts.get(pred_list[i], 0) + 1 #count the second best predictions\n",
        "\n",
        "  print(counts)\n",
        "  print(counts.get(similar_label))\n",
        "  print(f\"Frequency of j={similar_label} as second best to i={label} is Percent - {counts.get(similar_label)/len(pred_list)*100}%\")\n",
        "\n",
        "\n",
        "\n",
        "print(f\"For label 5, frequency of second best\")\n",
        "freq_second_best(second_best,5,3)\n",
        "\n",
        "\n",
        "print(f\"\\nFor label 3, frequency of second best\")\n",
        "freq_second_best(second_best,3,5)\n",
        "\n",
        "\n",
        "\n"
      ]
    },
    {
      "cell_type": "code",
      "execution_count": null,
      "metadata": {
        "id": "IllLoXxGAIIo"
      },
      "outputs": [],
      "source": [
        "# For grader use only\n",
        "\n",
        "# insert grade here\n",
        "# G[0,0] =   \n",
        "# G[0,1] = \n",
        "# G[0,2] =\n",
        "# G[0,3] = \n",
        "\n",
        "\n",
        "maxScore = maxScore + 16\n"
      ]
    },
    {
      "cell_type": "markdown",
      "metadata": {
        "id": "oko-ZnXEpBMc"
      },
      "source": [
        "------------------------------\n",
        "------------------------------\n",
        "------------------------------"
      ]
    },
    {
      "cell_type": "markdown",
      "metadata": {
        "id": "Bescj6mdI1qq"
      },
      "source": [
        "## <font color='blue'>Question 1: Working with warm start for focused training\n",
        "\n"
      ]
    },
    {
      "cell_type": "code",
      "execution_count": null,
      "metadata": {
        "id": "8wY3lNEgI1qq"
      },
      "outputs": [],
      "source": [
        "### Your code here. Also give some comments about your findings\n",
        "#for 100 epochs\n",
        "\n",
        "mlp_mnist_ws = MLPClassifier(verbose = False, hidden_layer_sizes=(50,), batch_size = 20, warm_start = True, \\\n",
        "                          max_iter=1000, solver='sgd', activation='logistic',\\\n",
        "                          learning_rate = 'constant', learning_rate_init = 0.001, random_state=1)\n"
      ]
    },
    {
      "cell_type": "markdown",
      "metadata": {
        "id": "xmDZTC1UI1qq"
      },
      "source": [
        "**Q1-0**. MLP classifiers in scikit-learn have an option for so-called 'warm start'. Do a bit of research to find out what it is. Then:\n",
        "\n",
        "Give an example of warm start. Specifically\n",
        "train the network for $k$ epochs, and then using warm start\n",
        "continue the training for another $k$ epochs (4 points).\n",
        "Here $k$ is a parameter of your choice.  \n",
        "\n",
        "\n",
        "\n"
      ]
    },
    {
      "cell_type": "markdown",
      "source": [
        "\n",
        "\n",
        "---\n",
        "\n",
        "\n",
        "When warm-start set to True, it reuses the solution of the previous call to fit as initialization, and as a result it runs faster than the previous run."
      ],
      "metadata": {
        "id": "_pCKVv383Zrr"
      }
    },
    {
      "cell_type": "code",
      "execution_count": null,
      "metadata": {
        "colab": {
          "base_uri": "https://localhost:8080/"
        },
        "id": "1Yufc8CIG3Xg",
        "outputId": "318997fd-54ea-47fd-992d-2361ac30cdb0"
      },
      "outputs": [
        {
          "output_type": "execute_result",
          "data": {
            "text/plain": [
              "MLPClassifier(activation='logistic', batch_size=20, hidden_layer_sizes=(50,),\n",
              "              max_iter=1000, random_state=1, solver='sgd', warm_start=True)"
            ]
          },
          "metadata": {},
          "execution_count": 61
        }
      ],
      "source": [
        "mlp_mnist_ws.fit(X_train,y_train)"
      ]
    },
    {
      "cell_type": "code",
      "execution_count": null,
      "metadata": {
        "id": "EJnOLytAIy1q"
      },
      "outputs": [],
      "source": [
        "prev_loss = mlp_mnist_ws.loss_\n",
        "prev_coefs = mlp_mnist_ws.coefs_\n",
        "prev_intercepts = mlp_mnist_ws.intercepts_"
      ]
    },
    {
      "cell_type": "code",
      "execution_count": null,
      "metadata": {
        "colab": {
          "base_uri": "https://localhost:8080/"
        },
        "id": "wFCy-E-YK-aL",
        "outputId": "e9438a7a-5d16-4cd6-a8bc-5b1129eae57e"
      },
      "outputs": [
        {
          "output_type": "execute_result",
          "data": {
            "text/plain": [
              "MLPClassifier(activation='logistic', batch_size=20, hidden_layer_sizes=(50,),\n",
              "              max_iter=1000, random_state=1, solver='sgd', warm_start=True)"
            ]
          },
          "metadata": {},
          "execution_count": 63
        }
      ],
      "source": [
        "mlp_mnist_ws.fit(X_train,y_train)"
      ]
    },
    {
      "cell_type": "code",
      "execution_count": null,
      "metadata": {
        "colab": {
          "base_uri": "https://localhost:8080/"
        },
        "id": "7JH-pSBMLAWp",
        "outputId": "2885126f-1af0-4632-9023-40b115f949c7"
      },
      "outputs": [
        {
          "output_type": "stream",
          "name": "stdout",
          "text": [
            "False\n",
            "True\n",
            "True\n"
          ]
        }
      ],
      "source": [
        "print(prev_loss==mlp_mnist_ws.loss_)\n",
        "print(prev_coefs==mlp_mnist_ws.coefs_)\n",
        "print(prev_intercepts==mlp_mnist_ws.intercepts_)"
      ]
    },
    {
      "cell_type": "markdown",
      "metadata": {
        "id": "jwK_llxsI1qq"
      },
      "source": [
        "\n",
        "The training set usally remains the same after a warm start. Here, we will use a very similar bit not identical dataset after the warm start:\n",
        "<br>\n",
        "<br>\n",
        "**Q1-1**. Randomly divide the MNIST dataset into three part: train1 (50000), train2(10000), test (10000). Make sure that all number classes are presented in both train1, and train2. [4 points]\n"
      ]
    },
    {
      "cell_type": "code",
      "execution_count": null,
      "metadata": {
        "id": "DwlNHIdcI1qq"
      },
      "outputs": [],
      "source": [
        "### Your code here. Also give some comments about your findings\n",
        "\n",
        "X_train1, X_train2, y_train1, y_train2 = train_test_split(\n",
        "    X, y, test_size=0.15, random_state=123, stratify=y) #using test train split size randomly dividing the data train1 and tarin2 are more or less closer to the requirement"
      ]
    },
    {
      "cell_type": "code",
      "execution_count": null,
      "metadata": {
        "colab": {
          "base_uri": "https://localhost:8080/"
        },
        "id": "AE2U2nyuVc39",
        "outputId": "b496f04c-6ce9-47ae-d8ec-30130c86611b"
      },
      "outputs": [
        {
          "output_type": "stream",
          "name": "stdout",
          "text": [
            "(59500, 784)\n",
            "(10500, 784)\n"
          ]
        }
      ],
      "source": [
        "print(X_train1.shape)\n",
        "print(X_train2.shape)\n",
        "#print(X_test.shape)"
      ]
    },
    {
      "cell_type": "markdown",
      "metadata": {
        "id": "Qj639NWSI1qq"
      },
      "source": [
        "**Q1-2**. Use warm start and train your model using the train1 dataset for $2k$ epochs. Then, using warm start, continute the training with train2 dataset for another $2k$ epochs. [4 points]\n",
        "<br>\n",
        "<br>\n",
        "Here $k$ is the same parameter you used above. Notice that each point\n",
        "is considered $2k$ times in this training, exactly as in part 0. \n",
        "<br>\n",
        "<br>\n",
        "In effect this process of training tries spend more time learning half of the training set, and then moves to the second part of the training set to spend equal time. \n"
      ]
    },
    {
      "cell_type": "code",
      "execution_count": null,
      "metadata": {
        "id": "Qrr0rwxrI1qq"
      },
      "outputs": [],
      "source": [
        "### Your code here. Also give some comments about your findings\n",
        "\n",
        "mlp_mnist_ws = MLPClassifier(verbose = False, hidden_layer_sizes=(50,), batch_size = 20, warm_start = True, \\\n",
        "                          max_iter=2000, solver='sgd', activation='logistic',\\\n",
        "                          learning_rate = 'constant', learning_rate_init = 0.001, random_state=1)\n",
        "\n"
      ]
    },
    {
      "cell_type": "code",
      "execution_count": null,
      "metadata": {
        "colab": {
          "base_uri": "https://localhost:8080/"
        },
        "id": "8se-HIa9d5h5",
        "outputId": "b946c3ae-d7b0-411a-e38c-afec76c0d092"
      },
      "outputs": [
        {
          "output_type": "execute_result",
          "data": {
            "text/plain": [
              "MLPClassifier(activation='logistic', batch_size=20, hidden_layer_sizes=(50,),\n",
              "              max_iter=2000, random_state=1, solver='sgd', warm_start=True)"
            ]
          },
          "metadata": {},
          "execution_count": 70
        }
      ],
      "source": [
        "mlp_mnist_ws.fit(X_train1,y_train1)"
      ]
    },
    {
      "cell_type": "code",
      "execution_count": null,
      "metadata": {
        "id": "5lf6m7Ixd5tS"
      },
      "outputs": [],
      "source": [
        "prev_loss = mlp_mnist_ws.loss_\n",
        "prev_coefs = mlp_mnist_ws.coefs_\n",
        "prev_intercepts = mlp_mnist_ws.intercepts_"
      ]
    },
    {
      "cell_type": "code",
      "execution_count": null,
      "metadata": {
        "id": "03P15B0xeANF",
        "colab": {
          "base_uri": "https://localhost:8080/"
        },
        "outputId": "31ced9a0-7bb6-4ddb-e407-ca0df063d2da"
      },
      "outputs": [
        {
          "output_type": "execute_result",
          "data": {
            "text/plain": [
              "MLPClassifier(activation='logistic', batch_size=20, hidden_layer_sizes=(50,),\n",
              "              max_iter=2000, random_state=1, solver='sgd', warm_start=True)"
            ]
          },
          "metadata": {},
          "execution_count": 72
        }
      ],
      "source": [
        "mlp_mnist_ws.fit(X_train2,y_train2)"
      ]
    },
    {
      "cell_type": "code",
      "execution_count": null,
      "metadata": {
        "id": "J4kch1EleJoy",
        "colab": {
          "base_uri": "https://localhost:8080/"
        },
        "outputId": "168904f8-0aba-401d-dd05-31be81ab0631"
      },
      "outputs": [
        {
          "output_type": "stream",
          "name": "stdout",
          "text": [
            "False\n",
            "True\n",
            "True\n"
          ]
        }
      ],
      "source": [
        "print(prev_loss==mlp_mnist_ws.loss_)\n",
        "print(prev_coefs==mlp_mnist_ws.coefs_)\n",
        "print(prev_intercepts==mlp_mnist_ws.intercepts_)"
      ]
    },
    {
      "cell_type": "markdown",
      "metadata": {
        "id": "IVOatk-gVU4O"
      },
      "source": [
        "**Q1-3**. Which of the two above strategies\n",
        "works better? (Q1-0 or Q1-2). Feel free to experiment and report your findings."
      ]
    },
    {
      "cell_type": "markdown",
      "source": [
        "Q1-0 took 34 mins 50s for 1000 iterations where as\n",
        "Q1-2 took 32mins for 2000 iterations. \n",
        "Q1-2 is works better, execution time for 1000 iterations for randonly divided is half of the original execution."
      ],
      "metadata": {
        "id": "-a4cyV5Nv8w8"
      }
    },
    {
      "cell_type": "code",
      "execution_count": null,
      "metadata": {
        "id": "5r9YkG3xsS5l"
      },
      "outputs": [],
      "source": [
        "# For grader use only\n",
        "\n",
        "# insert grade here\n",
        "# G[1,0] =   \n",
        "# G[1,1] = \n",
        "# G[1,2] =\n",
        "# G[1,3] = \n",
        "\n",
        "\n",
        "maxScore = maxScore + 16\n"
      ]
    },
    {
      "cell_type": "markdown",
      "metadata": {
        "id": "AgUw1wklsZOi"
      },
      "source": [
        "--------------------------\n",
        "--------------------------\n",
        "--------------------------"
      ]
    },
    {
      "cell_type": "markdown",
      "metadata": {
        "id": "RBaZ0tdBVvDT"
      },
      "source": [
        "##  <font color='blue'> Q2. How Powerful are Neural Networks? \n",
        "\n",
        "There is a lot of hype around Neural Networks, and their ability to solver problems. This is of course justified, but we should always be aware of their limitations. \n"
      ]
    },
    {
      "cell_type": "markdown",
      "metadata": {
        "id": "yrCrmP4tWnGx"
      },
      "source": [
        "Recall that every row in the matrix $X$  above comes from an image. Every entry of a row corresponds to a (grayscale) pixel. In particular, the first colum of $X$ contains the grayscale values of the first pixels of the images in the data set. \n",
        "<br>\n",
        "<br>\n",
        "We will now 'hide' the label of the image, inside the image itself. \n",
        "Here is one way to do that: Replace the top-left pixel of the image (which is a value from 0 to 255) with the label for that image. For example, if the image\n",
        "contains number 3, then the first pixel of the image will now be set to 3. (In fact, let's set this to 3/255 because we already divided all pixel values by 255)."
      ]
    },
    {
      "cell_type": "markdown",
      "metadata": {
        "id": "dI8SbkQ2Xh6b"
      },
      "source": [
        "**Q2-0.** Create a new dataset $X1$, where each row is the same as the corresponding row of $X$, except in the first column, which contains the label of the corresponding image, divided by 255. Then split\n",
        "the set $X1$ into a training set and a test set, as we did with $X$. \n",
        "\n",
        "\n"
      ]
    },
    {
      "cell_type": "code",
      "execution_count": null,
      "metadata": {
        "id": "nxGaaYSbZc3y",
        "colab": {
          "base_uri": "https://localhost:8080/"
        },
        "outputId": "28de7331-9408-4ac7-f5d9-9447e0537468"
      },
      "outputs": [
        {
          "output_type": "stream",
          "name": "stdout",
          "text": [
            "0        0.02\n",
            "1        0.00\n",
            "2        0.02\n",
            "3        0.00\n",
            "4        0.04\n",
            "         ... \n",
            "69995    0.01\n",
            "69996    0.01\n",
            "69997    0.02\n",
            "69998    0.02\n",
            "69999    0.02\n",
            "Name: pixel1, Length: 70000, dtype: float64\n",
            "(60000, 784)\n",
            "(60000,)\n"
          ]
        }
      ],
      "source": [
        "# your code here\n",
        "X1 = X\n",
        "\n",
        "X1.iloc[:,0]=y\n",
        "#print(X1.iloc[:,0])\n",
        "X1.iloc[:,0]=round((X1.iloc[:,0]/255.),2)\n",
        "print(X1.iloc[:,0])\n",
        "\n",
        "\n",
        "X1_train, X1_test, y1_train, y1_test = train_test_split(\n",
        "    X1, y, test_size=10000, random_state=123, stratify=y)\n",
        "print(X1_train.shape)\n",
        "print(y1_train.shape)"
      ]
    },
    {
      "cell_type": "markdown",
      "metadata": {
        "id": "zDmOC16kZgqM"
      },
      "source": [
        "**Q2-1.** With the label of the image 'planted' in the image itself, a Neural Network can achieve accuracy 100%. This is because all the weights connecting to pixels $2...28^2$ can be set to 0, and so effectively the only feature that will be taken into account is the first pixel. The question is whether an MLP can indeed 'discover' this weighting via training.\n",
        "<br>\n",
        "<br>\n",
        "Use an MLP classifier  with one hidden layer of any size you want. Train it on $X'$ and report the accuracy. Does it reach 100\\%? Is the accuracy better relative to training with the original input $X$? \n",
        "\n",
        "\n"
      ]
    },
    {
      "cell_type": "code",
      "source": [
        "mlp_mnist_new = MLPClassifier(verbose = True, hidden_layer_sizes=(50,), batch_size = 20, \\\n",
        "                          max_iter=200, solver='sgd', activation='logistic',\\\n",
        "                          learning_rate = 'constant', learning_rate_init = 0.001, random_state=1)\n",
        "mlp_mnist_new.fit(X1_train,y1_train)\n",
        "#mlp_mnist_new.fit(X1_train.values.reshape(-1,1),y1_train.values.reshape(-1,1))"
      ],
      "metadata": {
        "colab": {
          "base_uri": "https://localhost:8080/"
        },
        "id": "G6-iJUMBDXSe",
        "outputId": "e127ea27-a6d9-4e50-d7c0-ae9235e86b5f"
      },
      "execution_count": null,
      "outputs": [
        {
          "output_type": "stream",
          "name": "stdout",
          "text": [
            "Iteration 1, loss = 1.07596646\n",
            "Iteration 2, loss = 0.46730642\n",
            "Iteration 3, loss = 0.36870501\n",
            "Iteration 4, loss = 0.32569851\n",
            "Iteration 5, loss = 0.29880066\n",
            "Iteration 6, loss = 0.27940394\n",
            "Iteration 7, loss = 0.26368502\n",
            "Iteration 8, loss = 0.25043111\n",
            "Iteration 9, loss = 0.23903567\n",
            "Iteration 10, loss = 0.22880048\n",
            "Iteration 11, loss = 0.21978464\n",
            "Iteration 12, loss = 0.21165585\n",
            "Iteration 13, loss = 0.20427933\n",
            "Iteration 14, loss = 0.19738352\n",
            "Iteration 15, loss = 0.19109622\n",
            "Iteration 16, loss = 0.18504141\n",
            "Iteration 17, loss = 0.17969305\n",
            "Iteration 18, loss = 0.17445775\n",
            "Iteration 19, loss = 0.16982248\n",
            "Iteration 20, loss = 0.16545608\n",
            "Iteration 21, loss = 0.16121932\n",
            "Iteration 22, loss = 0.15714829\n",
            "Iteration 23, loss = 0.15360873\n",
            "Iteration 24, loss = 0.14985267\n",
            "Iteration 25, loss = 0.14677403\n",
            "Iteration 26, loss = 0.14364359\n",
            "Iteration 27, loss = 0.14063741\n",
            "Iteration 28, loss = 0.13782830\n",
            "Iteration 29, loss = 0.13518066\n",
            "Iteration 30, loss = 0.13262195\n",
            "Iteration 31, loss = 0.12999251\n",
            "Iteration 32, loss = 0.12764838\n",
            "Iteration 33, loss = 0.12537307\n",
            "Iteration 34, loss = 0.12315801\n",
            "Iteration 35, loss = 0.12110109\n",
            "Iteration 36, loss = 0.11922429\n",
            "Iteration 37, loss = 0.11717836\n",
            "Iteration 38, loss = 0.11551025\n",
            "Iteration 39, loss = 0.11357200\n",
            "Iteration 40, loss = 0.11165681\n",
            "Iteration 41, loss = 0.11015129\n",
            "Iteration 42, loss = 0.10847335\n",
            "Iteration 43, loss = 0.10719987\n",
            "Iteration 44, loss = 0.10541238\n",
            "Iteration 45, loss = 0.10412239\n",
            "Iteration 46, loss = 0.10258185\n",
            "Iteration 47, loss = 0.10126122\n",
            "Iteration 48, loss = 0.09997584\n",
            "Iteration 49, loss = 0.09849694\n",
            "Iteration 50, loss = 0.09729188\n",
            "Iteration 51, loss = 0.09605095\n",
            "Iteration 52, loss = 0.09483867\n",
            "Iteration 53, loss = 0.09375505\n",
            "Iteration 54, loss = 0.09272062\n",
            "Iteration 55, loss = 0.09161411\n",
            "Iteration 56, loss = 0.09060708\n",
            "Iteration 57, loss = 0.08943167\n",
            "Iteration 58, loss = 0.08843721\n",
            "Iteration 59, loss = 0.08742375\n",
            "Iteration 60, loss = 0.08648892\n",
            "Iteration 61, loss = 0.08561329\n",
            "Iteration 62, loss = 0.08451948\n",
            "Iteration 63, loss = 0.08372118\n",
            "Iteration 64, loss = 0.08287868\n",
            "Iteration 65, loss = 0.08204015\n",
            "Iteration 66, loss = 0.08112009\n",
            "Iteration 67, loss = 0.08036394\n",
            "Iteration 68, loss = 0.07950493\n",
            "Iteration 69, loss = 0.07878239\n",
            "Iteration 70, loss = 0.07795999\n",
            "Iteration 71, loss = 0.07717631\n",
            "Iteration 72, loss = 0.07636847\n",
            "Iteration 73, loss = 0.07576326\n",
            "Iteration 74, loss = 0.07493080\n",
            "Iteration 75, loss = 0.07439268\n",
            "Iteration 76, loss = 0.07359400\n",
            "Iteration 77, loss = 0.07305808\n",
            "Iteration 78, loss = 0.07223552\n",
            "Iteration 79, loss = 0.07161747\n",
            "Iteration 80, loss = 0.07125751\n",
            "Iteration 81, loss = 0.07051215\n",
            "Iteration 82, loss = 0.06986303\n",
            "Iteration 83, loss = 0.06934037\n",
            "Iteration 84, loss = 0.06862210\n",
            "Iteration 85, loss = 0.06813366\n",
            "Iteration 86, loss = 0.06758449\n",
            "Iteration 87, loss = 0.06684341\n",
            "Iteration 88, loss = 0.06640988\n",
            "Iteration 89, loss = 0.06599874\n",
            "Iteration 90, loss = 0.06537146\n",
            "Iteration 91, loss = 0.06483080\n",
            "Iteration 92, loss = 0.06435976\n",
            "Iteration 93, loss = 0.06376510\n",
            "Iteration 94, loss = 0.06325074\n",
            "Iteration 95, loss = 0.06284938\n",
            "Iteration 96, loss = 0.06233976\n",
            "Iteration 97, loss = 0.06185494\n",
            "Iteration 98, loss = 0.06142818\n",
            "Iteration 99, loss = 0.06094330\n",
            "Iteration 100, loss = 0.06054079\n",
            "Iteration 101, loss = 0.05997442\n",
            "Iteration 102, loss = 0.05969643\n",
            "Iteration 103, loss = 0.05913458\n",
            "Iteration 104, loss = 0.05872382\n",
            "Iteration 105, loss = 0.05830670\n",
            "Iteration 106, loss = 0.05794078\n",
            "Iteration 107, loss = 0.05737833\n",
            "Iteration 108, loss = 0.05699492\n",
            "Iteration 109, loss = 0.05667410\n",
            "Iteration 110, loss = 0.05632922\n",
            "Iteration 111, loss = 0.05577039\n",
            "Iteration 112, loss = 0.05548036\n",
            "Iteration 113, loss = 0.05514447\n",
            "Iteration 114, loss = 0.05479870\n",
            "Iteration 115, loss = 0.05432040\n",
            "Iteration 116, loss = 0.05396546\n",
            "Iteration 117, loss = 0.05368967\n",
            "Iteration 118, loss = 0.05319920\n",
            "Iteration 119, loss = 0.05286639\n",
            "Iteration 120, loss = 0.05252817\n",
            "Iteration 121, loss = 0.05211824\n",
            "Iteration 122, loss = 0.05186657\n",
            "Iteration 123, loss = 0.05147695\n",
            "Iteration 124, loss = 0.05108908\n",
            "Iteration 125, loss = 0.05087176\n",
            "Iteration 126, loss = 0.05044011\n",
            "Iteration 127, loss = 0.05015895\n",
            "Iteration 128, loss = 0.04981526\n",
            "Iteration 129, loss = 0.04947923\n",
            "Iteration 130, loss = 0.04911791\n",
            "Iteration 131, loss = 0.04879788\n",
            "Iteration 132, loss = 0.04872434\n",
            "Iteration 133, loss = 0.04826828\n",
            "Iteration 134, loss = 0.04796332\n",
            "Iteration 135, loss = 0.04768008\n",
            "Iteration 136, loss = 0.04742087\n",
            "Iteration 137, loss = 0.04712752\n",
            "Iteration 138, loss = 0.04693554\n",
            "Iteration 139, loss = 0.04653106\n",
            "Iteration 140, loss = 0.04627394\n",
            "Iteration 141, loss = 0.04596960\n",
            "Iteration 142, loss = 0.04562691\n",
            "Iteration 143, loss = 0.04538339\n",
            "Iteration 144, loss = 0.04515119\n",
            "Iteration 145, loss = 0.04492111\n",
            "Iteration 146, loss = 0.04467734\n",
            "Iteration 147, loss = 0.04444310\n",
            "Iteration 148, loss = 0.04409165\n",
            "Iteration 149, loss = 0.04387863\n",
            "Iteration 150, loss = 0.04358290\n",
            "Iteration 151, loss = 0.04335731\n",
            "Iteration 152, loss = 0.04313062\n",
            "Iteration 153, loss = 0.04291042\n",
            "Iteration 154, loss = 0.04264581\n",
            "Iteration 155, loss = 0.04245573\n",
            "Iteration 156, loss = 0.04212007\n",
            "Iteration 157, loss = 0.04191095\n",
            "Iteration 158, loss = 0.04166571\n",
            "Iteration 159, loss = 0.04143544\n",
            "Iteration 160, loss = 0.04116689\n",
            "Iteration 161, loss = 0.04092379\n",
            "Iteration 162, loss = 0.04067156\n",
            "Iteration 163, loss = 0.04052132\n",
            "Iteration 164, loss = 0.04031048\n",
            "Iteration 165, loss = 0.04000639\n",
            "Iteration 166, loss = 0.03994133\n",
            "Iteration 167, loss = 0.03969644\n",
            "Iteration 168, loss = 0.03935244\n",
            "Iteration 169, loss = 0.03919335\n",
            "Iteration 170, loss = 0.03907642\n",
            "Iteration 171, loss = 0.03877203\n",
            "Iteration 172, loss = 0.03861025\n",
            "Iteration 173, loss = 0.03848713\n",
            "Iteration 174, loss = 0.03814327\n",
            "Iteration 175, loss = 0.03802014\n",
            "Iteration 176, loss = 0.03774944\n",
            "Iteration 177, loss = 0.03769653\n",
            "Iteration 178, loss = 0.03734325\n",
            "Iteration 179, loss = 0.03722810\n",
            "Iteration 180, loss = 0.03706619\n",
            "Iteration 181, loss = 0.03684367\n",
            "Iteration 182, loss = 0.03670850\n",
            "Iteration 183, loss = 0.03645997\n",
            "Iteration 184, loss = 0.03631738\n",
            "Iteration 185, loss = 0.03609016\n",
            "Iteration 186, loss = 0.03592843\n",
            "Iteration 187, loss = 0.03572459\n",
            "Iteration 188, loss = 0.03562177\n",
            "Iteration 189, loss = 0.03540784\n",
            "Iteration 190, loss = 0.03520136\n",
            "Iteration 191, loss = 0.03506362\n",
            "Iteration 192, loss = 0.03491041\n",
            "Iteration 193, loss = 0.03472814\n",
            "Iteration 194, loss = 0.03446428\n",
            "Iteration 195, loss = 0.03430452\n",
            "Iteration 196, loss = 0.03426998\n",
            "Iteration 197, loss = 0.03403046\n",
            "Iteration 198, loss = 0.03389387\n",
            "Iteration 199, loss = 0.03375278\n",
            "Iteration 200, loss = 0.03347271\n"
          ]
        },
        {
          "output_type": "stream",
          "name": "stderr",
          "text": [
            "/usr/local/lib/python3.7/dist-packages/sklearn/neural_network/_multilayer_perceptron.py:696: ConvergenceWarning: Stochastic Optimizer: Maximum iterations (200) reached and the optimization hasn't converged yet.\n",
            "  ConvergenceWarning,\n"
          ]
        },
        {
          "output_type": "execute_result",
          "data": {
            "text/plain": [
              "MLPClassifier(activation='logistic', batch_size=20, hidden_layer_sizes=(50,),\n",
              "              random_state=1, solver='sgd', verbose=True)"
            ]
          },
          "metadata": {},
          "execution_count": 134
        }
      ]
    },
    {
      "cell_type": "code",
      "source": [
        "#predictions_new = mlp_mnist_new.predict(X1_test.values.reshape(-1,1))\n",
        "predictions_new = mlp_mnist_new.predict(X1_test)\n",
        "probability_predictions_new = mlp_mnist_new.predict_proba(X1_test)\n",
        "print(confusion_matrix(y1_test,predictions_new))\n",
        "print(classification_report(y1_test,predictions_new))"
      ],
      "metadata": {
        "colab": {
          "base_uri": "https://localhost:8080/"
        },
        "id": "6Ex25JGRyoFj",
        "outputId": "de019c57-72d2-4c6e-a301-4598cfbf14e5"
      },
      "execution_count": null,
      "outputs": [
        {
          "output_type": "stream",
          "name": "stdout",
          "text": [
            "[[ 971    0    2    0    0    0    5    1    2    5]\n",
            " [   0 1113    4    0    1    0    0    3    2    2]\n",
            " [   3    3  975    3    1    2    2    4    5    1]\n",
            " [   4    1   13  971    0   10    1    6    9    5]\n",
            " [   1    1    4    0  936    0    8    4    3   18]\n",
            " [   5    1    1   13    2  861    3    1    7    8]\n",
            " [   7    2    2    1    1    5  957    0    7    0]\n",
            " [   3    3    7    3    3    1    0 1009    2   11]\n",
            " [   7    3    4    6    3    4    4    1  943    0]\n",
            " [   6    1    1    6   18    2    0   11    5  944]]\n",
            "              precision    recall  f1-score   support\n",
            "\n",
            "           0       0.96      0.98      0.97       986\n",
            "           1       0.99      0.99      0.99      1125\n",
            "           2       0.96      0.98      0.97       999\n",
            "           3       0.97      0.95      0.96      1020\n",
            "           4       0.97      0.96      0.96       975\n",
            "           5       0.97      0.95      0.96       902\n",
            "           6       0.98      0.97      0.98       982\n",
            "           7       0.97      0.97      0.97      1042\n",
            "           8       0.96      0.97      0.96       975\n",
            "           9       0.95      0.95      0.95       994\n",
            "\n",
            "    accuracy                           0.97     10000\n",
            "   macro avg       0.97      0.97      0.97     10000\n",
            "weighted avg       0.97      0.97      0.97     10000\n",
            "\n"
          ]
        }
      ]
    },
    {
      "cell_type": "markdown",
      "source": [
        "Accuary reached 97% and it more or less same as the original dataset"
      ],
      "metadata": {
        "id": "D2uFHZXKBjK8"
      }
    },
    {
      "cell_type": "code",
      "execution_count": null,
      "metadata": {
        "id": "Y-3zk90UufrX"
      },
      "outputs": [],
      "source": [
        "# For grader use only\n",
        "\n",
        "# insert grade here\n",
        "# G[2,0] =   \n",
        "# G[2,1] = \n",
        "# G[2,2] =\n",
        "\n",
        "\n",
        "maxScore = maxScore + 12\n"
      ]
    },
    {
      "cell_type": "code",
      "execution_count": null,
      "metadata": {
        "id": "fydXo8GRGkbp"
      },
      "outputs": [],
      "source": [
        "# for grader use\n",
        "\n",
        "# Total Grade Calculation\n",
        "rawScore = np.sum(G)\n",
        "score = rawScore*100/maxScore"
      ]
    }
  ],
  "metadata": {
    "colab": {
      "collapsed_sections": [],
      "name": "Experiments with Neural Networks.ipynb",
      "provenance": [],
      "include_colab_link": true
    },
    "kernelspec": {
      "display_name": "Python 3",
      "language": "python",
      "name": "python3"
    },
    "language_info": {
      "codemirror_mode": {
        "name": "ipython",
        "version": 3
      },
      "file_extension": ".py",
      "mimetype": "text/x-python",
      "name": "python",
      "nbconvert_exporter": "python",
      "pygments_lexer": "ipython3",
      "version": "3.7.4"
    }
  },
  "nbformat": 4,
  "nbformat_minor": 0
}