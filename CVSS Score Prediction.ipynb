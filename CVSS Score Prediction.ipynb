{
  "nbformat": 4,
  "nbformat_minor": 0,
  "metadata": {
    "colab": {
      "name": "Final-Milestone 4 - Harilal, Jeyakumar, Pothabolu.ipynb",
      "provenance": [],
      "collapsed_sections": [],
      "include_colab_link": true
    },
    "kernelspec": {
      "name": "python3",
      "display_name": "Python 3"
    },
    "language_info": {
      "name": "python"
    },
    "accelerator": "GPU"
  },
  "cells": [
    {
      "cell_type": "markdown",
      "metadata": {
        "id": "view-in-github",
        "colab_type": "text"
      },
      "source": [
        "<a href=\"https://colab.research.google.com/github/jeyakumar-nanc/MachineLearning/blob/main/CVSS%20Score%20Prediction.ipynb\" target=\"_parent\"><img src=\"https://colab.research.google.com/assets/colab-badge.svg\" alt=\"Open In Colab\"/></a>"
      ]
    },
    {
      "cell_type": "markdown",
      "source": [
        "\n",
        "\n",
        "---\n",
        "\n",
        "\n",
        "**CS675 - Milestone 4 Experiments**\n",
        "\n",
        "Group Members:\n",
        "\n",
        "*   Jordan Harilal\n",
        "*   Nancy Jeyakumar\n",
        "*   Prasuna Kumari Pothabolu\n",
        "\n",
        "\n",
        "\n",
        "\n",
        "\n",
        "---\n",
        "\n"
      ],
      "metadata": {
        "id": "Y4A8J0H9hadr"
      }
    },
    {
      "cell_type": "markdown",
      "source": [
        "# CVSS Score Prediction using  NLP"
      ],
      "metadata": {
        "id": "xNl7O6LTV0ew"
      }
    },
    {
      "cell_type": "markdown",
      "source": [
        "## Introduction"
      ],
      "metadata": {
        "id": "iNeL6NAtc3PJ"
      }
    },
    {
      "cell_type": "markdown",
      "source": [
        "**What is CVE & CVSS score?**\n",
        "\n",
        "Common Vulnerabilities and Exposures (CVE) is a list of computer security threats provided by the U.S. Department of Homeland Security and maintained by the MITRE corporation to identify and categorize vulnerabilities in software and firmware.\n",
        "CVE provides a free dictionary for organizations to improve their cyber security. A CVE entry describes a known vulnerability or exposure. Each CVE entry contains a standard identifier number with status indicator, a brief description and references related vulnerability reports and advisories.\n",
        "CVSS scores are commonly used by infosec teams as part of a vulnerability management program to provide a point of comparison between vulnerabilities, and to prioritize remediation of vulnerabilities. \n",
        "\n",
        "\n",
        "**CVSS Score Prediction - Approach by others**\n",
        "\n",
        "We reviewed exploratory data analysis approaches by various folks on how to work on this dataset. Laura's work with CVE data set stood out to me among others. She had done thorough analysis on this dataset and performed various studies like CVSS score prediction, time series analysis and topic modelling. \n",
        "\n",
        "**For CVSS score prediction** - The goal of this study is predicting the CVSS base scores based on vulnerability description using text mining. Describing the vulnerabilities to natural language is easier than to find and compute CVSS base score parameters\n",
        "\n",
        "\n",
        "Link to CVSS score prediction - https://github.com/lauravoicu/Common-Vulnerabilities-Exposures/blob/main/Text-Mining-Prediction.ipynb\n",
        "\n",
        "She had various algorithms we learnt in class like Decision Tree, Random Forest, KNeighbours , Gradient boost and AdaBoost. Among these algorithms Random Forest. Random forest gave the highest accuracy. The thing that stood out the most is the various techniques used to visualize the data, handling imbalances in the dataset and how to discretize a continuous variable to use in classification problem and choosing the optimal hyperparameters for the classifier. \n",
        "\n",
        "The maximum accuracy that the author was able to achieve was around 68% for Random forest classifier. This notebook demonstrates the experiments we tried with this dataset by doing datacleanup, feature engineering and also tried to implement PCA , SVM to see how the accuracy is with those models."
      ],
      "metadata": {
        "id": "NyyJbUprbsSV"
      }
    },
    {
      "cell_type": "markdown",
      "source": [
        "\n",
        "\n",
        "---"
      ],
      "metadata": {
        "id": "mSDc6rrTb17L"
      }
    },
    {
      "cell_type": "markdown",
      "source": [
        "## Data Preparation"
      ],
      "metadata": {
        "id": "RmnvdnEoV6zs"
      }
    },
    {
      "cell_type": "markdown",
      "source": [
        "For most of the data prep, we decided to have very similar preproessing steps but made a significant change in terms of the resulting labels. The data presents a cvss score that is a single decimal float, and the author decided to round all values down using np.floor. We decided to round to the closest\n",
        "integer. "
      ],
      "metadata": {
        "id": "yu4QXxsYe5de"
      }
    },
    {
      "cell_type": "markdown",
      "source": [
        "### Cleaning up attributes\n"
      ],
      "metadata": {
        "id": "iS3lcZrZXO34"
      }
    },
    {
      "cell_type": "markdown",
      "source": [
        "Much like the original paper, we're going to focus on the NLP aspect and trying to identify the security and threat level based on the name of the ticket, along with the description and summary of the ticket"
      ],
      "metadata": {
        "id": "xXMDRuQJexPq"
      }
    },
    {
      "cell_type": "code",
      "source": [
        "import pandas as pd\n",
        "import numpy as np\n",
        "from sklearn.model_selection import GridSearchCV, RandomizedSearchCV, train_test_split, StratifiedKFold, cross_val_score, cross_val_predict"
      ],
      "metadata": {
        "id": "mO5itO9iHFsT"
      },
      "execution_count": null,
      "outputs": []
    },
    {
      "cell_type": "code",
      "source": [
        "# from google.colab import files\n",
        "\n",
        "# files.upload()"
      ],
      "metadata": {
        "id": "GlJ8nm5mHU0j"
      },
      "execution_count": null,
      "outputs": []
    },
    {
      "cell_type": "code",
      "source": [
        "raw_df = pd.read_csv('cve.csv')"
      ],
      "metadata": {
        "id": "OgY8oL8NIPhT"
      },
      "execution_count": null,
      "outputs": []
    },
    {
      "cell_type": "code",
      "source": [
        "raw_df.head()"
      ],
      "metadata": {
        "id": "FB0KqFa2Lnfy",
        "colab": {
          "base_uri": "https://localhost:8080/",
          "height": 652
        },
        "outputId": "66666e1d-31e6-4da4-d8cf-c44d826b0653"
      },
      "execution_count": null,
      "outputs": [
        {
          "output_type": "execute_result",
          "data": {
            "text/plain": [
              "       Unnamed: 0             mod_date             pub_date  cvss  cwe_code  \\\n",
              "0  CVE-2019-16548  2019-11-21 15:15:00  2019-11-21 15:15:00   6.8       352   \n",
              "1  CVE-2019-16547  2019-11-21 15:15:00  2019-11-21 15:15:00   4.0       732   \n",
              "2  CVE-2019-16546  2019-11-21 15:15:00  2019-11-21 15:15:00   4.3       639   \n",
              "3   CVE-2013-2092  2019-11-20 21:22:00  2019-11-20 21:15:00   4.3        79   \n",
              "4   CVE-2013-2091  2019-11-20 20:15:00  2019-11-20 20:15:00   7.5        89   \n",
              "\n",
              "                                            cwe_name  \\\n",
              "0                  Cross-Site Request Forgery (CSRF)   \n",
              "1   Incorrect Permission Assignment for Critical ...   \n",
              "2   Authorization Bypass Through User-Controlled Key   \n",
              "3   Improper Neutralization of Input During Web P...   \n",
              "4   Improper Neutralization of Special Elements u...   \n",
              "\n",
              "                                             summary access_authentication  \\\n",
              "0  A cross-site request forgery vulnerability in ...                   NaN   \n",
              "1  Missing permission checks in various API endpo...                   NaN   \n",
              "2  Jenkins Google Compute Engine Plugin 4.1.1 and...                   NaN   \n",
              "3  Cross-site Scripting (XSS) in Dolibarr ERP/CRM...                   NaN   \n",
              "4  SQL injection vulnerability in Dolibarr ERP/CR...                   NaN   \n",
              "\n",
              "  access_complexity access_vector impact_availability impact_confidentiality  \\\n",
              "0               NaN           NaN                 NaN                    NaN   \n",
              "1               NaN           NaN                 NaN                    NaN   \n",
              "2               NaN           NaN                 NaN                    NaN   \n",
              "3               NaN           NaN                 NaN                    NaN   \n",
              "4               NaN           NaN                 NaN                    NaN   \n",
              "\n",
              "  impact_integrity  \n",
              "0              NaN  \n",
              "1              NaN  \n",
              "2              NaN  \n",
              "3              NaN  \n",
              "4              NaN  "
            ],
            "text/html": [
              "\n",
              "  <div id=\"df-c6bfd3f9-747f-4e15-a73a-ffdcd785e7b4\">\n",
              "    <div class=\"colab-df-container\">\n",
              "      <div>\n",
              "<style scoped>\n",
              "    .dataframe tbody tr th:only-of-type {\n",
              "        vertical-align: middle;\n",
              "    }\n",
              "\n",
              "    .dataframe tbody tr th {\n",
              "        vertical-align: top;\n",
              "    }\n",
              "\n",
              "    .dataframe thead th {\n",
              "        text-align: right;\n",
              "    }\n",
              "</style>\n",
              "<table border=\"1\" class=\"dataframe\">\n",
              "  <thead>\n",
              "    <tr style=\"text-align: right;\">\n",
              "      <th></th>\n",
              "      <th>Unnamed: 0</th>\n",
              "      <th>mod_date</th>\n",
              "      <th>pub_date</th>\n",
              "      <th>cvss</th>\n",
              "      <th>cwe_code</th>\n",
              "      <th>cwe_name</th>\n",
              "      <th>summary</th>\n",
              "      <th>access_authentication</th>\n",
              "      <th>access_complexity</th>\n",
              "      <th>access_vector</th>\n",
              "      <th>impact_availability</th>\n",
              "      <th>impact_confidentiality</th>\n",
              "      <th>impact_integrity</th>\n",
              "    </tr>\n",
              "  </thead>\n",
              "  <tbody>\n",
              "    <tr>\n",
              "      <th>0</th>\n",
              "      <td>CVE-2019-16548</td>\n",
              "      <td>2019-11-21 15:15:00</td>\n",
              "      <td>2019-11-21 15:15:00</td>\n",
              "      <td>6.8</td>\n",
              "      <td>352</td>\n",
              "      <td>Cross-Site Request Forgery (CSRF)</td>\n",
              "      <td>A cross-site request forgery vulnerability in ...</td>\n",
              "      <td>NaN</td>\n",
              "      <td>NaN</td>\n",
              "      <td>NaN</td>\n",
              "      <td>NaN</td>\n",
              "      <td>NaN</td>\n",
              "      <td>NaN</td>\n",
              "    </tr>\n",
              "    <tr>\n",
              "      <th>1</th>\n",
              "      <td>CVE-2019-16547</td>\n",
              "      <td>2019-11-21 15:15:00</td>\n",
              "      <td>2019-11-21 15:15:00</td>\n",
              "      <td>4.0</td>\n",
              "      <td>732</td>\n",
              "      <td>Incorrect Permission Assignment for Critical ...</td>\n",
              "      <td>Missing permission checks in various API endpo...</td>\n",
              "      <td>NaN</td>\n",
              "      <td>NaN</td>\n",
              "      <td>NaN</td>\n",
              "      <td>NaN</td>\n",
              "      <td>NaN</td>\n",
              "      <td>NaN</td>\n",
              "    </tr>\n",
              "    <tr>\n",
              "      <th>2</th>\n",
              "      <td>CVE-2019-16546</td>\n",
              "      <td>2019-11-21 15:15:00</td>\n",
              "      <td>2019-11-21 15:15:00</td>\n",
              "      <td>4.3</td>\n",
              "      <td>639</td>\n",
              "      <td>Authorization Bypass Through User-Controlled Key</td>\n",
              "      <td>Jenkins Google Compute Engine Plugin 4.1.1 and...</td>\n",
              "      <td>NaN</td>\n",
              "      <td>NaN</td>\n",
              "      <td>NaN</td>\n",
              "      <td>NaN</td>\n",
              "      <td>NaN</td>\n",
              "      <td>NaN</td>\n",
              "    </tr>\n",
              "    <tr>\n",
              "      <th>3</th>\n",
              "      <td>CVE-2013-2092</td>\n",
              "      <td>2019-11-20 21:22:00</td>\n",
              "      <td>2019-11-20 21:15:00</td>\n",
              "      <td>4.3</td>\n",
              "      <td>79</td>\n",
              "      <td>Improper Neutralization of Input During Web P...</td>\n",
              "      <td>Cross-site Scripting (XSS) in Dolibarr ERP/CRM...</td>\n",
              "      <td>NaN</td>\n",
              "      <td>NaN</td>\n",
              "      <td>NaN</td>\n",
              "      <td>NaN</td>\n",
              "      <td>NaN</td>\n",
              "      <td>NaN</td>\n",
              "    </tr>\n",
              "    <tr>\n",
              "      <th>4</th>\n",
              "      <td>CVE-2013-2091</td>\n",
              "      <td>2019-11-20 20:15:00</td>\n",
              "      <td>2019-11-20 20:15:00</td>\n",
              "      <td>7.5</td>\n",
              "      <td>89</td>\n",
              "      <td>Improper Neutralization of Special Elements u...</td>\n",
              "      <td>SQL injection vulnerability in Dolibarr ERP/CR...</td>\n",
              "      <td>NaN</td>\n",
              "      <td>NaN</td>\n",
              "      <td>NaN</td>\n",
              "      <td>NaN</td>\n",
              "      <td>NaN</td>\n",
              "      <td>NaN</td>\n",
              "    </tr>\n",
              "  </tbody>\n",
              "</table>\n",
              "</div>\n",
              "      <button class=\"colab-df-convert\" onclick=\"convertToInteractive('df-c6bfd3f9-747f-4e15-a73a-ffdcd785e7b4')\"\n",
              "              title=\"Convert this dataframe to an interactive table.\"\n",
              "              style=\"display:none;\">\n",
              "        \n",
              "  <svg xmlns=\"http://www.w3.org/2000/svg\" height=\"24px\"viewBox=\"0 0 24 24\"\n",
              "       width=\"24px\">\n",
              "    <path d=\"M0 0h24v24H0V0z\" fill=\"none\"/>\n",
              "    <path d=\"M18.56 5.44l.94 2.06.94-2.06 2.06-.94-2.06-.94-.94-2.06-.94 2.06-2.06.94zm-11 1L8.5 8.5l.94-2.06 2.06-.94-2.06-.94L8.5 2.5l-.94 2.06-2.06.94zm10 10l.94 2.06.94-2.06 2.06-.94-2.06-.94-.94-2.06-.94 2.06-2.06.94z\"/><path d=\"M17.41 7.96l-1.37-1.37c-.4-.4-.92-.59-1.43-.59-.52 0-1.04.2-1.43.59L10.3 9.45l-7.72 7.72c-.78.78-.78 2.05 0 2.83L4 21.41c.39.39.9.59 1.41.59.51 0 1.02-.2 1.41-.59l7.78-7.78 2.81-2.81c.8-.78.8-2.07 0-2.86zM5.41 20L4 18.59l7.72-7.72 1.47 1.35L5.41 20z\"/>\n",
              "  </svg>\n",
              "      </button>\n",
              "      \n",
              "  <style>\n",
              "    .colab-df-container {\n",
              "      display:flex;\n",
              "      flex-wrap:wrap;\n",
              "      gap: 12px;\n",
              "    }\n",
              "\n",
              "    .colab-df-convert {\n",
              "      background-color: #E8F0FE;\n",
              "      border: none;\n",
              "      border-radius: 50%;\n",
              "      cursor: pointer;\n",
              "      display: none;\n",
              "      fill: #1967D2;\n",
              "      height: 32px;\n",
              "      padding: 0 0 0 0;\n",
              "      width: 32px;\n",
              "    }\n",
              "\n",
              "    .colab-df-convert:hover {\n",
              "      background-color: #E2EBFA;\n",
              "      box-shadow: 0px 1px 2px rgba(60, 64, 67, 0.3), 0px 1px 3px 1px rgba(60, 64, 67, 0.15);\n",
              "      fill: #174EA6;\n",
              "    }\n",
              "\n",
              "    [theme=dark] .colab-df-convert {\n",
              "      background-color: #3B4455;\n",
              "      fill: #D2E3FC;\n",
              "    }\n",
              "\n",
              "    [theme=dark] .colab-df-convert:hover {\n",
              "      background-color: #434B5C;\n",
              "      box-shadow: 0px 1px 3px 1px rgba(0, 0, 0, 0.15);\n",
              "      filter: drop-shadow(0px 1px 2px rgba(0, 0, 0, 0.3));\n",
              "      fill: #FFFFFF;\n",
              "    }\n",
              "  </style>\n",
              "\n",
              "      <script>\n",
              "        const buttonEl =\n",
              "          document.querySelector('#df-c6bfd3f9-747f-4e15-a73a-ffdcd785e7b4 button.colab-df-convert');\n",
              "        buttonEl.style.display =\n",
              "          google.colab.kernel.accessAllowed ? 'block' : 'none';\n",
              "\n",
              "        async function convertToInteractive(key) {\n",
              "          const element = document.querySelector('#df-c6bfd3f9-747f-4e15-a73a-ffdcd785e7b4');\n",
              "          const dataTable =\n",
              "            await google.colab.kernel.invokeFunction('convertToInteractive',\n",
              "                                                     [key], {});\n",
              "          if (!dataTable) return;\n",
              "\n",
              "          const docLinkHtml = 'Like what you see? Visit the ' +\n",
              "            '<a target=\"_blank\" href=https://colab.research.google.com/notebooks/data_table.ipynb>data table notebook</a>'\n",
              "            + ' to learn more about interactive tables.';\n",
              "          element.innerHTML = '';\n",
              "          dataTable['output_type'] = 'display_data';\n",
              "          await google.colab.output.renderOutput(dataTable, element);\n",
              "          const docLink = document.createElement('div');\n",
              "          docLink.innerHTML = docLinkHtml;\n",
              "          element.appendChild(docLink);\n",
              "        }\n",
              "      </script>\n",
              "    </div>\n",
              "  </div>\n",
              "  "
            ]
          },
          "metadata": {},
          "execution_count": 29
        }
      ]
    },
    {
      "cell_type": "code",
      "source": [
        "col = list(raw_df.columns)"
      ],
      "metadata": {
        "id": "tYp1gJHdKPhH"
      },
      "execution_count": null,
      "outputs": []
    },
    {
      "cell_type": "code",
      "source": [
        "col"
      ],
      "metadata": {
        "id": "C8hPcUvqKeOR",
        "colab": {
          "base_uri": "https://localhost:8080/"
        },
        "outputId": "1934f910-a659-451f-fc71-dbd5097dce9c"
      },
      "execution_count": null,
      "outputs": [
        {
          "output_type": "execute_result",
          "data": {
            "text/plain": [
              "['Unnamed: 0',\n",
              " 'mod_date',\n",
              " 'pub_date',\n",
              " 'cvss',\n",
              " 'cwe_code',\n",
              " 'cwe_name',\n",
              " 'summary',\n",
              " 'access_authentication',\n",
              " 'access_complexity',\n",
              " 'access_vector',\n",
              " 'impact_availability',\n",
              " 'impact_confidentiality',\n",
              " 'impact_integrity']"
            ]
          },
          "metadata": {},
          "execution_count": 31
        }
      ]
    },
    {
      "cell_type": "code",
      "source": [
        "col.remove('Unnamed: 0')\n",
        "col.remove('cvss')\n",
        "col.remove('cwe_code')\n",
        "col.remove('summary')"
      ],
      "metadata": {
        "id": "p67Nd4yALDuE"
      },
      "execution_count": null,
      "outputs": []
    },
    {
      "cell_type": "code",
      "source": [
        "col"
      ],
      "metadata": {
        "id": "Q2Xg1AW8K3q-",
        "colab": {
          "base_uri": "https://localhost:8080/"
        },
        "outputId": "d6167c07-6b47-4880-e01c-649ecae3b82f"
      },
      "execution_count": null,
      "outputs": [
        {
          "output_type": "execute_result",
          "data": {
            "text/plain": [
              "['mod_date',\n",
              " 'pub_date',\n",
              " 'cwe_name',\n",
              " 'access_authentication',\n",
              " 'access_complexity',\n",
              " 'access_vector',\n",
              " 'impact_availability',\n",
              " 'impact_confidentiality',\n",
              " 'impact_integrity']"
            ]
          },
          "metadata": {},
          "execution_count": 33
        }
      ]
    },
    {
      "cell_type": "code",
      "source": [
        "raw_df = raw_df.drop(col, axis=1)"
      ],
      "metadata": {
        "id": "J1-Aj9KRKX6m"
      },
      "execution_count": null,
      "outputs": []
    },
    {
      "cell_type": "code",
      "source": [
        "raw_df.rename({'Unamed: 0': 'id'}, axis=1, inplace=True)"
      ],
      "metadata": {
        "id": "naRCStG0MsHP"
      },
      "execution_count": null,
      "outputs": []
    },
    {
      "cell_type": "code",
      "source": [
        "clean_df = raw_df.copy()"
      ],
      "metadata": {
        "id": "LLg_fP1kNIxp"
      },
      "execution_count": null,
      "outputs": []
    },
    {
      "cell_type": "code",
      "source": [
        "clean_df = clean_df.rename({'Unnamed: 0': 'id'}, axis=1)"
      ],
      "metadata": {
        "id": "vvBikPUmNwje"
      },
      "execution_count": null,
      "outputs": []
    },
    {
      "cell_type": "code",
      "source": [
        "clean_df"
      ],
      "metadata": {
        "id": "3EhCFTJmN5qW",
        "colab": {
          "base_uri": "https://localhost:8080/",
          "height": 424
        },
        "outputId": "9c0a2e76-cd37-498f-cc4d-45b25a9c2686"
      },
      "execution_count": null,
      "outputs": [
        {
          "output_type": "execute_result",
          "data": {
            "text/plain": [
              "                   id  cvss  cwe_code  \\\n",
              "0      CVE-2019-16548   6.8       352   \n",
              "1      CVE-2019-16547   4.0       732   \n",
              "2      CVE-2019-16546   4.3       639   \n",
              "3       CVE-2013-2092   4.3        79   \n",
              "4       CVE-2013-2091   7.5        89   \n",
              "...               ...   ...       ...   \n",
              "89655   CVE-2007-6444   5.0        20   \n",
              "89656   CVE-2007-6443   5.0       119   \n",
              "89657   CVE-2007-6442   5.0       119   \n",
              "89658   CVE-2007-6370   5.0       119   \n",
              "89659   CVE-2007-3004   5.0       119   \n",
              "\n",
              "                                                 summary  \n",
              "0      A cross-site request forgery vulnerability in ...  \n",
              "1      Missing permission checks in various API endpo...  \n",
              "2      Jenkins Google Compute Engine Plugin 4.1.1 and...  \n",
              "3      Cross-site Scripting (XSS) in Dolibarr ERP/CRM...  \n",
              "4      SQL injection vulnerability in Dolibarr ERP/CR...  \n",
              "...                                                  ...  \n",
              "89655  ** REJECT **  DO NOT USE THIS CANDIDATE NUMBER...  \n",
              "89656  ** REJECT **  DO NOT USE THIS CANDIDATE NUMBER...  \n",
              "89657  ** REJECT **  DO NOT USE THIS CANDIDATE NUMBER...  \n",
              "89658  ** REJECT **  DO NOT USE THIS CANDIDATE NUMBER...  \n",
              "89659  ** REJECT **  DO NOT USE THIS CANDIDATE NUMBER...  \n",
              "\n",
              "[89660 rows x 4 columns]"
            ],
            "text/html": [
              "\n",
              "  <div id=\"df-cadafa93-501f-4f72-a59f-812248e29d25\">\n",
              "    <div class=\"colab-df-container\">\n",
              "      <div>\n",
              "<style scoped>\n",
              "    .dataframe tbody tr th:only-of-type {\n",
              "        vertical-align: middle;\n",
              "    }\n",
              "\n",
              "    .dataframe tbody tr th {\n",
              "        vertical-align: top;\n",
              "    }\n",
              "\n",
              "    .dataframe thead th {\n",
              "        text-align: right;\n",
              "    }\n",
              "</style>\n",
              "<table border=\"1\" class=\"dataframe\">\n",
              "  <thead>\n",
              "    <tr style=\"text-align: right;\">\n",
              "      <th></th>\n",
              "      <th>id</th>\n",
              "      <th>cvss</th>\n",
              "      <th>cwe_code</th>\n",
              "      <th>summary</th>\n",
              "    </tr>\n",
              "  </thead>\n",
              "  <tbody>\n",
              "    <tr>\n",
              "      <th>0</th>\n",
              "      <td>CVE-2019-16548</td>\n",
              "      <td>6.8</td>\n",
              "      <td>352</td>\n",
              "      <td>A cross-site request forgery vulnerability in ...</td>\n",
              "    </tr>\n",
              "    <tr>\n",
              "      <th>1</th>\n",
              "      <td>CVE-2019-16547</td>\n",
              "      <td>4.0</td>\n",
              "      <td>732</td>\n",
              "      <td>Missing permission checks in various API endpo...</td>\n",
              "    </tr>\n",
              "    <tr>\n",
              "      <th>2</th>\n",
              "      <td>CVE-2019-16546</td>\n",
              "      <td>4.3</td>\n",
              "      <td>639</td>\n",
              "      <td>Jenkins Google Compute Engine Plugin 4.1.1 and...</td>\n",
              "    </tr>\n",
              "    <tr>\n",
              "      <th>3</th>\n",
              "      <td>CVE-2013-2092</td>\n",
              "      <td>4.3</td>\n",
              "      <td>79</td>\n",
              "      <td>Cross-site Scripting (XSS) in Dolibarr ERP/CRM...</td>\n",
              "    </tr>\n",
              "    <tr>\n",
              "      <th>4</th>\n",
              "      <td>CVE-2013-2091</td>\n",
              "      <td>7.5</td>\n",
              "      <td>89</td>\n",
              "      <td>SQL injection vulnerability in Dolibarr ERP/CR...</td>\n",
              "    </tr>\n",
              "    <tr>\n",
              "      <th>...</th>\n",
              "      <td>...</td>\n",
              "      <td>...</td>\n",
              "      <td>...</td>\n",
              "      <td>...</td>\n",
              "    </tr>\n",
              "    <tr>\n",
              "      <th>89655</th>\n",
              "      <td>CVE-2007-6444</td>\n",
              "      <td>5.0</td>\n",
              "      <td>20</td>\n",
              "      <td>** REJECT **  DO NOT USE THIS CANDIDATE NUMBER...</td>\n",
              "    </tr>\n",
              "    <tr>\n",
              "      <th>89656</th>\n",
              "      <td>CVE-2007-6443</td>\n",
              "      <td>5.0</td>\n",
              "      <td>119</td>\n",
              "      <td>** REJECT **  DO NOT USE THIS CANDIDATE NUMBER...</td>\n",
              "    </tr>\n",
              "    <tr>\n",
              "      <th>89657</th>\n",
              "      <td>CVE-2007-6442</td>\n",
              "      <td>5.0</td>\n",
              "      <td>119</td>\n",
              "      <td>** REJECT **  DO NOT USE THIS CANDIDATE NUMBER...</td>\n",
              "    </tr>\n",
              "    <tr>\n",
              "      <th>89658</th>\n",
              "      <td>CVE-2007-6370</td>\n",
              "      <td>5.0</td>\n",
              "      <td>119</td>\n",
              "      <td>** REJECT **  DO NOT USE THIS CANDIDATE NUMBER...</td>\n",
              "    </tr>\n",
              "    <tr>\n",
              "      <th>89659</th>\n",
              "      <td>CVE-2007-3004</td>\n",
              "      <td>5.0</td>\n",
              "      <td>119</td>\n",
              "      <td>** REJECT **  DO NOT USE THIS CANDIDATE NUMBER...</td>\n",
              "    </tr>\n",
              "  </tbody>\n",
              "</table>\n",
              "<p>89660 rows × 4 columns</p>\n",
              "</div>\n",
              "      <button class=\"colab-df-convert\" onclick=\"convertToInteractive('df-cadafa93-501f-4f72-a59f-812248e29d25')\"\n",
              "              title=\"Convert this dataframe to an interactive table.\"\n",
              "              style=\"display:none;\">\n",
              "        \n",
              "  <svg xmlns=\"http://www.w3.org/2000/svg\" height=\"24px\"viewBox=\"0 0 24 24\"\n",
              "       width=\"24px\">\n",
              "    <path d=\"M0 0h24v24H0V0z\" fill=\"none\"/>\n",
              "    <path d=\"M18.56 5.44l.94 2.06.94-2.06 2.06-.94-2.06-.94-.94-2.06-.94 2.06-2.06.94zm-11 1L8.5 8.5l.94-2.06 2.06-.94-2.06-.94L8.5 2.5l-.94 2.06-2.06.94zm10 10l.94 2.06.94-2.06 2.06-.94-2.06-.94-.94-2.06-.94 2.06-2.06.94z\"/><path d=\"M17.41 7.96l-1.37-1.37c-.4-.4-.92-.59-1.43-.59-.52 0-1.04.2-1.43.59L10.3 9.45l-7.72 7.72c-.78.78-.78 2.05 0 2.83L4 21.41c.39.39.9.59 1.41.59.51 0 1.02-.2 1.41-.59l7.78-7.78 2.81-2.81c.8-.78.8-2.07 0-2.86zM5.41 20L4 18.59l7.72-7.72 1.47 1.35L5.41 20z\"/>\n",
              "  </svg>\n",
              "      </button>\n",
              "      \n",
              "  <style>\n",
              "    .colab-df-container {\n",
              "      display:flex;\n",
              "      flex-wrap:wrap;\n",
              "      gap: 12px;\n",
              "    }\n",
              "\n",
              "    .colab-df-convert {\n",
              "      background-color: #E8F0FE;\n",
              "      border: none;\n",
              "      border-radius: 50%;\n",
              "      cursor: pointer;\n",
              "      display: none;\n",
              "      fill: #1967D2;\n",
              "      height: 32px;\n",
              "      padding: 0 0 0 0;\n",
              "      width: 32px;\n",
              "    }\n",
              "\n",
              "    .colab-df-convert:hover {\n",
              "      background-color: #E2EBFA;\n",
              "      box-shadow: 0px 1px 2px rgba(60, 64, 67, 0.3), 0px 1px 3px 1px rgba(60, 64, 67, 0.15);\n",
              "      fill: #174EA6;\n",
              "    }\n",
              "\n",
              "    [theme=dark] .colab-df-convert {\n",
              "      background-color: #3B4455;\n",
              "      fill: #D2E3FC;\n",
              "    }\n",
              "\n",
              "    [theme=dark] .colab-df-convert:hover {\n",
              "      background-color: #434B5C;\n",
              "      box-shadow: 0px 1px 3px 1px rgba(0, 0, 0, 0.15);\n",
              "      filter: drop-shadow(0px 1px 2px rgba(0, 0, 0, 0.3));\n",
              "      fill: #FFFFFF;\n",
              "    }\n",
              "  </style>\n",
              "\n",
              "      <script>\n",
              "        const buttonEl =\n",
              "          document.querySelector('#df-cadafa93-501f-4f72-a59f-812248e29d25 button.colab-df-convert');\n",
              "        buttonEl.style.display =\n",
              "          google.colab.kernel.accessAllowed ? 'block' : 'none';\n",
              "\n",
              "        async function convertToInteractive(key) {\n",
              "          const element = document.querySelector('#df-cadafa93-501f-4f72-a59f-812248e29d25');\n",
              "          const dataTable =\n",
              "            await google.colab.kernel.invokeFunction('convertToInteractive',\n",
              "                                                     [key], {});\n",
              "          if (!dataTable) return;\n",
              "\n",
              "          const docLinkHtml = 'Like what you see? Visit the ' +\n",
              "            '<a target=\"_blank\" href=https://colab.research.google.com/notebooks/data_table.ipynb>data table notebook</a>'\n",
              "            + ' to learn more about interactive tables.';\n",
              "          element.innerHTML = '';\n",
              "          dataTable['output_type'] = 'display_data';\n",
              "          await google.colab.output.renderOutput(dataTable, element);\n",
              "          const docLink = document.createElement('div');\n",
              "          docLink.innerHTML = docLinkHtml;\n",
              "          element.appendChild(docLink);\n",
              "        }\n",
              "      </script>\n",
              "    </div>\n",
              "  </div>\n",
              "  "
            ]
          },
          "metadata": {},
          "execution_count": 38
        }
      ]
    },
    {
      "cell_type": "code",
      "source": [
        "clean_df = clean_df.drop('id', axis=1)"
      ],
      "metadata": {
        "id": "L92J01y4NRoH"
      },
      "execution_count": null,
      "outputs": []
    },
    {
      "cell_type": "code",
      "source": [
        "# Cleaned data only containing the cvss, cwe code, and summary. No need to \n",
        "# include the name of the code, since it's redundant to the cwe_code\n",
        "clean_df.head()"
      ],
      "metadata": {
        "id": "hkb-gqkTOrv0",
        "colab": {
          "base_uri": "https://localhost:8080/",
          "height": 206
        },
        "outputId": "11857945-7af2-468e-92d2-9b1508dce58d"
      },
      "execution_count": null,
      "outputs": [
        {
          "output_type": "execute_result",
          "data": {
            "text/plain": [
              "   cvss  cwe_code                                            summary\n",
              "0   6.8       352  A cross-site request forgery vulnerability in ...\n",
              "1   4.0       732  Missing permission checks in various API endpo...\n",
              "2   4.3       639  Jenkins Google Compute Engine Plugin 4.1.1 and...\n",
              "3   4.3        79  Cross-site Scripting (XSS) in Dolibarr ERP/CRM...\n",
              "4   7.5        89  SQL injection vulnerability in Dolibarr ERP/CR..."
            ],
            "text/html": [
              "\n",
              "  <div id=\"df-2d6978ae-5e51-41ef-8296-2674217c4052\">\n",
              "    <div class=\"colab-df-container\">\n",
              "      <div>\n",
              "<style scoped>\n",
              "    .dataframe tbody tr th:only-of-type {\n",
              "        vertical-align: middle;\n",
              "    }\n",
              "\n",
              "    .dataframe tbody tr th {\n",
              "        vertical-align: top;\n",
              "    }\n",
              "\n",
              "    .dataframe thead th {\n",
              "        text-align: right;\n",
              "    }\n",
              "</style>\n",
              "<table border=\"1\" class=\"dataframe\">\n",
              "  <thead>\n",
              "    <tr style=\"text-align: right;\">\n",
              "      <th></th>\n",
              "      <th>cvss</th>\n",
              "      <th>cwe_code</th>\n",
              "      <th>summary</th>\n",
              "    </tr>\n",
              "  </thead>\n",
              "  <tbody>\n",
              "    <tr>\n",
              "      <th>0</th>\n",
              "      <td>6.8</td>\n",
              "      <td>352</td>\n",
              "      <td>A cross-site request forgery vulnerability in ...</td>\n",
              "    </tr>\n",
              "    <tr>\n",
              "      <th>1</th>\n",
              "      <td>4.0</td>\n",
              "      <td>732</td>\n",
              "      <td>Missing permission checks in various API endpo...</td>\n",
              "    </tr>\n",
              "    <tr>\n",
              "      <th>2</th>\n",
              "      <td>4.3</td>\n",
              "      <td>639</td>\n",
              "      <td>Jenkins Google Compute Engine Plugin 4.1.1 and...</td>\n",
              "    </tr>\n",
              "    <tr>\n",
              "      <th>3</th>\n",
              "      <td>4.3</td>\n",
              "      <td>79</td>\n",
              "      <td>Cross-site Scripting (XSS) in Dolibarr ERP/CRM...</td>\n",
              "    </tr>\n",
              "    <tr>\n",
              "      <th>4</th>\n",
              "      <td>7.5</td>\n",
              "      <td>89</td>\n",
              "      <td>SQL injection vulnerability in Dolibarr ERP/CR...</td>\n",
              "    </tr>\n",
              "  </tbody>\n",
              "</table>\n",
              "</div>\n",
              "      <button class=\"colab-df-convert\" onclick=\"convertToInteractive('df-2d6978ae-5e51-41ef-8296-2674217c4052')\"\n",
              "              title=\"Convert this dataframe to an interactive table.\"\n",
              "              style=\"display:none;\">\n",
              "        \n",
              "  <svg xmlns=\"http://www.w3.org/2000/svg\" height=\"24px\"viewBox=\"0 0 24 24\"\n",
              "       width=\"24px\">\n",
              "    <path d=\"M0 0h24v24H0V0z\" fill=\"none\"/>\n",
              "    <path d=\"M18.56 5.44l.94 2.06.94-2.06 2.06-.94-2.06-.94-.94-2.06-.94 2.06-2.06.94zm-11 1L8.5 8.5l.94-2.06 2.06-.94-2.06-.94L8.5 2.5l-.94 2.06-2.06.94zm10 10l.94 2.06.94-2.06 2.06-.94-2.06-.94-.94-2.06-.94 2.06-2.06.94z\"/><path d=\"M17.41 7.96l-1.37-1.37c-.4-.4-.92-.59-1.43-.59-.52 0-1.04.2-1.43.59L10.3 9.45l-7.72 7.72c-.78.78-.78 2.05 0 2.83L4 21.41c.39.39.9.59 1.41.59.51 0 1.02-.2 1.41-.59l7.78-7.78 2.81-2.81c.8-.78.8-2.07 0-2.86zM5.41 20L4 18.59l7.72-7.72 1.47 1.35L5.41 20z\"/>\n",
              "  </svg>\n",
              "      </button>\n",
              "      \n",
              "  <style>\n",
              "    .colab-df-container {\n",
              "      display:flex;\n",
              "      flex-wrap:wrap;\n",
              "      gap: 12px;\n",
              "    }\n",
              "\n",
              "    .colab-df-convert {\n",
              "      background-color: #E8F0FE;\n",
              "      border: none;\n",
              "      border-radius: 50%;\n",
              "      cursor: pointer;\n",
              "      display: none;\n",
              "      fill: #1967D2;\n",
              "      height: 32px;\n",
              "      padding: 0 0 0 0;\n",
              "      width: 32px;\n",
              "    }\n",
              "\n",
              "    .colab-df-convert:hover {\n",
              "      background-color: #E2EBFA;\n",
              "      box-shadow: 0px 1px 2px rgba(60, 64, 67, 0.3), 0px 1px 3px 1px rgba(60, 64, 67, 0.15);\n",
              "      fill: #174EA6;\n",
              "    }\n",
              "\n",
              "    [theme=dark] .colab-df-convert {\n",
              "      background-color: #3B4455;\n",
              "      fill: #D2E3FC;\n",
              "    }\n",
              "\n",
              "    [theme=dark] .colab-df-convert:hover {\n",
              "      background-color: #434B5C;\n",
              "      box-shadow: 0px 1px 3px 1px rgba(0, 0, 0, 0.15);\n",
              "      filter: drop-shadow(0px 1px 2px rgba(0, 0, 0, 0.3));\n",
              "      fill: #FFFFFF;\n",
              "    }\n",
              "  </style>\n",
              "\n",
              "      <script>\n",
              "        const buttonEl =\n",
              "          document.querySelector('#df-2d6978ae-5e51-41ef-8296-2674217c4052 button.colab-df-convert');\n",
              "        buttonEl.style.display =\n",
              "          google.colab.kernel.accessAllowed ? 'block' : 'none';\n",
              "\n",
              "        async function convertToInteractive(key) {\n",
              "          const element = document.querySelector('#df-2d6978ae-5e51-41ef-8296-2674217c4052');\n",
              "          const dataTable =\n",
              "            await google.colab.kernel.invokeFunction('convertToInteractive',\n",
              "                                                     [key], {});\n",
              "          if (!dataTable) return;\n",
              "\n",
              "          const docLinkHtml = 'Like what you see? Visit the ' +\n",
              "            '<a target=\"_blank\" href=https://colab.research.google.com/notebooks/data_table.ipynb>data table notebook</a>'\n",
              "            + ' to learn more about interactive tables.';\n",
              "          element.innerHTML = '';\n",
              "          dataTable['output_type'] = 'display_data';\n",
              "          await google.colab.output.renderOutput(dataTable, element);\n",
              "          const docLink = document.createElement('div');\n",
              "          docLink.innerHTML = docLinkHtml;\n",
              "          element.appendChild(docLink);\n",
              "        }\n",
              "      </script>\n",
              "    </div>\n",
              "  </div>\n",
              "  "
            ]
          },
          "metadata": {},
          "execution_count": 40
        }
      ]
    },
    {
      "cell_type": "markdown",
      "source": [
        "### Tokenizing words and Cleaning Text"
      ],
      "metadata": {
        "id": "6Kzs2kCxXTtG"
      }
    },
    {
      "cell_type": "code",
      "source": [
        "import nltk\n",
        "from nltk.corpus import stopwords\n",
        "from nltk.tokenize import word_tokenize\n",
        "import string\n",
        "import re"
      ],
      "metadata": {
        "id": "vA5u36xAWpFU"
      },
      "execution_count": null,
      "outputs": []
    },
    {
      "cell_type": "code",
      "source": [
        "nltk.download('stopwords')\n",
        "stop_words = stopwords.words('english')"
      ],
      "metadata": {
        "id": "333OIfOkY8o-",
        "colab": {
          "base_uri": "https://localhost:8080/"
        },
        "outputId": "e03e5e0b-202b-4855-fa06-b3ed3a178b43"
      },
      "execution_count": null,
      "outputs": [
        {
          "output_type": "stream",
          "name": "stdout",
          "text": [
            "[nltk_data] Downloading package stopwords to /root/nltk_data...\n",
            "[nltk_data]   Package stopwords is already up-to-date!\n"
          ]
        }
      ]
    },
    {
      "cell_type": "code",
      "source": [
        "clean_df['summary']"
      ],
      "metadata": {
        "colab": {
          "base_uri": "https://localhost:8080/"
        },
        "id": "t5jh-fw8MQ6e",
        "outputId": "9dbb7f7a-6b1b-4930-dcff-a6f9210a683f"
      },
      "execution_count": null,
      "outputs": [
        {
          "output_type": "execute_result",
          "data": {
            "text/plain": [
              "0        A cross-site request forgery vulnerability in ...\n",
              "1        Missing permission checks in various API endpo...\n",
              "2        Jenkins Google Compute Engine Plugin 4.1.1 and...\n",
              "3        Cross-site Scripting (XSS) in Dolibarr ERP/CRM...\n",
              "4        SQL injection vulnerability in Dolibarr ERP/CR...\n",
              "                               ...                        \n",
              "89655    ** REJECT **  DO NOT USE THIS CANDIDATE NUMBER...\n",
              "89656    ** REJECT **  DO NOT USE THIS CANDIDATE NUMBER...\n",
              "89657    ** REJECT **  DO NOT USE THIS CANDIDATE NUMBER...\n",
              "89658    ** REJECT **  DO NOT USE THIS CANDIDATE NUMBER...\n",
              "89659    ** REJECT **  DO NOT USE THIS CANDIDATE NUMBER...\n",
              "Name: summary, Length: 89660, dtype: object"
            ]
          },
          "metadata": {},
          "execution_count": 43
        }
      ]
    },
    {
      "cell_type": "code",
      "source": [
        "# Creating an extra copy of the summary to process and compare to\n",
        "# the original\n",
        "clean_df['summary_processed'] = clean_df['summary']"
      ],
      "metadata": {
        "id": "8TlnRT9uZLdy"
      },
      "execution_count": null,
      "outputs": []
    },
    {
      "cell_type": "code",
      "source": [
        "# Removing stopwords\n",
        "clean_df['summary_processed'] = clean_df.summary_processed.apply(lambda x: ' '.join([word for word in x.split() if (word not in stop_words)]))"
      ],
      "metadata": {
        "id": "t4P_hCJqZToe"
      },
      "execution_count": null,
      "outputs": []
    },
    {
      "cell_type": "code",
      "source": [
        "# Removing digits\n",
        "clean_df['summary_processed'] = clean_df.summary_processed.apply(lambda x: ''.join([i for i in x if not i.isdigit()]))"
      ],
      "metadata": {
        "id": "-6OlxpIIaIsS"
      },
      "execution_count": null,
      "outputs": []
    },
    {
      "cell_type": "code",
      "source": [
        "# Removing Punctuation\n",
        "\n",
        "translator = re.compile('[%s]' % re.escape(string.punctuation))\n",
        "\n",
        "clean_df['summary_processed'] = clean_df.summary_processed.apply(lambda x: translator.sub(' ', x))"
      ],
      "metadata": {
        "id": "laPNeFaCatNF"
      },
      "execution_count": null,
      "outputs": []
    },
    {
      "cell_type": "code",
      "source": [
        "# Removing single letters\n",
        "clean_df['summary_processed'] = clean_df.summary_processed.apply(lambda x: ' '.join([w for w in x.split() if len(w)>1]))"
      ],
      "metadata": {
        "id": "Kw0RAt6dbUkd"
      },
      "execution_count": null,
      "outputs": []
    },
    {
      "cell_type": "code",
      "source": [
        "# Final check to ensure that each summary line has values\n",
        "\n",
        "clean_df.shape"
      ],
      "metadata": {
        "id": "G9_gefQJb2cF",
        "colab": {
          "base_uri": "https://localhost:8080/"
        },
        "outputId": "cdfe5e92-007c-4b54-c9a7-81c3e9ad1406"
      },
      "execution_count": null,
      "outputs": [
        {
          "output_type": "execute_result",
          "data": {
            "text/plain": [
              "(89660, 4)"
            ]
          },
          "metadata": {},
          "execution_count": 49
        }
      ]
    },
    {
      "cell_type": "code",
      "source": [
        "# This shows that there are no values that were dropped\n",
        "clean_df.dropna(how='any', axis=0).shape"
      ],
      "metadata": {
        "id": "WVFjMg3Cb8Iv",
        "colab": {
          "base_uri": "https://localhost:8080/"
        },
        "outputId": "25864dbf-517c-4313-ae50-1f942636fe7d"
      },
      "execution_count": null,
      "outputs": [
        {
          "output_type": "execute_result",
          "data": {
            "text/plain": [
              "(89660, 4)"
            ]
          },
          "metadata": {},
          "execution_count": 50
        }
      ]
    },
    {
      "cell_type": "code",
      "source": [
        "# Changing all letters to lowercase for consistency\n",
        "\n",
        "clean_df['summary_processed'] = clean_df.summary_processed.str.lower()"
      ],
      "metadata": {
        "id": "hjFj7Cz4cRqW"
      },
      "execution_count": null,
      "outputs": []
    },
    {
      "cell_type": "code",
      "source": [
        "clean_df.head()"
      ],
      "metadata": {
        "id": "2z7VBnZhcoBw",
        "colab": {
          "base_uri": "https://localhost:8080/",
          "height": 206
        },
        "outputId": "4fd516a3-1de0-4ed9-8050-e00189a82ce6"
      },
      "execution_count": null,
      "outputs": [
        {
          "output_type": "execute_result",
          "data": {
            "text/plain": [
              "   cvss  cwe_code                                            summary  \\\n",
              "0   6.8       352  A cross-site request forgery vulnerability in ...   \n",
              "1   4.0       732  Missing permission checks in various API endpo...   \n",
              "2   4.3       639  Jenkins Google Compute Engine Plugin 4.1.1 and...   \n",
              "3   4.3        79  Cross-site Scripting (XSS) in Dolibarr ERP/CRM...   \n",
              "4   7.5        89  SQL injection vulnerability in Dolibarr ERP/CR...   \n",
              "\n",
              "                                   summary_processed  \n",
              "0  cross site request forgery vulnerability jenki...  \n",
              "1  missing permission checks various api endpoint...  \n",
              "2  jenkins google compute engine plugin earlier v...  \n",
              "3  cross site scripting xss dolibarr erp crm allo...  \n",
              "4  sql injection vulnerability dolibarr erp crm a...  "
            ],
            "text/html": [
              "\n",
              "  <div id=\"df-bece87cf-42cf-4415-a1ee-cae9dbf32f18\">\n",
              "    <div class=\"colab-df-container\">\n",
              "      <div>\n",
              "<style scoped>\n",
              "    .dataframe tbody tr th:only-of-type {\n",
              "        vertical-align: middle;\n",
              "    }\n",
              "\n",
              "    .dataframe tbody tr th {\n",
              "        vertical-align: top;\n",
              "    }\n",
              "\n",
              "    .dataframe thead th {\n",
              "        text-align: right;\n",
              "    }\n",
              "</style>\n",
              "<table border=\"1\" class=\"dataframe\">\n",
              "  <thead>\n",
              "    <tr style=\"text-align: right;\">\n",
              "      <th></th>\n",
              "      <th>cvss</th>\n",
              "      <th>cwe_code</th>\n",
              "      <th>summary</th>\n",
              "      <th>summary_processed</th>\n",
              "    </tr>\n",
              "  </thead>\n",
              "  <tbody>\n",
              "    <tr>\n",
              "      <th>0</th>\n",
              "      <td>6.8</td>\n",
              "      <td>352</td>\n",
              "      <td>A cross-site request forgery vulnerability in ...</td>\n",
              "      <td>cross site request forgery vulnerability jenki...</td>\n",
              "    </tr>\n",
              "    <tr>\n",
              "      <th>1</th>\n",
              "      <td>4.0</td>\n",
              "      <td>732</td>\n",
              "      <td>Missing permission checks in various API endpo...</td>\n",
              "      <td>missing permission checks various api endpoint...</td>\n",
              "    </tr>\n",
              "    <tr>\n",
              "      <th>2</th>\n",
              "      <td>4.3</td>\n",
              "      <td>639</td>\n",
              "      <td>Jenkins Google Compute Engine Plugin 4.1.1 and...</td>\n",
              "      <td>jenkins google compute engine plugin earlier v...</td>\n",
              "    </tr>\n",
              "    <tr>\n",
              "      <th>3</th>\n",
              "      <td>4.3</td>\n",
              "      <td>79</td>\n",
              "      <td>Cross-site Scripting (XSS) in Dolibarr ERP/CRM...</td>\n",
              "      <td>cross site scripting xss dolibarr erp crm allo...</td>\n",
              "    </tr>\n",
              "    <tr>\n",
              "      <th>4</th>\n",
              "      <td>7.5</td>\n",
              "      <td>89</td>\n",
              "      <td>SQL injection vulnerability in Dolibarr ERP/CR...</td>\n",
              "      <td>sql injection vulnerability dolibarr erp crm a...</td>\n",
              "    </tr>\n",
              "  </tbody>\n",
              "</table>\n",
              "</div>\n",
              "      <button class=\"colab-df-convert\" onclick=\"convertToInteractive('df-bece87cf-42cf-4415-a1ee-cae9dbf32f18')\"\n",
              "              title=\"Convert this dataframe to an interactive table.\"\n",
              "              style=\"display:none;\">\n",
              "        \n",
              "  <svg xmlns=\"http://www.w3.org/2000/svg\" height=\"24px\"viewBox=\"0 0 24 24\"\n",
              "       width=\"24px\">\n",
              "    <path d=\"M0 0h24v24H0V0z\" fill=\"none\"/>\n",
              "    <path d=\"M18.56 5.44l.94 2.06.94-2.06 2.06-.94-2.06-.94-.94-2.06-.94 2.06-2.06.94zm-11 1L8.5 8.5l.94-2.06 2.06-.94-2.06-.94L8.5 2.5l-.94 2.06-2.06.94zm10 10l.94 2.06.94-2.06 2.06-.94-2.06-.94-.94-2.06-.94 2.06-2.06.94z\"/><path d=\"M17.41 7.96l-1.37-1.37c-.4-.4-.92-.59-1.43-.59-.52 0-1.04.2-1.43.59L10.3 9.45l-7.72 7.72c-.78.78-.78 2.05 0 2.83L4 21.41c.39.39.9.59 1.41.59.51 0 1.02-.2 1.41-.59l7.78-7.78 2.81-2.81c.8-.78.8-2.07 0-2.86zM5.41 20L4 18.59l7.72-7.72 1.47 1.35L5.41 20z\"/>\n",
              "  </svg>\n",
              "      </button>\n",
              "      \n",
              "  <style>\n",
              "    .colab-df-container {\n",
              "      display:flex;\n",
              "      flex-wrap:wrap;\n",
              "      gap: 12px;\n",
              "    }\n",
              "\n",
              "    .colab-df-convert {\n",
              "      background-color: #E8F0FE;\n",
              "      border: none;\n",
              "      border-radius: 50%;\n",
              "      cursor: pointer;\n",
              "      display: none;\n",
              "      fill: #1967D2;\n",
              "      height: 32px;\n",
              "      padding: 0 0 0 0;\n",
              "      width: 32px;\n",
              "    }\n",
              "\n",
              "    .colab-df-convert:hover {\n",
              "      background-color: #E2EBFA;\n",
              "      box-shadow: 0px 1px 2px rgba(60, 64, 67, 0.3), 0px 1px 3px 1px rgba(60, 64, 67, 0.15);\n",
              "      fill: #174EA6;\n",
              "    }\n",
              "\n",
              "    [theme=dark] .colab-df-convert {\n",
              "      background-color: #3B4455;\n",
              "      fill: #D2E3FC;\n",
              "    }\n",
              "\n",
              "    [theme=dark] .colab-df-convert:hover {\n",
              "      background-color: #434B5C;\n",
              "      box-shadow: 0px 1px 3px 1px rgba(0, 0, 0, 0.15);\n",
              "      filter: drop-shadow(0px 1px 2px rgba(0, 0, 0, 0.3));\n",
              "      fill: #FFFFFF;\n",
              "    }\n",
              "  </style>\n",
              "\n",
              "      <script>\n",
              "        const buttonEl =\n",
              "          document.querySelector('#df-bece87cf-42cf-4415-a1ee-cae9dbf32f18 button.colab-df-convert');\n",
              "        buttonEl.style.display =\n",
              "          google.colab.kernel.accessAllowed ? 'block' : 'none';\n",
              "\n",
              "        async function convertToInteractive(key) {\n",
              "          const element = document.querySelector('#df-bece87cf-42cf-4415-a1ee-cae9dbf32f18');\n",
              "          const dataTable =\n",
              "            await google.colab.kernel.invokeFunction('convertToInteractive',\n",
              "                                                     [key], {});\n",
              "          if (!dataTable) return;\n",
              "\n",
              "          const docLinkHtml = 'Like what you see? Visit the ' +\n",
              "            '<a target=\"_blank\" href=https://colab.research.google.com/notebooks/data_table.ipynb>data table notebook</a>'\n",
              "            + ' to learn more about interactive tables.';\n",
              "          element.innerHTML = '';\n",
              "          dataTable['output_type'] = 'display_data';\n",
              "          await google.colab.output.renderOutput(dataTable, element);\n",
              "          const docLink = document.createElement('div');\n",
              "          docLink.innerHTML = docLinkHtml;\n",
              "          element.appendChild(docLink);\n",
              "        }\n",
              "      </script>\n",
              "    </div>\n",
              "  </div>\n",
              "  "
            ]
          },
          "metadata": {},
          "execution_count": 52
        }
      ]
    },
    {
      "cell_type": "markdown",
      "source": [
        "### Label Preparation"
      ],
      "metadata": {
        "id": "iBIDB20MfON4"
      }
    },
    {
      "cell_type": "markdown",
      "source": [
        "A small change that we will do when it comes to labels, is that instead of\n",
        "Using np.floor, which rounds down to the nearest integer, we will use the round Function to result in the closest integer. This means that for the value, 5,\n",
        "instead of representing cvss scores from [5.0, 5.9], it will be scores between\n",
        "[4.6, 5.5] to minimize the distance between the single decimal label and the\n",
        "corresponding integer. One reason why this may be controversial is that each \n",
        "range could represent a certain meaning. For example, 4-4.9 could mean that the request is urgent, and 5-5.9 could be a critical request. However, we are making the assumption that there are no breakoff points that have distinct meanings outside of the scale"
      ],
      "metadata": {
        "id": "yWgViBumdt7l"
      }
    },
    {
      "cell_type": "markdown",
      "source": [
        "round() is slightly inefficient when it comes to processing ties, and will round to even. I created a function to be more accurate."
      ],
      "metadata": {
        "id": "uu7uRIIfd5uE"
      }
    },
    {
      "cell_type": "code",
      "source": [
        "def cvss_round(x):\n",
        "  remainder = x - np.floor(x)\n",
        "  if remainder <= 0.4:\n",
        "    return np.floor(x)\n",
        "  else:\n",
        "    return np.ceil(x)"
      ],
      "metadata": {
        "id": "H2O0eCstgfON"
      },
      "execution_count": null,
      "outputs": []
    },
    {
      "cell_type": "code",
      "source": [
        "clean_df['cvss_rounded'] = clean_df.cvss.apply(lambda x: cvss_round(x))"
      ],
      "metadata": {
        "id": "XLCamUondnJZ"
      },
      "execution_count": null,
      "outputs": []
    },
    {
      "cell_type": "code",
      "source": [
        "clean_df.tail()"
      ],
      "metadata": {
        "id": "ICv1WbK7fYqc",
        "colab": {
          "base_uri": "https://localhost:8080/",
          "height": 337
        },
        "outputId": "4c609484-34a9-404a-d75e-15615f8aae2e"
      },
      "execution_count": null,
      "outputs": [
        {
          "output_type": "execute_result",
          "data": {
            "text/plain": [
              "       cvss  cwe_code                                            summary  \\\n",
              "89655   5.0        20  ** REJECT **  DO NOT USE THIS CANDIDATE NUMBER...   \n",
              "89656   5.0       119  ** REJECT **  DO NOT USE THIS CANDIDATE NUMBER...   \n",
              "89657   5.0       119  ** REJECT **  DO NOT USE THIS CANDIDATE NUMBER...   \n",
              "89658   5.0       119  ** REJECT **  DO NOT USE THIS CANDIDATE NUMBER...   \n",
              "89659   5.0       119  ** REJECT **  DO NOT USE THIS CANDIDATE NUMBER...   \n",
              "\n",
              "                                       summary_processed  cvss_rounded  \n",
              "89655  reject do not use this candidate number consul...           5.0  \n",
              "89656  reject do not use this candidate number consul...           5.0  \n",
              "89657  reject do not use this candidate number consul...           5.0  \n",
              "89658  reject do not use this candidate number consul...           5.0  \n",
              "89659  reject do not use this candidate number consul...           5.0  "
            ],
            "text/html": [
              "\n",
              "  <div id=\"df-54fe7ec6-4e19-4c77-841a-11b14bcfe745\">\n",
              "    <div class=\"colab-df-container\">\n",
              "      <div>\n",
              "<style scoped>\n",
              "    .dataframe tbody tr th:only-of-type {\n",
              "        vertical-align: middle;\n",
              "    }\n",
              "\n",
              "    .dataframe tbody tr th {\n",
              "        vertical-align: top;\n",
              "    }\n",
              "\n",
              "    .dataframe thead th {\n",
              "        text-align: right;\n",
              "    }\n",
              "</style>\n",
              "<table border=\"1\" class=\"dataframe\">\n",
              "  <thead>\n",
              "    <tr style=\"text-align: right;\">\n",
              "      <th></th>\n",
              "      <th>cvss</th>\n",
              "      <th>cwe_code</th>\n",
              "      <th>summary</th>\n",
              "      <th>summary_processed</th>\n",
              "      <th>cvss_rounded</th>\n",
              "    </tr>\n",
              "  </thead>\n",
              "  <tbody>\n",
              "    <tr>\n",
              "      <th>89655</th>\n",
              "      <td>5.0</td>\n",
              "      <td>20</td>\n",
              "      <td>** REJECT **  DO NOT USE THIS CANDIDATE NUMBER...</td>\n",
              "      <td>reject do not use this candidate number consul...</td>\n",
              "      <td>5.0</td>\n",
              "    </tr>\n",
              "    <tr>\n",
              "      <th>89656</th>\n",
              "      <td>5.0</td>\n",
              "      <td>119</td>\n",
              "      <td>** REJECT **  DO NOT USE THIS CANDIDATE NUMBER...</td>\n",
              "      <td>reject do not use this candidate number consul...</td>\n",
              "      <td>5.0</td>\n",
              "    </tr>\n",
              "    <tr>\n",
              "      <th>89657</th>\n",
              "      <td>5.0</td>\n",
              "      <td>119</td>\n",
              "      <td>** REJECT **  DO NOT USE THIS CANDIDATE NUMBER...</td>\n",
              "      <td>reject do not use this candidate number consul...</td>\n",
              "      <td>5.0</td>\n",
              "    </tr>\n",
              "    <tr>\n",
              "      <th>89658</th>\n",
              "      <td>5.0</td>\n",
              "      <td>119</td>\n",
              "      <td>** REJECT **  DO NOT USE THIS CANDIDATE NUMBER...</td>\n",
              "      <td>reject do not use this candidate number consul...</td>\n",
              "      <td>5.0</td>\n",
              "    </tr>\n",
              "    <tr>\n",
              "      <th>89659</th>\n",
              "      <td>5.0</td>\n",
              "      <td>119</td>\n",
              "      <td>** REJECT **  DO NOT USE THIS CANDIDATE NUMBER...</td>\n",
              "      <td>reject do not use this candidate number consul...</td>\n",
              "      <td>5.0</td>\n",
              "    </tr>\n",
              "  </tbody>\n",
              "</table>\n",
              "</div>\n",
              "      <button class=\"colab-df-convert\" onclick=\"convertToInteractive('df-54fe7ec6-4e19-4c77-841a-11b14bcfe745')\"\n",
              "              title=\"Convert this dataframe to an interactive table.\"\n",
              "              style=\"display:none;\">\n",
              "        \n",
              "  <svg xmlns=\"http://www.w3.org/2000/svg\" height=\"24px\"viewBox=\"0 0 24 24\"\n",
              "       width=\"24px\">\n",
              "    <path d=\"M0 0h24v24H0V0z\" fill=\"none\"/>\n",
              "    <path d=\"M18.56 5.44l.94 2.06.94-2.06 2.06-.94-2.06-.94-.94-2.06-.94 2.06-2.06.94zm-11 1L8.5 8.5l.94-2.06 2.06-.94-2.06-.94L8.5 2.5l-.94 2.06-2.06.94zm10 10l.94 2.06.94-2.06 2.06-.94-2.06-.94-.94-2.06-.94 2.06-2.06.94z\"/><path d=\"M17.41 7.96l-1.37-1.37c-.4-.4-.92-.59-1.43-.59-.52 0-1.04.2-1.43.59L10.3 9.45l-7.72 7.72c-.78.78-.78 2.05 0 2.83L4 21.41c.39.39.9.59 1.41.59.51 0 1.02-.2 1.41-.59l7.78-7.78 2.81-2.81c.8-.78.8-2.07 0-2.86zM5.41 20L4 18.59l7.72-7.72 1.47 1.35L5.41 20z\"/>\n",
              "  </svg>\n",
              "      </button>\n",
              "      \n",
              "  <style>\n",
              "    .colab-df-container {\n",
              "      display:flex;\n",
              "      flex-wrap:wrap;\n",
              "      gap: 12px;\n",
              "    }\n",
              "\n",
              "    .colab-df-convert {\n",
              "      background-color: #E8F0FE;\n",
              "      border: none;\n",
              "      border-radius: 50%;\n",
              "      cursor: pointer;\n",
              "      display: none;\n",
              "      fill: #1967D2;\n",
              "      height: 32px;\n",
              "      padding: 0 0 0 0;\n",
              "      width: 32px;\n",
              "    }\n",
              "\n",
              "    .colab-df-convert:hover {\n",
              "      background-color: #E2EBFA;\n",
              "      box-shadow: 0px 1px 2px rgba(60, 64, 67, 0.3), 0px 1px 3px 1px rgba(60, 64, 67, 0.15);\n",
              "      fill: #174EA6;\n",
              "    }\n",
              "\n",
              "    [theme=dark] .colab-df-convert {\n",
              "      background-color: #3B4455;\n",
              "      fill: #D2E3FC;\n",
              "    }\n",
              "\n",
              "    [theme=dark] .colab-df-convert:hover {\n",
              "      background-color: #434B5C;\n",
              "      box-shadow: 0px 1px 3px 1px rgba(0, 0, 0, 0.15);\n",
              "      filter: drop-shadow(0px 1px 2px rgba(0, 0, 0, 0.3));\n",
              "      fill: #FFFFFF;\n",
              "    }\n",
              "  </style>\n",
              "\n",
              "      <script>\n",
              "        const buttonEl =\n",
              "          document.querySelector('#df-54fe7ec6-4e19-4c77-841a-11b14bcfe745 button.colab-df-convert');\n",
              "        buttonEl.style.display =\n",
              "          google.colab.kernel.accessAllowed ? 'block' : 'none';\n",
              "\n",
              "        async function convertToInteractive(key) {\n",
              "          const element = document.querySelector('#df-54fe7ec6-4e19-4c77-841a-11b14bcfe745');\n",
              "          const dataTable =\n",
              "            await google.colab.kernel.invokeFunction('convertToInteractive',\n",
              "                                                     [key], {});\n",
              "          if (!dataTable) return;\n",
              "\n",
              "          const docLinkHtml = 'Like what you see? Visit the ' +\n",
              "            '<a target=\"_blank\" href=https://colab.research.google.com/notebooks/data_table.ipynb>data table notebook</a>'\n",
              "            + ' to learn more about interactive tables.';\n",
              "          element.innerHTML = '';\n",
              "          dataTable['output_type'] = 'display_data';\n",
              "          await google.colab.output.renderOutput(dataTable, element);\n",
              "          const docLink = document.createElement('div');\n",
              "          docLink.innerHTML = docLinkHtml;\n",
              "          element.appendChild(docLink);\n",
              "        }\n",
              "      </script>\n",
              "    </div>\n",
              "  </div>\n",
              "  "
            ]
          },
          "metadata": {},
          "execution_count": 55
        }
      ]
    },
    {
      "cell_type": "code",
      "source": [
        "work_df = clean_df[['cvss_rounded', 'summary_processed']]"
      ],
      "metadata": {
        "id": "dCCYnxAQhTSu"
      },
      "execution_count": null,
      "outputs": []
    },
    {
      "cell_type": "code",
      "source": [
        "work_df"
      ],
      "metadata": {
        "colab": {
          "base_uri": "https://localhost:8080/",
          "height": 424
        },
        "id": "OZRKp14EJ8zR",
        "outputId": "a959a15d-b36c-4968-e829-94e9452cc06a"
      },
      "execution_count": null,
      "outputs": [
        {
          "output_type": "execute_result",
          "data": {
            "text/plain": [
              "       cvss_rounded                                  summary_processed\n",
              "0               7.0  cross site request forgery vulnerability jenki...\n",
              "1               4.0  missing permission checks various api endpoint...\n",
              "2               4.0  jenkins google compute engine plugin earlier v...\n",
              "3               4.0  cross site scripting xss dolibarr erp crm allo...\n",
              "4               8.0  sql injection vulnerability dolibarr erp crm a...\n",
              "...             ...                                                ...\n",
              "89655           5.0  reject do not use this candidate number consul...\n",
              "89656           5.0  reject do not use this candidate number consul...\n",
              "89657           5.0  reject do not use this candidate number consul...\n",
              "89658           5.0  reject do not use this candidate number consul...\n",
              "89659           5.0  reject do not use this candidate number consul...\n",
              "\n",
              "[89660 rows x 2 columns]"
            ],
            "text/html": [
              "\n",
              "  <div id=\"df-0bb1a24a-4857-4230-a69f-a468cad26faf\">\n",
              "    <div class=\"colab-df-container\">\n",
              "      <div>\n",
              "<style scoped>\n",
              "    .dataframe tbody tr th:only-of-type {\n",
              "        vertical-align: middle;\n",
              "    }\n",
              "\n",
              "    .dataframe tbody tr th {\n",
              "        vertical-align: top;\n",
              "    }\n",
              "\n",
              "    .dataframe thead th {\n",
              "        text-align: right;\n",
              "    }\n",
              "</style>\n",
              "<table border=\"1\" class=\"dataframe\">\n",
              "  <thead>\n",
              "    <tr style=\"text-align: right;\">\n",
              "      <th></th>\n",
              "      <th>cvss_rounded</th>\n",
              "      <th>summary_processed</th>\n",
              "    </tr>\n",
              "  </thead>\n",
              "  <tbody>\n",
              "    <tr>\n",
              "      <th>0</th>\n",
              "      <td>7.0</td>\n",
              "      <td>cross site request forgery vulnerability jenki...</td>\n",
              "    </tr>\n",
              "    <tr>\n",
              "      <th>1</th>\n",
              "      <td>4.0</td>\n",
              "      <td>missing permission checks various api endpoint...</td>\n",
              "    </tr>\n",
              "    <tr>\n",
              "      <th>2</th>\n",
              "      <td>4.0</td>\n",
              "      <td>jenkins google compute engine plugin earlier v...</td>\n",
              "    </tr>\n",
              "    <tr>\n",
              "      <th>3</th>\n",
              "      <td>4.0</td>\n",
              "      <td>cross site scripting xss dolibarr erp crm allo...</td>\n",
              "    </tr>\n",
              "    <tr>\n",
              "      <th>4</th>\n",
              "      <td>8.0</td>\n",
              "      <td>sql injection vulnerability dolibarr erp crm a...</td>\n",
              "    </tr>\n",
              "    <tr>\n",
              "      <th>...</th>\n",
              "      <td>...</td>\n",
              "      <td>...</td>\n",
              "    </tr>\n",
              "    <tr>\n",
              "      <th>89655</th>\n",
              "      <td>5.0</td>\n",
              "      <td>reject do not use this candidate number consul...</td>\n",
              "    </tr>\n",
              "    <tr>\n",
              "      <th>89656</th>\n",
              "      <td>5.0</td>\n",
              "      <td>reject do not use this candidate number consul...</td>\n",
              "    </tr>\n",
              "    <tr>\n",
              "      <th>89657</th>\n",
              "      <td>5.0</td>\n",
              "      <td>reject do not use this candidate number consul...</td>\n",
              "    </tr>\n",
              "    <tr>\n",
              "      <th>89658</th>\n",
              "      <td>5.0</td>\n",
              "      <td>reject do not use this candidate number consul...</td>\n",
              "    </tr>\n",
              "    <tr>\n",
              "      <th>89659</th>\n",
              "      <td>5.0</td>\n",
              "      <td>reject do not use this candidate number consul...</td>\n",
              "    </tr>\n",
              "  </tbody>\n",
              "</table>\n",
              "<p>89660 rows × 2 columns</p>\n",
              "</div>\n",
              "      <button class=\"colab-df-convert\" onclick=\"convertToInteractive('df-0bb1a24a-4857-4230-a69f-a468cad26faf')\"\n",
              "              title=\"Convert this dataframe to an interactive table.\"\n",
              "              style=\"display:none;\">\n",
              "        \n",
              "  <svg xmlns=\"http://www.w3.org/2000/svg\" height=\"24px\"viewBox=\"0 0 24 24\"\n",
              "       width=\"24px\">\n",
              "    <path d=\"M0 0h24v24H0V0z\" fill=\"none\"/>\n",
              "    <path d=\"M18.56 5.44l.94 2.06.94-2.06 2.06-.94-2.06-.94-.94-2.06-.94 2.06-2.06.94zm-11 1L8.5 8.5l.94-2.06 2.06-.94-2.06-.94L8.5 2.5l-.94 2.06-2.06.94zm10 10l.94 2.06.94-2.06 2.06-.94-2.06-.94-.94-2.06-.94 2.06-2.06.94z\"/><path d=\"M17.41 7.96l-1.37-1.37c-.4-.4-.92-.59-1.43-.59-.52 0-1.04.2-1.43.59L10.3 9.45l-7.72 7.72c-.78.78-.78 2.05 0 2.83L4 21.41c.39.39.9.59 1.41.59.51 0 1.02-.2 1.41-.59l7.78-7.78 2.81-2.81c.8-.78.8-2.07 0-2.86zM5.41 20L4 18.59l7.72-7.72 1.47 1.35L5.41 20z\"/>\n",
              "  </svg>\n",
              "      </button>\n",
              "      \n",
              "  <style>\n",
              "    .colab-df-container {\n",
              "      display:flex;\n",
              "      flex-wrap:wrap;\n",
              "      gap: 12px;\n",
              "    }\n",
              "\n",
              "    .colab-df-convert {\n",
              "      background-color: #E8F0FE;\n",
              "      border: none;\n",
              "      border-radius: 50%;\n",
              "      cursor: pointer;\n",
              "      display: none;\n",
              "      fill: #1967D2;\n",
              "      height: 32px;\n",
              "      padding: 0 0 0 0;\n",
              "      width: 32px;\n",
              "    }\n",
              "\n",
              "    .colab-df-convert:hover {\n",
              "      background-color: #E2EBFA;\n",
              "      box-shadow: 0px 1px 2px rgba(60, 64, 67, 0.3), 0px 1px 3px 1px rgba(60, 64, 67, 0.15);\n",
              "      fill: #174EA6;\n",
              "    }\n",
              "\n",
              "    [theme=dark] .colab-df-convert {\n",
              "      background-color: #3B4455;\n",
              "      fill: #D2E3FC;\n",
              "    }\n",
              "\n",
              "    [theme=dark] .colab-df-convert:hover {\n",
              "      background-color: #434B5C;\n",
              "      box-shadow: 0px 1px 3px 1px rgba(0, 0, 0, 0.15);\n",
              "      filter: drop-shadow(0px 1px 2px rgba(0, 0, 0, 0.3));\n",
              "      fill: #FFFFFF;\n",
              "    }\n",
              "  </style>\n",
              "\n",
              "      <script>\n",
              "        const buttonEl =\n",
              "          document.querySelector('#df-0bb1a24a-4857-4230-a69f-a468cad26faf button.colab-df-convert');\n",
              "        buttonEl.style.display =\n",
              "          google.colab.kernel.accessAllowed ? 'block' : 'none';\n",
              "\n",
              "        async function convertToInteractive(key) {\n",
              "          const element = document.querySelector('#df-0bb1a24a-4857-4230-a69f-a468cad26faf');\n",
              "          const dataTable =\n",
              "            await google.colab.kernel.invokeFunction('convertToInteractive',\n",
              "                                                     [key], {});\n",
              "          if (!dataTable) return;\n",
              "\n",
              "          const docLinkHtml = 'Like what you see? Visit the ' +\n",
              "            '<a target=\"_blank\" href=https://colab.research.google.com/notebooks/data_table.ipynb>data table notebook</a>'\n",
              "            + ' to learn more about interactive tables.';\n",
              "          element.innerHTML = '';\n",
              "          dataTable['output_type'] = 'display_data';\n",
              "          await google.colab.output.renderOutput(dataTable, element);\n",
              "          const docLink = document.createElement('div');\n",
              "          docLink.innerHTML = docLinkHtml;\n",
              "          element.appendChild(docLink);\n",
              "        }\n",
              "      </script>\n",
              "    </div>\n",
              "  </div>\n",
              "  "
            ]
          },
          "metadata": {},
          "execution_count": 57
        }
      ]
    },
    {
      "cell_type": "code",
      "source": [
        "# Reseting Axis and preparing working df for training and testing\n",
        "# work_df = work_df.drop('id', axis=1)\n",
        "work_df = work_df.rename(columns={'cvss_rounded': 'cvss', 'summary_processed': 'summary'})"
      ],
      "metadata": {
        "id": "ojcp90jMht0v"
      },
      "execution_count": null,
      "outputs": []
    },
    {
      "cell_type": "code",
      "source": [
        "# Checking unique values for cvss to ensure proper labels\n",
        "work_df.cvss = work_df.cvss.apply(lambda x: int(x))\n",
        "work_df.cvss.unique()"
      ],
      "metadata": {
        "id": "Q6MxXOhFik3v",
        "colab": {
          "base_uri": "https://localhost:8080/"
        },
        "outputId": "b0e0a095-2a8f-487a-83ea-80a4dfbd9c0e"
      },
      "execution_count": null,
      "outputs": [
        {
          "output_type": "execute_result",
          "data": {
            "text/plain": [
              "array([ 7,  4,  8,  5,  2, 10,  9,  6,  3,  1,  0])"
            ]
          },
          "metadata": {},
          "execution_count": 59
        }
      ]
    },
    {
      "cell_type": "code",
      "source": [
        "# Final, processed df ready for training / testing\n",
        "work_df.head()"
      ],
      "metadata": {
        "id": "RfO_fcoiiVo0",
        "colab": {
          "base_uri": "https://localhost:8080/",
          "height": 206
        },
        "outputId": "2e0c3a03-1d25-4e0b-e8a6-d68b3f57c6a7"
      },
      "execution_count": null,
      "outputs": [
        {
          "output_type": "execute_result",
          "data": {
            "text/plain": [
              "   cvss                                            summary\n",
              "0     7  cross site request forgery vulnerability jenki...\n",
              "1     4  missing permission checks various api endpoint...\n",
              "2     4  jenkins google compute engine plugin earlier v...\n",
              "3     4  cross site scripting xss dolibarr erp crm allo...\n",
              "4     8  sql injection vulnerability dolibarr erp crm a..."
            ],
            "text/html": [
              "\n",
              "  <div id=\"df-e00a6826-892d-42b1-a07b-7f7d2c404cd6\">\n",
              "    <div class=\"colab-df-container\">\n",
              "      <div>\n",
              "<style scoped>\n",
              "    .dataframe tbody tr th:only-of-type {\n",
              "        vertical-align: middle;\n",
              "    }\n",
              "\n",
              "    .dataframe tbody tr th {\n",
              "        vertical-align: top;\n",
              "    }\n",
              "\n",
              "    .dataframe thead th {\n",
              "        text-align: right;\n",
              "    }\n",
              "</style>\n",
              "<table border=\"1\" class=\"dataframe\">\n",
              "  <thead>\n",
              "    <tr style=\"text-align: right;\">\n",
              "      <th></th>\n",
              "      <th>cvss</th>\n",
              "      <th>summary</th>\n",
              "    </tr>\n",
              "  </thead>\n",
              "  <tbody>\n",
              "    <tr>\n",
              "      <th>0</th>\n",
              "      <td>7</td>\n",
              "      <td>cross site request forgery vulnerability jenki...</td>\n",
              "    </tr>\n",
              "    <tr>\n",
              "      <th>1</th>\n",
              "      <td>4</td>\n",
              "      <td>missing permission checks various api endpoint...</td>\n",
              "    </tr>\n",
              "    <tr>\n",
              "      <th>2</th>\n",
              "      <td>4</td>\n",
              "      <td>jenkins google compute engine plugin earlier v...</td>\n",
              "    </tr>\n",
              "    <tr>\n",
              "      <th>3</th>\n",
              "      <td>4</td>\n",
              "      <td>cross site scripting xss dolibarr erp crm allo...</td>\n",
              "    </tr>\n",
              "    <tr>\n",
              "      <th>4</th>\n",
              "      <td>8</td>\n",
              "      <td>sql injection vulnerability dolibarr erp crm a...</td>\n",
              "    </tr>\n",
              "  </tbody>\n",
              "</table>\n",
              "</div>\n",
              "      <button class=\"colab-df-convert\" onclick=\"convertToInteractive('df-e00a6826-892d-42b1-a07b-7f7d2c404cd6')\"\n",
              "              title=\"Convert this dataframe to an interactive table.\"\n",
              "              style=\"display:none;\">\n",
              "        \n",
              "  <svg xmlns=\"http://www.w3.org/2000/svg\" height=\"24px\"viewBox=\"0 0 24 24\"\n",
              "       width=\"24px\">\n",
              "    <path d=\"M0 0h24v24H0V0z\" fill=\"none\"/>\n",
              "    <path d=\"M18.56 5.44l.94 2.06.94-2.06 2.06-.94-2.06-.94-.94-2.06-.94 2.06-2.06.94zm-11 1L8.5 8.5l.94-2.06 2.06-.94-2.06-.94L8.5 2.5l-.94 2.06-2.06.94zm10 10l.94 2.06.94-2.06 2.06-.94-2.06-.94-.94-2.06-.94 2.06-2.06.94z\"/><path d=\"M17.41 7.96l-1.37-1.37c-.4-.4-.92-.59-1.43-.59-.52 0-1.04.2-1.43.59L10.3 9.45l-7.72 7.72c-.78.78-.78 2.05 0 2.83L4 21.41c.39.39.9.59 1.41.59.51 0 1.02-.2 1.41-.59l7.78-7.78 2.81-2.81c.8-.78.8-2.07 0-2.86zM5.41 20L4 18.59l7.72-7.72 1.47 1.35L5.41 20z\"/>\n",
              "  </svg>\n",
              "      </button>\n",
              "      \n",
              "  <style>\n",
              "    .colab-df-container {\n",
              "      display:flex;\n",
              "      flex-wrap:wrap;\n",
              "      gap: 12px;\n",
              "    }\n",
              "\n",
              "    .colab-df-convert {\n",
              "      background-color: #E8F0FE;\n",
              "      border: none;\n",
              "      border-radius: 50%;\n",
              "      cursor: pointer;\n",
              "      display: none;\n",
              "      fill: #1967D2;\n",
              "      height: 32px;\n",
              "      padding: 0 0 0 0;\n",
              "      width: 32px;\n",
              "    }\n",
              "\n",
              "    .colab-df-convert:hover {\n",
              "      background-color: #E2EBFA;\n",
              "      box-shadow: 0px 1px 2px rgba(60, 64, 67, 0.3), 0px 1px 3px 1px rgba(60, 64, 67, 0.15);\n",
              "      fill: #174EA6;\n",
              "    }\n",
              "\n",
              "    [theme=dark] .colab-df-convert {\n",
              "      background-color: #3B4455;\n",
              "      fill: #D2E3FC;\n",
              "    }\n",
              "\n",
              "    [theme=dark] .colab-df-convert:hover {\n",
              "      background-color: #434B5C;\n",
              "      box-shadow: 0px 1px 3px 1px rgba(0, 0, 0, 0.15);\n",
              "      filter: drop-shadow(0px 1px 2px rgba(0, 0, 0, 0.3));\n",
              "      fill: #FFFFFF;\n",
              "    }\n",
              "  </style>\n",
              "\n",
              "      <script>\n",
              "        const buttonEl =\n",
              "          document.querySelector('#df-e00a6826-892d-42b1-a07b-7f7d2c404cd6 button.colab-df-convert');\n",
              "        buttonEl.style.display =\n",
              "          google.colab.kernel.accessAllowed ? 'block' : 'none';\n",
              "\n",
              "        async function convertToInteractive(key) {\n",
              "          const element = document.querySelector('#df-e00a6826-892d-42b1-a07b-7f7d2c404cd6');\n",
              "          const dataTable =\n",
              "            await google.colab.kernel.invokeFunction('convertToInteractive',\n",
              "                                                     [key], {});\n",
              "          if (!dataTable) return;\n",
              "\n",
              "          const docLinkHtml = 'Like what you see? Visit the ' +\n",
              "            '<a target=\"_blank\" href=https://colab.research.google.com/notebooks/data_table.ipynb>data table notebook</a>'\n",
              "            + ' to learn more about interactive tables.';\n",
              "          element.innerHTML = '';\n",
              "          dataTable['output_type'] = 'display_data';\n",
              "          await google.colab.output.renderOutput(dataTable, element);\n",
              "          const docLink = document.createElement('div');\n",
              "          docLink.innerHTML = docLinkHtml;\n",
              "          element.appendChild(docLink);\n",
              "        }\n",
              "      </script>\n",
              "    </div>\n",
              "  </div>\n",
              "  "
            ]
          },
          "metadata": {},
          "execution_count": 60
        }
      ]
    },
    {
      "cell_type": "markdown",
      "source": [
        "### Quick EDA"
      ],
      "metadata": {
        "id": "n2nOo82UjGIX"
      }
    },
    {
      "cell_type": "code",
      "source": [
        "import matplotlib.pyplot as plt\n",
        "import seaborn as sns"
      ],
      "metadata": {
        "id": "l4GzfAX4kRfi"
      },
      "execution_count": null,
      "outputs": []
    },
    {
      "cell_type": "code",
      "source": [
        "# Viewing distribution of values\n",
        "\n",
        "f, ax = plt.subplots(figsize=(5, 10))\n",
        "sns.countplot(x='cvss', data=work_df, palette='Reds')"
      ],
      "metadata": {
        "id": "OjXXef0jkEn5",
        "colab": {
          "base_uri": "https://localhost:8080/",
          "height": 623
        },
        "outputId": "3422df4a-3b54-4962-e437-670d58de9ec7"
      },
      "execution_count": null,
      "outputs": [
        {
          "output_type": "execute_result",
          "data": {
            "text/plain": [
              "<matplotlib.axes._subplots.AxesSubplot at 0x7f4e920fdc90>"
            ]
          },
          "metadata": {},
          "execution_count": 62
        },
        {
          "output_type": "display_data",
          "data": {
            "text/plain": [
              "<Figure size 360x720 with 1 Axes>"
            ],
            "image/png": "[encoded data removed]"
          },
          "metadata": {
            "needs_background": "light"
          }
        }
      ]
    },
    {
      "cell_type": "markdown",
      "source": [
        "Most of the vulnerabilities are scored as 4,5,6 or 7. Since the other classes weren’t well represented, using micro average F1 score metrics to evaluate the performance of the algorithms."
      ],
      "metadata": {
        "id": "9n2UGetLcUAQ"
      }
    },
    {
      "cell_type": "markdown",
      "source": [
        "In comparison to the original, there are significantly less datapoints for 6, and significantly more values for 8. Also, there appears to be no datapoints that represent the '1' label, which could be a weakness in the way we processed this data, but it is in exchange for a stronger understanding of the mid-high range datapoints between 4-9."
      ],
      "metadata": {
        "id": "ClugK4WxfHxh"
      }
    },
    {
      "cell_type": "markdown",
      "source": [
        "In this case, we can expect to have low accuracy for the 1 prediciton, Since there are very few datapoints at 1. We will remove these points, since at this scale, it is unlikely for the model to learn the features of this class well. It's only a loss of 13 data points which we can afford."
      ],
      "metadata": {
        "id": "4CRQTasifLdV"
      }
    },
    {
      "cell_type": "code",
      "source": [
        "work_df['cvss'].value_counts()"
      ],
      "metadata": {
        "id": "Om7D4ST-lVUO",
        "colab": {
          "base_uri": "https://localhost:8080/"
        },
        "outputId": "9960309b-ec7d-4f03-f8c0-de18ccfe25e4"
      },
      "execution_count": null,
      "outputs": [
        {
          "output_type": "execute_result",
          "data": {
            "text/plain": [
              "4     22803\n",
              "7     16306\n",
              "5     15336\n",
              "8     14324\n",
              "9      7536\n",
              "6      4579\n",
              "10     4545\n",
              "2      3091\n",
              "3      1093\n",
              "1        46\n",
              "0         1\n",
              "Name: cvss, dtype: int64"
            ]
          },
          "metadata": {},
          "execution_count": 63
        }
      ]
    },
    {
      "cell_type": "code",
      "source": [
        "work_df = work_df[work_df['cvss'] != 1]"
      ],
      "metadata": {
        "id": "kXfiAMaJl_l2"
      },
      "execution_count": null,
      "outputs": []
    },
    {
      "cell_type": "code",
      "source": [
        "work_df['cvss'].value_counts()"
      ],
      "metadata": {
        "id": "FWLPPg0nmUKY",
        "colab": {
          "base_uri": "https://localhost:8080/"
        },
        "outputId": "2775df6d-12e5-4993-f148-bd2b7bb7c545"
      },
      "execution_count": null,
      "outputs": [
        {
          "output_type": "execute_result",
          "data": {
            "text/plain": [
              "4     22803\n",
              "7     16306\n",
              "5     15336\n",
              "8     14324\n",
              "9      7536\n",
              "6      4579\n",
              "10     4545\n",
              "2      3091\n",
              "3      1093\n",
              "0         1\n",
              "Name: cvss, dtype: int64"
            ]
          },
          "metadata": {},
          "execution_count": 65
        }
      ]
    },
    {
      "cell_type": "code",
      "source": [
        "# this would not let us stratify on cvss later on and have an equal distribution of class in the train-test-split\n",
        "work_df = work_df[(work_df[\"cvss\"]>0)]"
      ],
      "metadata": {
        "id": "_Wya4wF3mbvN"
      },
      "execution_count": null,
      "outputs": []
    },
    {
      "cell_type": "code",
      "source": [
        "cumulative_sum = {}\n",
        "\n",
        "for x in work_df[\"summary\"].values:\n",
        "    cumulative_sum.update(dict.fromkeys(set(x.lower().split())))\n",
        "\n",
        "print(len(cumulative_sum))"
      ],
      "metadata": {
        "colab": {
          "base_uri": "https://localhost:8080/"
        },
        "id": "7Gb6kuVA8VsK",
        "outputId": "5fe6cde6-f6f2-4121-bb00-1ef69a8833d1"
      },
      "execution_count": null,
      "outputs": [
        {
          "output_type": "stream",
          "name": "stdout",
          "text": [
            "67744\n"
          ]
        }
      ]
    },
    {
      "cell_type": "markdown",
      "source": [
        "\n",
        "\n",
        "---\n",
        "\n",
        "\n",
        "## Feature Engineering\n",
        "\n",
        "\n",
        "---\n",
        "\n",
        "\n",
        "\n"
      ],
      "metadata": {
        "id": "gvl2uaHR-EDb"
      }
    },
    {
      "cell_type": "code",
      "source": [
        "texts = work_df['summary'].astype('str')\n",
        "labels = work_df['cvss']\n",
        "\n",
        "wpt = nltk.WordPunctTokenizer()\n",
        "tokenized_texts = [wpt.tokenize(text) for text in texts]"
      ],
      "metadata": {
        "id": "Qw_04I2n8cgF"
      },
      "execution_count": null,
      "outputs": []
    },
    {
      "cell_type": "code",
      "source": [
        "# keep the same random state for reproducibility\n",
        "RANDOM_STATE = 12\n",
        "TRAIN_TEST_SPLIT_SIZE = .1\n",
        "\n",
        "x_train, x_test, y_train, y_test = train_test_split(tokenized_texts, labels,\n",
        "                                                  test_size = TRAIN_TEST_SPLIT_SIZE, stratify = labels,\n",
        "                                                  random_state = RANDOM_STATE)"
      ],
      "metadata": {
        "id": "W9uWskMf8qvM"
      },
      "execution_count": null,
      "outputs": []
    },
    {
      "cell_type": "code",
      "source": [
        "np.save(\"train_dataset_features.npy\", np.array(x_train))\n",
        "np.save(\"train_dataset_labels.npy\", np.array(y_train))"
      ],
      "metadata": {
        "colab": {
          "base_uri": "https://localhost:8080/"
        },
        "id": "zri9DaXt9Cnq",
        "outputId": "f137dd3b-d51a-4154-9da0-3f379137ec6f"
      },
      "execution_count": null,
      "outputs": [
        {
          "output_type": "stream",
          "name": "stderr",
          "text": [
            "/usr/local/lib/python3.7/dist-packages/ipykernel_launcher.py:1: VisibleDeprecationWarning: Creating an ndarray from ragged nested sequences (which is a list-or-tuple of lists-or-tuples-or ndarrays with different lengths or shapes) is deprecated. If you meant to do this, you must specify 'dtype=object' when creating the ndarray.\n",
            "  \"\"\"Entry point for launching an IPython kernel.\n"
          ]
        }
      ]
    },
    {
      "cell_type": "code",
      "source": [
        "np.save(\"test_dataset_features.npy\", np.array(x_test))\n",
        "np.save(\"test_dataset_labels.npy\", np.array(y_test))"
      ],
      "metadata": {
        "colab": {
          "base_uri": "https://localhost:8080/"
        },
        "id": "qOT1Cedx9ExM",
        "outputId": "ad0deaef-7ff7-4407-81b0-6830ecf923a8"
      },
      "execution_count": null,
      "outputs": [
        {
          "output_type": "stream",
          "name": "stderr",
          "text": [
            "/usr/local/lib/python3.7/dist-packages/ipykernel_launcher.py:1: VisibleDeprecationWarning: Creating an ndarray from ragged nested sequences (which is a list-or-tuple of lists-or-tuples-or ndarrays with different lengths or shapes) is deprecated. If you meant to do this, you must specify 'dtype=object' when creating the ndarray.\n",
            "  \"\"\"Entry point for launching an IPython kernel.\n"
          ]
        }
      ]
    },
    {
      "cell_type": "code",
      "source": [
        "from sklearn.feature_extraction.text import TfidfVectorizer"
      ],
      "metadata": {
        "id": "3SqhWwff9Oa5"
      },
      "execution_count": null,
      "outputs": []
    },
    {
      "cell_type": "code",
      "source": [
        "tfidf_vectorizer = TfidfVectorizer(tokenizer = lambda x: x,\n",
        "                        preprocessor = lambda x: x, \n",
        "                        min_df = 5, max_df = 0.8) \n",
        "x_train_tfidf = tfidf_vectorizer.fit_transform(x_train) \n",
        "x_test_tfidf = tfidf_vectorizer.transform(x_test)\n",
        "\n",
        "x_train_tfidf.shape"
      ],
      "metadata": {
        "colab": {
          "base_uri": "https://localhost:8080/"
        },
        "id": "vJ4Fy5CG9JEV",
        "outputId": "524bea98-7a45-4670-9ac4-aeec00466f5c"
      },
      "execution_count": null,
      "outputs": [
        {
          "output_type": "execute_result",
          "data": {
            "text/plain": [
              "(80651, 12260)"
            ]
          },
          "metadata": {},
          "execution_count": 73
        }
      ]
    },
    {
      "cell_type": "code",
      "source": [
        "# return a list of (term, score/frequency) pairs for each distinct term \n",
        "scores = np.asarray(x_train_tfidf.mean(axis = 0)).ravel().tolist()\n",
        "scores_df = pd.DataFrame({'word': tfidf_vectorizer.get_feature_names(), 'tfidf': scores})\n",
        "df_tfidf = scores_df.sort_values(by = 'tfidf', ascending = False).head(50)"
      ],
      "metadata": {
        "colab": {
          "base_uri": "https://localhost:8080/"
        },
        "id": "9va06drb9Ttz",
        "outputId": "826a935c-8c3a-4108-d80c-5bbbb0a0f53a"
      },
      "execution_count": null,
      "outputs": [
        {
          "output_type": "stream",
          "name": "stderr",
          "text": [
            "/usr/local/lib/python3.7/dist-packages/sklearn/utils/deprecation.py:87: FutureWarning: Function get_feature_names is deprecated; get_feature_names is deprecated in 1.0 and will be removed in 1.2. Please use get_feature_names_out instead.\n",
            "  warnings.warn(msg, category=FutureWarning)\n"
          ]
        }
      ]
    },
    {
      "cell_type": "code",
      "source": [
        "df_tfidf"
      ],
      "metadata": {
        "colab": {
          "base_uri": "https://localhost:8080/",
          "height": 1000
        },
        "id": "9QmbtB8O9VQs",
        "outputId": "ded82b7d-35ad-4168-c98a-aa67c192b45e"
      },
      "execution_count": null,
      "outputs": [
        {
          "output_type": "execute_result",
          "data": {
            "text/plain": [
              "                word     tfidf\n",
              "11396            via  0.036645\n",
              "353           allows  0.036114\n",
              "8806          remote  0.035875\n",
              "716        attackers  0.034228\n",
              "11571  vulnerability  0.033932\n",
              "548        arbitrary  0.030988\n",
              "7795             php  0.027512\n",
              "2343             cve  0.023810\n",
              "3505         execute  0.022818\n",
              "10590            the  0.022779\n",
              "1730            code  0.021510\n",
              "10008            sql  0.021084\n",
              "9512         service  0.020883\n",
              "2157         crafted  0.020556\n",
              "11651            web  0.020006\n",
              "7587       parameter  0.019997\n",
              "2559          denial  0.018985\n",
              "1395           cause  0.018667\n",
              "9695            site  0.018502\n",
              "3743            file  0.018144\n",
              "3058         earlier  0.017870\n",
              "12131            xss  0.017789\n",
              "5010     information  0.016644\n",
              "2194           cross  0.016565\n",
              "11164    unspecified  0.016238\n",
              "11246          users  0.015789\n",
              "9348       scripting  0.015353\n",
              "4678            html  0.015315\n",
              "349            allow  0.015008\n",
              "11225           user  0.014988\n",
              "6414          memory  0.014762\n",
              "11350        vectors  0.014675\n",
              "9344          script  0.014571\n",
              "299              aka  0.014430\n",
              "11825        windows  0.014345\n",
              "9507          server  0.013953\n",
              "420          android  0.013515\n",
              "5040          inject  0.013405\n",
              "5043       injection  0.013354\n",
              "516      application  0.013261\n",
              "715         attacker  0.013216\n",
              "51            access  0.012642\n",
              "4081        function  0.012626\n",
              "2110           could  0.012520\n",
              "1213          buffer  0.012413\n",
              "7484        overflow  0.012332\n",
              "5327           issue  0.012324\n",
              "1795        commands  0.011947\n",
              "4770              id  0.011897\n",
              "406               an  0.011588"
            ],
            "text/html": [
              "\n",
              "  <div id=\"df-ab75236c-6e85-46db-bdb6-70af98705b21\">\n",
              "    <div class=\"colab-df-container\">\n",
              "      <div>\n",
              "<style scoped>\n",
              "    .dataframe tbody tr th:only-of-type {\n",
              "        vertical-align: middle;\n",
              "    }\n",
              "\n",
              "    .dataframe tbody tr th {\n",
              "        vertical-align: top;\n",
              "    }\n",
              "\n",
              "    .dataframe thead th {\n",
              "        text-align: right;\n",
              "    }\n",
              "</style>\n",
              "<table border=\"1\" class=\"dataframe\">\n",
              "  <thead>\n",
              "    <tr style=\"text-align: right;\">\n",
              "      <th></th>\n",
              "      <th>word</th>\n",
              "      <th>tfidf</th>\n",
              "    </tr>\n",
              "  </thead>\n",
              "  <tbody>\n",
              "    <tr>\n",
              "      <th>11396</th>\n",
              "      <td>via</td>\n",
              "      <td>0.036645</td>\n",
              "    </tr>\n",
              "    <tr>\n",
              "      <th>353</th>\n",
              "      <td>allows</td>\n",
              "      <td>0.036114</td>\n",
              "    </tr>\n",
              "    <tr>\n",
              "      <th>8806</th>\n",
              "      <td>remote</td>\n",
              "      <td>0.035875</td>\n",
              "    </tr>\n",
              "    <tr>\n",
              "      <th>716</th>\n",
              "      <td>attackers</td>\n",
              "      <td>0.034228</td>\n",
              "    </tr>\n",
              "    <tr>\n",
              "      <th>11571</th>\n",
              "      <td>vulnerability</td>\n",
              "      <td>0.033932</td>\n",
              "    </tr>\n",
              "    <tr>\n",
              "      <th>548</th>\n",
              "      <td>arbitrary</td>\n",
              "      <td>0.030988</td>\n",
              "    </tr>\n",
              "    <tr>\n",
              "      <th>7795</th>\n",
              "      <td>php</td>\n",
              "      <td>0.027512</td>\n",
              "    </tr>\n",
              "    <tr>\n",
              "      <th>2343</th>\n",
              "      <td>cve</td>\n",
              "      <td>0.023810</td>\n",
              "    </tr>\n",
              "    <tr>\n",
              "      <th>3505</th>\n",
              "      <td>execute</td>\n",
              "      <td>0.022818</td>\n",
              "    </tr>\n",
              "    <tr>\n",
              "      <th>10590</th>\n",
              "      <td>the</td>\n",
              "      <td>0.022779</td>\n",
              "    </tr>\n",
              "    <tr>\n",
              "      <th>1730</th>\n",
              "      <td>code</td>\n",
              "      <td>0.021510</td>\n",
              "    </tr>\n",
              "    <tr>\n",
              "      <th>10008</th>\n",
              "      <td>sql</td>\n",
              "      <td>0.021084</td>\n",
              "    </tr>\n",
              "    <tr>\n",
              "      <th>9512</th>\n",
              "      <td>service</td>\n",
              "      <td>0.020883</td>\n",
              "    </tr>\n",
              "    <tr>\n",
              "      <th>2157</th>\n",
              "      <td>crafted</td>\n",
              "      <td>0.020556</td>\n",
              "    </tr>\n",
              "    <tr>\n",
              "      <th>11651</th>\n",
              "      <td>web</td>\n",
              "      <td>0.020006</td>\n",
              "    </tr>\n",
              "    <tr>\n",
              "      <th>7587</th>\n",
              "      <td>parameter</td>\n",
              "      <td>0.019997</td>\n",
              "    </tr>\n",
              "    <tr>\n",
              "      <th>2559</th>\n",
              "      <td>denial</td>\n",
              "      <td>0.018985</td>\n",
              "    </tr>\n",
              "    <tr>\n",
              "      <th>1395</th>\n",
              "      <td>cause</td>\n",
              "      <td>0.018667</td>\n",
              "    </tr>\n",
              "    <tr>\n",
              "      <th>9695</th>\n",
              "      <td>site</td>\n",
              "      <td>0.018502</td>\n",
              "    </tr>\n",
              "    <tr>\n",
              "      <th>3743</th>\n",
              "      <td>file</td>\n",
              "      <td>0.018144</td>\n",
              "    </tr>\n",
              "    <tr>\n",
              "      <th>3058</th>\n",
              "      <td>earlier</td>\n",
              "      <td>0.017870</td>\n",
              "    </tr>\n",
              "    <tr>\n",
              "      <th>12131</th>\n",
              "      <td>xss</td>\n",
              "      <td>0.017789</td>\n",
              "    </tr>\n",
              "    <tr>\n",
              "      <th>5010</th>\n",
              "      <td>information</td>\n",
              "      <td>0.016644</td>\n",
              "    </tr>\n",
              "    <tr>\n",
              "      <th>2194</th>\n",
              "      <td>cross</td>\n",
              "      <td>0.016565</td>\n",
              "    </tr>\n",
              "    <tr>\n",
              "      <th>11164</th>\n",
              "      <td>unspecified</td>\n",
              "      <td>0.016238</td>\n",
              "    </tr>\n",
              "    <tr>\n",
              "      <th>11246</th>\n",
              "      <td>users</td>\n",
              "      <td>0.015789</td>\n",
              "    </tr>\n",
              "    <tr>\n",
              "      <th>9348</th>\n",
              "      <td>scripting</td>\n",
              "      <td>0.015353</td>\n",
              "    </tr>\n",
              "    <tr>\n",
              "      <th>4678</th>\n",
              "      <td>html</td>\n",
              "      <td>0.015315</td>\n",
              "    </tr>\n",
              "    <tr>\n",
              "      <th>349</th>\n",
              "      <td>allow</td>\n",
              "      <td>0.015008</td>\n",
              "    </tr>\n",
              "    <tr>\n",
              "      <th>11225</th>\n",
              "      <td>user</td>\n",
              "      <td>0.014988</td>\n",
              "    </tr>\n",
              "    <tr>\n",
              "      <th>6414</th>\n",
              "      <td>memory</td>\n",
              "      <td>0.014762</td>\n",
              "    </tr>\n",
              "    <tr>\n",
              "      <th>11350</th>\n",
              "      <td>vectors</td>\n",
              "      <td>0.014675</td>\n",
              "    </tr>\n",
              "    <tr>\n",
              "      <th>9344</th>\n",
              "      <td>script</td>\n",
              "      <td>0.014571</td>\n",
              "    </tr>\n",
              "    <tr>\n",
              "      <th>299</th>\n",
              "      <td>aka</td>\n",
              "      <td>0.014430</td>\n",
              "    </tr>\n",
              "    <tr>\n",
              "      <th>11825</th>\n",
              "      <td>windows</td>\n",
              "      <td>0.014345</td>\n",
              "    </tr>\n",
              "    <tr>\n",
              "      <th>9507</th>\n",
              "      <td>server</td>\n",
              "      <td>0.013953</td>\n",
              "    </tr>\n",
              "    <tr>\n",
              "      <th>420</th>\n",
              "      <td>android</td>\n",
              "      <td>0.013515</td>\n",
              "    </tr>\n",
              "    <tr>\n",
              "      <th>5040</th>\n",
              "      <td>inject</td>\n",
              "      <td>0.013405</td>\n",
              "    </tr>\n",
              "    <tr>\n",
              "      <th>5043</th>\n",
              "      <td>injection</td>\n",
              "      <td>0.013354</td>\n",
              "    </tr>\n",
              "    <tr>\n",
              "      <th>516</th>\n",
              "      <td>application</td>\n",
              "      <td>0.013261</td>\n",
              "    </tr>\n",
              "    <tr>\n",
              "      <th>715</th>\n",
              "      <td>attacker</td>\n",
              "      <td>0.013216</td>\n",
              "    </tr>\n",
              "    <tr>\n",
              "      <th>51</th>\n",
              "      <td>access</td>\n",
              "      <td>0.012642</td>\n",
              "    </tr>\n",
              "    <tr>\n",
              "      <th>4081</th>\n",
              "      <td>function</td>\n",
              "      <td>0.012626</td>\n",
              "    </tr>\n",
              "    <tr>\n",
              "      <th>2110</th>\n",
              "      <td>could</td>\n",
              "      <td>0.012520</td>\n",
              "    </tr>\n",
              "    <tr>\n",
              "      <th>1213</th>\n",
              "      <td>buffer</td>\n",
              "      <td>0.012413</td>\n",
              "    </tr>\n",
              "    <tr>\n",
              "      <th>7484</th>\n",
              "      <td>overflow</td>\n",
              "      <td>0.012332</td>\n",
              "    </tr>\n",
              "    <tr>\n",
              "      <th>5327</th>\n",
              "      <td>issue</td>\n",
              "      <td>0.012324</td>\n",
              "    </tr>\n",
              "    <tr>\n",
              "      <th>1795</th>\n",
              "      <td>commands</td>\n",
              "      <td>0.011947</td>\n",
              "    </tr>\n",
              "    <tr>\n",
              "      <th>4770</th>\n",
              "      <td>id</td>\n",
              "      <td>0.011897</td>\n",
              "    </tr>\n",
              "    <tr>\n",
              "      <th>406</th>\n",
              "      <td>an</td>\n",
              "      <td>0.011588</td>\n",
              "    </tr>\n",
              "  </tbody>\n",
              "</table>\n",
              "</div>\n",
              "      <button class=\"colab-df-convert\" onclick=\"convertToInteractive('df-ab75236c-6e85-46db-bdb6-70af98705b21')\"\n",
              "              title=\"Convert this dataframe to an interactive table.\"\n",
              "              style=\"display:none;\">\n",
              "        \n",
              "  <svg xmlns=\"http://www.w3.org/2000/svg\" height=\"24px\"viewBox=\"0 0 24 24\"\n",
              "       width=\"24px\">\n",
              "    <path d=\"M0 0h24v24H0V0z\" fill=\"none\"/>\n",
              "    <path d=\"M18.56 5.44l.94 2.06.94-2.06 2.06-.94-2.06-.94-.94-2.06-.94 2.06-2.06.94zm-11 1L8.5 8.5l.94-2.06 2.06-.94-2.06-.94L8.5 2.5l-.94 2.06-2.06.94zm10 10l.94 2.06.94-2.06 2.06-.94-2.06-.94-.94-2.06-.94 2.06-2.06.94z\"/><path d=\"M17.41 7.96l-1.37-1.37c-.4-.4-.92-.59-1.43-.59-.52 0-1.04.2-1.43.59L10.3 9.45l-7.72 7.72c-.78.78-.78 2.05 0 2.83L4 21.41c.39.39.9.59 1.41.59.51 0 1.02-.2 1.41-.59l7.78-7.78 2.81-2.81c.8-.78.8-2.07 0-2.86zM5.41 20L4 18.59l7.72-7.72 1.47 1.35L5.41 20z\"/>\n",
              "  </svg>\n",
              "      </button>\n",
              "      \n",
              "  <style>\n",
              "    .colab-df-container {\n",
              "      display:flex;\n",
              "      flex-wrap:wrap;\n",
              "      gap: 12px;\n",
              "    }\n",
              "\n",
              "    .colab-df-convert {\n",
              "      background-color: #E8F0FE;\n",
              "      border: none;\n",
              "      border-radius: 50%;\n",
              "      cursor: pointer;\n",
              "      display: none;\n",
              "      fill: #1967D2;\n",
              "      height: 32px;\n",
              "      padding: 0 0 0 0;\n",
              "      width: 32px;\n",
              "    }\n",
              "\n",
              "    .colab-df-convert:hover {\n",
              "      background-color: #E2EBFA;\n",
              "      box-shadow: 0px 1px 2px rgba(60, 64, 67, 0.3), 0px 1px 3px 1px rgba(60, 64, 67, 0.15);\n",
              "      fill: #174EA6;\n",
              "    }\n",
              "\n",
              "    [theme=dark] .colab-df-convert {\n",
              "      background-color: #3B4455;\n",
              "      fill: #D2E3FC;\n",
              "    }\n",
              "\n",
              "    [theme=dark] .colab-df-convert:hover {\n",
              "      background-color: #434B5C;\n",
              "      box-shadow: 0px 1px 3px 1px rgba(0, 0, 0, 0.15);\n",
              "      filter: drop-shadow(0px 1px 2px rgba(0, 0, 0, 0.3));\n",
              "      fill: #FFFFFF;\n",
              "    }\n",
              "  </style>\n",
              "\n",
              "      <script>\n",
              "        const buttonEl =\n",
              "          document.querySelector('#df-ab75236c-6e85-46db-bdb6-70af98705b21 button.colab-df-convert');\n",
              "        buttonEl.style.display =\n",
              "          google.colab.kernel.accessAllowed ? 'block' : 'none';\n",
              "\n",
              "        async function convertToInteractive(key) {\n",
              "          const element = document.querySelector('#df-ab75236c-6e85-46db-bdb6-70af98705b21');\n",
              "          const dataTable =\n",
              "            await google.colab.kernel.invokeFunction('convertToInteractive',\n",
              "                                                     [key], {});\n",
              "          if (!dataTable) return;\n",
              "\n",
              "          const docLinkHtml = 'Like what you see? Visit the ' +\n",
              "            '<a target=\"_blank\" href=https://colab.research.google.com/notebooks/data_table.ipynb>data table notebook</a>'\n",
              "            + ' to learn more about interactive tables.';\n",
              "          element.innerHTML = '';\n",
              "          dataTable['output_type'] = 'display_data';\n",
              "          await google.colab.output.renderOutput(dataTable, element);\n",
              "          const docLink = document.createElement('div');\n",
              "          docLink.innerHTML = docLinkHtml;\n",
              "          element.appendChild(docLink);\n",
              "        }\n",
              "      </script>\n",
              "    </div>\n",
              "  </div>\n",
              "  "
            ]
          },
          "metadata": {},
          "execution_count": 75
        }
      ]
    },
    {
      "cell_type": "code",
      "source": [
        "plt.figure(figsize = (25,10))\n",
        "sns.barplot(x = 'word', y = 'tfidf', data = df_tfidf, palette = sns.light_palette((210, 90, 60), input = \"husl\"))\n",
        "plt.xticks(rotation = 45)\n",
        "plt.show()"
      ],
      "metadata": {
        "colab": {
          "base_uri": "https://localhost:8080/",
          "height": 424
        },
        "id": "HKhhWdOC9X91",
        "outputId": "ce7c458d-bb66-4c7e-a317-84e57cd57837"
      },
      "execution_count": null,
      "outputs": [
        {
          "output_type": "display_data",
          "data": {
            "text/plain": [
              "<Figure size 1800x720 with 1 Axes>"
            ],
            "image/png": "[encoded data removed]"
          },
          "metadata": {
            "needs_background": "light"
          }
        }
      ]
    },
    {
      "cell_type": "code",
      "source": [
        "np.save(\"train_dataset_tfidf_features.npy\", np.array(x_train_tfidf))\n",
        "np.save(\"train_dataset_tfidf_labels.npy\", np.array(y_train))\n",
        "\n",
        "np.save(\"test_dataset_tfidf_features.npy\", np.array(x_test_tfidf))\n",
        "np.save(\"test_dataset_tfidf_labels.npy\", np.array(y_test))"
      ],
      "metadata": {
        "id": "9rYt5yKh9aCC"
      },
      "execution_count": null,
      "outputs": []
    },
    {
      "cell_type": "code",
      "source": [
        "print(repr(x_train_tfidf))\n",
        "\n",
        "sns.heatmap(x_train_tfidf.todense()\n",
        "            [:,np.random.randint(0, x_train_tfidf.shape[1],100)]==0, vmin=0, vmax=1, cbar=False).set_title('Sparse Matrix 100 Sample')"
      ],
      "metadata": {
        "colab": {
          "base_uri": "https://localhost:8080/",
          "height": 333
        },
        "id": "XMk4Easl9ctA",
        "outputId": "6c7a7747-bae1-4a43-9457-49dda02d5bd9"
      },
      "execution_count": null,
      "outputs": [
        {
          "output_type": "stream",
          "name": "stdout",
          "text": [
            "<80651x12260 sparse matrix of type '<class 'numpy.float64'>'\n",
            "\twith 1895341 stored elements in Compressed Sparse Row format>\n"
          ]
        },
        {
          "output_type": "execute_result",
          "data": {
            "text/plain": [
              "Text(0.5, 1.0, 'Sparse Matrix 100 Sample')"
            ]
          },
          "metadata": {},
          "execution_count": 78
        },
        {
          "output_type": "display_data",
          "data": {
            "text/plain": [
              "<Figure size 432x288 with 1 Axes>"
            ],
            "image/png": "[encoded data removed]"
          },
          "metadata": {
            "needs_background": "light"
          }
        }
      ]
    },
    {
      "cell_type": "markdown",
      "source": [
        "\n",
        "\n",
        "---\n",
        "\n",
        "## Model Building\n",
        "\n",
        "---\n",
        "\n"
      ],
      "metadata": {
        "id": "sgSLuzszjLiZ"
      }
    },
    {
      "cell_type": "code",
      "source": [
        "from sklearn.linear_model import LogisticRegression \n",
        "from sklearn.neighbors import KNeighborsClassifier\n",
        "from sklearn.tree import DecisionTreeClassifier\n",
        "from sklearn.ensemble import RandomForestClassifier, AdaBoostClassifier, GradientBoostingClassifier\n",
        "from sklearn.metrics import confusion_matrix, ConfusionMatrixDisplay\n",
        "from sklearn.metrics import classification_report\n",
        "from sklearn.svm import SVC\n",
        "from sklearn.metrics import f1_score, roc_auc_score, roc_curve, average_precision_score, precision_recall_curve, accuracy_score\n",
        "from sklearn.decomposition import PCA"
      ],
      "metadata": {
        "id": "Ul6yrJxE9yj6"
      },
      "execution_count": null,
      "outputs": []
    },
    {
      "cell_type": "code",
      "source": [
        "classifiers = [\n",
        "    KNeighborsClassifier(),\n",
        "    DecisionTreeClassifier(),\n",
        "    RandomForestClassifier(),\n",
        "    AdaBoostClassifier(),\n",
        "    GradientBoostingClassifier()]"
      ],
      "metadata": {
        "id": "qG3ofjVD9tCL"
      },
      "execution_count": null,
      "outputs": []
    },
    {
      "cell_type": "code",
      "source": [
        "def check_model_and_test(x_train, y_train, x_test, y_test, classifiers):\n",
        "    for model in classifiers:\n",
        "        this_model = model.__class__.__name__ #get the name of the classifier\n",
        "        model.fit(x_train, y_train)\n",
        "        y_pred = model.predict(x_test)\n",
        "        \n",
        "        print(f'{this_model} f1 score:')\n",
        "        score = f1_score(y_test, y_pred, average='micro')\n",
        "        print(f'{score:.4f}')\n",
        "        print('\\n')"
      ],
      "metadata": {
        "id": "FSdqwii-9qQi"
      },
      "execution_count": null,
      "outputs": []
    },
    {
      "cell_type": "code",
      "source": [
        "check_model_and_test(x_train_tfidf, y_train, x_test_tfidf, y_test, classifiers)"
      ],
      "metadata": {
        "colab": {
          "base_uri": "https://localhost:8080/"
        },
        "id": "rkY9uo2s9uW6",
        "outputId": "d4ecc48b-91db-4729-bb2f-e5220017cdea"
      },
      "execution_count": null,
      "outputs": [
        {
          "output_type": "stream",
          "name": "stdout",
          "text": [
            "KNeighborsClassifier f1 score:\n",
            "0.5929\n",
            "\n",
            "\n",
            "DecisionTreeClassifier f1 score:\n",
            "0.6362\n",
            "\n",
            "\n",
            "RandomForestClassifier f1 score:\n",
            "0.7043\n",
            "\n",
            "\n",
            "AdaBoostClassifier f1 score:\n",
            "0.5296\n",
            "\n",
            "\n",
            "GradientBoostingClassifier f1 score:\n",
            "0.6449\n",
            "\n",
            "\n"
          ]
        }
      ]
    },
    {
      "cell_type": "markdown",
      "source": [
        "---\n",
        "\n",
        "## Tuning Models HyperParameters\n",
        "\n",
        "---"
      ],
      "metadata": {
        "id": "uDX5Z__vpyN_"
      }
    },
    {
      "cell_type": "markdown",
      "source": [
        "Below common method TuneClassfier is defined to tune the classifier for given hyperparameters with different values.\n",
        "\n",
        "Grid is parameter is to hold hyperparameters with values."
      ],
      "metadata": {
        "id": "spbj8ftvp2CO"
      }
    },
    {
      "cell_type": "code",
      "source": [
        "#Tune classifier\n",
        "from sklearn.model_selection import RepeatedStratifiedKFold\n",
        "from sklearn.model_selection import GridSearchCV, RandomizedSearchCV, train_test_split, StratifiedKFold, cross_val_score, cross_val_predict\n",
        "def TuneClassifier(model,grid,X_train,y_train):\n",
        "  cv = RepeatedStratifiedKFold(n_splits=10, n_repeats=3, random_state=1)\n",
        "  grid_search = GridSearchCV(estimator=model, param_grid=grid, n_jobs=-1, cv=cv, scoring='accuracy',error_score=0)\n",
        "  print(\"model fitting started\")\n",
        "  grid_result = grid_search.fit(X_train,y_train)\n",
        "  # summarize results\n",
        "  print(\"Best: %f using %s\" % (grid_result.best_score_, grid_result.best_params_))\n",
        "  means = grid_result.cv_results_['mean_test_score']\n",
        "  stds = grid_result.cv_results_['std_test_score']\n",
        "  params = grid_result.cv_results_['params']\n",
        "  for mean, stdev, param in zip(means, stds, params):\n",
        "    print(\"%f (%f) with: %r\" % (mean, stdev, param))"
      ],
      "metadata": {
        "id": "TSCpal39p5JI"
      },
      "execution_count": null,
      "outputs": []
    },
    {
      "cell_type": "code",
      "source": [
        "#tuning Knn_classfifier\n",
        "model = KNeighborsClassifier()\n",
        "n_neighbors = range(1, 11, 2)\n",
        "weights = ['uniform', 'distance']\n",
        "metric = ['euclidean', 'manhattan', 'minkowski']\n",
        "# define grid search\n",
        "Kngrid = dict(n_neighbors=n_neighbors,weights=weights,metric=metric)\n",
        "#TuneClassifier(model,Kngrid,x_train_tfidf, y_train)"
      ],
      "metadata": {
        "id": "YqaSEnIzp7m1"
      },
      "execution_count": null,
      "outputs": []
    },
    {
      "cell_type": "markdown",
      "source": [
        "**Knn_classifier:**\n",
        "\n",
        "Classifier implementing the k-nearest neighbors vote.\n",
        "\n",
        "Hyper Parameters:\n",
        "\n",
        "**n_neighbors : (1,5,7,9,11) used\n",
        "\n",
        "Number of neighbors to use by default(5) for kneighbors queries.\n",
        "\n",
        "weights : {‘uniform’, ‘distance’}\n",
        "\n",
        "Weight function used in prediction.\n",
        "\n",
        "uniform : uniform weights. All points in each neighborhood are weighted equally.\n",
        "\n",
        "distance : weight points by the inverse of their distance. in this case, closer neighbors of a query point will have a greater influence than neighbors which are further away."
      ],
      "metadata": {
        "id": "9wf2DkYfp-Jc"
      }
    },
    {
      "cell_type": "code",
      "source": [
        "#tuning Decission tree classfifier\n",
        "DSmodel = DecisionTreeClassifier()\n",
        "max_depth=[10,50,100]\n",
        "min_samples_leaf=[20,50,60]\n",
        "min_samples_split=[2,5,10]\n",
        "\n",
        "# define grid search\n",
        "DSgrid = dict(max_depth=max_depth,min_samples_leaf=min_samples_leaf,min_samples_split=min_samples_split)\n",
        "#TuneClassifier(DSmodel,DSgrid,x_train_tfidf, y_train)"
      ],
      "metadata": {
        "id": "I14bzRwKqBGb"
      },
      "execution_count": null,
      "outputs": []
    },
    {
      "cell_type": "markdown",
      "source": [
        "**DecisionTreeClassifier:**\n",
        "\n",
        "HyperParameters:\n",
        "\n",
        "**max_depth :**int, default=None\n",
        "The maximum depth of the tree. If None, then nodes are expanded until all leaves are pure or until all leaves contain less than min_samples_split samples.\n",
        "\n",
        "**min_samples_split:** int or float, default=2\n",
        "The minimum number of samples required to split an internal node:\n",
        "\n",
        "If int, then consider min_samples_split as the minimum number.\n",
        "\n",
        "If float, then min_samples_split is a fraction and ceil(min_samples_split * n_samples) are the minimum number of samples for each split.\n",
        "\n",
        "**min_samples_leaf :**int or float, default=1\n",
        "The minimum number of samples required to be at a leaf node. A split point at any depth will only be considered if it leaves at least min_samples_leaf training samples in each of the left and right branches. This may have the effect of smoothing the model, especially in regression.\n",
        "\n",
        "If int, then consider min_samples_leaf as the minimum number.\n",
        "\n",
        "If float, then min_samples_leaf is a fraction and ceil(min_samples_leaf * n_samples) are the minimum number of samples for each node."
      ],
      "metadata": {
        "id": "EDuxwFLiqD0Y"
      }
    },
    {
      "cell_type": "markdown",
      "source": [
        "**Randomforest classifier performed the best here, we're going to explore further with it**"
      ],
      "metadata": {
        "id": "s0mZoOgdcn4D"
      }
    },
    {
      "cell_type": "code",
      "source": [
        "n_est = [50, 100, 200]\n",
        "max_d = [1, 10, 25, None]"
      ],
      "metadata": {
        "id": "Qn0b7sCIcWQW"
      },
      "execution_count": null,
      "outputs": []
    },
    {
      "cell_type": "code",
      "source": [
        "best_acc = 0\n",
        "best_param = (0, 0)\n",
        "\n",
        "for val in n_est:\n",
        "  for depth in max_d:\n",
        "    rf = RandomForestClassifier(verbose=1 ,n_estimators=val, max_depth=depth)\n",
        "    print('_'*80)\n",
        "    rf.fit(x_train_tfidf, y_train)\n",
        "    print()\n",
        "    print('Params: {} estimators, {} depth'.format(val, depth))\n",
        "    curr_acc = accuracy_score(y_test, rf.predict(x_test_tfidf))\n",
        "    print(curr_acc)\n",
        "    print()\n",
        "    if curr_acc > best_acc:\n",
        "      best_acc = curr_acc\n",
        "      best_params = (val, depth)\n",
        "      print('***Updated Best***')\n",
        "      print()\n",
        "    print('_'*80)\n"
      ],
      "metadata": {
        "id": "psfVbnxxW3P7",
        "colab": {
          "base_uri": "https://localhost:8080/"
        },
        "outputId": "fc7b418b-6dbf-4c35-815d-76e64793de58"
      },
      "execution_count": null,
      "outputs": [
        {
          "output_type": "stream",
          "name": "stdout",
          "text": [
            "________________________________________________________________________________\n"
          ]
        },
        {
          "output_type": "stream",
          "name": "stderr",
          "text": [
            "[Parallel(n_jobs=1)]: Using backend SequentialBackend with 1 concurrent workers.\n",
            "[Parallel(n_jobs=1)]: Done  50 out of  50 | elapsed:    0.7s finished\n",
            "[Parallel(n_jobs=1)]: Using backend SequentialBackend with 1 concurrent workers.\n",
            "[Parallel(n_jobs=1)]: Done  50 out of  50 | elapsed:    0.1s finished\n",
            "[Parallel(n_jobs=1)]: Using backend SequentialBackend with 1 concurrent workers.\n"
          ]
        },
        {
          "output_type": "stream",
          "name": "stdout",
          "text": [
            "\n",
            "Params: 50 estimators, 1 depth\n",
            "0.25440749832626647\n",
            "\n",
            "***Updated Best***\n",
            "\n",
            "________________________________________________________________________________\n",
            "________________________________________________________________________________\n"
          ]
        },
        {
          "output_type": "stream",
          "name": "stderr",
          "text": [
            "[Parallel(n_jobs=1)]: Done  50 out of  50 | elapsed:    2.2s finished\n",
            "[Parallel(n_jobs=1)]: Using backend SequentialBackend with 1 concurrent workers.\n",
            "[Parallel(n_jobs=1)]: Done  50 out of  50 | elapsed:    0.1s finished\n",
            "[Parallel(n_jobs=1)]: Using backend SequentialBackend with 1 concurrent workers.\n"
          ]
        },
        {
          "output_type": "stream",
          "name": "stdout",
          "text": [
            "\n",
            "Params: 50 estimators, 10 depth\n",
            "0.49185449676411513\n",
            "\n",
            "***Updated Best***\n",
            "\n",
            "________________________________________________________________________________\n",
            "________________________________________________________________________________\n"
          ]
        },
        {
          "output_type": "stream",
          "name": "stderr",
          "text": [
            "[Parallel(n_jobs=1)]: Done  50 out of  50 | elapsed:   16.2s finished\n",
            "[Parallel(n_jobs=1)]: Using backend SequentialBackend with 1 concurrent workers.\n",
            "[Parallel(n_jobs=1)]: Done  50 out of  50 | elapsed:    0.1s finished\n"
          ]
        },
        {
          "output_type": "stream",
          "name": "stdout",
          "text": [
            "\n",
            "Params: 50 estimators, 25 depth\n",
            "0.6304396340102656\n",
            "\n",
            "***Updated Best***\n",
            "\n",
            "________________________________________________________________________________\n",
            "________________________________________________________________________________\n"
          ]
        },
        {
          "output_type": "stream",
          "name": "stderr",
          "text": [
            "[Parallel(n_jobs=1)]: Using backend SequentialBackend with 1 concurrent workers.\n",
            "[Parallel(n_jobs=1)]: Done  50 out of  50 | elapsed:  2.4min finished\n",
            "[Parallel(n_jobs=1)]: Using backend SequentialBackend with 1 concurrent workers.\n"
          ]
        },
        {
          "output_type": "stream",
          "name": "stdout",
          "text": [
            "\n",
            "Params: 50 estimators, None depth\n"
          ]
        },
        {
          "output_type": "stream",
          "name": "stderr",
          "text": [
            "[Parallel(n_jobs=1)]: Done  50 out of  50 | elapsed:    0.3s finished\n",
            "[Parallel(n_jobs=1)]: Using backend SequentialBackend with 1 concurrent workers.\n"
          ]
        },
        {
          "output_type": "stream",
          "name": "stdout",
          "text": [
            "0.6985047980361526\n",
            "\n",
            "***Updated Best***\n",
            "\n",
            "________________________________________________________________________________\n",
            "________________________________________________________________________________\n"
          ]
        },
        {
          "output_type": "stream",
          "name": "stderr",
          "text": [
            "[Parallel(n_jobs=1)]: Done 100 out of 100 | elapsed:    1.4s finished\n",
            "[Parallel(n_jobs=1)]: Using backend SequentialBackend with 1 concurrent workers.\n",
            "[Parallel(n_jobs=1)]: Done 100 out of 100 | elapsed:    0.2s finished\n"
          ]
        },
        {
          "output_type": "stream",
          "name": "stdout",
          "text": [
            "\n",
            "Params: 100 estimators, 1 depth\n",
            "0.25440749832626647\n",
            "\n",
            "________________________________________________________________________________\n",
            "________________________________________________________________________________\n"
          ]
        },
        {
          "output_type": "stream",
          "name": "stderr",
          "text": [
            "[Parallel(n_jobs=1)]: Using backend SequentialBackend with 1 concurrent workers.\n",
            "[Parallel(n_jobs=1)]: Done 100 out of 100 | elapsed:    4.5s finished\n",
            "[Parallel(n_jobs=1)]: Using backend SequentialBackend with 1 concurrent workers.\n",
            "[Parallel(n_jobs=1)]: Done 100 out of 100 | elapsed:    0.2s finished\n"
          ]
        },
        {
          "output_type": "stream",
          "name": "stdout",
          "text": [
            "\n",
            "Params: 100 estimators, 10 depth\n",
            "0.5058022762776166\n",
            "\n",
            "________________________________________________________________________________\n",
            "________________________________________________________________________________\n"
          ]
        },
        {
          "output_type": "stream",
          "name": "stderr",
          "text": [
            "[Parallel(n_jobs=1)]: Using backend SequentialBackend with 1 concurrent workers.\n",
            "[Parallel(n_jobs=1)]: Done 100 out of 100 | elapsed:   33.8s finished\n",
            "[Parallel(n_jobs=1)]: Using backend SequentialBackend with 1 concurrent workers.\n"
          ]
        },
        {
          "output_type": "stream",
          "name": "stdout",
          "text": [
            "\n",
            "Params: 100 estimators, 25 depth\n"
          ]
        },
        {
          "output_type": "stream",
          "name": "stderr",
          "text": [
            "[Parallel(n_jobs=1)]: Done 100 out of 100 | elapsed:    0.2s finished\n",
            "[Parallel(n_jobs=1)]: Using backend SequentialBackend with 1 concurrent workers.\n"
          ]
        },
        {
          "output_type": "stream",
          "name": "stdout",
          "text": [
            "0.6376924793572863\n",
            "\n",
            "________________________________________________________________________________\n",
            "________________________________________________________________________________\n"
          ]
        },
        {
          "output_type": "stream",
          "name": "stderr",
          "text": [
            "[Parallel(n_jobs=1)]: Done 100 out of 100 | elapsed:  4.9min finished\n",
            "[Parallel(n_jobs=1)]: Using backend SequentialBackend with 1 concurrent workers.\n"
          ]
        },
        {
          "output_type": "stream",
          "name": "stdout",
          "text": [
            "\n",
            "Params: 100 estimators, None depth\n"
          ]
        },
        {
          "output_type": "stream",
          "name": "stderr",
          "text": [
            "[Parallel(n_jobs=1)]: Done 100 out of 100 | elapsed:    0.6s finished\n"
          ]
        },
        {
          "output_type": "stream",
          "name": "stdout",
          "text": [
            "0.7033028341887971\n",
            "\n",
            "***Updated Best***\n",
            "\n",
            "________________________________________________________________________________\n",
            "________________________________________________________________________________\n"
          ]
        },
        {
          "output_type": "stream",
          "name": "stderr",
          "text": [
            "[Parallel(n_jobs=1)]: Using backend SequentialBackend with 1 concurrent workers.\n",
            "[Parallel(n_jobs=1)]: Done 200 out of 200 | elapsed:    2.7s finished\n",
            "[Parallel(n_jobs=1)]: Using backend SequentialBackend with 1 concurrent workers.\n"
          ]
        },
        {
          "output_type": "stream",
          "name": "stdout",
          "text": [
            "\n",
            "Params: 200 estimators, 1 depth\n"
          ]
        },
        {
          "output_type": "stream",
          "name": "stderr",
          "text": [
            "[Parallel(n_jobs=1)]: Done 200 out of 200 | elapsed:    0.3s finished\n",
            "[Parallel(n_jobs=1)]: Using backend SequentialBackend with 1 concurrent workers.\n"
          ]
        },
        {
          "output_type": "stream",
          "name": "stdout",
          "text": [
            "0.25440749832626647\n",
            "\n",
            "________________________________________________________________________________\n",
            "________________________________________________________________________________\n"
          ]
        },
        {
          "output_type": "stream",
          "name": "stderr",
          "text": [
            "[Parallel(n_jobs=1)]: Done 200 out of 200 | elapsed:    8.7s finished\n",
            "[Parallel(n_jobs=1)]: Using backend SequentialBackend with 1 concurrent workers.\n"
          ]
        },
        {
          "output_type": "stream",
          "name": "stdout",
          "text": [
            "\n",
            "Params: 200 estimators, 10 depth\n"
          ]
        },
        {
          "output_type": "stream",
          "name": "stderr",
          "text": [
            "[Parallel(n_jobs=1)]: Done 200 out of 200 | elapsed:    0.4s finished\n",
            "[Parallel(n_jobs=1)]: Using backend SequentialBackend with 1 concurrent workers.\n"
          ]
        },
        {
          "output_type": "stream",
          "name": "stdout",
          "text": [
            "0.4867217139031466\n",
            "\n",
            "________________________________________________________________________________\n",
            "________________________________________________________________________________\n"
          ]
        },
        {
          "output_type": "stream",
          "name": "stderr",
          "text": [
            "[Parallel(n_jobs=1)]: Done 200 out of 200 | elapsed:  1.1min finished\n",
            "[Parallel(n_jobs=1)]: Using backend SequentialBackend with 1 concurrent workers.\n"
          ]
        },
        {
          "output_type": "stream",
          "name": "stdout",
          "text": [
            "\n",
            "Params: 200 estimators, 25 depth\n"
          ]
        },
        {
          "output_type": "stream",
          "name": "stderr",
          "text": [
            "[Parallel(n_jobs=1)]: Done 200 out of 200 | elapsed:    0.5s finished\n",
            "[Parallel(n_jobs=1)]: Using backend SequentialBackend with 1 concurrent workers.\n"
          ]
        },
        {
          "output_type": "stream",
          "name": "stdout",
          "text": [
            "0.644275831287659\n",
            "\n",
            "________________________________________________________________________________\n",
            "________________________________________________________________________________\n"
          ]
        },
        {
          "output_type": "stream",
          "name": "stderr",
          "text": [
            "[Parallel(n_jobs=1)]: Done 200 out of 200 | elapsed:  9.7min finished\n",
            "[Parallel(n_jobs=1)]: Using backend SequentialBackend with 1 concurrent workers.\n"
          ]
        },
        {
          "output_type": "stream",
          "name": "stdout",
          "text": [
            "\n",
            "Params: 200 estimators, None depth\n",
            "0.7083240348136577\n",
            "\n",
            "***Updated Best***\n",
            "\n",
            "________________________________________________________________________________\n"
          ]
        },
        {
          "output_type": "stream",
          "name": "stderr",
          "text": [
            "[Parallel(n_jobs=1)]: Done 200 out of 200 | elapsed:    1.3s finished\n"
          ]
        }
      ]
    },
    {
      "cell_type": "markdown",
      "source": [
        "**We were able to squeeze another 0.6 % accuracy on top of the base model with these params. Coincidentally, these are the default parameters for the  Random Forest objest**"
      ],
      "metadata": {
        "id": "Dzks4A5vePVZ"
      }
    },
    {
      "cell_type": "code",
      "source": [
        "print(best_acc)\n",
        "print(best_params)"
      ],
      "metadata": {
        "colab": {
          "base_uri": "https://localhost:8080/"
        },
        "id": "V_FqkrGXmHyv",
        "outputId": "0c0fb99a-11e4-4dc1-8126-55950efa0816"
      },
      "execution_count": null,
      "outputs": [
        {
          "output_type": "stream",
          "name": "stdout",
          "text": [
            "0.7083240348136577\n",
            "(200, None)\n"
          ]
        }
      ]
    },
    {
      "cell_type": "code",
      "source": [
        "#New train test split size\n",
        "\n",
        "x_train, x_test, y_train, y_test = train_test_split(tokenized_texts, labels,\n",
        "                                                  test_size = 0.2, stratify = labels,\n",
        "                                                  random_state = RANDOM_STATE)"
      ],
      "metadata": {
        "id": "kL42MGykpGyb"
      },
      "execution_count": null,
      "outputs": []
    },
    {
      "cell_type": "code",
      "source": [
        "tfidf_vectorizer = TfidfVectorizer(tokenizer = lambda x: x,\n",
        "                        preprocessor = lambda x: x, \n",
        "                        min_df = 5, max_df = 0.8) \n",
        "x_train_tf2 = tfidf_vectorizer.fit_transform(x_train) \n",
        "x_test_tf2 = tfidf_vectorizer.transform(x_test)\n",
        "\n",
        "x_train_tf2.shape"
      ],
      "metadata": {
        "colab": {
          "base_uri": "https://localhost:8080/"
        },
        "id": "84LEV2APqKfj",
        "outputId": "501ab0bc-f328-4941-dcf9-0961c80e53aa"
      },
      "execution_count": null,
      "outputs": [
        {
          "output_type": "execute_result",
          "data": {
            "text/plain": [
              "(71690, 11427)"
            ]
          },
          "metadata": {},
          "execution_count": 81
        }
      ]
    },
    {
      "cell_type": "code",
      "source": [
        "rf_final = RandomForestClassifier(n_estimators=100, max_depth=None)"
      ],
      "metadata": {
        "id": "oniOUPUUmh2D"
      },
      "execution_count": null,
      "outputs": []
    },
    {
      "cell_type": "code",
      "source": [
        "rf_final.fit(x_train_tf2, y_train)"
      ],
      "metadata": {
        "colab": {
          "base_uri": "https://localhost:8080/"
        },
        "id": "xr5shF8_mnfB",
        "outputId": "929393ff-3c06-4894-d408-cdd87bb3081b"
      },
      "execution_count": null,
      "outputs": [
        {
          "output_type": "execute_result",
          "data": {
            "text/plain": [
              "RandomForestClassifier()"
            ]
          },
          "metadata": {},
          "execution_count": 71
        }
      ]
    },
    {
      "cell_type": "code",
      "source": [
        "training_acc = accuracy_score(y_train, rf_final.predict(x_train_tf2)) \n",
        "test_acc = accuracy_score(y_test, rf_final.predict(x_test_tf2))\n",
        "print('Training Accuracy: {}'.format(training_acc))\n",
        "print('Test Accuracy: {}'.format(test_acc))"
      ],
      "metadata": {
        "colab": {
          "base_uri": "https://localhost:8080/"
        },
        "id": "2kdI70aamtUy",
        "outputId": "a9b4828b-c37d-4feb-ae04-2e382cb885bd"
      },
      "execution_count": null,
      "outputs": [
        {
          "output_type": "stream",
          "name": "stdout",
          "text": [
            "Training Accuracy: 0.9926907518482354\n",
            "Test Accuracy: 0.6960888244155554\n"
          ]
        }
      ]
    },
    {
      "cell_type": "code",
      "source": [
        "classes = np.array([2, 3, 4, 7, 6, 5, 8, 9, 10])"
      ],
      "metadata": {
        "id": "wmF-fWsPF2zG"
      },
      "execution_count": null,
      "outputs": []
    },
    {
      "cell_type": "code",
      "source": [
        "train_con = confusion_matrix(y_train, rf_final.predict(x_train_tf2), labels=classes) \n",
        "test_con = confusion_matrix(y_test, rf_final.predict(x_test_tf2), labels=classes)"
      ],
      "metadata": {
        "id": "6Nq4mM0Xs9Lh"
      },
      "execution_count": null,
      "outputs": []
    },
    {
      "cell_type": "code",
      "source": [
        "work_df['cvss'].value_counts()*0.8"
      ],
      "metadata": {
        "colab": {
          "base_uri": "https://localhost:8080/"
        },
        "id": "K8Vyalx2sJpL",
        "outputId": "deca5880-7898-426b-ae71-982552582f4a"
      },
      "execution_count": null,
      "outputs": [
        {
          "output_type": "execute_result",
          "data": {
            "text/plain": [
              "4     18242.4\n",
              "7     13044.8\n",
              "5     12268.8\n",
              "8     11459.2\n",
              "9      6028.8\n",
              "6      3663.2\n",
              "10     3636.0\n",
              "2      2472.8\n",
              "3       874.4\n",
              "Name: cvss, dtype: float64"
            ]
          },
          "metadata": {},
          "execution_count": 76
        }
      ]
    },
    {
      "cell_type": "code",
      "source": [
        "print(np.sum(train_con, axis=1))"
      ],
      "metadata": {
        "colab": {
          "base_uri": "https://localhost:8080/"
        },
        "id": "3LrD-Ujar6qx",
        "outputId": "9a7053e8-8c85-49b0-8ad4-e65f16c1b2ea"
      },
      "execution_count": null,
      "outputs": [
        {
          "output_type": "stream",
          "name": "stdout",
          "text": [
            "[ 2473   874 18242 13045  3663 12269 11459  6029  3636]\n"
          ]
        }
      ]
    },
    {
      "cell_type": "code",
      "source": [
        "disp = ConfusionMatrixDisplay(confusion_matrix=train_con,\n",
        "                              display_labels=classes)"
      ],
      "metadata": {
        "id": "a6zayZJFtApH"
      },
      "execution_count": null,
      "outputs": []
    },
    {
      "cell_type": "code",
      "source": [
        "disp.plot()\n",
        "plt.show()"
      ],
      "metadata": {
        "colab": {
          "base_uri": "https://localhost:8080/",
          "height": 279
        },
        "id": "sAk38Us2uIMt",
        "outputId": "38e93889-ad85-4432-8ebd-c094e3ba3f94"
      },
      "execution_count": null,
      "outputs": [
        {
          "output_type": "display_data",
          "data": {
            "text/plain": [
              "<Figure size 432x288 with 2 Axes>"
            ],
            "image/png": "[encoded data removed]"
          },
          "metadata": {
            "needs_background": "light"
          }
        }
      ]
    },
    {
      "cell_type": "code",
      "source": [
        "disp2 = ConfusionMatrixDisplay(confusion_matrix=test_con,\n",
        "                              display_labels=classes)"
      ],
      "metadata": {
        "id": "0myrACivulnu"
      },
      "execution_count": null,
      "outputs": []
    },
    {
      "cell_type": "code",
      "source": [
        "disp2.plot()\n",
        "plt.show()"
      ],
      "metadata": {
        "colab": {
          "base_uri": "https://localhost:8080/",
          "height": 279
        },
        "id": "i7llELR5uoBY",
        "outputId": "76b512f4-d727-404c-f815-e57029f85ce6"
      },
      "execution_count": null,
      "outputs": [
        {
          "output_type": "display_data",
          "data": {
            "text/plain": [
              "<Figure size 432x288 with 2 Axes>"
            ],
            "image/png": "[encoded data removed]"
          },
          "metadata": {
            "needs_background": "light"
          }
        }
      ]
    },
    {
      "cell_type": "code",
      "source": [
        "print(classification_report(y_train, rf_final.predict(x_train_tf2), labels=classes))"
      ],
      "metadata": {
        "colab": {
          "base_uri": "https://localhost:8080/"
        },
        "id": "syi8v1RZu0o9",
        "outputId": "88431499-b649-42c2-8274-867c2627d879"
      },
      "execution_count": null,
      "outputs": [
        {
          "output_type": "stream",
          "name": "stdout",
          "text": [
            "              precision    recall  f1-score   support\n",
            "\n",
            "           2       1.00      0.99      0.99      2473\n",
            "           3       1.00      1.00      1.00       874\n",
            "           4       0.99      1.00      1.00     18242\n",
            "           7       0.99      0.99      0.99     13045\n",
            "           6       1.00      1.00      1.00      3663\n",
            "           5       1.00      0.99      0.99     12269\n",
            "           8       1.00      0.99      0.99     11459\n",
            "           9       0.98      0.99      0.98      6029\n",
            "          10       0.98      0.99      0.98      3636\n",
            "\n",
            "    accuracy                           0.99     71690\n",
            "   macro avg       0.99      0.99      0.99     71690\n",
            "weighted avg       0.99      0.99      0.99     71690\n",
            "\n"
          ]
        }
      ]
    },
    {
      "cell_type": "code",
      "source": [
        "print(classification_report(y_test, rf_final.predict(x_test_tf2), labels=classes))"
      ],
      "metadata": {
        "colab": {
          "base_uri": "https://localhost:8080/"
        },
        "id": "wCL6z4efvPI9",
        "outputId": "20866624-a678-496e-d0ef-67599780a811"
      },
      "execution_count": null,
      "outputs": [
        {
          "output_type": "stream",
          "name": "stdout",
          "text": [
            "              precision    recall  f1-score   support\n",
            "\n",
            "           2       0.79      0.56      0.66       618\n",
            "           3       0.66      0.10      0.17       219\n",
            "           4       0.81      0.83      0.82      4561\n",
            "           7       0.64      0.65      0.64      3261\n",
            "           6       0.89      0.51      0.65       916\n",
            "           5       0.55      0.75      0.64      3067\n",
            "           8       0.71      0.69      0.70      2865\n",
            "           9       0.73      0.67      0.70      1507\n",
            "          10       0.75      0.51      0.61       909\n",
            "\n",
            "    accuracy                           0.70     17923\n",
            "   macro avg       0.73      0.58      0.62     17923\n",
            "weighted avg       0.71      0.70      0.69     17923\n",
            "\n"
          ]
        }
      ]
    },
    {
      "cell_type": "markdown",
      "source": [
        "---\n",
        "\n",
        "### Modelling with KNN and Decission Classifiers (tuned hyperParameters)\n",
        "\n",
        "---"
      ],
      "metadata": {
        "id": "IyxDgOquqWTk"
      }
    },
    {
      "cell_type": "code",
      "source": [
        "classifiers1 = [\n",
        "        KNeighborsClassifier(n_neighbors=7,weights='distance',metric='manhattan'),\n",
        "        DecisionTreeClassifier(criterion='entropy', max_depth=50, min_samples_leaf=20,   random_state=42)\n",
        "    ]"
      ],
      "metadata": {
        "id": "f2ly1bgpqY0J"
      },
      "execution_count": null,
      "outputs": []
    },
    {
      "cell_type": "code",
      "source": [
        "check_model_and_test(x_train_tfidf, y_train, x_test_tfidf, y_test, classifiers1)"
      ],
      "metadata": {
        "colab": {
          "base_uri": "https://localhost:8080/"
        },
        "id": "oZLpagkXqbhU",
        "outputId": "09c31383-737a-4559-fbd9-a7f67b3fe89c"
      },
      "execution_count": null,
      "outputs": [
        {
          "output_type": "stream",
          "name": "stdout",
          "text": [
            "KNeighborsClassifier f1 score:\n",
            "0.6338\n",
            "\n",
            "\n",
            "DecisionTreeClassifier f1 score:\n",
            "0.6420\n",
            "\n",
            "\n"
          ]
        }
      ]
    },
    {
      "cell_type": "markdown",
      "source": [
        "\n",
        "\n",
        "---\n",
        "\n",
        "### Experiment with SVM\n",
        "\n",
        "---\n",
        "\n"
      ],
      "metadata": {
        "id": "HU4anpZGkLjq"
      }
    },
    {
      "cell_type": "markdown",
      "source": [
        "We also want to try experimenting with SVM for this code, however, the time it takes to train is incredibly long andnot practical. Therefore, we will take a much small sample from the dataset and use that."
      ],
      "metadata": {
        "id": "dS5F4J46fgY9"
      }
    },
    {
      "cell_type": "code",
      "source": [
        "x_train_tf2.shape"
      ],
      "metadata": {
        "colab": {
          "base_uri": "https://localhost:8080/"
        },
        "id": "yRWIFXiRQCWY",
        "outputId": "f1ed6e9d-112e-46fc-c778-ad2825e5b668"
      },
      "execution_count": null,
      "outputs": [
        {
          "output_type": "execute_result",
          "data": {
            "text/plain": [
              "(71690, 11427)"
            ]
          },
          "metadata": {},
          "execution_count": 87
        }
      ]
    },
    {
      "cell_type": "code",
      "source": [
        "x_test_tf2.shape"
      ],
      "metadata": {
        "colab": {
          "base_uri": "https://localhost:8080/"
        },
        "id": "EM3ijXT-Qdcu",
        "outputId": "89cc29d1-c26a-4ee7-811a-3a4cb7c59e99"
      },
      "execution_count": null,
      "outputs": [
        {
          "output_type": "execute_result",
          "data": {
            "text/plain": [
              "(17923, 11427)"
            ]
          },
          "metadata": {},
          "execution_count": 88
        }
      ]
    },
    {
      "cell_type": "code",
      "source": [
        "x_train_svm = x_train_tf2[:15000]\n",
        "y_train_svm = y_train[:15000]\n",
        "x_test_svm = x_test_tf2[:3000]\n",
        "y_test_svm = y_test[:3000]"
      ],
      "metadata": {
        "id": "WinyM4mbQYFZ"
      },
      "execution_count": null,
      "outputs": []
    },
    {
      "cell_type": "code",
      "source": [
        "svm = SVC(C=10, kernel='linear', verbose=1)"
      ],
      "metadata": {
        "id": "Y88sXdOIFX-z"
      },
      "execution_count": null,
      "outputs": []
    },
    {
      "cell_type": "code",
      "source": [
        "svm.fit(x_train_svm, y_train_svm)"
      ],
      "metadata": {
        "colab": {
          "base_uri": "https://localhost:8080/"
        },
        "id": "GVaGChe8FhFA",
        "outputId": "a31a175a-d387-4497-f65f-5de9ae76a6e1"
      },
      "execution_count": null,
      "outputs": [
        {
          "output_type": "stream",
          "name": "stdout",
          "text": [
            "[LibSVM]"
          ]
        },
        {
          "output_type": "execute_result",
          "data": {
            "text/plain": [
              "SVC(C=10, kernel='linear', verbose=1)"
            ]
          },
          "metadata": {},
          "execution_count": 91
        }
      ]
    },
    {
      "cell_type": "code",
      "source": [
        "pred_svm_train = svm.predict(x_train_svm)\n",
        "pred_svm_test = svm.predict(x_test_svm)"
      ],
      "metadata": {
        "id": "f6RK4_AUCCv0"
      },
      "execution_count": null,
      "outputs": []
    },
    {
      "cell_type": "code",
      "source": [
        "classes = []\n",
        "for i in range(2,11):\n",
        "  classes.append(i)"
      ],
      "metadata": {
        "id": "nwMeWg8eSSrj"
      },
      "execution_count": null,
      "outputs": []
    },
    {
      "cell_type": "code",
      "source": [
        "classes"
      ],
      "metadata": {
        "colab": {
          "base_uri": "https://localhost:8080/"
        },
        "id": "OIzv22m2ShsX",
        "outputId": "657903b4-1e6f-46e7-ca79-cbec8af4007a"
      },
      "execution_count": null,
      "outputs": [
        {
          "output_type": "execute_result",
          "data": {
            "text/plain": [
              "array([ 2,  3,  4,  7,  6,  5,  8,  9, 10])"
            ]
          },
          "metadata": {},
          "execution_count": 83
        }
      ]
    },
    {
      "cell_type": "code",
      "source": [
        "training_acc = accuracy_score(y_train_svm, pred_svm_train)\n",
        "test_acc = accuracy_score(y_test_svm, pred_svm_test)\n",
        "\n",
        "print('training accuracy: {}'.format(training_acc))\n",
        "print('test accuracy: {}'.format(test_acc))\n",
        "\n",
        "svm_con_train = confusion_matrix(y_train_svm, pred_svm_train, labels=classes)\n",
        "svm_con_test = confusion_matrix(y_test_svm, pred_svm_test, labels=classes)"
      ],
      "metadata": {
        "colab": {
          "base_uri": "https://localhost:8080/"
        },
        "id": "QT104yXSGHQR",
        "outputId": "fbe36d55-161b-458a-e464-cfd15f6302b5"
      },
      "execution_count": null,
      "outputs": [
        {
          "output_type": "stream",
          "name": "stdout",
          "text": [
            "training accuracy: 0.9696\n",
            "test accuracy: 0.612\n"
          ]
        }
      ]
    },
    {
      "cell_type": "code",
      "source": [
        "work_df['cvss'].value_counts()"
      ],
      "metadata": {
        "colab": {
          "base_uri": "https://localhost:8080/"
        },
        "id": "J5Jv9V8gSn47",
        "outputId": "4d8f5fa4-33e9-499f-83f5-9af2aa3b3d95"
      },
      "execution_count": null,
      "outputs": [
        {
          "output_type": "execute_result",
          "data": {
            "text/plain": [
              "4     22803\n",
              "7     16306\n",
              "5     15336\n",
              "8     14324\n",
              "9      7536\n",
              "6      4579\n",
              "10     4545\n",
              "2      3091\n",
              "3      1093\n",
              "Name: cvss, dtype: int64"
            ]
          },
          "metadata": {},
          "execution_count": 96
        }
      ]
    },
    {
      "cell_type": "code",
      "source": [
        "disp = ConfusionMatrixDisplay(svm_con_train, display_labels=classes)\n",
        "disp.plot()\n",
        "plt.show()"
      ],
      "metadata": {
        "colab": {
          "base_uri": "https://localhost:8080/",
          "height": 279
        },
        "id": "JccUTa_YILX_",
        "outputId": "6e985338-778d-4622-880a-e860927d4941"
      },
      "execution_count": null,
      "outputs": [
        {
          "output_type": "display_data",
          "data": {
            "text/plain": [
              "<Figure size 432x288 with 2 Axes>"
            ],
            "image/png": "[encoded data removed]"
          },
          "metadata": {
            "needs_background": "light"
          }
        }
      ]
    },
    {
      "cell_type": "code",
      "source": [
        "disp = ConfusionMatrixDisplay(svm_con_test, display_labels=classes)\n",
        "disp.plot()\n",
        "plt.show()"
      ],
      "metadata": {
        "colab": {
          "base_uri": "https://localhost:8080/",
          "height": 279
        },
        "id": "78LoAHfnIWHi",
        "outputId": "834a7d97-b584-46e3-acbe-35f234579949"
      },
      "execution_count": null,
      "outputs": [
        {
          "output_type": "display_data",
          "data": {
            "text/plain": [
              "<Figure size 432x288 with 2 Axes>"
            ],
            "image/png": "[encoded data removed]"
          },
          "metadata": {
            "needs_background": "light"
          }
        }
      ]
    },
    {
      "cell_type": "code",
      "source": [
        "print(classification_report(y_train_svm, pred_svm_train))"
      ],
      "metadata": {
        "colab": {
          "base_uri": "https://localhost:8080/"
        },
        "id": "xocy585RTSS3",
        "outputId": "d98dcc31-9e97-431e-d946-411b7c3a9f1c"
      },
      "execution_count": null,
      "outputs": [
        {
          "output_type": "stream",
          "name": "stdout",
          "text": [
            "              precision    recall  f1-score   support\n",
            "\n",
            "           2       0.98      0.98      0.98       532\n",
            "           3       0.99      0.95      0.97       191\n",
            "           4       0.99      0.98      0.98      3811\n",
            "           5       0.96      0.97      0.97      2633\n",
            "           6       0.99      0.99      0.99       755\n",
            "           7       0.96      0.96      0.96      2676\n",
            "           8       0.97      0.97      0.97      2376\n",
            "           9       0.96      0.94      0.95      1251\n",
            "          10       0.92      0.97      0.95       775\n",
            "\n",
            "    accuracy                           0.97     15000\n",
            "   macro avg       0.97      0.97      0.97     15000\n",
            "weighted avg       0.97      0.97      0.97     15000\n",
            "\n"
          ]
        }
      ]
    },
    {
      "cell_type": "code",
      "source": [
        "print(classification_report(y_test_svm, pred_svm_test))"
      ],
      "metadata": {
        "colab": {
          "base_uri": "https://localhost:8080/"
        },
        "id": "I5VPcbSjTBEG",
        "outputId": "e37c8700-e94c-44e0-a868-244c8c7292b4"
      },
      "execution_count": null,
      "outputs": [
        {
          "output_type": "stream",
          "name": "stdout",
          "text": [
            "              precision    recall  f1-score   support\n",
            "\n",
            "           2       0.52      0.56      0.54       102\n",
            "           3       0.31      0.08      0.13        48\n",
            "           4       0.71      0.80      0.75       774\n",
            "           5       0.51      0.55      0.53       522\n",
            "           6       0.59      0.50      0.54       143\n",
            "           7       0.56      0.52      0.54       567\n",
            "           8       0.62      0.63      0.63       446\n",
            "           9       0.69      0.59      0.64       256\n",
            "          10       0.57      0.51      0.54       142\n",
            "\n",
            "    accuracy                           0.61      3000\n",
            "   macro avg       0.56      0.53      0.54      3000\n",
            "weighted avg       0.61      0.61      0.61      3000\n",
            "\n"
          ]
        }
      ]
    },
    {
      "cell_type": "markdown",
      "source": [
        "\n",
        "\n",
        "\n",
        "---\n",
        "###Experiment with Dimensionality Reduction\n",
        "\n",
        "---\n",
        "\n",
        "\n",
        "\n",
        "\n",
        "\n",
        "\n",
        "\n"
      ],
      "metadata": {
        "id": "YIIhIiBgiXTr"
      }
    },
    {
      "cell_type": "markdown",
      "source": [
        "We also want to try experimenting with PCA for this code, however, the time it takes to train is incredibly long and not practical. Therefore, we will take a much small sample from the dataset and use that."
      ],
      "metadata": {
        "id": "zp3rm22ffuMf"
      }
    },
    {
      "cell_type": "code",
      "source": [
        "from sklearn.decomposition import PCA\n",
        "\n",
        "x_train_pca = x_train_tf2[:15000]\n",
        "y_train_pca = y_train[:15000]\n",
        "x_test_pca = x_test_tf2[:3000]\n",
        "y_test_pca = y_test[:3000]\n",
        "\n",
        "print(x_train_pca.shape)\n",
        "pca = PCA(n_components=50, random_state=0)\n",
        "\n",
        "\n"
      ],
      "metadata": {
        "id": "vZk-HwsriWHp",
        "colab": {
          "base_uri": "https://localhost:8080/"
        },
        "outputId": "94e7b0a6-c778-47a8-f69e-154d69d25ba9"
      },
      "execution_count": null,
      "outputs": [
        {
          "output_type": "stream",
          "name": "stdout",
          "text": [
            "(15000, 11427)\n"
          ]
        }
      ]
    },
    {
      "cell_type": "code",
      "source": [
        "X_train_pca_new = pca.fit_transform(x_train_pca.toarray())\n",
        "X_test_pca_new = pca.fit_transform(x_test_pca.toarray())\n",
        "\n",
        "\n"
      ],
      "metadata": {
        "id": "VeXwpIUSI-2w"
      },
      "execution_count": null,
      "outputs": []
    },
    {
      "cell_type": "code",
      "source": [
        "rf_final_pca = RandomForestClassifier(n_estimators=100, max_depth=None)\n",
        "\n",
        "rf_final_pca = rf_final_pca.fit(X_train_pca_new, y_train_pca)\n",
        "rf_final_pred = rf_final_pca.predict(X_train_pca_new)\n",
        "rf_final_pred_test = rf_final_pca.predict(X_test_pca_new)"
      ],
      "metadata": {
        "id": "FnkdLo-pijGH"
      },
      "execution_count": null,
      "outputs": []
    },
    {
      "cell_type": "code",
      "source": [
        "print(pca.components_.shape)"
      ],
      "metadata": {
        "colab": {
          "base_uri": "https://localhost:8080/"
        },
        "id": "CUo30sqrJM5P",
        "outputId": "ebea7f0e-3b05-47d5-ff41-f65d6d5a521f"
      },
      "execution_count": null,
      "outputs": [
        {
          "output_type": "stream",
          "name": "stdout",
          "text": [
            "(50, 11427)\n"
          ]
        }
      ]
    },
    {
      "cell_type": "code",
      "source": [
        "from sklearn.metrics import f1_score, roc_auc_score, roc_curve, average_precision_score, precision_recall_curve, accuracy_score\n",
        "test_acc_pca = accuracy_score(y_train_pca,rf_final_pred)\n",
        "pca_score = f1_score(y_test_pca, rf_final_pred_test, average='micro')\n",
        "print(f\"Accuracy - {test_acc_pca}, f1-score - {pca_score}\")"
      ],
      "metadata": {
        "id": "lNVCzP79ilXg",
        "colab": {
          "base_uri": "https://localhost:8080/"
        },
        "outputId": "8297269c-2ee4-430c-f4da-7a9435f70533"
      },
      "execution_count": null,
      "outputs": [
        {
          "output_type": "stream",
          "name": "stdout",
          "text": [
            "Accuracy - 0.9952666666666666, f1-score - 0.3773333333333333\n"
          ]
        }
      ]
    },
    {
      "cell_type": "code",
      "source": [
        "pca_con_train = confusion_matrix(y_train_pca, rf_final_pred, labels=classes)\n",
        "pca_con_test = confusion_matrix(y_test_pca, rf_final_pred_test, labels=classes)"
      ],
      "metadata": {
        "id": "_j2W0iVCS4R2"
      },
      "execution_count": null,
      "outputs": []
    },
    {
      "cell_type": "code",
      "source": [
        "disp = ConfusionMatrixDisplay(pca_con_train, display_labels=classes)\n",
        "disp.plot()\n",
        "plt.show()"
      ],
      "metadata": {
        "colab": {
          "base_uri": "https://localhost:8080/",
          "height": 279
        },
        "id": "R_bX9IGOTFrW",
        "outputId": "3c57431b-02e2-4ac9-e68c-70f985c0d937"
      },
      "execution_count": null,
      "outputs": [
        {
          "output_type": "display_data",
          "data": {
            "text/plain": [
              "<Figure size 432x288 with 2 Axes>"
            ],
            "image/png": "[encoded data removed]"
          },
          "metadata": {
            "needs_background": "light"
          }
        }
      ]
    },
    {
      "cell_type": "code",
      "source": [
        "disp = ConfusionMatrixDisplay(pca_con_test, display_labels=classes)\n",
        "disp.plot()\n",
        "plt.show()"
      ],
      "metadata": {
        "colab": {
          "base_uri": "https://localhost:8080/",
          "height": 279
        },
        "id": "NWlwlMehTKao",
        "outputId": "899251d2-dcc9-4041-b963-a20da2f23c9c"
      },
      "execution_count": null,
      "outputs": [
        {
          "output_type": "display_data",
          "data": {
            "text/plain": [
              "<Figure size 432x288 with 2 Axes>"
            ],
            "image/png": "[encoded data removed]"
          },
          "metadata": {
            "needs_background": "light"
          }
        }
      ]
    },
    {
      "cell_type": "code",
      "source": [
        "print(classification_report(y_train_pca, rf_final_pred))"
      ],
      "metadata": {
        "colab": {
          "base_uri": "https://localhost:8080/"
        },
        "id": "mPIhMIZZTRjj",
        "outputId": "a283611d-847a-47f8-9b38-aa1cea4a31f2"
      },
      "execution_count": null,
      "outputs": [
        {
          "output_type": "stream",
          "name": "stdout",
          "text": [
            "              precision    recall  f1-score   support\n",
            "\n",
            "           2       1.00      1.00      1.00       532\n",
            "           3       1.00      1.00      1.00       191\n",
            "           4       1.00      1.00      1.00      3811\n",
            "           5       1.00      0.99      0.99      2633\n",
            "           6       1.00      1.00      1.00       755\n",
            "           7       1.00      0.99      0.99      2676\n",
            "           8       1.00      0.99      1.00      2376\n",
            "           9       0.98      1.00      0.99      1251\n",
            "          10       0.99      0.99      0.99       775\n",
            "\n",
            "    accuracy                           1.00     15000\n",
            "   macro avg       1.00      1.00      1.00     15000\n",
            "weighted avg       1.00      1.00      1.00     15000\n",
            "\n"
          ]
        }
      ]
    },
    {
      "cell_type": "code",
      "source": [
        "print(classification_report(y_test_pca, rf_final_pred_test))"
      ],
      "metadata": {
        "colab": {
          "base_uri": "https://localhost:8080/"
        },
        "id": "j7qe-QuWTaUm",
        "outputId": "8ea2114b-1aa8-4780-92ed-a8e409fd8f4d"
      },
      "execution_count": null,
      "outputs": [
        {
          "output_type": "stream",
          "name": "stdout",
          "text": [
            "              precision    recall  f1-score   support\n",
            "\n",
            "           2       0.00      0.00      0.00       102\n",
            "           3       0.00      0.00      0.00        48\n",
            "           4       0.55      0.61      0.58       774\n",
            "           5       0.27      0.43      0.33       522\n",
            "           6       0.93      0.30      0.46       143\n",
            "           7       0.24      0.34      0.28       567\n",
            "           8       0.47      0.38      0.42       446\n",
            "           9       0.26      0.09      0.14       256\n",
            "          10       0.33      0.02      0.04       142\n",
            "\n",
            "    accuracy                           0.38      3000\n",
            "   macro avg       0.34      0.24      0.25      3000\n",
            "weighted avg       0.39      0.38      0.36      3000\n",
            "\n"
          ]
        },
        {
          "output_type": "stream",
          "name": "stderr",
          "text": [
            "/usr/local/lib/python3.7/dist-packages/sklearn/metrics/_classification.py:1318: UndefinedMetricWarning: Precision and F-score are ill-defined and being set to 0.0 in labels with no predicted samples. Use `zero_division` parameter to control this behavior.\n",
            "  _warn_prf(average, modifier, msg_start, len(result))\n",
            "/usr/local/lib/python3.7/dist-packages/sklearn/metrics/_classification.py:1318: UndefinedMetricWarning: Precision and F-score are ill-defined and being set to 0.0 in labels with no predicted samples. Use `zero_division` parameter to control this behavior.\n",
            "  _warn_prf(average, modifier, msg_start, len(result))\n",
            "/usr/local/lib/python3.7/dist-packages/sklearn/metrics/_classification.py:1318: UndefinedMetricWarning: Precision and F-score are ill-defined and being set to 0.0 in labels with no predicted samples. Use `zero_division` parameter to control this behavior.\n",
            "  _warn_prf(average, modifier, msg_start, len(result))\n"
          ]
        }
      ]
    },
    {
      "cell_type": "code",
      "source": [
        "x_train_pca = x_train_tf2[:15000]\n",
        "y_train_pca = y_train[:15000]\n",
        "x_test_pca = x_test_tf2[:3000]\n",
        "y_test_pca = y_test[:3000]\n",
        "\n",
        "print(x_train_pca.shape)\n",
        "pca = PCA(n_components=100, random_state=0)"
      ],
      "metadata": {
        "colab": {
          "base_uri": "https://localhost:8080/"
        },
        "id": "zTQnISJcuuFY",
        "outputId": "98cbd169-b6bd-499a-f801-281f9d6c6836"
      },
      "execution_count": null,
      "outputs": [
        {
          "output_type": "stream",
          "name": "stdout",
          "text": [
            "(15000, 11427)\n"
          ]
        }
      ]
    },
    {
      "cell_type": "code",
      "source": [
        "X_train_pca_new = pca.fit_transform(x_train_pca.toarray())\n",
        "X_test_pca_new = pca.fit_transform(x_test_pca.toarray())"
      ],
      "metadata": {
        "id": "SqjlNbAZu1QJ"
      },
      "execution_count": null,
      "outputs": []
    },
    {
      "cell_type": "code",
      "source": [
        "print(pca.components_.shape)"
      ],
      "metadata": {
        "colab": {
          "base_uri": "https://localhost:8080/"
        },
        "id": "BYlbSUEMu6eT",
        "outputId": "f82feaf8-7c8f-45be-ab8d-fd658e775332"
      },
      "execution_count": null,
      "outputs": [
        {
          "output_type": "stream",
          "name": "stdout",
          "text": [
            "(100, 11427)\n"
          ]
        }
      ]
    },
    {
      "cell_type": "code",
      "source": [
        "rf_final_pca = RandomForestClassifier(n_estimators=100, max_depth=None)\n",
        "\n",
        "rf_final_pca = rf_final_pca.fit(X_train_pca_new, y_train_pca)\n",
        "rf_final_pred = rf_final_pca.predict(X_train_pca_new)\n",
        "rf_final_pred_test = rf_final_pca.predict(X_test_pca_new)"
      ],
      "metadata": {
        "id": "_wPjKagxu5jN"
      },
      "execution_count": null,
      "outputs": []
    },
    {
      "cell_type": "code",
      "source": [
        "test_acc_pca = accuracy_score(y_train_pca,rf_final_pred)\n",
        "pca_score = f1_score(y_test_pca, rf_final_pred_test, average='micro')\n",
        "print(f\"Accuracy - {test_acc_pca}, f1-score - {pca_score}\")"
      ],
      "metadata": {
        "colab": {
          "base_uri": "https://localhost:8080/"
        },
        "id": "C8WAhKUEvRp4",
        "outputId": "8bf99081-b0f7-4e27-9e81-66795ce51c6c"
      },
      "execution_count": null,
      "outputs": [
        {
          "output_type": "stream",
          "name": "stdout",
          "text": [
            "Accuracy - 0.9952666666666666, f1-score - 0.37533333333333335\n"
          ]
        }
      ]
    },
    {
      "cell_type": "code",
      "source": [
        "pca_con_train = confusion_matrix(y_train_pca, rf_final_pred, labels=classes)\n",
        "pca_con_test = confusion_matrix(y_test_pca, rf_final_pred_test, labels=classes)"
      ],
      "metadata": {
        "id": "kzoUmo09vWiD"
      },
      "execution_count": null,
      "outputs": []
    },
    {
      "cell_type": "code",
      "source": [
        "disp = ConfusionMatrixDisplay(pca_con_train, display_labels=classes)\n",
        "disp.plot()\n",
        "plt.show()"
      ],
      "metadata": {
        "colab": {
          "base_uri": "https://localhost:8080/",
          "height": 279
        },
        "id": "C1-Rt9WovaOg",
        "outputId": "19b00c51-158b-41b4-a397-a710b4d71a5f"
      },
      "execution_count": null,
      "outputs": [
        {
          "output_type": "display_data",
          "data": {
            "text/plain": [
              "<Figure size 432x288 with 2 Axes>"
            ],
            "image/png": "[encoded data removed]"
          },
          "metadata": {
            "needs_background": "light"
          }
        }
      ]
    },
    {
      "cell_type": "code",
      "source": [
        "disp = ConfusionMatrixDisplay(pca_con_test, display_labels=classes)\n",
        "disp.plot()\n",
        "plt.show()"
      ],
      "metadata": {
        "colab": {
          "base_uri": "https://localhost:8080/",
          "height": 279
        },
        "id": "pC1mhN3VvbN1",
        "outputId": "7b2f0a98-6f75-44ed-ca90-280d59fcb0f7"
      },
      "execution_count": null,
      "outputs": [
        {
          "output_type": "display_data",
          "data": {
            "text/plain": [
              "<Figure size 432x288 with 2 Axes>"
            ],
            "image/png": "[encoded data removed]"
          },
          "metadata": {
            "needs_background": "light"
          }
        }
      ]
    },
    {
      "cell_type": "code",
      "source": [
        "print(classification_report(y_train_pca, rf_final_pred))"
      ],
      "metadata": {
        "colab": {
          "base_uri": "https://localhost:8080/"
        },
        "id": "QDziYN8bvf37",
        "outputId": "534587ba-aaca-4dbd-d037-d4f77c38df7b"
      },
      "execution_count": null,
      "outputs": [
        {
          "output_type": "stream",
          "name": "stdout",
          "text": [
            "              precision    recall  f1-score   support\n",
            "\n",
            "           2       1.00      1.00      1.00       532\n",
            "           3       1.00      1.00      1.00       191\n",
            "           4       1.00      1.00      1.00      3811\n",
            "           5       1.00      0.99      0.99      2633\n",
            "           6       1.00      1.00      1.00       755\n",
            "           7       1.00      0.99      0.99      2676\n",
            "           8       1.00      1.00      1.00      2376\n",
            "           9       0.99      1.00      0.99      1251\n",
            "          10       0.99      0.99      0.99       775\n",
            "\n",
            "    accuracy                           1.00     15000\n",
            "   macro avg       1.00      1.00      1.00     15000\n",
            "weighted avg       1.00      1.00      1.00     15000\n",
            "\n"
          ]
        }
      ]
    },
    {
      "cell_type": "code",
      "source": [
        "print(classification_report(y_test_pca, rf_final_pred_test))"
      ],
      "metadata": {
        "colab": {
          "base_uri": "https://localhost:8080/"
        },
        "id": "DZus4pGbvhVa",
        "outputId": "090bf71c-5f09-469c-d1f3-14bda6379242"
      },
      "execution_count": null,
      "outputs": [
        {
          "output_type": "stream",
          "name": "stdout",
          "text": [
            "              precision    recall  f1-score   support\n",
            "\n",
            "           2       0.00      0.00      0.00       102\n",
            "           3       0.00      0.00      0.00        48\n",
            "           4       0.50      0.62      0.56       774\n",
            "           5       0.26      0.39      0.31       522\n",
            "           6       0.96      0.30      0.46       143\n",
            "           7       0.25      0.34      0.29       567\n",
            "           8       0.53      0.39      0.45       446\n",
            "           9       0.28      0.10      0.15       256\n",
            "          10       0.50      0.01      0.03       142\n",
            "\n",
            "    accuracy                           0.38      3000\n",
            "   macro avg       0.36      0.24      0.25      3000\n",
            "weighted avg       0.39      0.38      0.35      3000\n",
            "\n"
          ]
        },
        {
          "output_type": "stream",
          "name": "stderr",
          "text": [
            "/usr/local/lib/python3.7/dist-packages/sklearn/metrics/_classification.py:1318: UndefinedMetricWarning: Precision and F-score are ill-defined and being set to 0.0 in labels with no predicted samples. Use `zero_division` parameter to control this behavior.\n",
            "  _warn_prf(average, modifier, msg_start, len(result))\n",
            "/usr/local/lib/python3.7/dist-packages/sklearn/metrics/_classification.py:1318: UndefinedMetricWarning: Precision and F-score are ill-defined and being set to 0.0 in labels with no predicted samples. Use `zero_division` parameter to control this behavior.\n",
            "  _warn_prf(average, modifier, msg_start, len(result))\n",
            "/usr/local/lib/python3.7/dist-packages/sklearn/metrics/_classification.py:1318: UndefinedMetricWarning: Precision and F-score are ill-defined and being set to 0.0 in labels with no predicted samples. Use `zero_division` parameter to control this behavior.\n",
            "  _warn_prf(average, modifier, msg_start, len(result))\n"
          ]
        }
      ]
    },
    {
      "cell_type": "code",
      "source": [
        "svm = SVC(C=10, kernel='linear', verbose=1)\n",
        "svm.fit(x_train_pca, y_train_pca)\n",
        "\n",
        "\n",
        "pred_svm_train_pca = svm.predict(x_train_pca)\n",
        "pred_svm_test_pca = svm.predict(x_test_pca)"
      ],
      "metadata": {
        "id": "RLX_E0Q4wxXl",
        "colab": {
          "base_uri": "https://localhost:8080/"
        },
        "outputId": "e169ee6a-9319-45b2-8303-93f830d99410"
      },
      "execution_count": null,
      "outputs": [
        {
          "output_type": "stream",
          "name": "stdout",
          "text": [
            "[LibSVM]"
          ]
        }
      ]
    },
    {
      "cell_type": "code",
      "source": [
        "training_acc = accuracy_score(y_train_pca, pred_svm_train_pca)\n",
        "test_acc = accuracy_score(y_test_pca, pred_svm_test_pca)\n",
        "\n",
        "print('training accuracy: {}'.format(training_acc))\n",
        "print('test accuracy: {}'.format(test_acc))\n"
      ],
      "metadata": {
        "id": "7hl8kluQxOcV",
        "colab": {
          "base_uri": "https://localhost:8080/"
        },
        "outputId": "59204758-1eeb-484e-a6db-4eafd993e837"
      },
      "execution_count": null,
      "outputs": [
        {
          "output_type": "stream",
          "name": "stdout",
          "text": [
            "training accuracy: 0.9696\n",
            "test accuracy: 0.612\n"
          ]
        }
      ]
    },
    {
      "cell_type": "code",
      "source": [
        "pca_con_train = confusion_matrix(y_train_pca, pred_svm_train_pca, labels=classes)\n",
        "pca_con_test = confusion_matrix(y_test_pca, pred_svm_test_pca, labels=classes)"
      ],
      "metadata": {
        "id": "6_e6M6Dqy6hg"
      },
      "execution_count": null,
      "outputs": []
    },
    {
      "cell_type": "code",
      "source": [
        "disp = ConfusionMatrixDisplay(pca_con_train, display_labels=classes)\n",
        "disp.plot()\n",
        "plt.show()"
      ],
      "metadata": {
        "colab": {
          "base_uri": "https://localhost:8080/",
          "height": 279
        },
        "id": "bj6GCmZvzAtc",
        "outputId": "f356037d-4495-495b-cf85-b1c7c6c19252"
      },
      "execution_count": null,
      "outputs": [
        {
          "output_type": "display_data",
          "data": {
            "text/plain": [
              "<Figure size 432x288 with 2 Axes>"
            ],
            "image/png": "[encoded data removed]"
          },
          "metadata": {
            "needs_background": "light"
          }
        }
      ]
    },
    {
      "cell_type": "code",
      "source": [
        "disp = ConfusionMatrixDisplay(pca_con_test, display_labels=classes)\n",
        "disp.plot()\n",
        "plt.show()"
      ],
      "metadata": {
        "id": "l7av0w18zGAy",
        "outputId": "66176837-f2bc-4382-c7ae-67b2ac41600e",
        "colab": {
          "base_uri": "https://localhost:8080/",
          "height": 279
        }
      },
      "execution_count": null,
      "outputs": [
        {
          "output_type": "display_data",
          "data": {
            "text/plain": [
              "<Figure size 432x288 with 2 Axes>"
            ],
            "image/png": "[encoded data removed]"
          },
          "metadata": {
            "needs_background": "light"
          }
        }
      ]
    },
    {
      "cell_type": "code",
      "source": [
        "print(classification_report(y_train_pca, pred_svm_train_pca))"
      ],
      "metadata": {
        "id": "JXSNmpLYxUPw",
        "colab": {
          "base_uri": "https://localhost:8080/"
        },
        "outputId": "9f0cddf2-c0c5-4a1c-ef2d-b3946463446d"
      },
      "execution_count": null,
      "outputs": [
        {
          "output_type": "stream",
          "name": "stdout",
          "text": [
            "              precision    recall  f1-score   support\n",
            "\n",
            "           2       0.98      0.98      0.98       532\n",
            "           3       0.99      0.95      0.97       191\n",
            "           4       0.99      0.98      0.98      3811\n",
            "           5       0.96      0.97      0.97      2633\n",
            "           6       0.99      0.99      0.99       755\n",
            "           7       0.96      0.96      0.96      2676\n",
            "           8       0.97      0.97      0.97      2376\n",
            "           9       0.96      0.94      0.95      1251\n",
            "          10       0.92      0.97      0.95       775\n",
            "\n",
            "    accuracy                           0.97     15000\n",
            "   macro avg       0.97      0.97      0.97     15000\n",
            "weighted avg       0.97      0.97      0.97     15000\n",
            "\n"
          ]
        }
      ]
    },
    {
      "cell_type": "code",
      "source": [
        "print(classification_report(y_test_pca, pred_svm_test_pca))"
      ],
      "metadata": {
        "id": "dTD0wFo9xkdS",
        "colab": {
          "base_uri": "https://localhost:8080/"
        },
        "outputId": "a974760c-a60b-4d3e-c0c9-3d5e5b3553da"
      },
      "execution_count": null,
      "outputs": [
        {
          "output_type": "stream",
          "name": "stdout",
          "text": [
            "              precision    recall  f1-score   support\n",
            "\n",
            "           2       0.52      0.56      0.54       102\n",
            "           3       0.31      0.08      0.13        48\n",
            "           4       0.71      0.80      0.75       774\n",
            "           5       0.51      0.55      0.53       522\n",
            "           6       0.59      0.50      0.54       143\n",
            "           7       0.56      0.52      0.54       567\n",
            "           8       0.62      0.63      0.63       446\n",
            "           9       0.69      0.59      0.64       256\n",
            "          10       0.57      0.51      0.54       142\n",
            "\n",
            "    accuracy                           0.61      3000\n",
            "   macro avg       0.56      0.53      0.54      3000\n",
            "weighted avg       0.61      0.61      0.61      3000\n",
            "\n"
          ]
        }
      ]
    }
  ]
}