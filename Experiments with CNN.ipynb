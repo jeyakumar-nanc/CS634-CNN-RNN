{
  "cells": [
    {
      "cell_type": "markdown",
      "metadata": {
        "id": "Tajfsk_7JY3E"
      },
      "source": [
        "**Note to grader:** Each question consists of parts, e.g. Q1(i), Q1(ii), etc. Each part must be graded  on a 0-4 scale, following the standard NJIT convention (A:4, B+: 3.5, B:3, C+: 2.5, C: 2, D:1, F:0). \n",
        "The total score must be re-scaled to 100 -- that should apply to all future assignments so that Canvas assigns the same weight on all assignments.\n",
        "\n",
        "In the case a question is stated to worth 8 points, grade on a 0-4 scale, and multiply by 2.\n",
        "\n"
      ]
    },
    {
      "cell_type": "code",
      "execution_count": null,
      "metadata": {
        "id": "zPnHTf9MfT5X"
      },
      "outputs": [],
      "source": [
        "# Grader's area\n",
        "import numpy as np\n",
        "G = np.zeros([10,10])\n",
        "maxScore = 0\n"
      ]
    },
    {
      "cell_type": "markdown",
      "metadata": {
        "id": "1NnOFlqPI1qn"
      },
      "source": [
        "# **Assignment 6**\n",
        "<br>\n",
        "\n",
        "<font>"
      ]
    },
    {
      "cell_type": "code",
      "execution_count": 1,
      "metadata": {
        "id": "zSyX_FIzI1qn"
      },
      "outputs": [],
      "source": [
        "from IPython.display import Math\n",
        "from IPython.display import Latex\n",
        "\n",
        "import numpy as np\n",
        "import os\n",
        "import struct\n",
        "\n",
        "from sklearn.metrics import classification_report,confusion_matrix\n",
        "from sklearn.neural_network import MLPClassifier\n",
        "\n",
        "import torch\n",
        "import torchvision\n",
        "from torchvision import datasets, transforms "
      ]
    },
    {
      "cell_type": "code",
      "execution_count": 2,
      "metadata": {
        "id": "EzfKfVou-GsQ"
      },
      "outputs": [],
      "source": [
        "import matplotlib.pyplot as plt\n",
        "import numpy as np\n",
        "import torch.nn as nn\n",
        "import torch.nn.functional as F"
      ]
    },
    {
      "cell_type": "markdown",
      "metadata": {
        "id": "cc6kqRYyliiK"
      },
      "source": [
        "----------------\n",
        "----------------\n",
        "----------------"
      ]
    },
    {
      "cell_type": "markdown",
      "metadata": {
        "id": "aXayK-GxI1qo"
      },
      "source": [
        "## <font color='blue'> **Question 1.** Visualizing convergence. </font>\n",
        "\n",
        "Modify this code so that in every epoch it records:\n",
        "\n",
        "**a.** The test loss [4 pt] <br>\n",
        "**b.** The training accuracy [4 pt] <br>\n",
        "**c.** The test accuracy [4pt] \n",
        "\n",
        "Then:\n",
        "\n",
        "**d.** Run the model for 20 epochs and give two plots (one for losses, one for accuracies) for the convergence behavior over 20 epochs. [4pt]\n",
        "\n",
        "<br>\n",
        "\n",
        "**Note:**\n",
        "Make sure you avoid updating the weights when you use the test set. For that you should consult the notebook from CNNs lecture. \n",
        "\n",
        "\n"
      ]
    },
    {
      "cell_type": "code",
      "execution_count": null,
      "metadata": {
        "colab": {
          "base_uri": "https://localhost:8080/"
        },
        "id": "Lcn-Ia3cfnLV",
        "outputId": "8c3cd919-fd80-494a-fa81-45c5b046a28e"
      },
      "outputs": [
        {
          "output_type": "stream",
          "name": "stdout",
          "text": [
            "Files already downloaded and verified\n",
            "Files already downloaded and verified\n"
          ]
        }
      ],
      "source": [
        "transform = transforms.Compose(\n",
        "    [transforms.ToTensor(),\n",
        "     transforms.Normalize((0.5, 0.5, 0.5), (0.5, 0.5, 0.5))])\n",
        "\n",
        "batch_size = 4\n",
        "\n",
        "trainset = torchvision.datasets.CIFAR10(root='./data', train=True,\n",
        "                                        download=True, transform=transform)\n",
        "trainloader = torch.utils.data.DataLoader(trainset, batch_size=batch_size,\n",
        "                                          shuffle=True, num_workers=2)\n",
        "\n",
        "testset = torchvision.datasets.CIFAR10(root='./data', train=False,\n",
        "                                       download=True, transform=transform)\n",
        "testloader = torch.utils.data.DataLoader(testset, batch_size=batch_size,\n",
        "                                         shuffle=False, num_workers=2)\n",
        "\n",
        "classes = ('plane', 'car', 'bird', 'cat',\n",
        "           'deer', 'dog', 'frog', 'horse', 'ship', 'truck')"
      ]
    },
    {
      "cell_type": "code",
      "execution_count": null,
      "metadata": {
        "colab": {
          "base_uri": "https://localhost:8080/"
        },
        "id": "Yh40HV0dfnLZ",
        "outputId": "bad9a9af-cb57-468a-f3cf-82aa6041ba52"
      },
      "outputs": [
        {
          "output_type": "stream",
          "name": "stdout",
          "text": [
            "Net(\n",
            "  (conv1): Conv2d(3, 6, kernel_size=(5, 5), stride=(1, 1))\n",
            "  (pool): MaxPool2d(kernel_size=2, stride=2, padding=0, dilation=1, ceil_mode=False)\n",
            "  (conv2): Conv2d(6, 16, kernel_size=(5, 5), stride=(1, 1))\n",
            "  (fc1): Linear(in_features=400, out_features=120, bias=True)\n",
            "  (fc2): Linear(in_features=120, out_features=84, bias=True)\n",
            "  (fc3): Linear(in_features=84, out_features=10, bias=True)\n",
            "  (dropout1): Dropout(p=0.5, inplace=False)\n",
            ")\n"
          ]
        }
      ],
      "source": [
        "class Net(nn.Module):\n",
        "    def __init__(self):\n",
        "        super().__init__()\n",
        "        self.conv1 = nn.Conv2d(3, 6, 5)\n",
        "        self.pool = nn.MaxPool2d(2, 2)\n",
        "        self.conv2 = nn.Conv2d(6, 16, 5)\n",
        "        self.fc1 = nn.Linear(16 * 5 * 5, 120)\n",
        "        self.fc2 = nn.Linear(120, 84)\n",
        "        self.fc3 = nn.Linear(84, 10)\n",
        "        self.dropout1 = nn.Dropout(0.5)\n",
        "\n",
        "    def forward(self, x):\n",
        "        x = self.pool(F.relu(self.conv1(x)))\n",
        "        x = self.pool(F.relu(self.conv2(x)))\n",
        "        x = torch.flatten(x, 1) # flatten all dimensions except batch\n",
        "        x = F.relu(self.fc1(x))\n",
        "        x = F.relu(self.fc2(x))\n",
        "        x = self.dropout1(x)\n",
        "        x = self.fc3(x)\n",
        "        return x\n",
        "\n",
        "\n",
        "net = Net()\n",
        "\n",
        "print(net)"
      ]
    },
    {
      "cell_type": "code",
      "execution_count": null,
      "metadata": {
        "colab": {
          "base_uri": "https://localhost:8080/"
        },
        "id": "XjqjPvy9fnLa",
        "outputId": "5084f8a1-dd5f-4611-b7dc-d2c6fcd481c3"
      },
      "outputs": [
        {
          "output_type": "stream",
          "name": "stdout",
          "text": [
            "<bound method Module.parameters of Net(\n",
            "  (conv1): Conv2d(3, 6, kernel_size=(5, 5), stride=(1, 1))\n",
            "  (pool): MaxPool2d(kernel_size=2, stride=2, padding=0, dilation=1, ceil_mode=False)\n",
            "  (conv2): Conv2d(6, 16, kernel_size=(5, 5), stride=(1, 1))\n",
            "  (fc1): Linear(in_features=400, out_features=120, bias=True)\n",
            "  (fc2): Linear(in_features=120, out_features=84, bias=True)\n",
            "  (fc3): Linear(in_features=84, out_features=10, bias=True)\n",
            "  (dropout1): Dropout(p=0.5, inplace=False)\n",
            ")>\n"
          ]
        }
      ],
      "source": [
        "import torch.optim as optim\n",
        "\n",
        "loss_fn = nn.CrossEntropyLoss()\n",
        "optimizer = optim.SGD(net.parameters(), lr=0.001, momentum=0.9)\n",
        "\n",
        "print(net.parameters)"
      ]
    },
    {
      "cell_type": "code",
      "execution_count": null,
      "metadata": {
        "id": "7A-T2D1CfnLa"
      },
      "outputs": [],
      "source": [
        "def eval_loss_and_accuracy(input_loader, epoch):\n",
        "  \n",
        "  eval_losses=[]\n",
        "  eval_accu=[]\n",
        "  start = torch.cuda.Event(enable_timing=True)\n",
        "  end = torch.cuda.Event(enable_timing=True)\n",
        "\n",
        "  start.record()\n",
        "  for epoch in range(epoch):  # loop over the dataset multiple times\n",
        "\n",
        "      running_loss=0.0\n",
        "      accuracy=0.0\n",
        "      total =0.0\n",
        "      correct=0.0\n",
        "      for i, data in enumerate(input_loader, 0):\n",
        "          # get the inputs; data is a list of [inputs, labels]\n",
        "          inputs, labels = data\n",
        "\n",
        "          # zero the parameter gradients\n",
        "          optimizer.zero_grad()\n",
        "\n",
        "          # forward + backward + optimize\n",
        "          outputs = net(inputs)\n",
        "          loss = loss_fn(outputs, labels)\n",
        "          loss.backward()\n",
        "          optimizer.step()\n",
        "\n",
        "          # print statistics\n",
        "          running_loss += loss.item()\n",
        "          if i % 2000 == 1999:    # print every 2000 mini-batches\n",
        "              print(f'[{epoch + 1}, {i + 1:5d}] loss: {running_loss / 2000:.3f}')\n",
        "              running_loss = 0.0         \n",
        "          \n",
        "          #Calculated prediction labels from models\n",
        "          _, predicted = torch.max(outputs.data, 1)\n",
        "          total += labels.size(0)\n",
        "          \n",
        "          #Comparing predicted and true labels\n",
        "          correct += (predicted == labels).sum().item()\n",
        "      accuracy = (100 * correct / total)\n",
        "      print(f'Accuracy is {accuracy:.1f} %')\n",
        "\n",
        "      eval_losses.append(round(running_loss/len(input_loader),3))            \n",
        "      eval_accu.append(round(accuracy,3))      \n",
        "\n",
        "  end.record()\n",
        "  # Waits for everything to finish running\n",
        "  torch.cuda.synchronize()\n",
        "\n",
        "  \n",
        "  print(start.elapsed_time(end))  # milliseconds\n",
        "  return eval_losses,eval_accu;"
      ]
    },
    {
      "cell_type": "code",
      "execution_count": null,
      "metadata": {
        "colab": {
          "base_uri": "https://localhost:8080/"
        },
        "id": "CYR4kmOneHC5",
        "outputId": "c3581155-2834-4e9b-acc7-ff293f2964d4"
      },
      "outputs": [
        {
          "output_type": "stream",
          "name": "stdout",
          "text": [
            "[1,  2000] loss: 1.597\n",
            "[1,  4000] loss: 1.542\n",
            "[1,  6000] loss: 1.537\n",
            "[1,  8000] loss: 1.506\n",
            "[1, 10000] loss: 1.473\n",
            "[1, 12000] loss: 1.461\n",
            "Accuracy is 45.6 %\n",
            "[2,  2000] loss: 1.396\n",
            "[2,  4000] loss: 1.405\n",
            "[2,  6000] loss: 1.396\n",
            "[2,  8000] loss: 1.384\n",
            "[2, 10000] loss: 1.364\n",
            "[2, 12000] loss: 1.366\n",
            "Accuracy is 50.8 %\n",
            "[3,  2000] loss: 1.308\n",
            "[3,  4000] loss: 1.311\n",
            "[3,  6000] loss: 1.285\n",
            "[3,  8000] loss: 1.265\n",
            "[3, 10000] loss: 1.264\n",
            "[3, 12000] loss: 1.267\n",
            "Accuracy is 55.1 %\n",
            "[4,  2000] loss: 1.222\n",
            "[4,  4000] loss: 1.227\n",
            "[4,  6000] loss: 1.211\n",
            "[4,  8000] loss: 1.207\n",
            "[4, 10000] loss: 1.209\n",
            "[4, 12000] loss: 1.204\n",
            "Accuracy is 57.6 %\n",
            "[5,  2000] loss: 1.133\n",
            "[5,  4000] loss: 1.147\n",
            "[5,  6000] loss: 1.154\n",
            "[5,  8000] loss: 1.173\n",
            "[5, 10000] loss: 1.167\n",
            "[5, 12000] loss: 1.172\n",
            "Accuracy is 59.5 %\n",
            "[6,  2000] loss: 1.079\n",
            "[6,  4000] loss: 1.098\n",
            "[6,  6000] loss: 1.123\n",
            "[6,  8000] loss: 1.106\n",
            "[6, 10000] loss: 1.117\n",
            "[6, 12000] loss: 1.142\n",
            "Accuracy is 61.4 %\n",
            "[7,  2000] loss: 1.051\n",
            "[7,  4000] loss: 1.077\n",
            "[7,  6000] loss: 1.096\n",
            "[7,  8000] loss: 1.071\n",
            "[7, 10000] loss: 1.107\n",
            "[7, 12000] loss: 1.075\n",
            "Accuracy is 62.8 %\n",
            "[8,  2000] loss: 1.019\n",
            "[8,  4000] loss: 1.022\n",
            "[8,  6000] loss: 1.044\n",
            "[8,  8000] loss: 1.048\n",
            "[8, 10000] loss: 1.069\n",
            "[8, 12000] loss: 1.040\n",
            "Accuracy is 63.9 %\n",
            "[9,  2000] loss: 0.959\n",
            "[9,  4000] loss: 1.018\n",
            "[9,  6000] loss: 1.009\n",
            "[9,  8000] loss: 1.042\n",
            "[9, 10000] loss: 1.042\n",
            "[9, 12000] loss: 1.034\n",
            "Accuracy is 64.8 %\n",
            "[10,  2000] loss: 0.948\n",
            "[10,  4000] loss: 0.978\n",
            "[10,  6000] loss: 0.979\n",
            "[10,  8000] loss: 0.994\n",
            "[10, 10000] loss: 1.021\n",
            "[10, 12000] loss: 1.022\n",
            "Accuracy is 65.7 %\n",
            "[11,  2000] loss: 0.946\n",
            "[11,  4000] loss: 0.968\n",
            "[11,  6000] loss: 0.965\n",
            "[11,  8000] loss: 0.959\n",
            "[11, 10000] loss: 1.008\n",
            "[11, 12000] loss: 0.993\n",
            "Accuracy is 66.5 %\n",
            "[12,  2000] loss: 0.902\n",
            "[12,  4000] loss: 0.932\n",
            "[12,  6000] loss: 0.955\n",
            "[12,  8000] loss: 0.938\n",
            "[12, 10000] loss: 0.953\n",
            "[12, 12000] loss: 0.998\n",
            "Accuracy is 67.4 %\n",
            "[13,  2000] loss: 0.881\n",
            "[13,  4000] loss: 0.914\n",
            "[13,  6000] loss: 0.941\n",
            "[13,  8000] loss: 0.963\n",
            "[13, 10000] loss: 0.948\n",
            "[13, 12000] loss: 0.957\n",
            "Accuracy is 67.5 %\n",
            "[14,  2000] loss: 0.855\n",
            "[14,  4000] loss: 0.894\n",
            "[14,  6000] loss: 0.914\n",
            "[14,  8000] loss: 0.934\n",
            "[14, 10000] loss: 0.951\n",
            "[14, 12000] loss: 0.932\n",
            "Accuracy is 68.2 %\n",
            "[15,  2000] loss: 0.876\n",
            "[15,  4000] loss: 0.884\n",
            "[15,  6000] loss: 0.910\n",
            "[15,  8000] loss: 0.917\n",
            "[15, 10000] loss: 0.929\n",
            "[15, 12000] loss: 0.939\n",
            "Accuracy is 68.5 %\n",
            "[16,  2000] loss: 0.837\n",
            "[16,  4000] loss: 0.878\n",
            "[16,  6000] loss: 0.877\n",
            "[16,  8000] loss: 0.902\n",
            "[16, 10000] loss: 0.909\n",
            "[16, 12000] loss: 0.918\n",
            "Accuracy is 69.2 %\n",
            "[17,  2000] loss: 0.842\n",
            "[17,  4000] loss: 0.853\n",
            "[17,  6000] loss: 0.893\n",
            "[17,  8000] loss: 0.893\n",
            "[17, 10000] loss: 0.896\n",
            "[17, 12000] loss: 0.899\n",
            "Accuracy is 69.5 %\n",
            "[18,  2000] loss: 0.824\n",
            "[18,  4000] loss: 0.846\n",
            "[18,  6000] loss: 0.855\n",
            "[18,  8000] loss: 0.875\n",
            "[18, 10000] loss: 0.883\n",
            "[18, 12000] loss: 0.884\n",
            "Accuracy is 70.2 %\n",
            "[19,  2000] loss: 0.796\n",
            "[19,  4000] loss: 0.833\n",
            "[19,  6000] loss: 0.856\n",
            "[19,  8000] loss: 0.848\n",
            "[19, 10000] loss: 0.893\n",
            "[19, 12000] loss: 0.888\n",
            "Accuracy is 70.4 %\n",
            "[20,  2000] loss: 0.781\n",
            "[20,  4000] loss: 0.832\n",
            "[20,  6000] loss: 0.828\n",
            "[20,  8000] loss: 0.885\n",
            "[20, 10000] loss: 0.850\n",
            "[20, 12000] loss: 0.881\n",
            "Accuracy is 70.7 %\n",
            "1054788.375\n",
            "Finished Training\n"
          ]
        }
      ],
      "source": [
        "#b. The training accuracy [4 pt]\n",
        "train_loss_list,train_accu_list = eval_loss_and_accuracy(trainloader,20)\n",
        "print('Finished Training')"
      ]
    },
    {
      "cell_type": "code",
      "execution_count": null,
      "metadata": {
        "id": "ZL_sboa1I1qq"
      },
      "outputs": [],
      "source": [
        "### Your code here. Also give some comments about your findings\n",
        "\n",
        "PATH = './cifar_net.pth'\n",
        "torch.save(net.state_dict(), PATH)"
      ]
    },
    {
      "cell_type": "code",
      "execution_count": null,
      "metadata": {
        "colab": {
          "base_uri": "https://localhost:8080/"
        },
        "id": "ia_9gCTwoDcK",
        "outputId": "fecd8692-40a2-478b-a44c-c261a84d64d5"
      },
      "outputs": [
        {
          "output_type": "stream",
          "name": "stdout",
          "text": [
            "[1,  2000] loss: 1.267\n",
            "Accuracy is 57.7 %\n",
            "[2,  2000] loss: 1.084\n",
            "Accuracy is 62.6 %\n",
            "[3,  2000] loss: 0.985\n",
            "Accuracy is 66.0 %\n",
            "[4,  2000] loss: 0.910\n",
            "Accuracy is 68.6 %\n",
            "[5,  2000] loss: 0.842\n",
            "Accuracy is 70.5 %\n",
            "[6,  2000] loss: 0.759\n",
            "Accuracy is 72.8 %\n",
            "[7,  2000] loss: 0.707\n",
            "Accuracy is 75.6 %\n",
            "[8,  2000] loss: 0.651\n",
            "Accuracy is 77.1 %\n",
            "[9,  2000] loss: 0.637\n",
            "Accuracy is 77.6 %\n",
            "[10,  2000] loss: 0.576\n",
            "Accuracy is 80.0 %\n",
            "[11,  2000] loss: 0.548\n",
            "Accuracy is 80.8 %\n",
            "[12,  2000] loss: 0.521\n",
            "Accuracy is 81.8 %\n",
            "[13,  2000] loss: 0.499\n",
            "Accuracy is 82.8 %\n",
            "[14,  2000] loss: 0.474\n",
            "Accuracy is 83.4 %\n",
            "[15,  2000] loss: 0.467\n",
            "Accuracy is 84.0 %\n",
            "[16,  2000] loss: 0.440\n",
            "Accuracy is 84.8 %\n",
            "[17,  2000] loss: 0.447\n",
            "Accuracy is 85.0 %\n",
            "[18,  2000] loss: 0.427\n",
            "Accuracy is 85.9 %\n",
            "[19,  2000] loss: 0.391\n",
            "Accuracy is 87.2 %\n",
            "[20,  2000] loss: 0.387\n",
            "Accuracy is 87.6 %\n",
            "204211.796875\n",
            "Finished Testing\n"
          ]
        }
      ],
      "source": [
        "#a. The test loss [4 pt]\n",
        "#c. The test accuracy [4pt]\n",
        "test_loss_list,test_accu_list = eval_loss_and_accuracy(testloader,20)\n",
        "print('Finished Testing')"
      ]
    },
    {
      "cell_type": "code",
      "execution_count": null,
      "metadata": {
        "colab": {
          "base_uri": "https://localhost:8080/",
          "height": 295
        },
        "id": "tyvGY65dnmiz",
        "outputId": "d1924e13-64be-4a68-8386-ac79686bebbe"
      },
      "outputs": [
        {
          "output_type": "display_data",
          "data": {
            "text/plain": [
              "<Figure size 432x288 with 1 Axes>"
            ],
            "image/png": "[encoded data removed]"
          },
          "metadata": {
            "needs_background": "light"
          }
        }
      ],
      "source": [
        "#d. Run the model for 20 epochs and give two plots (one for losses, one for accuracies) for the convergence behavior over 20 epochs. [4pt]\n",
        "plt.plot(train_loss_list,'-o')\n",
        "plt.plot(test_loss_list,'-o')\n",
        "plt.xlabel('epoch')\n",
        "plt.ylabel('losses')\n",
        "plt.legend(['Train','Valid'])\n",
        "plt.title('Train vs Test Losses')\n",
        "\n",
        "plt.show()\n"
      ]
    },
    {
      "cell_type": "code",
      "execution_count": null,
      "metadata": {
        "colab": {
          "base_uri": "https://localhost:8080/",
          "height": 295
        },
        "id": "VFHaYFrjpbQh",
        "outputId": "d5538e35-9ca7-4f38-b5ee-fffdd5334060"
      },
      "outputs": [
        {
          "output_type": "display_data",
          "data": {
            "text/plain": [
              "<Figure size 432x288 with 1 Axes>"
            ],
            "image/png": "[encoded data removed]"
          },
          "metadata": {
            "needs_background": "light"
          }
        }
      ],
      "source": [
        "#d. Run the model for 20 epochs and give two plots (one for losses, one for accuracies) for the convergence behavior over 20 epochs. [4pt]\n",
        "plt.plot(train_accu_list,'-o')\n",
        "plt.plot(test_accu_list,'-o')\n",
        "plt.xlabel('epoch')\n",
        "plt.ylabel('losses')\n",
        "plt.legend(['Train','Valid'])\n",
        "plt.title('Train vs Test Accuracy')\n",
        "\n",
        "plt.show()"
      ]
    },
    {
      "cell_type": "markdown",
      "source": [
        "From the above plots, accuracy is better in training set. And as the iteration increases loss decreases too."
      ],
      "metadata": {
        "id": "34d92M5VZQk2"
      }
    },
    {
      "cell_type": "code",
      "execution_count": null,
      "metadata": {
        "id": "IllLoXxGAIIo"
      },
      "outputs": [],
      "source": [
        "# For grader use only\n",
        "\n",
        "# insert grade here\n",
        "# G[1,1] =   \n",
        "# G[1,2] = \n",
        "# G[1,3] =\n",
        "# G[1,4] = \n",
        "\n",
        "\n",
        "maxScore = maxScore + 16\n"
      ]
    },
    {
      "cell_type": "markdown",
      "metadata": {
        "id": "oko-ZnXEpBMc"
      },
      "source": [
        "------------------------------\n",
        "------------------------------\n",
        "------------------------------"
      ]
    },
    {
      "cell_type": "markdown",
      "metadata": {
        "id": "XuJnvM2n3xwe"
      },
      "source": [
        "## <font color='blue'> **Question 2.** Learning random labels. </font>\n",
        "\n",
        "Reuse the above code, but instead of using the given input labels on the training set, use random labels. Then run for 40 epochs. \n",
        "<br>\n",
        "\n",
        "**a.** Report the plots for the training accuracy. **[4 pt]** <br>\n",
        "**b.** What is the final training accuracy? **[4 pt]** <br>\n",
        "**c.** What would be the expected accuracy for a random baseline model? **[4 pt]**\n",
        "\n",
        "\n",
        "\n"
      ]
    },
    {
      "cell_type": "code",
      "execution_count": null,
      "metadata": {
        "colab": {
          "base_uri": "https://localhost:8080/"
        },
        "id": "vpgPvakW5_mj",
        "outputId": "0401cf8e-e360-43e1-83d4-6080004c4124"
      },
      "outputs": [
        {
          "output_type": "stream",
          "name": "stdout",
          "text": [
            "Files already downloaded and verified\n",
            "[3, 8, 8, 0, 6, 6, 1, 6, 3, 1, 0, 9, 5, 7, 9, 8, 5, 7, 8, 6, 7, 0, 4, 9, 5, 2, 4, 0, 9, 6, 6, 5, 4, 5, 9, 2, 4, 1, 9, 5, 4, 6, 5, 6, 0, 9, 3, 9, 7, 6, 9, 8, 0, 3, 8, 8, 7, 7, 4, 6, 7, 3, 6, 3, 6, 2, 1, 2, 3, 7, 2, 6, 8, 8, 0, 2, 9, 3, 3, 8, 8, 1, 1, 7, 2, 5, 2, 7, 8, 9, 0, 3, 8, 6, 4, 6, 6, 0, 0, 7, 4, 5, 6, 3, 1, 1, 3, 6, 8, 7, 4, 0, 6, 2, 1, 3, 0, 4, 2, 7, 8, 3, 1, 2, 8, 0, 8, 3, 5, 2, 4, 1, 8, 9, 1, 2, 9, 7, 2, 9, 6, 5, 6, 3, 8, 7, 6, 2, 5, 2, 8, 9, 6, 0, 0, 5, 2, 9, 5, 4, 2, 1, 6, 6, 8, 4, 8, 4, 5, 0, 9, 9, 9, 8, 9, 9, 3, 7, 5, 0, 0, 5, 2, 2, 3, 8, 6, 3, 4, 0, 5, 8, 0, 1, 7, 2, 8, 8, 7, 8, 5, 1, 8, 7, 1, 3, 0, 5, 7, 9, 7, 4, 5, 9, 8, 0, 7, 9, 8, 2, 7, 6, 9, 4, 3, 9, 6, 4, 7, 6, 5, 1, 5, 8, 8, 0, 4, 0, 5, 5, 1, 1, 8, 9, 0, 3, 1, 9, 2, 2, 5, 3, 9, 9, 4, 0, 3, 0, 0, 9, 8, 1, 5, 7, 0, 8, 2, 4, 7, 0, 2, 3, 6, 3, 8, 5, 0, 3, 4, 3, 9, 0, 6, 1, 0, 9, 1, 0, 7, 9, 1, 2, 6, 9, 3, 4, 6, 0, 0, 6, 6, 6, 3, 2, 6, 1, 8, 2, 1, 6, 8, 6, 8, 0, 4, 0, 7, 7, 5, 5, 3, 5, 2, 3, 4, 1, 7, 5, 4, 6, 1, 9, 3, 6, 6, 9, 3, 8, 0, 7, 2, 6, 2, 5, 8, 5, 4, 6, 8, 9, 9, 1, 0, 2, 2, 7, 3, 2, 8, 0, 9, 5, 8, 1, 9, 4, 1, 3, 8, 1, 4, 7, 9, 4, 2, 7, 0, 7, 0, 6, 6, 9, 0, 9, 2, 8, 7, 2, 2, 5, 1, 2, 6, 2, 9, 6, 2, 3, 0, 3, 9, 8, 7, 8, 8, 4, 0, 1, 8, 2, 7, 9, 3, 6, 1, 9, 0, 7, 3, 7, 4, 5, 0, 0, 2, 9, 3, 4, 0, 6, 2, 5, 3, 7, 3, 7, 2, 5, 3, 1, 1, 4, 9, 9, 5, 7, 5, 0, 2, 2, 2, 9, 7, 3, 9, 4, 3, 5, 4, 6, 5, 6, 1, 4, 3, 4, 4, 3, 7, 8, 3, 7, 8, 0, 5, 7, 6, 0, 5, 4, 8, 6, 8, 5, 5, 9, 9, 9, 5, 0, 1, 0, 8, 1, 1, 8, 0, 2, 2, 0, 4, 6, 5, 4, 9, 4, 7, 9, 9, 4, 5, 6, 6, 1, 5, 3, 8, 9, 5, 8, 5, 7, 0, 7, 0, 5, 0, 0, 4, 6, 9, 0, 9, 5, 6, 6, 6, 2, 9, 0, 1, 7, 6, 7, 5, 9, 1, 6, 2, 5, 5, 5, 8, 5, 9, 4, 6, 4, 3, 2, 0, 7, 6, 2, 2, 3, 9, 7, 9, 2, 6, 7, 1, 3, 6, 6, 8, 9, 7, 5, 4, 0, 8, 4, 0, 9, 3, 4, 8, 9, 6, 9, 2, 6, 1, 4, 7, 3, 5, 3, 8, 5, 0, 2, 1, 6, 4, 3, 3, 9, 6, 9, 8, 8, 5, 8, 6, 6, 2, 1, 7, 7, 1, 2, 7, 9, 9, 4, 4, 1, 2, 5, 6, 8, 7, 6, 8, 3, 0, 5, 5, 3, 0, 7, 9, 1, 3, 4, 4, 5, 3, 9, 5, 6, 9, 2, 1, 1, 4, 1, 9, 4, 7, 6, 3, 8, 9, 0, 1, 3, 6, 3, 6, 3, 2, 0, 3, 1, 0, 5, 9, 6, 4, 8, 9, 6, 9, 6, 3, 0, 3, 2, 2, 7, 8, 3, 8, 2, 7, 5, 7, 2, 4, 8, 7, 4, 2, 9, 8, 8, 6, 8, 8, 7, 4, 3, 3, 8, 4, 9, 4, 8, 8, 1, 8, 2, 1, 3, 6, 5, 4, 2, 7, 9, 9, 4, 1, 4, 1, 3, 2, 7, 0, 7, 9, 7, 6, 6, 2, 5, 9, 2, 9, 1, 2, 2, 6, 8, 2, 1, 3, 6, 6, 0, 1, 2, 7, 0, 5, 4, 6, 1, 6, 4, 0, 2, 2, 6, 0, 5, 9, 1, 7, 6, 7, 0, 3, 9, 6, 8, 3, 0, 3, 4, 7, 7, 1, 4, 7, 2, 7, 1, 4, 7, 4, 4, 8, 4, 7, 7, 5, 3, 7, 2, 0, 8, 9, 5, 8, 3, 6, 2, 0, 8, 7, 3, 7, 6, 5, 3, 1, 3, 2, 2, 5, 4, 1, 2, 9, 2, 7, 0, 7, 2, 1, 3, 2, 0, 2, 4, 7, 9, 8, 9, 0, 7, 7, 0, 7, 8, 4, 6, 3, 3, 0, 1, 3, 7, 0, 1, 3, 1, 4, 2, 3, 8, 4, 2, 3, 7, 8, 4, 3, 0, 9, 0, 0, 1, 0, 4, 4, 6, 7, 6, 1, 1, 3, 7, 3, 5, 2, 6, 6, 5, 8, 7, 1, 6, 8, 8, 5, 3, 0, 4, 0, 1, 3, 8, 8, 0, 6, 9, 9, 9, 5, 5, 8, 6, 0, 0, 4, 2, 3, 2, 7, 2, 2, 5, 9, 8, 9, 1, 7, 4, 0, 3, 0, 1, 3, 8, 3, 9, 6, 1, 4, 7, 0, 3, 7, 8, 9, 1, 1, 6, 6, 6, 6, 9, 1, 9, 9, 4, 2, 1, 7, 0, 6, 8, 1, 9, 2, 9, 0, 4, 7, 8, 3, 1, 2, 0, 1, 5, 8, 4, 6, 3, 8, 1, 3, 8, 5, 0, 8, 4, 8, 1, 1, 8, 9, 6, 0, 8, 6, 1, 3, 4, 1, 6, 0, 5, 1, 1, 0, 0, 3, 5, 0, 0, 6, 6, 3, 3, 6, 3, 6, 6, 0, 7, 2, 2, 7, 5, 5, 2, 8, 5, 2, 1, 1, 4, 3, 2, 0, 3, 1, 5, 3, 7, 6, 8, 9, 1, 6, 4, 9, 3, 9, 0, 9, 6, 3, 6, 0, 7, 3, 8, 0, 0, 0, 6, 6, 6, 9, 2, 5, 4, 4, 6, 3, 6, 0, 8, 6, 0, 6, 2, 7, 5, 1, 2, 7, 8, 8, 0, 9, 4, 9, 7, 2, 0, 2, 8, 3, 8, 9, 1, 5, 5, 4, 7, 5, 3, 8, 3, 3, 6, 2, 8, 4, 3, 7, 1, 2, 4, 1, 6, 9, 0, 5, 8, 6, 1, 8, 6, 1, 4, 2, 6, 2, 7, 2, 2, 0, 8, 6, 9, 1, 7, 1, 8, 8, 0, 7, 3, 8, 0, 3, 4, 3, 7, 7, 9, 2, 3, 1, 9, 1, 9, 6, 3, 3, 3, 1, 0, 6, 1, 4, 1, 0, 0, 1, 1, 6, 5, 4, 6, 2, 0, 7, 9, 8, 7, 2, 0, 6, 8, 1, 4, 3, 7, 0, 6, 1, 8, 5, 7, 8, 4, 8, 3, 9, 9, 9, 8, 7, 6, 6, 3, 5, 1, 5, 9, 1, 4, 1, 5, 7, 0, 1, 5, 2, 0, 8, 8, 5, 6, 7, 3, 2, 4, 7, 2, 5, 8, 2, 4, 9, 2, 1, 8, 1, 9, 8, 8, 8, 9, 0, 4, 3, 3, 1, 8, 4, 6, 3, 3, 5, 2, 2, 8, 3, 8, 9, 5, 8, 9, 8, 9, 1, 6, 5, 9, 4, 4, 8, 0, 7, 2, 9, 7, 4, 1, 6, 4, 4, 9, 1, 2, 5, 6, 0, 8, 6, 1, 9, 4, 5, 9, 5, 0, 7, 2, 0, 0, 4, 2, 6, 6, 5, 5, 2, 8, 1, 7, 3, 1, 4, 5, 6, 5, 1, 4, 7, 0, 9, 4, 3, 8, 2, 8, 4, 7, 2, 3, 1, 5, 2, 9, 8, 9, 7, 9, 5, 1, 4, 0, 8, 2, 3, 8, 9, 1, 1, 3, 2, 4, 9, 3, 1, 7, 4, 6, 2, 8, 9, 5, 3, 9, 5, 5, 6, 7, 2, 4, 6, 3, 1, 0, 7, 2, 5, 4, 7, 6, 1, 1, 9, 8, 1, 0, 1, 3, 1, 1, 1, 7, 3, 9, 6, 8, 4, 6, 8, 4, 9, 4, 7, 9, 7, 6, 8, 4, 9, 7, 0, 1, 6, 1, 5, 9, 0, 4, 3, 4, 1, 3, 0, 8, 4, 6, 2, 2, 6, 5, 3, 6, 2, 1, 1, 8, 6, 0, 4, 0, 1, 9, 7, 1, 3, 7, 7, 8, 7, 7, 3, 9, 7, 7, 7, 2, 1, 2, 8, 6, 4, 0, 7, 9, 8, 6, 8, 4, 9, 1, 7, 2, 2, 8, 5, 8, 1, 2, 2, 4, 1, 2, 5, 2, 8, 1, 8, 1, 8, 6, 0, 2, 4, 1, 3, 6, 7, 7, 4, 4, 3, 3, 4, 5, 2, 4, 3, 7, 8, 4, 4, 4, 5, 4, 3, 2, 8, 4, 5, 5, 4, 1, 4, 2, 5, 1, 6, 4, 3, 4, 4, 0, 8, 8, 4, 5, 7, 5, 6, 9, 1, 6, 7, 2, 0, 1, 4, 5, 6, 0, 0, 2, 7, 5, 6, 0, 6, 2, 9, 1, 7, 7, 5, 2, 5, 6, 4, 1, 4, 3, 3, 3, 0, 3, 5, 5, 8, 9, 7, 3, 1, 3, 3, 3, 4, 4, 2, 3, 3, 8, 1, 7, 7, 0, 7, 4, 5, 1, 4, 2, 4, 3, 9, 9, 4, 9, 9, 1, 8, 1, 6, 7, 5, 5, 4, 9, 7, 6, 5, 9, 2, 4, 0, 7, 8, 5, 5, 0, 0, 9, 9, 8, 2, 5, 4, 8, 3, 6, 3, 6, 0, 6, 6, 6, 9, 6, 6, 8, 6, 2, 4, 5, 8, 1, 2, 7, 6, 5, 7, 8, 1, 8, 0, 8, 6, 9, 2, 8, 9, 4, 0, 9, 4, 9, 5, 7, 5, 5, 9, 5, 3, 0, 1, 9, 7, 2, 4, 1, 0, 8, 0, 3, 1, 7, 0, 0, 4, 8, 6, 2, 4, 0, 0, 9, 0, 8, 4, 5, 9, 3, 9, 0, 5, 6, 5, 0, 1, 4, 8, 1, 0, 5, 2, 1, 0, 2, 8, 1, 5, 6, 7, 7, 2, 6, 2, 5, 0, 1, 4, 2, 5, 4, 6, 2, 2, 1, 7, 2, 8, 5, 5, 3, 0, 4, 8, 3, 7, 6, 3, 8, 1, 0, 1, 3, 3, 0, 7, 4, 9, 5, 3, 6, 0, 1, 4, 4, 4, 4, 2, 2, 5, 8, 1, 5, 9, 8, 1, 1, 5, 3, 9, 9, 7, 6, 5, 0, 8, 4, 7, 0, 9, 2, 8, 4, 7, 1, 3, 9, 6, 8, 9, 0, 4, 9, 6, 7, 8, 9, 4, 8, 9, 7, 2, 5, 3, 7, 1, 0, 2, 9, 5, 5, 8, 5, 4, 2, 8, 3, 5, 5, 7, 7, 8, 6, 2, 8, 2, 3, 5, 6, 8, 0, 2, 3, 7, 0, 1, 9, 1, 3, 7, 5, 8, 3, 2, 9, 6, 8, 6, 9, 3, 8, 9, 8, 0, 7, 8, 5, 0, 0, 1, 3, 9, 1, 5, 3, 4, 4, 0, 9, 9, 9, 9, 8, 2, 4, 2, 2, 5, 1, 9, 1, 0, 9, 4, 2, 1, 6, 0, 3, 7, 6, 3, 1, 8, 6, 5, 7, 2, 8, 4, 4, 8, 3, 5, 0, 5, 7, 4, 4, 2, 2, 7, 3, 6, 0, 2, 7, 6, 2, 3, 0, 7, 7, 8, 1, 1, 4, 6, 0, 6, 6, 5, 5, 6, 3, 9, 3, 6, 8, 7, 6, 4, 9, 5, 6, 4, 1, 6, 3, 8, 2, 3, 9, 8, 5, 1, 5, 4, 5, 7, 5, 7, 8, 9, 1, 7, 2, 5, 6, 8, 4, 6, 5, 3, 9, 9, 8, 5, 5, 6, 4, 5, 9, 7, 3, 4, 1, 4, 2, 3, 6, 5, 5, 2, 8, 0, 0, 1, 8, 3, 1, 3, 5, 8, 3, 8, 5, 8, 6, 3, 5, 5, 5, 0, 9, 5, 5, 7, 1, 8, 2, 2, 7, 3, 4, 2, 9, 6, 2, 2, 4, 3, 0, 2, 0, 1, 3, 2, 2, 7, 0, 1, 0, 7, 7, 2, 0, 1, 6, 5, 0, 2, 2, 0, 1, 2, 6, 0, 1, 6, 6, 5, 3, 4, 0, 0, 9, 1, 0, 2, 5, 9, 7, 8, 6, 4, 6, 0, 2, 0, 1, 9, 2, 4, 9, 0, 7, 2, 3, 4, 8, 0, 2, 6, 8, 9, 7, 1, 9, 3, 7, 2, 7, 9, 6, 9, 5, 7, 8, 5, 9, 8, 3, 9, 8, 0, 5, 5, 7, 1, 2, 0, 7, 5, 8, 2, 2, 5, 3, 9, 3, 1, 9, 3, 1, 4, 3, 4, 4, 9, 0, 9, 5, 9, 2, 9, 4, 0, 2, 8, 4, 8, 6, 8, 2, 0, 5, 9, 6, 9, 5, 1, 3, 4, 4, 2, 7, 2, 4, 4, 0, 2, 8, 4, 5, 1, 2, 6, 8, 1, 7, 2, 8, 7, 4, 3, 3, 0, 3, 7, 2, 5, 6, 1, 7, 9, 0, 2, 3, 9, 8, 9, 5, 0, 0, 7, 6, 3, 3, 8, 1, 4, 0, 1, 5, 4, 3, 2, 6, 0, 8, 8, 6, 3, 3, 2, 9, 7, 5, 1, 6, 0, 5, 9, 9, 4, 5, 9, 4, 8, 3, 3, 2, 5, 1, 9, 5, 5, 8, 1, 8, 9, 7, 0, 6, 3, 2, 0, 2, 6, 9, 3, 9, 1, 6, 6, 7, 2, 6, 3, 2, 5, 5, 2, 7, 5, 2, 0, 8, 0, 7, 7, 1, 7, 4, 0, 2, 2, 6, 1, 5, 9, 7, 6, 2, 7, 0, 5, 6, 0, 1, 1, 8, 4, 5, 3, 1, 2, 4, 8, 9, 8, 1, 7, 2, 7, 2, 3, 2, 6, 7, 9, 4, 0, 1, 0, 4, 5, 0, 8, 0, 7, 6, 1, 0, 8, 5, 9, 2, 5, 4, 4, 9, 0, 6, 1, 2, 5, 1, 6, 7, 1, 5, 8, 8, 0, 3, 9, 4, 0, 3, 4, 9, 2, 4, 3, 0, 6, 4, 5, 6, 6, 7, 8, 4, 8, 8, 3, 2, 8, 0, 2, 5, 6, 8, 7, 8, 9, 9, 0, 6, 6, 8, 1, 1, 7, 4, 4, 2, 3, 6, 9, 6, 2, 4, 1, 8, 2, 3, 1, 6, 8, 6, 8, 5, 9, 0, 1, 0, 2, 9, 2, 9, 0, 9, 7, 8, 5, 0, 6, 6, 8, 1, 6, 5, 8, 7, 9, 2, 1, 6, 7, 5, 6, 3, 0, 9, 8, 9, 5, 9, 9, 9, 3, 6, 4, 4, 8, 8, 1, 7, 3, 0, 6, 2, 4, 8, 2, 2, 9, 2, 2, 9, 7, 4, 1, 9, 1, 4, 3, 5, 3, 8, 9, 3, 6, 2, 0, 8, 9, 0, 5, 1, 5, 8, 2, 1, 2, 3, 2, 4, 8, 4, 0, 6, 4, 2, 9, 8, 4, 7, 6, 2, 4, 7, 7, 6, 4, 2, 2, 3, 2, 4, 9, 0, 0, 9, 6, 5, 8, 5, 2, 4, 8, 8, 6, 4, 5, 7, 6, 3, 7, 0, 4, 0, 5, 8, 2, 8, 0, 4, 9, 2, 3, 6, 8, 1, 6, 0, 8, 4, 3, 1, 4, 5, 2, 4, 3, 6, 0, 7, 1, 3, 5, 7, 1, 8, 0, 4, 8, 2, 7, 7, 0, 2, 2, 4, 3, 3, 1, 6, 1, 6, 4, 6, 7, 4, 7, 3, 8, 1, 3, 1, 4, 6, 5, 5, 7, 4, 5, 4, 9, 7, 7, 2, 3, 3, 6, 7, 4, 1, 6, 1, 0, 6, 9, 6, 0, 2, 0, 2, 4, 7, 0, 0, 0, 0, 7, 5, 3, 2, 7, 8, 5, 5, 2, 2, 8, 9, 1, 2, 2, 0, 3, 4, 9, 1, 6, 9, 0, 8, 3, 6, 4, 6, 7, 5, 1, 8, 9, 0, 5, 0, 5, 4, 3, 8, 5, 2, 0, 8, 5, 9, 2, 5, 6, 5, 7, 3, 7, 2, 8, 8, 4, 2, 1, 6, 2, 9, 9, 8, 2, 3, 1, 0, 5, 2, 3, 7, 9, 5, 9, 1, 1, 3, 2, 7, 4, 4, 1, 9, 4, 5, 5, 2, 7, 7, 6, 1, 2, 3, 7, 5, 4, 3, 7, 7, 0, 0, 1, 4, 4, 3, 7, 9, 8, 7, 0, 9, 0, 3, 7, 6, 3, 8, 4, 5, 6, 5, 3, 4, 2, 9, 2, 4, 9, 2, 0, 1, 1, 3, 7, 9, 5, 1, 6, 0, 3, 3, 7, 2, 4, 5, 2, 3, 6, 3, 3, 0, 4, 4, 3, 8, 1, 2, 3, 2, 7, 1, 4, 5, 6, 8, 6, 6, 5, 4, 2, 9, 9, 3, 2, 0, 4, 1, 5, 5, 6, 6, 5, 6, 9, 7, 9, 4, 8, 3, 1, 9, 8, 1, 9, 0, 3, 0, 4, 7, 7, 2, 6, 5, 6, 9, 7, 7, 5, 7, 0, 8, 6, 7, 8, 3, 8, 9, 3, 2, 9, 2, 7, 4, 1, 9, 7, 0, 8, 1, 2, 0, 6, 5, 1, 4, 2, 8, 2, 8, 3, 3, 1, 4, 9, 8, 1, 1, 7, 9, 9, 4, 6, 8, 5, 3, 2, 2, 3, 8, 5, 1, 9, 7, 9, 1, 5, 3, 1, 0, 3, 8, 9, 2, 0, 8, 0, 7, 9, 4, 8, 3, 0, 7, 0, 7, 0, 5, 5, 4, 3, 0, 9, 9, 0, 2, 2, 0, 8, 4, 4, 5, 2, 2, 1, 1, 5, 5, 4, 3, 4, 0, 8, 4, 8, 2, 5, 6, 5, 1, 7, 2, 4, 0, 5, 6, 8, 7, 6, 3, 1, 3, 6, 6, 4, 5, 5, 5, 1, 8, 7, 3, 0, 2, 5, 1, 1, 1, 6, 7, 2, 1, 2, 3, 9, 8, 3, 1, 7, 4, 8, 4, 7, 5, 8, 6, 0, 3, 0, 8, 3, 4, 4, 9, 4, 6, 1, 5, 7, 7, 9, 0, 1, 3, 1, 3, 2, 4, 0, 7, 8, 3, 1, 6, 2, 1, 8, 8, 1, 9, 7, 5, 3, 2, 9, 0, 6, 8, 4, 1, 5, 7, 2, 4, 7, 0, 4, 9, 0, 7, 0, 6, 7, 1, 8, 5, 8, 8, 7, 0, 0, 3, 2, 5, 7, 0, 6, 4, 4, 9, 1, 8, 6, 3, 9, 4, 9, 3, 3, 7, 5, 9, 7, 7, 4, 5, 8, 2, 8, 9, 5, 3, 1, 9, 2, 2, 0, 1, 1, 8, 1, 1, 9, 8, 9, 9, 0, 2, 6, 9, 1, 9, 0, 1, 9, 2, 9, 9, 9, 0, 9, 9, 2, 1, 7, 0, 5, 6, 3, 9, 8, 3, 0, 2, 7, 7, 4, 8, 3, 0, 5, 2, 3, 5, 7, 6, 6, 6, 5, 6, 5, 4, 5, 8, 8, 0, 9, 7, 9, 0, 6, 9, 6, 1, 4, 7, 9, 0, 3, 5, 4, 7, 6, 9, 8, 2, 3, 9, 3, 3, 7, 8, 3, 5, 5, 9, 6, 1, 4, 7, 4, 8, 7, 7, 1, 3, 0, 3, 2, 5, 4, 9, 3, 5, 4, 7, 0, 3, 7, 0, 2, 1, 5, 8, 7, 3, 5, 7, 8, 5, 7, 8, 1, 5, 4, 7, 0, 8, 3, 2, 9, 7, 4, 1, 6, 5, 9, 8, 5, 5, 4, 1, 0, 9, 4, 4, 3, 0, 4, 8, 0, 8, 2, 9, 5, 9, 7, 4, 6, 7, 9, 2, 9, 3, 7, 7, 8, 2, 2, 0, 2, 5, 3, 6, 4, 7, 2, 3, 7, 8, 7, 2, 5, 0, 0, 7, 0, 9, 6, 1, 0, 3, 9, 7, 4, 9, 1, 6, 8, 1, 2, 3, 3, 5, 4, 8, 9, 7, 4, 4, 1, 2, 4, 9, 8, 7, 9, 5, 1, 2, 1, 6, 6, 4, 5, 7, 4, 5, 8, 5, 2, 8, 7, 8, 2, 3, 6, 1, 3, 3, 1, 5, 1, 9, 0, 9, 2, 0, 6, 2, 4, 8, 5, 7, 6, 1, 2, 9, 4, 5, 0, 3, 3, 7, 7, 7, 1, 4, 5, 0, 2, 8, 5, 0, 0, 6, 2, 0, 8, 4, 5, 4, 5, 6, 4, 7, 9, 4, 2, 0, 6, 4, 0, 0, 6, 4, 6, 1, 9, 5, 5, 2, 2, 6, 3, 4, 5, 9, 1, 7, 2, 3, 9, 6, 5, 0, 2, 9, 7, 1, 7, 2, 2, 0, 8, 6, 4, 3, 2, 7, 7, 0, 4, 1, 6, 5, 1, 3, 0, 3, 9, 0, 0, 2, 5, 0, 4, 0, 1, 9, 8, 4, 9, 4, 2, 4, 3, 3, 4, 0, 4, 3, 2, 8, 9, 1, 5, 8, 1, 8, 2, 4, 5, 2, 4, 1, 1, 6, 6, 8, 5, 2, 2, 5, 0, 8, 2, 3, 6, 2, 9, 6, 1, 4, 5, 9, 0, 1, 0, 0, 8, 1, 1, 6, 6, 9, 5, 4, 1, 7, 8, 6, 9, 1, 7, 6, 0, 9, 3, 5, 3, 2, 5, 3, 4, 9, 7, 1, 4, 4, 6, 1, 3, 8, 8, 0, 6, 7, 7, 6, 7, 2, 3, 2, 2, 6, 2, 7, 4, 0, 3, 6, 2, 6, 3, 3, 0, 9, 5, 1, 1, 5, 3, 6, 4, 3, 4, 1, 0, 4, 5, 5, 2, 8, 9, 4, 3, 1, 8, 0, 1, 3, 3, 4, 4, 2, 9, 7, 6, 8, 1, 8, 9, 1, 3, 1, 7, 3, 0, 0, 2, 8, 3, 9, 2, 7, 2, 6, 0, 1, 6, 1, 6, 7, 5, 5, 2, 5, 9, 4, 0, 2, 3, 4, 9, 4, 1, 0, 0, 2, 3, 8, 9, 2, 8, 9, 5, 7, 9, 1, 4, 6, 2, 8, 4, 4, 8, 9, 3, 1, 1, 6, 5, 8, 4, 6, 4, 5, 2, 6, 4, 2, 3, 1, 3, 6, 8, 5, 2, 2, 7, 1, 6, 2, 5, 9, 2, 8, 1, 6, 9, 2, 7, 5, 3, 2, 9, 7, 0, 2, 9, 3, 4, 1, 7, 9, 5, 8, 9, 7, 3, 4, 0, 9, 7, 4, 2, 4, 7, 0, 1, 8, 1, 0, 4, 6, 1, 9, 9, 2, 1, 2, 5, 6, 9, 7, 7, 3, 4, 2, 0, 2, 5, 6, 7, 3, 7, 9, 4, 2, 0, 6, 1, 7, 5, 6, 5, 3, 9, 2, 7, 8, 5, 9, 5, 8, 5, 4, 3, 7, 9, 8, 1, 2, 2, 8, 9, 3, 0, 8, 4, 0, 2, 0, 1, 4, 1, 8, 5, 5, 7, 9, 8, 3, 7, 9, 1, 5, 6, 9, 8, 7, 2, 0, 9, 0, 8, 5, 9, 4, 2, 9, 8, 1, 9, 1, 8, 3, 7, 6, 4, 2, 3, 7, 0, 3, 5, 8, 8, 8, 7, 9, 6, 2, 7, 4, 5, 7, 6, 7, 1, 7, 3, 6, 8, 2, 6, 6, 7, 1, 5, 9, 7, 1, 7, 0, 1, 6, 3, 3, 9, 0, 1, 2, 3, 2, 2, 5, 4, 9, 8, 7, 4, 4, 9, 7, 6, 7, 7, 1, 2, 3, 5, 1, 9, 0, 3, 3, 1, 5, 6, 6, 2, 4, 6, 8, 8, 9, 6, 6, 1, 0, 7, 5, 8, 2, 1, 5, 8, 1, 4, 7, 5, 0, 3, 9, 9, 5, 2, 8, 4, 1, 9, 0, 4, 4, 8, 2, 9, 0, 7, 9, 8, 7, 1, 3, 2, 9, 9, 5, 9, 7, 6, 7, 7, 1, 1, 2, 4, 2, 0, 6, 8, 7, 6, 2, 2, 9, 8, 2, 4, 2, 0, 5, 8, 6, 8, 2, 7, 7, 3, 1, 8, 1, 6, 5, 9, 7, 8, 9, 6, 4, 8, 1, 9, 4, 0, 4, 1, 4, 3, 6, 2, 2, 7, 0, 0, 7, 0, 7, 4, 3, 6, 7, 7, 4, 5, 4, 3, 5, 5, 4, 7, 1, 0, 7, 7, 1, 6, 5, 0, 7, 7, 4, 6, 1, 8, 5, 9, 3, 5, 6, 2, 2, 7, 3, 5, 8, 1, 0, 6, 8, 7, 8, 8, 5, 7, 5, 4, 9, 7, 3, 3, 8, 8, 3, 9, 4, 7, 2, 0, 8, 0, 7, 3, 3, 2, 5, 2, 4, 4, 0, 4, 8, 2, 4, 0, 6, 4, 5, 6, 0, 8, 8, 0, 6, 1, 1, 6, 1, 4, 2, 1, 1, 2, 4, 4, 5, 5, 8, 8, 5, 1, 8, 2, 3, 3, 9, 6, 6, 5, 0, 7, 3, 3, 2, 7, 4, 5, 6, 0, 2, 1, 8, 1, 0, 9, 3, 1, 0, 5, 4, 2, 3, 3, 6, 7, 6, 0, 0, 5, 7, 4, 7, 7, 0, 6, 1, 3, 9, 0, 9, 0, 3, 8, 4, 8, 8, 4, 1, 0, 2, 2, 4, 1, 1, 2, 4, 3, 4, 1, 4, 7, 1, 0, 0, 9, 0, 4, 2, 8, 8, 5, 5, 0, 4, 0, 8, 6, 2, 5, 9, 2, 9, 1, 1, 5, 4, 7, 5, 8, 6, 2, 1, 5, 5, 3, 4, 1, 8, 9, 9, 8, 9, 8, 6, 8, 5, 8, 9, 4, 6, 2, 6, 3, 7, 4, 0, 0, 1, 7, 5, 1, 5, 9, 3, 1, 6, 8, 7, 3, 6, 9, 1, 2, 0, 1, 7, 2, 6, 1, 9, 0, 0, 8, 9, 9, 2, 8, 6, 2, 5, 6, 0, 3, 3, 0, 7, 4, 7, 5, 0, 1, 6, 8, 8, 1, 2, 1, 5, 4, 5, 9, 6, 7, 1, 0, 6, 9, 2, 7, 7, 3, 9, 9, 1, 9, 7, 0, 1, 3, 5, 4, 6, 3, 8, 8, 0, 4, 8, 3, 6, 7, 0, 0, 4, 5, 2, 6, 8, 4, 9, 9, 9, 2, 0, 4, 2, 8, 1, 1, 0, 0, 3, 7, 4, 1, 1, 9, 7, 7, 4, 6, 8, 6, 0, 2, 8, 5, 3, 5, 3, 5, 7, 9, 8, 4, 4, 3, 1, 4, 8, 3, 6, 5, 3, 0, 8, 9, 5, 7, 6, 2, 0, 4, 9, 9, 0, 5, 2, 3, 6, 1, 1, 0, 2, 8, 2, 1, 1, 7, 5, 2, 3, 4, 1, 2, 9, 2, 1, 3, 4, 8, 9, 0, 0, 4, 9, 0, 2, 2, 0, 6, 8, 7, 3, 3, 8, 9, 0, 2, 5, 3, 6, 1, 3, 9, 5, 0, 5, 4, 4, 0, 1, 1, 6, 1, 7, 9, 9, 6, 2, 4, 3, 8, 3, 4, 7, 0, 2, 8, 4, 8, 3, 8, 8, 8, 3, 3, 5, 7, 7, 0, 4, 1, 5, 9, 7, 0, 6, 8, 4, 9, 0, 1, 8, 9, 6, 3, 9, 2, 4, 4, 0, 3, 3, 5, 4, 5, 1, 1, 8, 2, 2, 9, 3, 7, 8, 9, 2, 3, 1, 7, 3, 2, 3, 0, 1, 9, 5, 5, 3, 4, 5, 2, 0, 0, 3, 1, 3, 4, 7, 4, 2, 8, 4, 8, 9, 9, 4, 2, 4, 3, 6, 4, 6, 4, 6, 6, 3, 8, 7, 4, 8, 0, 5, 9, 3, 9, 0, 7, 5, 1, 9, 7, 9, 1, 8, 4, 2, 1, 6, 4, 3, 0, 1, 4, 8, 6, 1, 7, 1, 3, 5, 4, 3, 3, 9, 7, 8, 2, 5, 5, 4, 5, 4, 5, 7, 2, 5, 5, 1, 7, 7, 8, 3, 6, 0, 2, 5, 2, 3, 7, 4, 2, 1, 6, 8, 6, 8, 3, 2, 7, 7, 9, 7, 1, 4, 7, 4, 6, 1, 7, 3, 0, 0, 6, 6, 8, 6, 6, 0, 3, 4, 7, 4, 9, 4, 9, 9, 3, 4, 1, 4, 0, 3, 7, 1, 2, 2, 8, 4, 7, 8, 5, 5, 6, 5, 6, 0, 6, 4, 9, 3, 2, 7, 3, 8, 3, 9, 4, 1, 6, 9, 9, 4, 3, 9, 8, 1, 6, 9, 5, 9, 0, 9, 7, 2, 2, 4, 2, 6, 4, 8, 1, 9, 5, 6, 5, 1, 8, 6, 6, 7, 6, 5, 0, 2, 7, 6, 1, 2, 3, 1, 6, 4, 9, 0, 3, 9, 1, 0, 5, 3, 1, 6, 9, 8, 9, 0, 6, 1, 6, 2, 3, 5, 6, 9, 0, 7, 2, 4, 0, 3, 6, 8, 6, 9, 1, 9, 0, 6, 4, 5, 9, 5, 4, 1, 9, 2, 0, 7, 3, 5, 1, 8, 3, 0, 5, 2, 8, 8, 3, 9, 6, 0, 3, 5, 3, 4, 1, 5, 0, 7, 3, 9, 4, 5, 3, 1, 4, 2, 4, 9, 9, 7, 1, 7, 0, 1, 2, 1, 5, 3, 8, 4, 1, 5, 1, 9, 9, 7, 0, 1, 7, 6, 2, 6, 5, 0, 3, 1, 3, 8, 9, 9, 0, 8, 8, 7, 9, 2, 9, 1, 3, 6, 7, 6, 0, 8, 6, 2, 4, 2, 3, 5, 5, 4, 1, 6, 7, 1, 6, 1, 7, 1, 6, 2, 3, 0, 4, 2, 9, 7, 5, 5, 6, 0, 8, 8, 1, 1, 3, 5, 6, 5, 3, 8, 7, 5, 0, 7, 7, 5, 7, 1, 9, 9, 1, 9, 9, 3, 5, 5, 3, 0, 3, 0, 6, 6, 5, 6, 8, 9, 4, 5, 1, 1, 2, 7, 9, 0, 1, 2, 5, 4, 4, 7, 4, 8, 3, 3, 5, 3, 5, 7, 0, 1, 2, 9, 8, 1, 7, 3, 5, 9, 1, 9, 1, 1, 3, 6, 7, 4, 8, 3, 5, 6, 7, 0, 1, 7, 7, 2, 3, 3, 5, 1, 7, 6, 8, 4, 4, 5, 7, 3, 4, 7, 7, 3, 6, 0, 7, 2, 6, 7, 4, 1, 8, 0, 2, 2, 1, 5, 4, 0, 9, 3, 4, 4, 2, 3, 8, 5, 0, 0, 4, 6, 3, 9, 2, 0, 5, 7, 5, 5, 1, 7, 3, 1, 6, 7, 9, 0, 1, 2, 1, 4, 6, 1, 5, 9, 5, 0, 4, 9, 4, 9, 7, 1, 6, 8, 0, 6, 5, 0, 8, 1, 7, 5, 6, 9, 3, 2, 3, 9, 8, 6, 1, 0, 9, 0, 9, 8, 7, 7, 5, 2, 3, 5, 5, 7, 8, 7, 6, 9, 1, 9, 8, 6, 5, 6, 7, 5, 6, 7, 2, 5, 9, 6, 6, 7, 0, 1, 0, 1, 3, 2, 5, 6, 1, 2, 5, 1, 9, 9, 8, 6, 8, 6, 8, 9, 0, 4, 0, 3, 3, 6, 4, 9, 9, 7, 2, 3, 5, 6, 4, 6, 0, 3, 7, 5, 0, 2, 9, 2, 7, 2, 9, 2, 4, 0, 6, 6, 3, 4, 5, 5, 9, 1, 1, 4, 4, 3, 5, 4, 8, 0, 0, 3, 9, 4, 7, 4, 2, 8, 3, 6, 3, 1, 9, 6, 3, 8, 3, 8, 4, 7, 5, 7, 5, 3, 1, 2, 6, 1, 3, 2, 0, 7, 5, 0, 0, 0, 1, 4, 3, 5, 8, 4, 3, 1, 7, 1, 0, 4, 2, 4, 1, 4, 0, 1, 2, 1, 7, 7, 9, 8, 7, 5, 4, 0, 9, 0, 0, 8, 2, 0, 0, 2, 4, 8, 6, 2, 4, 6, 3, 5, 1, 5, 3, 7, 2, 2, 9, 8, 0, 0, 0, 3, 4, 4, 6, 1, 6, 7, 4, 4, 3, 9, 4, 0, 8, 0, 4, 6, 5, 7, 9, 7, 0, 5, 7, 7, 3, 1, 9, 3, 0, 9, 5, 3, 7, 9, 4, 4, 1, 7, 7, 1, 4, 1, 2, 8, 7, 0, 0, 4, 7, 2, 9, 7, 6, 9, 3, 5, 8, 0, 3, 6, 8, 3, 2, 4, 7, 1, 1, 3, 9, 7, 5, 1, 0, 8, 7, 0, 1, 6, 9, 3, 2, 7, 7, 8, 1, 0, 3, 4, 6, 7, 5, 2, 0, 1, 5, 5, 1, 4, 1, 3, 0, 8, 6, 2, 1, 3, 6, 4, 1, 9, 0, 4, 1, 0, 1, 9, 8, 6, 9, 2, 4, 7, 2, 2, 7, 4, 9, 1, 3, 2, 6, 3, 4, 4, 9, 4, 8, 2, 6, 6, 1, 6, 3, 6, 5, 8, 4, 6, 7, 1, 9, 3, 6, 7, 6, 0, 7, 1, 9, 5, 2, 6, 7, 7, 6, 5, 9, 1, 5, 6, 0, 2, 0, 9, 1, 8, 3, 5, 0, 0, 0, 5, 7, 7, 8, 5, 5, 5, 1, 6, 1, 5, 1, 0, 6, 2, 3, 2, 1, 7, 5, 1, 9, 8, 3, 6, 9, 7, 3, 0, 2, 3, 9, 4, 4, 3, 9, 6, 8, 6, 6, 8, 5, 4, 3, 6, 7, 7, 4, 3, 9, 6, 2, 4, 0, 1, 3, 6, 4, 9, 2, 6, 0, 3, 8, 7, 5, 3, 3, 8, 3, 2, 6, 3, 6, 2, 7, 4, 5, 7, 9, 0, 0, 6, 7, 2, 8, 5, 5, 7, 5, 5, 9, 4, 6, 4, 7, 3, 3, 6, 4, 1, 6, 3, 1, 6, 7, 0, 5, 0, 1, 9, 7, 3, 5, 2, 3, 9, 5, 6, 4, 0, 0, 0, 8, 0, 3, 2, 4, 5, 3, 7, 9, 6, 9, 3, 1, 2, 6, 7, 4, 5, 1, 3, 7, 6, 9, 5, 8, 5, 8, 5, 8, 5, 6, 5, 0, 8, 3, 8, 1, 8, 1, 5, 0, 9, 8, 6, 3, 6, 3, 4, 4, 7, 4, 7, 4, 3, 2, 4, 5, 5, 7, 5, 4, 5, 8, 0, 5, 4, 0, 5, 4, 3, 3, 2, 4, 2, 9, 4, 8, 8, 6, 2, 6, 1, 7, 0, 4, 3, 8, 5, 9, 7, 6, 7, 1, 0, 2, 3, 5, 6, 7, 1, 6, 2, 8, 3, 7, 2, 5, 7, 5, 7, 7, 1, 7, 4, 3, 3, 4, 0, 4, 2, 7, 0, 2, 2, 6, 6, 2, 5, 2, 6, 0, 6, 1, 2, 9, 0, 0, 1, 5, 5, 1, 6, 7, 8, 5, 6, 3, 3, 6, 0, 9, 9, 2, 2, 6, 1, 4, 6, 2, 5, 7, 8, 8, 5, 6, 4, 3, 2, 3, 4, 4, 4, 8, 9, 2, 6, 0, 9, 7, 9, 8, 7, 7, 3, 8, 2, 9, 3, 5, 7, 5, 8, 7, 3, 7, 0, 7, 1, 6, 2, 4, 0, 0, 2, 9, 8, 2, 8, 7, 7, 5, 5, 0, 1, 2, 9, 6, 1, 0, 1, 0, 6, 5, 0, 5, 7, 4, 4, 8, 3, 5, 3, 7, 2, 5, 8, 3, 5, 7, 3, 7, 0, 5, 4, 5, 6, 9, 3, 5, 3, 8, 2, 4, 2, 2, 6, 7, 6, 0, 5, 5, 8, 4, 5, 6, 1, 3, 5, 4, 7, 3, 0, 7, 2, 0, 1, 2, 4, 9, 6, 4, 5, 9, 7, 7, 6, 7, 4, 3, 1, 6, 9, 4, 8, 0, 3, 1, 6, 4, 4, 2, 1, 4, 6, 3, 0, 8, 9, 7, 6, 8, 4, 8, 1, 4, 5, 9, 4, 7, 1, 4, 5, 3, 1, 2, 6, 4, 7, 1, 5, 9, 3, 1, 4, 8, 7, 7, 0, 4, 3, 4, 6, 7, 7, 5, 4, 4, 4, 3, 6, 6, 1, 9, 9, 7, 9, 4, 3, 2, 9, 8, 5, 0, 6, 9, 0, 9, 7, 8, 5, 4, 4, 9, 4, 2, 6, 6, 9, 9, 7, 9, 9, 0, 5, 1, 1, 8, 6, 9, 9, 5, 6, 5, 5, 9, 7, 9, 4, 5, 4, 3, 3, 9, 8, 8, 3, 4, 8, 4, 0, 4, 0, 7, 2, 8, 0, 2, 0, 7, 4, 0, 6, 3, 3, 1, 7, 4, 6, 5, 0, 4, 9, 5, 6, 6, 3, 0, 5, 2, 6, 3, 3, 8, 0, 8, 5, 4, 2, 9, 5, 0, 5, 4, 8, 2, 7, 6, 5, 7, 8, 2, 0, 1, 8, 2, 4, 8, 4, 3, 0, 4, 0, 1, 9, 3, 0, 3, 6, 5, 5, 2, 8, 5, 0, 8, 7, 5, 2, 4, 3, 7, 0, 2, 3, 1, 0, 0, 2, 1, 2, 1, 4, 6, 7, 1, 0, 5, 2, 5, 9, 2, 5, 6, 7, 1, 9, 3, 6, 1, 0, 2, 9, 4, 2, 9, 3, 8, 2, 9, 8, 5, 1, 0, 1, 5, 2, 5, 6, 8, 8, 3, 5, 0, 4, 1, 3, 7, 0, 3, 3, 9, 2, 3, 9, 9, 8, 5, 9, 7, 2, 0, 9, 4, 7, 1, 7, 6, 4, 4, 8, 9, 0, 7, 1, 2, 4, 0, 3, 7, 5, 1, 9, 3, 5, 2, 4, 1, 1, 3, 3, 9, 2, 5, 8, 0, 8, 1, 5, 1, 5, 9, 0, 9, 2, 4, 0, 6, 9, 1, 1, 3, 4, 9, 5, 3, 3, 3, 3, 4, 1, 5, 9, 8, 7, 4, 8, 7, 3, 5, 2, 5, 8, 9, 7, 2, 0, 0, 7, 5, 3, 5, 7, 4, 6, 2, 8, 2, 7, 7, 6, 1, 3, 8, 6, 2, 0, 4, 4, 8, 6, 4, 0, 2, 5, 4, 1, 2, 5, 4, 6, 9, 5, 0, 5, 2, 0, 8, 2, 6, 4, 7, 9, 5, 7, 2, 6, 2, 1, 9, 9, 7, 2, 5, 1, 8, 1, 6, 3, 0, 8, 8, 5, 6, 9, 9, 9, 6, 3, 0, 8, 8, 5, 3, 3, 1, 1, 0, 7, 0, 6, 0, 4, 4, 6, 5, 3, 2, 9, 6, 6, 7, 9, 7, 7, 0, 8, 4, 2, 7, 7, 7, 4, 0, 1, 6, 0, 5, 3, 0, 2, 4, 9, 7, 3, 3, 2, 8, 8, 5, 3, 8, 0, 8, 0, 0, 0, 2, 2, 7, 0, 7, 7, 7, 2, 2, 0, 4, 0, 3, 7, 8, 4, 7, 9, 6, 1, 1, 6, 9, 3, 8, 9, 5, 8, 3, 9, 4, 3, 7, 5, 5, 2, 7, 5, 7, 9, 6, 3, 0, 8, 4, 5, 6, 1, 0, 4, 8, 4, 7, 1, 3, 2, 0, 9, 1, 8, 8, 6, 8, 1, 7, 1, 0, 9, 7, 6, 4, 5, 8, 2, 1, 2, 5, 8, 1, 1, 8, 8, 0, 9, 0, 0, 4, 3, 3, 5, 6, 6, 3, 1, 4, 4, 7, 8, 0, 1, 4, 8, 4, 6, 2, 2, 2, 6, 3, 4, 0, 8, 1, 3, 8, 3, 8, 9, 1, 6, 1, 9, 8, 2, 0, 4, 7, 4, 0, 0, 7, 6, 8, 9, 8, 6, 2, 8, 8, 0, 1, 1, 0, 7, 7, 4, 4, 7, 7, 2, 6, 6, 7, 4, 5, 4, 0, 9, 4, 7, 2, 5, 3, 2, 2, 7, 6, 2, 6, 4, 9, 6, 8, 3, 8, 5, 5, 2, 3, 4, 5, 2, 7, 5, 1, 5, 3, 7, 8, 8, 9, 6, 0, 9, 2, 6, 0, 0, 1, 4, 1, 3, 5, 1, 8, 9, 6, 2, 6, 9, 5, 6, 5, 9, 1, 4, 2, 8, 9, 5, 4, 7, 0, 3, 7, 1, 6, 9, 1, 1, 4, 0, 5, 1, 6, 3, 0, 2, 5, 5, 5, 2, 8, 2, 3, 1, 6, 2, 7, 0, 8, 9, 2, 6, 4, 7, 5, 5, 8, 8, 7, 8, 5, 7, 4, 4, 0, 0, 7, 0, 4, 0, 4, 4, 2, 5, 4, 0, 7, 7, 7, 0, 4, 6, 2, 9, 1, 1, 5, 0, 9, 1, 0, 6, 5, 3, 0, 9, 0, 6, 2, 0, 4, 1, 6, 7, 6, 1, 0, 4, 6, 0, 4, 4, 2, 7, 6, 5, 3, 5, 9, 4, 5, 2, 0, 5, 7, 2, 3, 9, 4, 5, 8, 1, 9, 3, 1, 8, 5, 8, 6, 6, 3, 4, 0, 2, 3, 2, 6, 1, 8, 2, 1, 3, 6, 2, 2, 3, 3, 5, 0, 2, 1, 2, 8, 0, 8, 2, 2, 7, 3, 5, 9, 8, 3, 6, 1, 0, 8, 6, 3, 5, 8, 9, 4, 8, 0, 0, 2, 9, 1, 8, 3, 7, 2, 8, 0, 9, 4, 8, 9, 4, 8, 9, 5, 4, 8, 1, 5, 5, 7, 2, 5, 8, 8, 1, 2, 3, 1, 5, 0, 2, 3, 0, 8, 2, 2, 8, 7, 3, 5, 3, 9, 6, 3, 5, 1, 1, 7, 7, 3, 3, 8, 9, 6, 0, 8, 0, 6, 6, 4, 6, 9, 1, 1, 7, 0, 6, 8, 9, 0, 6, 9, 0, 1, 1, 7, 2, 1, 0, 4, 5, 0, 3, 6, 3, 3, 8, 1, 8, 1, 3, 1, 5, 4, 5, 1, 8, 9, 1, 3, 1, 7, 2, 9, 8, 9, 4, 6, 0, 9, 4, 0, 4, 6, 2, 1, 3, 0, 8, 5, 6, 0, 3, 4, 6, 9, 5, 7, 9, 0, 3, 6, 5, 7, 0, 5, 1, 2, 2, 9, 7, 0, 0, 1, 4, 4, 5, 5, 9, 6, 3, 6, 2, 6, 9, 3, 2, 3, 2, 4, 9, 5, 2, 1, 6, 6, 4, 7, 6, 3, 3, 8, 1, 4, 6, 4, 4, 5, 6, 2, 0, 5, 2, 7, 5, 2, 5, 2, 5, 9, 0, 6, 7, 9, 8, 3, 2, 1, 4, 3, 4, 5, 5, 6, 8, 6, 0, 8, 9, 8, 0, 7, 7, 6, 6, 7, 5, 9, 8, 7, 9, 5, 6, 0, 4, 8, 2, 0, 9, 1, 3, 9, 8, 3, 7, 4, 5, 0, 2, 1, 9, 1, 0, 5, 8, 4, 7, 3, 1, 4, 5, 3, 1, 0, 8, 8, 8, 2, 1, 3, 7, 3, 1, 6, 9, 1, 6, 0, 7, 7, 1, 3, 3, 3, 1, 0, 2, 7, 1, 2, 2, 9, 6, 3, 5, 9, 4, 8, 0, 4, 8, 0, 1, 3, 7, 0, 4, 7, 4, 8, 6, 4, 3, 9, 8, 2, 2, 8, 3, 1, 1, 2, 8, 2, 6, 9, 4, 8, 4, 4, 1, 5, 2, 6, 9, 2, 0, 7, 1, 8, 9, 3, 9, 9, 0, 7, 7, 5, 4, 2, 6, 4, 5, 7, 7, 8, 7, 2, 6, 2, 2, 4, 4, 0, 7, 1, 3, 9, 6, 0, 0, 2, 3, 8, 2, 2, 4, 3, 5, 2, 9, 1, 0, 0, 6, 5, 5, 7, 9, 9, 6, 5, 5, 0, 5, 7, 1, 6, 6, 4, 1, 4, 4, 1, 5, 0, 0, 4, 5, 8, 4, 8, 3, 0, 5, 0, 5, 3, 1, 6, 7, 0, 9, 1, 5, 7, 6, 5, 5, 5, 6, 0, 0, 1, 7, 5, 1, 9, 2, 4, 1, 3, 7, 8, 2, 0, 9, 6, 6, 0, 6, 5, 8, 2, 7, 4, 0, 2, 7, 7, 8, 8, 7, 0, 4, 9, 1, 4, 4, 3, 5, 4, 6, 2, 3, 1, 0, 3, 3, 3, 6, 3, 1, 2, 8, 9, 7, 9, 3, 8, 7, 3, 1, 7, 7, 3, 2, 2, 8, 9, 5, 9, 2, 1, 7, 4, 4, 0, 5, 7, 1, 5, 4, 0, 8, 4, 9, 8, 7, 8, 4, 2, 3, 4, 0, 5, 4, 1, 8, 2, 5, 4, 5, 2, 5, 3, 7, 9, 7, 1, 4, 1, 3, 1, 4, 5, 5, 1, 7, 1, 3, 0, 1, 2, 5, 7, 0, 6, 3, 5, 7, 5, 5, 8, 9, 4, 6, 3, 6, 6, 8, 2, 6, 4, 8, 4, 1, 3, 1, 2, 3, 3, 0, 1, 6, 4, 2, 8, 2, 4, 3, 1, 4, 4, 4, 4, 1, 5, 5, 7, 6, 5, 4, 5, 6, 5, 6, 2, 4, 7, 7, 4, 6, 5, 0, 2, 3, 9, 2, 3, 8, 0, 7, 0, 6, 8, 1, 2, 8, 9, 1, 5, 4, 2, 3, 5, 5, 3, 6, 5, 0, 3, 2, 1, 3, 3, 7, 7, 4, 9, 4, 3, 9, 5, 1, 7, 6, 6, 4, 8, 5, 1, 2, 8, 4, 5, 3, 3, 3, 0, 4, 8, 7, 7, 9, 4, 8, 4, 5, 9, 1, 8, 3, 1, 3, 8, 0, 3, 5, 4, 6, 9, 2, 7, 2, 0, 5, 2, 9, 7, 5, 0, 7, 0, 3, 5, 5, 3, 8, 7, 7, 9, 6, 5, 8, 9, 0, 1, 9, 4, 0, 0, 1, 7, 2, 2, 8, 5, 9, 8, 2, 8, 0, 6, 6, 8, 6, 9, 6, 1, 1, 5, 3, 5, 0, 7, 6, 1, 4, 4, 1, 1, 8, 1, 1, 2, 3, 4, 9, 9, 5, 2, 7, 3, 3, 6, 9, 6, 9, 8, 8, 6, 7, 4, 7, 2, 3, 8, 0, 9, 0, 7, 8, 1, 2, 3, 2, 4, 2, 9, 0, 3, 8, 9, 6, 5, 5, 2, 4, 1, 0, 6, 1, 8, 4, 5, 5, 5, 0, 8, 9, 0, 5, 7, 9, 6, 3, 4, 6, 4, 9, 7, 1, 2, 5, 2, 8, 0, 2, 2, 9, 8, 1, 9, 7, 7, 3, 1, 4, 1, 1, 3, 8, 8, 1, 9, 3, 8, 9, 5, 1, 1, 6, 2, 7, 2, 6, 2, 6, 9, 6, 0, 1, 3, 9, 3, 8, 8, 8, 2, 9, 1, 2, 6, 0, 5, 0, 7, 7, 7, 9, 4, 5, 0, 2, 3, 5, 5, 8, 9, 1, 2, 7, 1, 3, 4, 6, 9, 1, 0, 7, 1, 9, 5, 8, 1, 9, 9, 7, 9, 8, 3, 0, 2, 6, 0, 2, 2, 4, 0, 8, 4, 8, 1, 2, 7, 2, 7, 9, 5, 2, 2, 9, 2, 6, 5, 7, 2, 5, 6, 5, 1, 8, 2, 6, 8, 6, 3, 0, 8, 0, 0, 9, 9, 6, 8, 0, 6, 6, 0, 7, 9, 8, 0, 5, 0, 9, 6, 0, 4, 7, 1, 7, 8, 8, 2, 3, 9, 6, 5, 5, 3, 1, 5, 3, 0, 2, 5, 2, 7, 3, 8, 4, 4, 6, 1, 9, 4, 1, 7, 0, 1, 4, 3, 0, 2, 9, 4, 5, 0, 3, 4, 7, 2, 3, 0, 1, 3, 7, 9, 9, 0, 7, 5, 6, 7, 1, 2, 2, 7, 4, 6, 8, 4, 9, 8, 4, 9, 2, 3, 4, 0, 2, 5, 6, 0, 5, 3, 5, 8, 3, 7, 4, 9, 5, 6, 3, 8, 6, 9, 8, 5, 5, 8, 3, 5, 9, 0, 4, 2, 0, 5, 9, 9, 3, 8, 0, 6, 0, 2, 3, 7, 0, 0, 6, 9, 1, 5, 2, 2, 7, 9, 3, 9, 3, 5, 2, 2, 2, 8, 8, 5, 0, 0, 7, 0, 3, 1, 6, 5, 0, 9, 2, 6, 7, 4, 2, 0, 0, 5, 3, 3, 2, 6, 4, 2, 7, 8, 0, 1, 0, 1, 3, 6, 4, 8, 0, 6, 0, 9, 1, 6, 2, 1, 0, 1, 3, 0, 3, 7, 9, 9, 3, 7, 5, 7, 1, 6, 6, 1, 1, 1, 4, 4, 2, 1, 7, 0, 1, 2, 1, 1, 3, 2, 6, 9, 1, 3, 2, 0, 8, 7, 3, 4, 6, 4, 6, 9, 4, 8, 9, 3, 0, 5, 7, 2, 0, 2, 9, 9, 3, 8, 7, 1, 1, 2, 2, 2, 5, 9, 1, 2, 6, 1, 2, 1, 8, 9, 2, 3, 1, 9, 9, 4, 4, 5, 5, 0, 3, 3, 7, 1, 7, 7, 9, 8, 6, 3, 5, 5, 1, 6, 2, 7, 8, 4, 3, 3, 5, 9, 6, 8, 5, 1, 0, 6, 7, 0, 9, 6, 2, 0, 8, 7, 1, 2, 6, 9, 1, 6, 4, 7, 1, 9, 0, 0, 5, 2, 8, 3, 8, 2, 8, 4, 0, 8, 3, 6, 1, 2, 3, 0, 5, 0, 4, 1, 7, 2, 0, 1, 3, 9, 1, 6, 1, 6, 1, 2, 8, 7, 0, 9, 5, 8, 0, 0, 1, 7, 9, 7, 1, 9, 2, 1, 9, 4, 3, 6, 0, 2, 0, 0, 9, 9, 8, 9, 4, 5, 4, 3, 0, 7, 8, 7, 3, 7, 5, 4, 6, 5, 9, 5, 2, 4, 2, 7, 9, 6, 7, 4, 7, 1, 2, 3, 1, 1, 3, 6, 8, 3, 7, 7, 0, 8, 1, 5, 2, 5, 5, 3, 6, 3, 5, 9, 8, 4, 6, 8, 0, 4, 1, 7, 8, 4, 9, 7, 2, 6, 3, 8, 8, 6, 7, 3, 8, 1, 1, 5, 3, 7, 9, 9, 9, 8, 5, 9, 9, 6, 8, 8, 4, 8, 1, 0, 1, 8, 8, 6, 5, 9, 0, 6, 1, 2, 6, 6, 3, 5, 6, 5, 5, 3, 3, 6, 8, 9, 4, 4, 3, 8, 3, 6, 0, 8, 5, 7, 8, 4, 6, 5, 3, 1, 8, 3, 0, 4, 4, 3, 3, 5, 3, 3, 2, 7, 7, 8, 2, 0, 5, 5, 6, 1, 1, 3, 9, 9, 3, 6, 7, 1, 8, 3, 9, 8, 7, 8, 8, 0, 3, 2, 4, 8, 7, 5, 7, 1, 8, 7, 3, 5, 4, 4, 3, 8, 6, 1, 1, 6, 3, 2, 2, 8, 9, 8, 3, 3, 8, 1, 1, 0, 5, 2, 0, 5, 0, 5, 8, 6, 3, 9, 6, 6, 3, 9, 4, 8, 3, 4, 3, 1, 1, 2, 9, 7, 8, 5, 5, 8, 6, 9, 0, 8, 3, 5, 1, 3, 3, 5, 5, 3, 8, 1, 4, 6, 4, 2, 4, 3, 8, 9, 6, 6, 6, 5, 5, 2, 7, 7, 4, 4, 9, 3, 8, 3, 7, 7, 8, 5, 3, 9, 1, 6, 7, 3, 3, 3, 8, 5, 6, 1, 3, 7, 9, 6, 1, 6, 4, 9, 0, 5, 7, 4, 9, 1, 0, 0, 2, 7, 8, 3, 2, 7, 6, 1, 6, 6, 4, 4, 2, 1, 8, 4, 4, 7, 8, 5, 8, 9, 4, 3, 2, 2, 9, 3, 0, 1, 1, 1, 1, 6, 8, 7, 1, 3, 0, 4, 5, 0, 3, 0, 6, 2, 0, 9, 8, 6, 8, 5, 8, 2, 9, 6, 0, 6, 1, 8, 7, 3, 2, 2, 6, 5, 6, 9, 2, 5, 4, 9, 8, 5, 3, 9, 3, 5, 7, 1, 8, 5, 8, 6, 2, 5, 1, 3, 0, 4, 1, 9, 5, 4, 9, 2, 1, 4, 2, 5, 9, 8, 7, 2, 1, 6, 9, 7, 3, 6, 5, 8, 0, 2, 2, 4, 9, 0, 5, 5, 4, 2, 3, 1, 0, 3, 0, 4, 4, 9, 1, 3, 3, 0, 2, 1, 1, 0, 4, 1, 9, 4, 8, 1, 1, 1, 5, 9, 8, 1, 6, 7, 2, 9, 9, 7, 8, 8, 1, 9, 7, 8, 9, 1, 6, 6, 3, 3, 1, 3, 0, 8, 8, 3, 6, 6, 7, 1, 0, 7, 6, 4, 8, 2, 0, 6, 6, 8, 6, 3, 1, 1, 8, 6, 7, 0, 5, 4, 3, 2, 1, 7, 8, 2, 0, 1, 7, 4, 8, 7, 6, 6, 7, 0, 6, 4, 9, 2, 3, 2, 1, 3, 8, 6, 8, 1, 9, 6, 7, 6, 5, 0, 6, 0, 1, 3, 1, 1, 5, 3, 4, 3, 3, 8, 1, 6, 6, 1, 8, 8, 6, 2, 7, 4, 6, 8, 9, 3, 3, 5, 5, 3, 1, 4, 1, 9, 5, 1, 7, 7, 7, 5, 2, 3, 3, 6, 6, 6, 4, 0, 7, 1, 7, 3, 0, 8, 1, 2, 4, 1, 2, 2, 4, 9, 8, 2, 8, 7, 6, 3, 4, 7, 2, 3, 1, 5, 3, 0, 4, 3, 4, 9, 4, 7, 9, 1, 7, 8, 3, 1, 8, 3, 2, 5, 7, 2, 7, 9, 6, 8, 6, 8, 6, 5, 9, 0, 4, 8, 5, 6, 4, 3, 8, 0, 4, 8, 6, 7, 2, 7, 1, 7, 4, 1, 2, 4, 2, 2, 8, 7, 2, 2, 6, 7, 5, 6, 8, 9, 9, 6, 5, 2, 9, 8, 7, 2, 3, 3, 7, 4, 3, 2, 1, 9, 0, 1, 5, 3, 2, 6, 5, 9, 1, 5, 4, 3, 6, 2, 8, 9, 7, 8, 0, 8, 9, 1, 2, 5, 7, 2, 0, 6, 6, 1, 6, 3, 1, 5, 0, 3, 7, 4, 6, 5, 6, 4, 8, 3, 4, 5, 5, 0, 6, 6, 7, 5, 0, 9, 9, 6, 1, 0, 4, 6, 3, 6, 9, 3, 6, 6, 8, 2, 1, 0, 1, 9, 3, 7, 4, 3, 0, 2, 7, 6, 4, 3, 0, 8, 2, 0, 0, 9, 6, 6, 6, 8, 7, 4, 1, 8, 1, 2, 2, 4, 8, 5, 2, 6, 5, 3, 9, 1, 0, 7, 2, 4, 4, 0, 0, 6, 2, 2, 4, 0, 5, 9, 7, 1, 8, 4, 5, 5, 9, 8, 5, 7, 8, 0, 9, 8, 9, 1, 6, 3, 8, 0, 3, 4, 4, 8, 4, 8, 9, 8, 6, 0, 0, 8, 2, 7, 4, 2, 5, 6, 0, 5, 8, 4, 1, 9, 0, 1, 4, 4, 8, 4, 9, 6, 0, 7, 7, 6, 8, 9, 6, 2, 0, 4, 9, 4, 9, 3, 9, 6, 6, 7, 0, 9, 7, 1, 8, 6, 0, 6, 7, 4, 1, 9, 4, 6, 7, 9, 8, 3, 9, 2, 1, 2, 7, 6, 1, 0, 0, 5, 6, 0, 4, 3, 2, 8, 8, 0, 6, 9, 5, 2, 8, 7, 0, 6, 5, 9, 7, 2, 3, 6, 9, 6, 2, 2, 4, 1, 0, 5, 0, 8, 9, 3, 5, 9, 3, 8, 1, 6, 3, 7, 5, 6, 2, 0, 2, 8, 2, 8, 7, 7, 8, 1, 0, 8, 9, 7, 0, 3, 8, 0, 5, 9, 5, 8, 4, 2, 0, 9, 2, 2, 4, 4, 9, 2, 2, 2, 5, 1, 3, 2, 0, 0, 4, 0, 6, 5, 8, 0, 5, 8, 6, 4, 8, 5, 2, 9, 7, 9, 7, 1, 0, 1, 9, 6, 9, 2, 7, 9, 4, 4, 0, 6, 2, 4, 1, 3, 7, 2, 8, 5, 9, 0, 3, 2, 3, 2, 7, 6, 3, 2, 5, 9, 0, 5, 9, 9, 8, 7, 7, 4, 8, 6, 5, 2, 3, 1, 0, 4, 1, 8, 8, 4, 9, 4, 4, 3, 3, 9, 2, 0, 1, 1, 8, 4, 4, 8, 3, 2, 9, 5, 7, 6, 2, 5, 4, 7, 3, 3, 9, 0, 1, 5, 9, 3, 7, 6, 0, 4, 2, 2, 5, 6, 3, 8, 9, 5, 6, 1, 4, 5, 4, 6, 7, 2, 1, 0, 2, 0, 4, 9, 8, 8, 9, 1, 1, 5, 0, 0, 8, 7, 1, 7, 4, 5, 4, 3, 3, 2, 0, 6, 6, 0, 1, 3, 9, 8, 3, 7, 8, 9, 4, 8, 9, 0, 9, 7, 1, 6, 2, 9, 5, 6, 9, 3, 9, 8, 7, 7, 1, 6, 5, 3, 1, 3, 1, 2, 7, 1, 8, 2, 0, 9, 7, 9, 8, 8, 6, 7, 3, 7, 1, 3, 9, 0, 9, 3, 6, 7, 2, 7, 3, 0, 5, 9, 7, 5, 5, 0, 6, 5, 1, 8, 2, 7, 5, 9, 0, 0, 0, 8, 8, 7, 3, 7, 8, 9, 3, 7, 9, 7, 8, 7, 9, 8, 5, 4, 8, 3, 7, 6, 3, 8, 2, 1, 9, 5, 7, 3, 9, 5, 5, 8, 7, 3, 5, 3, 5, 9, 7, 6, 7, 3, 6, 4, 3, 9, 4, 2, 1, 9, 6, 0, 2, 6, 7, 4, 7, 9, 0, 7, 4, 3, 5, 3, 1, 1, 2, 6, 8, 2, 1, 7, 8, 5, 9, 6, 1, 1, 5, 0, 6, 0, 9, 2, 6, 5, 8, 9, 5, 5, 6, 2, 9, 1, 5, 8, 8, 7, 1, 7, 3, 5, 4, 9, 7, 5, 2, 9, 9, 4, 7, 4, 1, 3, 8, 7, 9, 0, 4, 5, 7, 5, 2, 8, 7, 6, 9, 6, 9, 3, 8, 5, 6, 6, 9, 5, 7, 8, 0, 5, 0, 7, 4, 8, 2, 5, 1, 3, 2, 2, 6, 2, 1, 7, 4, 6, 3, 1, 3, 7, 2, 1, 3, 7, 0, 8, 4, 4, 5, 7, 9, 5, 4, 3, 9, 6, 8, 2, 3, 3, 1, 6, 1, 7, 0, 3, 4, 2, 9, 4, 5, 8, 2, 7, 0, 9, 6, 8, 0, 8, 2, 8, 5, 7, 7, 2, 2, 0, 0, 0, 7, 4, 1, 6, 6, 8, 8, 9, 0, 9, 0, 1, 3, 3, 0, 9, 6, 6, 2, 6, 3, 4, 0, 8, 4, 1, 4, 0, 6, 5, 0, 9, 9, 9, 9, 1, 2, 3, 5, 4, 2, 9, 6, 0, 9, 6, 6, 8, 0, 6, 1, 4, 6, 8, 0, 5, 4, 1, 2, 0, 9, 6, 4, 2, 4, 6, 5, 9, 7, 7, 4, 6, 5, 0, 1, 9, 0, 3, 1, 9, 0, 9, 7, 8, 6, 7, 6, 8, 2, 4, 5, 3, 0, 3, 2, 1, 7, 5, 9, 3, 4, 5, 7, 1, 5, 0, 1, 1, 1, 9, 7, 5, 4, 9, 7, 8, 1, 0, 2, 8, 5, 6, 7, 0, 1, 4, 8, 4, 4, 6, 6, 5, 8, 1, 8, 4, 6, 5, 9, 2, 2, 1, 4, 9, 1, 6, 7, 2, 0, 1, 7, 6, 5, 2, 2, 5, 6, 0, 9, 0, 1, 5, 3, 3, 5, 8, 7, 5, 6, 5, 8, 0, 5, 9, 4, 6, 5, 1, 1, 0, 3, 3, 9, 4, 8, 1, 7, 7, 9, 9, 4, 3, 6, 3, 2, 8, 2, 7, 6, 7, 0, 2, 1, 2, 9, 4, 6, 9, 6, 1, 0, 1, 8, 7, 0, 0, 4, 7, 4, 2, 6, 9, 5, 9, 0, 7, 4, 5, 8, 1, 4, 7, 9, 9, 8, 8, 6, 3, 7, 0, 8, 9, 6, 2, 4, 6, 2, 9, 7, 4, 6, 8, 5, 6, 1, 3, 5, 9, 9, 1, 3, 2, 0, 3, 0, 2, 0, 7, 3, 9, 3, 5, 7, 6, 5, 9, 5, 6, 1, 2, 4, 0, 2, 7, 8, 4, 4, 0, 9, 5, 9, 2, 9, 3, 2, 4, 3, 2, 2, 8, 8, 6, 8, 1, 6, 8, 9, 8, 2, 1, 4, 9, 1, 5, 7, 1, 6, 0, 1, 5, 2, 8, 1, 1, 3, 8, 1, 3, 1, 8, 5, 1, 9, 0, 3, 0, 4, 0, 5, 1, 2, 0, 4, 9, 5, 1, 2, 2, 7, 8, 7, 2, 4, 5, 3, 4, 0, 6, 1, 5, 9, 8, 0, 2, 0, 7, 6, 0, 5, 9, 7, 5, 0, 4, 6, 0, 6, 3, 6, 8, 1, 1, 8, 9, 7, 2, 9, 0, 2, 2, 9, 0, 6, 5, 7, 7, 9, 1, 7, 9, 8, 4, 5, 0, 8, 0, 2, 5, 2, 1, 4, 4, 8, 9, 7, 8, 3, 6, 6, 0, 1, 1, 1, 8, 1, 4, 4, 0, 7, 8, 2, 1, 2, 5, 4, 6, 0, 5, 7, 4, 4, 3, 9, 5, 8, 8, 0, 8, 7, 4, 1, 8, 4, 9, 5, 4, 1, 7, 7, 7, 7, 0, 3, 8, 3, 3, 0, 5, 7, 0, 8, 0, 0, 9, 2, 2, 3, 4, 8, 2, 2, 6, 3, 3, 6, 2, 9, 4, 0, 1, 7, 5, 5, 7, 3, 0, 4, 2, 0, 7, 5, 8, 0, 8, 2, 7, 0, 3, 5, 3, 8, 3, 5, 1, 7]\n",
            "after label change [6, 4, 8, 8, 3, 4, 3, 9, 3, 5, 5, 4, 3, 0, 7, 5, 2, 9, 7, 0, 7, 4, 8, 8, 9, 6, 4, 0, 3, 6, 9, 0, 1, 2, 2, 5, 2, 4, 2, 7, 7, 7, 3, 0, 1, 9, 5, 2, 1, 7, 7, 6, 7, 0, 5, 9, 9, 4, 1, 1, 7, 3, 5, 0, 3, 0, 0, 6, 8, 5, 5, 9, 8, 8, 2, 6, 9, 1, 8, 1, 8, 1, 0, 3, 2, 2, 1, 5, 5, 8, 0, 5, 1, 9, 1, 5, 8, 6, 3, 5, 8, 2, 3, 1, 1, 8, 4, 3, 8, 6, 5, 8, 1, 0, 4, 1, 0, 5, 6, 2, 9, 9, 2, 6, 8, 2, 0, 6, 3, 5, 6, 4, 9, 6, 4, 2, 2, 6, 2, 8, 8, 1, 3, 5, 7, 5, 5, 6, 3, 7, 2, 1, 4, 7, 5, 5, 2, 4, 9, 8, 4, 8, 9, 4, 6, 2, 8, 3, 9, 2, 0, 7, 8, 5, 4, 6, 8, 7, 7, 4, 2, 7, 6, 1, 2, 1, 2, 3, 6, 1, 5, 0, 2, 7, 2, 5, 9, 7, 9, 9, 0, 9, 3, 2, 7, 3, 7, 0, 3, 8, 3, 7, 9, 1, 7, 4, 0, 0, 7, 7, 7, 6, 3, 4, 3, 4, 2, 9, 3, 8, 2, 5, 4, 6, 3, 9, 4, 9, 9, 6, 2, 3, 8, 6, 3, 4, 5, 9, 2, 1, 8, 2, 5, 0, 1, 1, 7, 1, 5, 3, 5, 3, 6, 5, 1, 7, 2, 6, 0, 7, 3, 4, 9, 1, 8, 0, 2, 7, 5, 2, 0, 3, 4, 8, 2, 2, 9, 0, 6, 2, 8, 7, 0, 3, 6, 1, 3, 0, 1, 7, 1, 7, 2, 7, 5, 2, 7, 8, 3, 2, 0, 2, 1, 0, 0, 0, 4, 6, 1, 9, 9, 5, 0, 7, 6, 7, 0, 2, 8, 1, 1, 2, 9, 7, 4, 9, 6, 3, 3, 1, 2, 0, 2, 0, 5, 8, 0, 1, 4, 6, 8, 5, 7, 9, 4, 8, 2, 6, 2, 4, 0, 0, 7, 3, 3, 8, 3, 0, 8, 2, 8, 3, 9, 9, 2, 5, 7, 0, 5, 0, 8, 2, 3, 3, 2, 7, 7, 5, 7, 4, 5, 0, 9, 8, 4, 0, 5, 5, 2, 6, 9, 1, 4, 5, 1, 7, 6, 5, 4, 4, 1, 7, 1, 4, 9, 5, 1, 1, 6, 7, 1, 6, 2, 6, 8, 4, 0, 8, 2, 0, 1, 9, 2, 4, 9, 3, 1, 2, 6, 4, 8, 8, 6, 8, 6, 1, 9, 8, 3, 5, 9, 8, 7, 3, 6, 0, 1, 6, 4, 9, 7, 3, 6, 7, 0, 3, 0, 2, 9, 3, 9, 0, 8, 4, 6, 5, 7, 1, 3, 7, 8, 3, 5, 5, 5, 5, 8, 6, 5, 2, 7, 9, 0, 4, 7, 1, 4, 4, 5, 3, 9, 7, 7, 8, 4, 9, 6, 5, 5, 3, 0, 6, 6, 6, 3, 3, 8, 9, 6, 7, 0, 6, 0, 5, 5, 1, 3, 6, 2, 7, 7, 9, 6, 3, 4, 6, 5, 9, 5, 8, 1, 1, 3, 3, 8, 2, 0, 6, 1, 3, 2, 3, 2, 3, 3, 5, 0, 8, 3, 8, 3, 8, 0, 1, 8, 2, 7, 9, 3, 4, 1, 1, 6, 4, 9, 8, 6, 3, 9, 1, 1, 2, 1, 9, 7, 6, 8, 5, 4, 8, 9, 6, 2, 6, 2, 3, 5, 5, 8, 8, 2, 4, 2, 0, 5, 2, 9, 8, 8, 3, 7, 0, 4, 0, 8, 0, 2, 8, 4, 3, 1, 6, 7, 5, 3, 8, 9, 7, 4, 5, 2, 3, 5, 4, 0, 8, 7, 1, 8, 7, 5, 4, 4, 0, 6, 4, 8, 8, 1, 4, 6, 4, 0, 3, 3, 2, 3, 9, 1, 2, 3, 0, 2, 8, 9, 4, 2, 2, 8, 1, 7, 1, 5, 2, 7, 8, 8, 2, 0, 3, 4, 1, 3, 4, 2, 1, 2, 7, 8, 4, 9, 8, 2, 3, 7, 3, 6, 0, 3, 2, 6, 1, 8, 4, 5, 0, 0, 4, 0, 7, 1, 8, 2, 8, 1, 4, 4, 9, 2, 6, 6, 4, 2, 5, 0, 2, 1, 7, 5, 3, 1, 9, 8, 9, 2, 3, 3, 7, 7, 7, 9, 7, 7, 6, 9, 5, 7, 7, 4, 4, 6, 1, 0, 3, 6, 4, 9, 4, 9, 5, 4, 8, 5, 5, 1, 1, 1, 1, 2, 4, 3, 7, 1, 4, 1, 2, 6, 3, 3, 0, 2, 0, 0, 3, 8, 2, 0, 4, 2, 5, 4, 5, 0, 7, 8, 9, 1, 8, 3, 2, 8, 8, 3, 2, 3, 1, 4, 3, 4, 0, 3, 9, 6, 0, 2, 4, 5, 5, 3, 2, 1, 2, 2, 2, 2, 7, 5, 3, 3, 7, 9, 9, 6, 1, 6, 0, 7, 2, 3, 7, 5, 9, 0, 7, 7, 0, 3, 9, 6, 6, 3, 6, 3, 7, 3, 9, 5, 0, 5, 4, 7, 1, 3, 7, 6, 8, 4, 6, 4, 3, 4, 3, 1, 7, 3, 7, 3, 2, 1, 2, 6, 2, 2, 7, 0, 2, 1, 9, 0, 9, 7, 4, 4, 1, 4, 7, 3, 5, 0, 5, 0, 5, 0, 7, 9, 6, 1, 4, 4, 9, 8, 7, 6, 7, 7, 5, 7, 1, 3, 7, 6, 7, 2, 7, 3, 0, 2, 6, 9, 9, 5, 6, 1, 5, 8, 6, 1, 0, 2, 1, 0, 2, 5, 8, 9, 7, 2, 7, 2, 9, 6, 4, 3, 7, 5, 2, 8, 4, 5, 7, 4, 0, 6, 5, 0, 4, 2, 8, 0, 6, 5, 5, 5, 7, 8, 9, 7, 4, 0, 7, 4, 4, 8, 9, 9, 2, 0, 3, 6, 8, 1, 9, 7, 7, 1, 9, 3, 7, 1, 5, 6, 3, 7, 7, 3, 4, 5, 5, 7, 7, 6, 6, 3, 1, 2, 9, 1, 9, 0, 3, 5, 9, 9, 0, 5, 4, 9, 7, 8, 5, 5, 3, 0, 6, 3, 8, 2, 7, 8, 2, 5, 8, 2, 6, 7, 0, 2, 5, 0, 1, 9, 8, 9, 1, 6, 0, 2, 1, 4, 4, 7, 0, 4, 9, 4, 7, 8, 6, 5, 0, 3, 3, 9, 0, 9, 5, 6, 7, 9, 2, 4, 0, 5, 0, 9, 8, 1, 9, 8, 1, 9, 6, 9, 7, 7, 0, 4, 3, 5, 1, 3, 5, 4, 5, 8, 5, 6, 0, 4, 9, 7, 2, 7, 0, 8, 9, 5, 8, 5, 1, 3, 1, 5, 8, 1, 8, 0, 7, 8, 5, 7, 2, 2, 7, 3, 5, 0, 9, 2, 3, 2, 5, 1, 2, 5, 9, 1, 6, 6, 5, 8, 7, 6, 6, 0, 5, 7, 5, 4, 4, 6, 3, 2, 8, 0, 6, 0, 4, 8, 5, 1, 7, 6, 6, 5, 7, 6, 1, 9, 6, 7, 2, 5, 2, 1, 9, 8, 6, 6, 9, 2, 5, 3, 1, 7, 1, 0, 3, 3, 1, 0, 3, 7, 9, 1, 9, 2, 7, 2, 6, 2, 5, 0, 7, 8, 2, 8, 5, 3, 9, 9, 8, 6, 2, 1, 9, 1, 5, 8, 8, 2, 2, 4, 8, 5, 8, 9, 3, 5, 8, 9, 5, 2, 4, 0, 1, 6, 8, 4, 5, 3, 0, 8, 5, 4, 4, 6, 0, 5, 3, 2, 8, 1, 2, 6, 0, 6, 5, 5, 3, 4, 9, 5, 3, 1, 0, 5, 1, 8, 7, 8, 8, 1, 5, 0, 9, 1, 0, 1, 9, 5, 2, 7, 1, 8, 1, 6, 0, 8, 9, 0, 1, 5, 8, 7, 5, 2, 8, 0, 5, 3, 0, 0, 9, 9, 0, 0, 6, 8, 1, 0, 8, 5, 7, 0, 5, 9, 7, 9, 8, 3, 3, 3, 2, 5, 5, 8, 4, 6, 7, 5, 9, 0, 5, 7, 7, 3, 0, 0, 4, 3, 5, 7, 3, 3, 7, 1, 3, 0, 4, 9, 5, 6, 8, 9, 0, 0, 6, 9, 3, 7, 6, 2, 0, 7, 3, 4, 9, 5, 6, 9, 6, 2, 5, 4, 5, 6, 6, 3, 2, 6, 3, 3, 9, 6, 9, 7, 0, 6, 6, 0, 1, 1, 1, 7, 4, 6, 8, 0, 9, 3, 7, 2, 3, 8, 2, 4, 5, 9, 0, 8, 7, 4, 5, 7, 0, 2, 2, 8, 5, 6, 8, 7, 7, 9, 3, 0, 0, 7, 7, 6, 2, 3, 0, 8, 9, 1, 4, 9, 5, 7, 2, 5, 2, 9, 9, 4, 0, 4, 1, 4, 1, 9, 8, 2, 0, 3, 8, 2, 7, 2, 1, 5, 6, 5, 0, 3, 8, 4, 9, 9, 0, 9, 7, 9, 2, 6, 0, 7, 7, 9, 2, 6, 4, 3, 1, 0, 5, 8, 2, 6, 5, 7, 4, 7, 8, 2, 1, 7, 7, 5, 2, 4, 3, 4, 8, 1, 7, 0, 6, 0, 8, 5, 5, 5, 4, 4, 6, 7, 8, 6, 9, 1, 4, 7, 0, 4, 3, 9, 5, 2, 9, 7, 1, 3, 5, 1, 8, 4, 4, 2, 4, 6, 8, 6, 5, 3, 1, 7, 5, 2, 1, 2, 9, 5, 8, 6, 4, 9, 2, 3, 7, 5, 1, 5, 3, 2, 5, 6, 4, 4, 5, 2, 7, 4, 6, 7, 9, 7, 3, 0, 4, 5, 2, 0, 6, 3, 6, 7, 7, 3, 9, 2, 4, 7, 2, 9, 8, 8, 5, 2, 4, 6, 0, 2, 3, 8, 2, 1, 9, 1, 7, 3, 0, 2, 2, 7, 6, 4, 1, 2, 8, 0, 8, 0, 8, 3, 9, 8, 0, 7, 4, 2, 0, 7, 9, 5, 9, 4, 9, 4, 9, 2, 2, 4, 2, 1, 8, 5, 2, 8, 8, 3, 0, 5, 0, 9, 7, 1, 8, 7, 5, 2, 5, 7, 0, 5, 1, 5, 8, 0, 4, 0, 8, 6, 1, 0, 6, 3, 6, 0, 5, 4, 9, 7, 1, 2, 7, 7, 7, 2, 4, 1, 2, 0, 6, 6, 7, 0, 1, 3, 7, 5, 8, 5, 9, 8, 5, 5, 8, 7, 5, 1, 3, 5, 8, 6, 6, 2, 6, 4, 5, 5, 0, 2, 9, 2, 2, 4, 9, 9, 1, 2, 1, 6, 5, 9, 6, 4, 0, 7, 6, 9, 4, 0, 3, 7, 9, 4, 0, 9, 9, 7, 7, 8, 6, 5, 3, 5, 4, 5, 8, 5, 4, 0, 5, 1, 3, 6, 5, 4, 0, 0, 7, 9, 4, 7, 4, 4, 6, 8, 2, 6, 0, 4, 7, 9, 1, 5, 4, 7, 1, 8, 7, 8, 1, 3, 2, 8, 5, 4, 2, 4, 2, 4, 3, 3, 7, 8, 0, 6, 6, 1, 1, 0, 9, 7, 9, 7, 5, 1, 4, 8, 6, 8, 3, 9, 7, 4, 5, 7, 8, 3, 5, 0, 9, 9, 1, 8, 7, 8, 7, 9, 6, 9, 5, 8, 3, 5, 6, 2, 9, 6, 8, 0, 2, 3, 5, 6, 3, 2, 5, 4, 9, 1, 1, 1, 2, 4, 2, 4, 4, 5, 9, 1, 3, 1, 0, 9, 2, 2, 3, 6, 6, 6, 4, 3, 6, 8, 5, 5, 4, 6, 5, 7, 3, 0, 2, 2, 0, 0, 2, 9, 1, 5, 9, 9, 7, 8, 0, 9, 8, 6, 0, 1, 9, 1, 7, 0, 9, 3, 9, 2, 4, 4, 5, 5, 1, 7, 9, 2, 2, 2, 8, 6, 3, 3, 1, 8, 0, 9, 2, 3, 8, 4, 6, 1, 0, 4, 7, 7, 8, 5, 8, 6, 1, 7, 1, 7, 9, 3, 9, 8, 1, 3, 1, 5, 2, 7, 0, 5, 2, 7, 8, 9, 7, 5, 5, 0, 3, 8, 1, 3, 0, 0, 5, 6, 6, 3, 7, 1, 2, 6, 3, 6, 8, 8, 9, 0, 2, 2, 5, 9, 0, 4, 4, 6, 1, 9, 7, 4, 1, 5, 5, 8, 2, 4, 0, 5, 7, 6, 5, 2, 6, 7, 2, 0, 0, 1, 7, 3, 5, 7, 6, 6, 9, 2, 8, 2, 2, 2, 8, 3, 2, 6, 7, 0, 1, 3, 3, 5, 2, 6, 5, 4, 5, 8, 9, 3, 0, 5, 5, 2, 6, 9, 6, 1, 9, 5, 0, 3, 1, 3, 1, 7, 0, 5, 7, 8, 2, 9, 1, 2, 4, 8, 5, 4, 1, 1, 6, 7, 7, 6, 4, 9, 3, 9, 8, 3, 0, 6, 5, 2, 0, 4, 6, 6, 6, 2, 2, 3, 2, 2, 2, 6, 4, 6, 5, 6, 2, 8, 1, 3, 4, 8, 7, 2, 5, 3, 8, 5, 1, 7, 3, 4, 8, 9, 9, 1, 4, 4, 5, 2, 7, 9, 4, 3, 3, 9, 3, 1, 6, 2, 8, 3, 2, 5, 8, 0, 1, 9, 7, 7, 9, 1, 9, 8, 3, 2, 2, 3, 8, 1, 3, 1, 3, 0, 2, 3, 7, 0, 4, 1, 5, 2, 7, 0, 6, 3, 9, 2, 1, 3, 8, 4, 4, 9, 1, 9, 2, 6, 2, 7, 7, 1, 2, 3, 1, 3, 8, 3, 2, 6, 5, 3, 8, 1, 6, 7, 0, 5, 0, 2, 8, 2, 2, 9, 1, 0, 2, 9, 3, 0, 5, 1, 6, 9, 0, 7, 0, 0, 8, 6, 7, 3, 1, 0, 7, 8, 8, 7, 0, 3, 0, 3, 7, 1, 1, 4, 8, 6, 0, 3, 5, 2, 9, 2, 8, 7, 9, 4, 1, 8, 1, 4, 9, 4, 7, 4, 1, 9, 3, 3, 7, 5, 4, 6, 8, 1, 1, 6, 9, 2, 3, 3, 4, 9, 9, 2, 1, 0, 5, 2, 2, 1, 3, 6, 6, 8, 6, 6, 1, 6, 5, 0, 4, 0, 3, 9, 8, 0, 1, 3, 0, 8, 5, 3, 1, 8, 2, 0, 4, 2, 7, 5, 0, 8, 8, 6, 3, 4, 9, 8, 1, 1, 5, 3, 1, 8, 2, 8, 4, 2, 7, 0, 9, 3, 1, 4, 4, 1, 6, 7, 1, 2, 7, 4, 3, 8, 7, 0, 4, 2, 2, 5, 9, 0, 1, 1, 3, 9, 4, 4, 5, 2, 2, 2, 0, 3, 2, 1, 9, 7, 9, 7, 4, 6, 5, 3, 5, 8, 1, 3, 7, 8, 0, 6, 6, 4, 4, 6, 9, 7, 6, 0, 8, 6, 9, 7, 9, 8, 0, 1, 1, 0, 1, 3, 9, 8, 9, 0, 6, 2, 7, 6, 2, 5, 0, 6, 5, 6, 0, 6, 8, 7, 7, 3, 0, 0, 7, 3, 1, 0, 8, 4, 9, 6, 5, 8, 2, 0, 2, 6, 1, 6, 3, 3, 0, 5, 2, 0, 6, 4, 2, 6, 8, 1, 1, 6, 8, 2, 8, 0, 0, 5, 3, 8, 2, 4, 4, 2, 7, 2, 9, 2, 8, 5, 2, 2, 0, 9, 5, 4, 4, 2, 8, 7, 0, 3, 4, 0, 3, 3, 1, 9, 0, 1, 6, 2, 9, 6, 7, 0, 1, 0, 8, 9, 4, 3, 1, 4, 2, 9, 2, 8, 8, 1, 4, 0, 1, 6, 3, 5, 9, 4, 6, 9, 4, 6, 0, 5, 9, 5, 9, 2, 2, 9, 8, 3, 3, 5, 4, 0, 5, 8, 4, 0, 4, 1, 4, 8, 2, 4, 3, 6, 5, 3, 3, 2, 3, 1, 2, 9, 1, 1, 5, 8, 7, 3, 5, 0, 9, 4, 9, 0, 3, 6, 1, 7, 0, 0, 3, 0, 6, 4, 9, 4, 2, 3, 8, 9, 4, 8, 5, 3, 8, 6, 7, 1, 0, 1, 8, 9, 5, 8, 1, 5, 2, 6, 8, 3, 9, 9, 0, 4, 5, 1, 6, 0, 1, 1, 8, 8, 7, 1, 5, 0, 8, 1, 5, 9, 3, 7, 6, 5, 6, 4, 9, 5, 5, 4, 0, 5, 6, 6, 4, 7, 4, 7, 8, 3, 6, 9, 2, 6, 9, 6, 4, 9, 6, 8, 0, 7, 6, 4, 0, 4, 3, 2, 0, 5, 0, 2, 7, 3, 5, 2, 9, 6, 6, 7, 9, 1, 4, 0, 1, 7, 3, 2, 0, 1, 6, 3, 4, 5, 5, 5, 1, 3, 6, 7, 5, 4, 9, 6, 8, 2, 5, 0, 3, 5, 3, 8, 9, 0, 5, 5, 8, 6, 8, 6, 6, 1, 4, 2, 4, 0, 1, 8, 0, 9, 2, 6, 1, 0, 5, 4, 0, 5, 2, 4, 2, 9, 3, 6, 9, 6, 3, 4, 2, 3, 7, 6, 3, 2, 3, 0, 9, 3, 9, 3, 7, 3, 2, 0, 7, 7, 7, 7, 1, 0, 1, 4, 1, 4, 1, 6, 1, 7, 4, 1, 5, 7, 7, 6, 9, 5, 8, 6, 6, 1, 8, 3, 9, 5, 1, 4, 0, 2, 4, 6, 2, 3, 4, 3, 6, 7, 2, 9, 8, 5, 2, 5, 4, 8, 7, 6, 2, 2, 1, 2, 3, 7, 0, 5, 5, 3, 4, 5, 7, 6, 7, 4, 4, 7, 3, 0, 4, 0, 8, 4, 6, 9, 4, 8, 8, 6, 3, 8, 2, 2, 6, 8, 4, 8, 1, 3, 5, 6, 8, 1, 0, 3, 9, 3, 4, 8, 0, 8, 6, 2, 8, 5, 4, 9, 2, 7, 5, 3, 6, 1, 1, 1, 1, 1, 4, 8, 3, 2, 3, 8, 5, 2, 0, 7, 7, 0, 6, 4, 9, 0, 2, 0, 4, 1, 7, 4, 4, 2, 7, 7, 5, 2, 7, 8, 2, 6, 0, 8, 0, 3, 5, 4, 6, 0, 1, 1, 3, 3, 2, 3, 8, 4, 2, 0, 2, 3, 6, 5, 7, 6, 3, 8, 5, 5, 7, 9, 6, 7, 6, 6, 2, 1, 4, 2, 4, 4, 7, 7, 3, 4, 1, 4, 5, 1, 0, 3, 6, 6, 6, 8, 1, 4, 3, 6, 3, 4, 5, 4, 9, 1, 3, 7, 4, 6, 4, 5, 8, 6, 5, 0, 8, 4, 4, 4, 6, 8, 0, 3, 1, 1, 0, 6, 3, 2, 2, 1, 2, 0, 2, 1, 7, 8, 2, 1, 3, 6, 5, 3, 0, 2, 7, 0, 6, 8, 5, 2, 3, 5, 3, 0, 0, 5, 5, 1, 8, 3, 6, 2, 9, 3, 8, 5, 3, 0, 3, 2, 2, 8, 3, 3, 0, 2, 1, 9, 9, 6, 1, 3, 7, 1, 5, 0, 1, 3, 2, 7, 2, 3, 2, 6, 2, 4, 3, 3, 5, 8, 0, 6, 3, 5, 0, 3, 8, 3, 9, 8, 2, 0, 5, 6, 5, 7, 4, 9, 2, 4, 2, 8, 9, 9, 4, 2, 7, 9, 1, 5, 7, 3, 2, 3, 7, 7, 4, 9, 4, 3, 2, 1, 5, 1, 7, 3, 3, 0, 0, 1, 0, 8, 4, 6, 0, 9, 0, 0, 2, 7, 1, 3, 2, 6, 5, 8, 4, 1, 9, 4, 8, 6, 8, 4, 0, 4, 0, 1, 9, 3, 7, 8, 8, 9, 2, 3, 3, 5, 8, 1, 4, 5, 9, 9, 1, 4, 3, 1, 2, 8, 3, 3, 6, 8, 6, 3, 3, 4, 7, 2, 6, 3, 7, 4, 6, 6, 5, 0, 0, 2, 6, 9, 4, 0, 1, 0, 9, 2, 3, 3, 1, 3, 8, 1, 0, 9, 5, 4, 5, 9, 2, 7, 8, 0, 3, 2, 2, 5, 2, 6, 9, 0, 4, 6, 1, 9, 7, 5, 9, 6, 5, 9, 2, 7, 6, 7, 5, 7, 2, 3, 5, 2, 4, 1, 8, 7, 4, 0, 4, 4, 4, 0, 2, 6, 9, 1, 0, 0, 6, 5, 9, 9, 2, 8, 9, 1, 4, 1, 0, 1, 4, 7, 9, 8, 2, 8, 7, 0, 0, 6, 0, 3, 6, 3, 3, 6, 2, 0, 7, 9, 5, 2, 3, 5, 3, 8, 3, 8, 1, 7, 1, 6, 7, 8, 2, 6, 8, 5, 0, 4, 3, 4, 9, 3, 5, 4, 4, 5, 7, 4, 8, 8, 4, 0, 3, 6, 5, 5, 2, 9, 0, 8, 7, 7, 1, 3, 2, 9, 1, 3, 4, 1, 1, 6, 6, 9, 3, 1, 1, 8, 8, 9, 4, 1, 4, 8, 3, 1, 6, 8, 7, 6, 2, 5, 6, 3, 3, 9, 9, 8, 9, 2, 4, 1, 2, 6, 4, 4, 9, 0, 4, 4, 4, 9, 6, 6, 4, 8, 3, 6, 6, 0, 2, 1, 2, 2, 1, 0, 1, 4, 0, 8, 3, 6, 1, 4, 5, 2, 2, 6, 2, 4, 7, 1, 1, 4, 1, 6, 3, 9, 4, 7, 8, 6, 4, 9, 0, 5, 9, 1, 2, 9, 9, 5, 4, 9, 3, 3, 9, 1, 1, 0, 4, 6, 5, 1, 5, 5, 3, 8, 5, 6, 4, 8, 8, 2, 4, 4, 1, 9, 2, 4, 1, 1, 3, 9, 9, 0, 1, 0, 3, 6, 2, 8, 9, 5, 2, 9, 0, 1, 1, 2, 5, 2, 3, 9, 7, 0, 8, 9, 7, 7, 6, 5, 3, 0, 6, 6, 6, 2, 9, 0, 6, 2, 5, 4, 5, 0, 3, 1, 4, 8, 0, 9, 8, 1, 3, 5, 3, 8, 4, 7, 5, 0, 6, 6, 3, 9, 0, 1, 4, 4, 4, 4, 1, 8, 5, 1, 6, 6, 7, 3, 3, 1, 0, 8, 5, 8, 7, 1, 2, 1, 7, 5, 5, 7, 7, 9, 7, 0, 9, 9, 0, 9, 5, 3, 8, 4, 7, 7, 0, 7, 2, 2, 1, 4, 1, 8, 8, 9, 6, 4, 1, 9, 1, 8, 8, 6, 9, 9, 7, 0, 7, 8, 5, 7, 5, 0, 9, 2, 2, 5, 9, 6, 6, 1, 5, 0, 5, 4, 2, 8, 4, 7, 3, 8, 5, 7, 5, 9, 6, 4, 8, 8, 2, 7, 1, 5, 7, 0, 2, 1, 3, 9, 8, 2, 6, 9, 5, 9, 0, 1, 3, 4, 8, 0, 2, 0, 6, 3, 1, 2, 0, 0, 5, 4, 4, 3, 0, 4, 5, 4, 6, 3, 9, 2, 0, 4, 3, 1, 1, 9, 1, 8, 9, 0, 5, 7, 9, 7, 6, 3, 5, 7, 9, 7, 3, 3, 1, 0, 6, 9, 4, 4, 3, 8, 8, 0, 7, 9, 3, 3, 7, 4, 7, 6, 4, 6, 8, 5, 3, 1, 5, 6, 7, 7, 6, 7, 5, 6, 9, 1, 6, 6, 8, 1, 3, 7, 0, 2, 4, 1, 6, 2, 2, 7, 3, 4, 6, 1, 8, 2, 4, 7, 9, 2, 3, 0, 7, 0, 0, 2, 8, 3, 0, 6, 3, 5, 4, 0, 9, 3, 0, 2, 6, 2, 0, 6, 0, 4, 6, 3, 9, 4, 0, 1, 4, 9, 7, 5, 3, 9, 2, 1, 7, 0, 2, 5, 2, 3, 4, 7, 7, 3, 6, 9, 8, 8, 5, 1, 3, 5, 4, 3, 2, 2, 6, 7, 0, 5, 0, 5, 0, 1, 8, 7, 6, 9, 7, 8, 1, 0, 1, 8, 7, 6, 0, 6, 9, 8, 3, 5, 1, 2, 8, 8, 4, 5, 2, 7, 8, 9, 4, 0, 2, 0, 8, 0, 0, 0, 1, 0, 8, 3, 6, 9, 6, 1, 3, 2, 9, 6, 0, 5, 2, 9, 2, 3, 2, 0, 5, 1, 3, 4, 8, 1, 2, 6, 3, 1, 5, 3, 7, 1, 0, 7, 3, 6, 0, 8, 9, 3, 1, 5, 6, 4, 9, 5, 9, 1, 6, 8, 8, 1, 3, 0, 8, 8, 2, 0, 4, 0, 3, 0, 5, 4, 7, 2, 2, 2, 8, 5, 8, 1, 6, 5, 1, 6, 5, 1, 9, 6, 4, 6, 5, 2, 9, 2, 6, 6, 8, 1, 0, 5, 9, 3, 0, 6, 2, 6, 5, 0, 0, 6, 2, 7, 9, 5, 4, 2, 5, 2, 9, 3, 5, 7, 7, 1, 9, 8, 6, 2, 0, 5, 5, 8, 3, 8, 9, 1, 2, 2, 4, 5, 8, 0, 6, 3, 5, 1, 5, 9, 5, 5, 8, 8, 4, 7, 0, 5, 9, 2, 4, 5, 9, 6, 3, 0, 5, 8, 2, 9, 3, 7, 9, 5, 4, 6, 9, 7, 5, 2, 9, 9, 8, 3, 0, 8, 2, 1, 6, 3, 8, 8, 7, 0, 4, 1, 4, 4, 7, 6, 5, 3, 2, 5, 0, 1, 7, 1, 3, 0, 6, 3, 0, 1, 7, 9, 3, 4, 7, 0, 5, 8, 9, 8, 1, 1, 1, 4, 6, 0, 7, 7, 4, 3, 0, 9, 3, 8, 3, 6, 8, 1, 5, 4, 0, 8, 7, 6, 3, 2, 7, 7, 0, 1, 2, 3, 4, 9, 3, 8, 1, 8, 5, 0, 9, 8, 9, 0, 5, 7, 9, 4, 1, 1, 1, 2, 0, 4, 2, 9, 5, 7, 8, 4, 1, 7, 7, 5, 5, 3, 7, 6, 4, 9, 8, 3, 0, 4, 1, 1, 6, 9, 5, 2, 7, 5, 4, 7, 5, 7, 5, 5, 5, 3, 7, 9, 8, 8, 7, 5, 9, 2, 3, 1, 6, 4, 6, 9, 4, 3, 6, 1, 2, 1, 1, 7, 5, 5, 5, 3, 6, 2, 0, 7, 8, 4, 1, 6, 7, 7, 8, 9, 1, 2, 4, 7, 2, 1, 4, 3, 2, 0, 8, 6, 8, 5, 0, 4, 4, 4, 6, 6, 7, 9, 3, 2, 9, 7, 4, 9, 9, 0, 8, 6, 7, 0, 6, 4, 3, 9, 4, 7, 4, 5, 9, 4, 9, 2, 6, 4, 6, 3, 5, 4, 0, 8, 9, 9, 0, 2, 4, 6, 5, 2, 8, 9, 6, 9, 2, 3, 6, 9, 3, 8, 0, 8, 1, 0, 8, 9, 6, 7, 5, 3, 6, 9, 6, 8, 2, 4, 3, 5, 2, 6, 6, 4, 4, 6, 1, 9, 0, 9, 2, 8, 3, 7, 2, 6, 0, 5, 8, 3, 7, 5, 6, 1, 7, 3, 0, 0, 0, 8, 7, 0, 4, 0, 8, 7, 4, 5, 5, 7, 8, 2, 9, 8, 4, 1, 7, 1, 7, 0, 0, 7, 5, 8, 0, 0, 9, 3, 0, 0, 2, 3, 9, 7, 2, 7, 2, 4, 5, 7, 5, 5, 0, 7, 3, 1, 3, 2, 7, 0, 6, 7, 2, 5, 7, 9, 6, 5, 0, 7, 7, 8, 8, 0, 0, 8, 0, 1, 8, 6, 9, 6, 7, 2, 3, 5, 6, 1, 7, 9, 5, 9, 7, 9, 8, 1, 9, 4, 8, 8, 7, 3, 5, 4, 5, 0, 9, 1, 7, 7, 9, 6, 3, 6, 8, 6, 1, 5, 5, 1, 2, 5, 2, 1, 9, 0, 7, 0, 6, 0, 6, 3, 3, 5, 8, 5, 6, 5, 8, 4, 4, 6, 3, 2, 0, 8, 4, 0, 3, 9, 0, 1, 3, 6, 3, 2, 5, 5, 3, 6, 2, 5, 7, 8, 6, 5, 6, 2, 3, 7, 9, 5, 3, 0, 8, 7, 9, 1, 1, 2, 3, 7, 2, 0, 2, 4, 7, 0, 3, 6, 5, 3, 8, 0, 7, 6, 5, 6, 4, 1, 1, 1, 5, 3, 0, 3, 1, 7, 8, 4, 7, 0, 3, 8, 0, 2, 7, 8, 5, 1, 9, 8, 3, 3, 1, 5, 3, 7, 8, 0, 6, 2, 2, 4, 9, 5, 2, 8, 7, 8, 9, 1, 2, 4, 4, 2, 9, 1, 2, 9, 5, 9, 0, 2, 0, 9, 0, 4, 5, 6, 7, 5, 2, 4, 1, 9, 3, 0, 5, 7, 3, 9, 3, 3, 6, 7, 8, 4, 2, 2, 9, 6, 3, 6, 2, 3, 0, 9, 9, 4, 0, 2, 4, 0, 4, 8, 1, 3, 0, 9, 4, 8, 9, 4, 5, 1, 5, 5, 0, 6, 1, 4, 7, 1, 0, 1, 6, 4, 1, 1, 8, 2, 5, 2, 4, 6, 6, 1, 2, 2, 7, 2, 3, 1, 1, 8, 2, 0, 7, 4, 2, 7, 8, 5, 4, 6, 4, 6, 9, 3, 0, 0, 1, 8, 9, 8, 8, 4, 8, 4, 1, 1, 0, 6, 3, 4, 7, 5, 7, 9, 0, 3, 6, 7, 7, 0, 4, 4, 8, 6, 0, 7, 8, 6, 9, 6, 0, 3, 9, 1, 7, 3, 0, 5, 5, 7, 2, 5, 8, 0, 1, 0, 1, 6, 8, 8, 8, 6, 8, 0, 4, 6, 8, 8, 3, 9, 1, 5, 7, 3, 7, 5, 3, 6, 1, 0, 1, 1, 3, 4, 0, 0, 4, 9, 6, 9, 1, 8, 9, 1, 4, 3, 5, 4, 0, 1, 8, 5, 2, 5, 8, 2, 1, 0, 4, 3, 5, 8, 5, 7, 1, 7, 1, 9, 1, 8, 0, 5, 6, 5, 2, 6, 0, 5, 5, 8, 1, 9, 3, 7, 7, 1, 2, 1, 5, 2, 1, 8, 9, 8, 0, 9, 9, 1, 0, 2, 8, 5, 2, 9, 7, 7, 3, 7, 5, 1, 9, 2, 0, 4, 0, 5, 0, 5, 0, 7, 6, 4, 8, 1, 8, 2, 2, 0, 1, 3, 8, 0, 0, 3, 9, 9, 4, 1, 6, 6, 0, 9, 2, 9, 2, 0, 5, 5, 0, 5, 1, 7, 2, 2, 4, 9, 3, 5, 7, 1, 9, 6, 7, 8, 4, 1, 9, 4, 7, 4, 6, 5, 9, 6, 2, 5, 5, 1, 6, 4, 8, 5, 3, 6, 8, 5, 0, 7, 6, 5, 8, 6, 0, 7, 7, 5, 0, 3, 9, 2, 4, 7, 5, 6, 1, 7, 1, 7, 2, 6, 0, 7, 8, 7, 4, 8, 0, 4, 5, 7, 6, 9, 6, 5, 1, 8, 2, 1, 7, 2, 5, 3, 0, 2, 7, 4, 1, 1, 4, 4, 1, 6, 5, 5, 2, 8, 3, 3, 3, 0, 8, 5, 3, 4, 0, 3, 1, 8, 6, 6, 1, 4, 8, 7, 3, 8, 4, 9, 5, 3, 4, 7, 1, 8, 9, 9, 7, 4, 4, 8, 5, 2, 0, 1, 7, 0, 9, 9, 0, 4, 2, 8, 2, 7, 3, 5, 8, 4, 6, 6, 9, 4, 2, 3, 0, 0, 0, 6, 9, 0, 3, 8, 8, 9, 4, 8, 3, 1, 5, 2, 9, 2, 7, 0, 8, 9, 2, 5, 4, 5, 1, 3, 1, 0, 4, 4, 1, 1, 2, 8, 1, 4, 9, 4, 7, 1, 4, 1, 7, 2, 7, 5, 0, 5, 3, 8, 4, 1, 8, 2, 3, 7, 1, 9, 1, 3, 8, 1, 8, 9, 6, 0, 6, 8, 8, 7, 4, 5, 7, 2, 8, 2, 8, 0, 7, 9, 3, 7, 0, 5, 5, 9, 3, 8, 6, 4, 1, 9, 0, 7, 5, 0, 1, 3, 5, 9, 2, 3, 1, 0, 3, 9, 6, 7, 0, 6, 2, 4, 6, 4, 8, 8, 4, 4, 8, 7, 0, 0, 8, 3, 0, 5, 3, 5, 9, 3, 9, 8, 9, 3, 3, 6, 5, 0, 3, 2, 8, 5, 3, 2, 7, 2, 5, 5, 4, 2, 1, 5, 1, 8, 9, 8, 8, 2, 6, 8, 0, 9, 8, 0, 6, 6, 3, 7, 7, 1, 8, 1, 7, 2, 3, 8, 3, 6, 5, 0, 2, 0, 3, 5, 5, 2, 0, 4, 1, 6, 5, 4, 7, 4, 4, 3, 2, 1, 8, 1, 1, 0, 7, 3, 0, 2, 3, 2, 6, 4, 5, 7, 9, 9, 7, 2, 2, 2, 9, 8, 4, 1, 8, 7, 3, 8, 7, 9, 7, 3, 0, 7, 9, 8, 5, 2, 0, 5, 8, 6, 9, 0, 3, 0, 6, 6, 3, 0, 5, 4, 6, 0, 6, 9, 2, 1, 0, 1, 8, 9, 8, 4, 9, 4, 9, 3, 5, 8, 3, 8, 3, 7, 1, 9, 9, 4, 3, 6, 4, 2, 3, 4, 8, 3, 6, 4, 4, 9, 0, 7, 8, 4, 8, 0, 3, 3, 2, 6, 5, 0, 0, 2, 8, 6, 1, 2, 4, 3, 8, 7, 9, 7, 9, 6, 9, 1, 6, 3, 9, 1, 2, 2, 9, 9, 8, 7, 7, 8, 2, 7, 5, 5, 9, 3, 1, 4, 0, 0, 7, 9, 2, 7, 3, 2, 7, 4, 2, 2, 7, 2, 7, 6, 3, 6, 9, 5, 6, 4, 8, 3, 8, 5, 0, 7, 4, 8, 2, 2, 2, 8, 4, 0, 4, 9, 6, 7, 0, 9, 4, 8, 0, 0, 7, 0, 4, 0, 3, 7, 1, 9, 7, 9, 3, 6, 5, 5, 2, 9, 7, 5, 7, 7, 4, 4, 0, 0, 5, 1, 8, 9, 4, 8, 3, 3, 8, 9, 6, 4, 2, 0, 3, 2, 4, 8, 9, 2, 8, 3, 8, 2, 0, 7, 9, 8, 8, 4, 2, 4, 0, 8, 5, 6, 5, 2, 6, 8, 4, 9, 3, 9, 8, 0, 4, 2, 4, 3, 0, 7, 0, 3, 0, 4, 8, 2, 4, 6, 6, 3, 1, 6, 0, 0, 8, 0, 8, 6, 0, 4, 9, 9, 5, 5, 3, 7, 7, 0, 4, 9, 7, 2, 7, 9, 9, 5, 9, 6, 3, 9, 1, 5, 3, 6, 3, 7, 6, 4, 3, 8, 9, 1, 4, 0, 0, 3, 1, 3, 0, 1, 6, 0, 8, 1, 5, 0, 8, 8, 2, 6, 7, 5, 6, 0, 9, 8, 8, 3, 8, 6, 2, 4, 5, 8, 0, 3, 5, 4, 4, 3, 3, 2, 7, 4, 1, 0, 0, 0, 7, 5, 0, 4, 9, 2, 4, 4, 7, 6, 4, 3, 4, 3, 4, 5, 4, 3, 6, 1, 9, 1, 9, 5, 1, 1, 6, 6, 1, 2, 1, 0, 4, 9, 8, 9, 1, 6, 3, 0, 6, 9, 6, 3, 9, 0, 0, 2, 4, 5, 6, 9, 6, 9, 0, 0, 3, 1, 2, 5, 0, 7, 4, 3, 2, 2, 4, 1, 2, 5, 8, 2, 6, 9, 7, 8, 0, 1, 4, 3, 0, 1, 8, 0, 1, 6, 3, 4, 3, 2, 4, 1, 1, 7, 3, 7, 0, 3, 5, 5, 1, 9, 4, 0, 8, 3, 2, 7, 8, 5, 0, 4, 8, 5, 5, 3, 2, 2, 4, 1, 2, 8, 8, 6, 5, 9, 4, 8, 1, 0, 9, 3, 6, 2, 3, 6, 1, 3, 3, 5, 7, 3, 7, 6, 9, 6, 5, 1, 7, 4, 9, 8, 7, 4, 3, 9, 7, 4, 3, 7, 8, 0, 2, 5, 4, 5, 4, 9, 5, 9, 8, 1, 9, 1, 1, 0, 6, 6, 0, 7, 2, 8, 9, 0, 5, 6, 5, 9, 3, 3, 3, 9, 4, 5, 3, 3, 5, 7, 5, 2, 5, 6, 9, 4, 4, 8, 2, 6, 3, 6, 5, 4, 1, 3, 0, 4, 6, 5, 6, 4, 1, 1, 5, 9, 0, 5, 3, 1, 3, 7, 2, 5, 0, 9, 1, 2, 3, 3, 4, 4, 9, 5, 4, 5, 1, 5, 0, 4, 2, 7, 3, 7, 0, 2, 0, 3, 9, 2, 9, 5, 7, 8, 5, 7, 0, 4, 8, 2, 1, 4, 7, 5, 3, 1, 3, 4, 4, 1, 3, 5, 6, 6, 0, 7, 4, 5, 7, 0, 3, 7, 5, 9, 7, 3, 1, 3, 9, 5, 4, 6, 8, 4, 8, 8, 4, 8, 9, 4, 4, 6, 0, 5, 9, 9, 0, 5, 1, 3, 5, 8, 1, 4, 8, 2, 6, 2, 4, 3, 7, 5, 2, 8, 7, 2, 3, 7, 0, 0, 0, 1, 7, 7, 8, 2, 9, 0, 3, 4, 0, 7, 9, 6, 0, 7, 7, 7, 1, 9, 5, 5, 3, 0, 3, 6, 0, 6, 9, 0, 8, 1, 9, 0, 2, 3, 7, 2, 9, 0, 8, 6, 8, 5, 1, 2, 5, 3, 5, 4, 0, 0, 8, 2, 8, 4, 0, 0, 3, 8, 4, 6, 2, 8, 8, 4, 7, 7, 2, 6, 3, 6, 2, 6, 0, 6, 2, 1, 5, 1, 2, 6, 5, 3, 8, 8, 3, 3, 1, 7, 8, 3, 7, 9, 8, 7, 5, 8, 3, 5, 9, 2, 6, 0, 1, 3, 4, 1, 6, 5, 5, 2, 4, 1, 0, 9, 0, 5, 6, 3, 2, 2, 1, 6, 5, 8, 8, 7, 8, 6, 1, 1, 2, 5, 9, 5, 5, 0, 4, 9, 2, 1, 7, 0, 9, 4, 4, 7, 4, 6, 8, 9, 7, 7, 5, 7, 2, 7, 8, 8, 4, 5, 4, 1, 4, 1, 7, 6, 5, 3, 1, 6, 0, 1, 7, 5, 1, 8, 5, 9, 5, 1, 9, 6, 5, 7, 1, 8, 4, 5, 3, 6, 1, 2, 2, 4, 5, 1, 7, 0, 8, 4, 5, 8, 5, 4, 5, 7, 2, 8, 6, 4, 0, 5, 7, 8, 8, 2, 4, 3, 3, 7, 3, 4, 4, 8, 9, 2, 9, 8, 1, 1, 9, 8, 7, 0, 0, 3, 6, 7, 8, 6, 2, 3, 8, 1, 8, 4, 8, 3, 0, 9, 8, 5, 9, 3, 8, 3, 5, 1, 4, 1, 8, 3, 5, 3, 8, 7, 8, 1, 3, 9, 7, 2, 4, 8, 5, 9, 0, 0, 1, 6, 0, 1, 2, 7, 2, 2, 9, 5, 0, 5, 7, 6, 7, 6, 3, 6, 4, 6, 7, 3, 3, 3, 6, 2, 1, 1, 5, 3, 2, 5, 9, 4, 3, 2, 1, 9, 4, 6, 6, 0, 0, 7, 5, 1, 3, 1, 9, 7, 0, 1, 1, 1, 1, 2, 8, 3, 3, 0, 2, 3, 3, 6, 6, 3, 3, 1, 7, 1, 3, 3, 5, 7, 8, 8, 7, 7, 4, 8, 6, 4, 7, 1, 5, 9, 2, 8, 5, 8, 2, 6, 5, 1, 3, 0, 0, 2, 0, 4, 6, 1, 3, 0, 2, 8, 0, 7, 8, 9, 2, 8, 3, 9, 2, 5, 4, 4, 1, 5, 6, 8, 4, 0, 4, 6, 2, 7, 9, 5, 2, 1, 7, 2, 3, 5, 7, 3, 3, 3, 9, 3, 0, 2, 6, 7, 0, 2, 2, 3, 8, 3, 6, 4, 7, 1, 7, 9, 8, 9, 8, 2, 6, 5, 1, 6, 3, 5, 1, 1, 2, 2, 0, 2, 8, 2, 3, 8, 0, 7, 7, 0, 6, 9, 0, 5, 2, 1, 1, 8, 8, 1, 7, 3, 6, 5, 0, 1, 6, 0, 9, 3, 9, 7, 0, 3, 4, 7, 7, 0, 8, 9, 2, 4, 7, 8, 0, 2, 0, 7, 3, 3, 0, 2, 9, 8, 5, 3, 3, 6, 4, 2, 3, 0, 7, 0, 8, 2, 8, 8, 8, 2, 7, 1, 2, 0, 3, 1, 8, 3, 6, 3, 0, 1, 1, 5, 7, 4, 2, 5, 4, 9, 4, 5, 1, 2, 2, 8, 5, 7, 1, 6, 5, 9, 7, 8, 1, 4, 2, 3, 5, 1, 4, 8, 2, 8, 7, 0, 5, 3, 4, 7, 3, 5, 9, 4, 8, 2, 9, 5, 3, 9, 6, 3, 5, 3, 9, 8, 9, 9, 5, 9, 0, 0, 1, 1, 2, 4, 1, 1, 3, 5, 6, 5, 2, 8, 2, 1, 0, 6, 0, 3, 9, 7, 8, 7, 6, 5, 5, 1, 9, 7, 5, 6, 6, 2, 6, 6, 4, 4, 8, 9, 0, 0, 2, 1, 9, 1, 4, 9, 7, 4, 4, 0, 1, 4, 4, 7, 7, 9, 0, 3, 7, 4, 5, 6, 9, 9, 7, 5, 7, 4, 4, 5, 2, 8, 8, 7, 7, 6, 8, 2, 1, 7, 3, 5, 4, 1, 5, 0, 9, 1, 6, 7, 2, 0, 3, 1, 9, 9, 2, 3, 0, 0, 7, 7, 3, 5, 6, 3, 0, 7, 7, 8, 2, 3, 2, 3, 1, 2, 1, 1, 1, 4, 6, 4, 7, 7, 2, 0, 1, 2, 1, 6, 6, 1, 5, 4, 1, 7, 6, 7, 4, 4, 0, 8, 6, 1, 8, 8, 6, 3, 0, 1, 6, 7, 0, 8, 0, 5, 8, 0, 7, 6, 3, 4, 8, 9, 5, 2, 9, 4, 9, 0, 9, 9, 0, 4, 1, 6, 0, 6, 5, 7, 9, 8, 5, 7, 2, 2, 7, 5, 1, 1, 5, 1, 3, 9, 7, 5, 9, 1, 6, 7, 0, 8, 9, 0, 0, 5, 1, 3, 2, 5, 6, 1, 5, 7, 0, 2, 5, 1, 0, 1, 6, 9, 9, 5, 5, 8, 9, 4, 2, 8, 6, 2, 1, 8, 4, 7, 4, 7, 1, 6, 0, 5, 2, 3, 5, 2, 9, 5, 8, 9, 3, 2, 6, 8, 0, 8, 1, 1, 2, 4, 8, 2, 7, 9, 9, 5, 0, 0, 6, 0, 8, 3, 6, 4, 6, 0, 9, 2, 7, 7, 5, 6, 9, 4, 9, 7, 2, 6, 4, 1, 9, 6, 6, 0, 5, 8, 4, 3, 6, 7, 6, 8, 8, 9, 3, 7, 7, 5, 6, 6, 2, 0, 9, 1, 8, 9, 2, 3, 5, 3, 4, 4, 0, 8, 9, 3, 8, 0, 2, 3, 2, 0, 1, 8, 9, 0, 6, 5, 7, 3, 1, 3, 8, 4, 5, 1, 0, 9, 0, 2, 5, 8, 4, 9, 6, 0, 0, 2, 8, 2, 3, 0, 2, 7, 6, 8, 4, 1, 9, 7, 8, 8, 1, 2, 9, 0, 2, 5, 0, 3, 8, 8, 9, 2, 4, 0, 6, 4, 2, 3, 4, 7, 3, 5, 4, 9, 6, 2, 5, 8, 0, 4, 3, 5, 1, 1, 0, 4, 9, 9, 3, 7, 1, 6, 8, 3, 7, 4, 7, 8, 7, 6, 4, 1, 1, 6, 5, 8, 3, 1, 5, 1, 5, 8, 9, 7, 4, 1, 9, 0, 1, 5, 4, 8, 8, 9, 8, 0, 3, 0, 8, 8, 5, 2, 5, 7, 3, 6, 3, 3, 7, 7, 4, 3, 7, 2, 9, 9, 4, 7, 8, 7, 1, 0, 6, 9, 7, 4, 1, 4, 1, 6, 8, 3, 0, 9, 9, 1, 8, 4, 9, 3, 6, 7, 3, 2, 9, 7, 9, 3, 3, 0, 4, 9, 0, 6, 8, 3, 4, 4, 8, 5, 9, 2, 3, 1, 3, 5, 6, 0, 5, 7, 6, 1, 2, 3, 5, 1, 2, 1, 8, 2, 6, 5, 4, 3, 9, 2, 3, 4, 9, 8, 0, 0, 2, 6, 3, 1, 4, 2, 3, 8, 3, 0, 5, 4, 9, 7, 8, 4, 8, 1, 9, 1, 3, 9, 3, 3, 8, 0, 0, 0, 4, 8, 6, 8, 6, 0, 6, 6, 9, 2, 6, 4, 6, 6, 7, 2, 0, 0, 8, 3, 8, 9, 1, 0, 6, 1, 1, 1, 9, 0, 2, 7, 4, 0, 9, 3, 8, 8, 9, 1, 3, 5, 5, 4, 2, 3, 7, 2, 2, 2, 4, 6, 1, 0, 3, 0, 9, 8, 5, 7, 5, 2, 0, 2, 5, 8, 5, 9, 7, 0, 6, 7, 2, 0, 1, 7, 4, 6, 9, 1, 8, 8, 4, 1, 2, 7, 3, 1, 3, 1, 8, 3, 4, 8, 7, 6, 6, 7, 2, 1, 4, 5, 0, 4, 7, 0, 1, 9, 2, 6, 8, 7, 2, 1, 5, 8, 8, 5, 6, 4, 6, 8, 8, 1, 2, 5, 3, 9, 7, 8, 6, 1, 8, 8, 5, 6, 0, 5, 7, 5, 5, 3, 2, 4, 7, 0, 5, 7, 3, 3, 5, 8, 6, 1, 4, 1, 6, 8, 8, 7, 4, 3, 3, 1, 4, 4, 6, 9, 0, 1, 0, 6, 9, 9, 4, 8, 7, 4, 3, 3, 7, 8, 6, 4, 2, 1, 2, 5, 5, 8, 9, 9, 9, 4, 1, 4, 3, 9, 0, 0, 0, 5, 6, 6, 7, 5, 3, 1, 1, 4, 8, 7, 8, 8, 8, 9, 4, 1, 1, 1, 1, 8, 5, 3, 1, 2, 6, 0, 7, 7, 6, 5, 9, 0, 7, 1, 2, 8, 1, 5, 0, 8, 1, 4, 3, 6, 3, 9, 1, 9, 5, 2, 7, 9, 5, 1, 3, 7, 5, 4, 9, 7, 4, 6, 0, 3, 8, 8, 5, 5, 4, 0, 4, 5, 2, 8, 9, 9, 3, 5, 9, 4, 7, 3, 7, 7, 1, 7, 8, 8, 8, 3, 2, 3, 0, 5, 5, 5, 5, 4, 5, 5, 0, 9, 6, 8, 0, 4, 5, 6, 1, 7, 2, 3, 6, 4, 0, 4, 8, 6, 0, 4, 3, 3, 4, 2, 8, 1, 5, 4, 9, 9, 9, 3, 6, 4, 0, 0, 7, 8, 0, 9, 5, 1, 4, 8, 3, 6, 4, 2, 9, 6, 6, 4, 4, 4, 8, 6, 6, 8, 3, 5, 6, 8, 4, 8, 1, 7, 1, 7, 9, 0, 3, 1, 2, 2, 2, 3, 4, 4, 4, 1, 7, 9, 3, 2, 8, 5, 7, 9, 0, 9, 3, 4, 9, 5, 7, 5, 1, 4, 3, 8, 0, 3, 7, 5, 9, 4, 6, 9, 6, 9, 1, 6, 6, 4, 0, 8, 3, 4, 2, 3, 0, 0, 9, 7, 2, 5, 5, 4, 5, 1, 8, 4, 0, 3, 8, 3, 2, 7, 1, 4, 1, 5, 5, 3, 0, 2, 9, 8, 9, 9, 2, 7, 0, 4, 9, 1, 3, 1, 2, 0, 4, 3, 3, 7, 4, 0, 5, 6, 2, 5, 3, 5, 1, 1, 9, 9, 1, 4, 7, 0, 8, 6, 4, 7, 2, 7, 2, 0, 3, 0, 9, 5, 2, 8, 2, 5, 0, 3, 5, 5, 6, 0, 0, 0, 1, 0, 1, 9, 7, 5, 1, 7, 6, 4, 4, 0, 6, 7, 4, 9, 1, 5, 7, 1, 2, 8, 2, 7, 9, 0, 9, 2, 1, 9, 8, 0, 0, 2, 1, 4, 3, 4, 2, 2, 9, 3, 4, 6, 7, 0, 3, 5, 4, 9, 3, 2, 0, 6, 6, 7, 1, 2, 0, 5, 8, 4, 0, 7, 8, 1, 8, 5, 5, 7, 9, 8, 5, 7, 5, 5, 5, 2, 6, 7, 9, 7, 2, 4, 8, 9, 5, 2, 8, 7, 4, 2, 4, 2, 5, 0, 1, 2, 3, 9, 9, 3, 3, 4, 5, 9, 4, 2, 8, 1, 8, 3, 1, 2, 0, 9, 3, 2, 1, 9, 7, 6, 7, 3, 2, 2, 0, 0, 1, 0, 4, 6, 1, 5, 2, 2, 7, 4, 0, 8, 5, 6, 0, 4, 9, 4, 0, 3, 4, 2, 5, 4, 8, 9, 1, 6, 9, 7, 4, 0, 1, 5, 0, 2, 6, 9, 1, 5, 3, 8, 0, 2, 2, 2, 7, 8, 4, 5, 2, 5, 7, 6, 2, 1, 7, 3, 1, 1, 6, 5, 2, 4, 5, 1, 2, 2, 0, 7, 9, 5, 0, 7, 8, 3, 1, 2, 3, 7, 6, 5, 7, 9, 5, 3, 6, 3, 2, 1, 1, 7, 7, 6, 6, 9, 5, 5, 3, 9, 0, 2, 5, 2, 6, 4, 3, 8, 4, 0, 4, 7, 2, 1, 4, 7, 0, 8, 4, 8, 5, 7, 1, 5, 9, 6, 8, 7, 0, 3, 6, 0, 5, 1, 0, 6, 3, 3, 0, 2, 8, 5, 9, 4, 4, 3, 8, 1, 9, 0, 0, 9, 4, 3, 1, 8, 6, 2, 4, 5, 8, 1, 3, 8, 8, 6, 2, 9, 4, 7, 8, 1, 5, 7, 8, 0, 5, 3, 6, 7, 6, 7, 7, 9, 8, 6, 6, 2, 1, 3, 5, 2, 7, 5, 6, 7, 8, 3, 2, 9, 4, 5, 0, 9, 1, 1, 5, 2, 6, 9, 5, 8, 9, 7, 0, 4, 0, 1, 7, 5, 8, 8, 5, 7, 1, 0, 4, 1, 6, 6, 2, 3, 9, 1, 6, 4, 1, 7, 9, 6, 9, 5, 8, 3, 3, 4, 5, 0, 8, 1, 4, 7, 7, 8, 5, 5, 4, 2, 5, 2, 4, 4, 7, 1, 3, 7, 5, 0, 6, 3, 1, 7, 9, 2, 4, 7, 7, 3, 6, 9, 8, 6, 3, 6, 1, 4, 3, 7, 3, 0, 4, 1, 5, 7, 1, 7, 1, 2, 6, 3, 6, 0, 2, 4, 4, 5, 8, 1, 6, 5, 0, 0, 2, 9, 2, 5, 3, 2, 6, 3, 7, 0, 4, 5, 0, 3, 3, 7, 6, 7, 7, 6, 7, 3, 5, 6, 1, 5, 5, 2, 8, 2, 2, 1, 9, 6, 6, 8, 8, 0, 0, 5, 7, 3, 0, 6, 2, 2, 2, 7, 5, 0, 7, 0, 1, 0, 3, 4, 8, 5, 3, 2, 5, 5, 5, 5, 5, 1, 0, 1, 1, 9, 8, 0, 0, 7, 0, 7, 4, 2, 7, 8, 3, 8, 2, 1, 2, 0, 4, 6, 9, 4, 3, 0, 4, 5, 0, 1, 4, 4, 2, 6, 1, 2, 3, 3, 2, 9, 6, 6, 2, 9, 2, 3, 6, 5, 9, 7, 2, 5, 7, 6, 3, 8, 6, 0, 7, 9, 3, 2, 8, 8, 5, 6, 4, 1, 7, 1, 9, 3, 8, 4, 8, 9, 0, 3, 8, 1, 5, 9, 0, 4, 5, 6, 4, 9, 6, 3, 6, 0, 0, 3, 6, 0, 3, 5, 9, 5, 9, 0, 4, 7, 2, 3, 5, 8, 4, 5, 7, 9, 5, 3, 1, 2, 8, 7, 1, 4, 0, 7, 9, 0, 1, 1, 9, 1, 3, 5, 4, 3, 9, 0, 9, 4, 2, 1, 8, 1, 5, 1, 0, 7, 4, 7, 8, 1, 5, 7, 0, 3, 3, 9, 8, 4, 8, 2, 1, 6, 3, 1, 9, 2, 2, 0, 1, 0, 8, 3, 0, 4, 1, 2, 9, 4, 5, 7, 0, 0, 3, 7, 2, 6, 2, 6, 9, 5, 6, 3, 7, 9, 0, 6, 7, 8, 2, 8, 7, 6, 6, 2, 9, 2, 8, 3, 2, 1, 3, 0, 4, 2, 5, 2, 2, 2, 8, 0, 0, 0, 9, 7, 6, 0, 3, 9, 2, 6, 8, 0, 5, 7, 0, 0, 1, 1, 1, 6, 3, 4, 2, 2, 0, 9, 8, 3, 5, 9, 1, 1, 3, 4, 2, 7, 3, 4, 0, 4, 2, 9, 3, 5, 9, 7, 8, 2, 5, 6, 0, 0, 8, 5, 1, 8, 8, 0, 2, 0, 7, 9, 5, 7, 9, 1, 3, 0, 7, 0, 1, 1, 7, 3, 9, 6, 8, 2, 3, 5, 6, 1, 6, 4, 5, 9, 1, 3, 1, 0, 0, 6, 9, 9, 5, 9, 2, 9, 5, 1, 8, 3, 6, 5, 9, 1, 9, 5, 1, 7, 3, 3, 3, 5, 6, 2, 6, 9, 3, 4, 1, 3, 8, 3, 3, 7, 2, 7, 5, 8, 3, 8, 2, 4, 1, 5, 2, 2, 7, 5, 1, 5, 4, 5, 0, 2, 3, 5, 3, 6, 1, 2, 6, 6, 7, 7, 9, 8, 4, 9, 3, 5, 5, 9, 8, 1, 2, 0, 8, 0, 8, 8, 6, 6, 9, 5, 4, 3, 8, 3, 8, 5, 1, 4, 7, 3, 2, 0, 8, 2, 4, 9, 1, 9, 6, 7, 9, 0, 1, 4, 1, 0, 6, 7, 2, 2, 8, 2, 0, 9, 4, 0, 8, 0, 6, 0, 7, 1, 2, 1, 1, 2, 4, 4, 7, 2, 6, 6, 0, 4, 8, 0, 9, 5, 7, 0, 4, 9, 4, 6, 7, 1, 6, 0, 0, 6, 4, 8, 7, 6, 4, 4, 8, 2, 6, 5, 2, 4, 8, 6, 2, 7, 0, 4, 3, 7, 5, 7, 1, 2, 6, 7, 3, 0, 2, 1, 6, 8, 5, 0, 9, 4, 2, 1, 9, 3, 7, 9, 9, 3, 0, 4, 2, 3, 4, 7, 8, 1, 5, 8, 7, 7, 6, 5, 6, 3, 9, 4, 3, 7, 5, 8, 6, 7, 7, 4, 7, 9, 9, 5, 7, 3, 6, 2, 4, 3, 5, 4, 3, 9, 4, 2, 4, 7, 9, 3, 1, 8, 2, 4, 0, 4, 2, 5, 8, 6, 1, 5, 1, 2, 4, 5, 9, 1, 1, 3, 0, 9, 6, 9, 7, 3, 6, 3, 0, 4, 9, 9, 3, 4, 9, 0, 9, 6, 6, 8, 2, 6, 7, 9, 3, 0, 9, 7, 3, 2, 7, 7, 3, 2, 2, 9, 7, 0, 1, 8, 7, 1, 7, 5, 6, 0, 5, 2, 0, 6, 7, 0, 6, 7, 6, 7, 8, 6, 9, 4, 1, 9, 3, 3, 3, 9, 0, 9, 6, 0, 9, 2, 1, 3, 0, 2, 2, 2, 3, 4, 6, 8, 4, 3, 2, 3, 2, 2, 9, 0, 3, 2, 0, 3, 3, 0, 2, 0, 6, 7, 8, 1, 7, 0, 9, 8, 7, 2, 4, 3, 7, 2, 4, 6, 9, 6, 8, 2, 6, 5, 0, 3, 5, 4, 1, 1, 5, 0, 0, 1, 4, 6, 4, 3, 7, 8, 2, 8, 7, 2, 5, 4, 4, 3, 1, 9, 1, 3, 0, 6, 7, 6, 2, 6, 9, 3, 6, 2, 2, 6, 0, 4, 5, 8, 0, 2, 3, 9, 0, 1, 2, 2, 5, 6, 8, 7, 0, 3, 3, 1, 3, 6, 0, 3, 9, 5, 9, 4, 8, 1, 7, 2, 3, 7, 3, 0, 6, 3, 5, 7, 3, 6, 9, 4, 6, 4, 5, 3, 7, 0, 6, 7, 3, 5, 1, 7, 0, 8, 1, 7, 6, 6, 8, 9, 6, 5, 8, 3, 1, 5, 5, 9, 9, 0, 5, 1, 9, 3, 0, 4, 2, 1, 3, 1, 8, 1, 2, 7, 2, 0, 4, 7, 1, 8, 7, 1, 3, 8, 7, 7, 8, 1, 6, 8, 7, 6, 6, 6, 9, 0, 7, 1, 0, 8, 8, 9, 5, 7, 4, 4, 4, 0, 2, 9, 8, 6, 8, 5, 9, 5, 0, 2, 1, 9, 3, 8, 8, 5, 0, 9, 2, 5, 9, 4, 4, 3, 2, 6, 6, 7, 9, 5, 4, 0, 9, 3, 9, 6, 1, 5, 5, 6, 1, 8, 2, 4, 7, 9, 9, 9, 4, 6, 2, 0, 9, 6, 9, 7, 8, 5, 0, 8, 8, 7, 6, 5, 6, 4, 7, 7, 7, 6, 6, 9, 6, 4, 1, 1, 3, 5, 6, 7, 1, 5, 9, 6, 1, 8, 3, 5, 1, 2, 7, 8, 9, 4, 5, 4, 5, 9, 3, 6, 3, 2, 9, 5, 5, 3, 5, 0, 6, 9, 2, 6, 6, 4, 5, 7, 3, 8, 4, 7, 8, 7, 3, 4, 2, 9, 1, 9, 7, 7, 8, 2, 7, 4, 1, 4, 9, 1, 7, 1, 8, 5, 0, 9, 9, 5, 7, 8, 6, 0, 4, 4, 5, 6, 8, 6, 6, 2, 7, 2, 7, 1, 7, 1, 6, 9, 9, 3, 6, 6, 6, 4, 0, 0, 0, 0, 3, 1, 9, 7, 5, 4, 5, 6, 0, 2, 9, 6, 1, 4, 1, 3, 6, 6, 5, 6, 3, 2, 6, 2, 8, 5, 5, 9, 6, 9, 1, 0, 0, 1, 5, 8, 3, 2, 6, 5, 4, 2, 4, 2, 4, 3, 3, 7, 4, 7, 3, 8, 2, 5, 0, 6, 6, 8, 8, 3, 9, 8, 1, 6, 2, 4, 4, 1, 9, 1, 9, 8, 1, 1, 9, 2, 9, 1, 7, 4, 7, 8, 3, 0, 2, 5, 9, 7, 9, 2, 9, 7, 3, 3, 2, 2, 1, 0, 6, 4, 3, 5, 9, 3, 0, 1, 6, 2, 5, 1, 8, 7, 6, 7, 5, 7, 7, 3, 8, 3, 7, 3, 7, 6, 6, 2, 5, 0, 0, 2, 3, 8, 0, 9, 3, 9, 8, 4, 2, 1, 0, 9, 2, 0, 8, 4, 6, 7, 1, 7, 3, 4, 6, 5, 9, 1, 5, 3, 7, 2, 8, 6, 2, 2, 7, 1, 5, 6, 5, 8, 0, 4, 2, 6, 8, 7, 0, 7, 1, 9, 4, 6, 9, 5, 3, 8, 0, 8, 5, 6, 3, 9, 0, 3, 6, 3, 1, 9, 3, 6, 9, 8, 0, 9, 4, 9, 4, 3, 6, 5, 2, 6, 8, 9, 3, 3, 1, 4, 5, 0, 6, 9, 0, 6, 9, 3, 2, 9, 0, 8, 6, 3, 7, 6, 8, 5, 9, 4, 2, 3, 7, 2, 0, 1, 9, 7, 9, 5, 7, 6, 7, 7, 2, 6, 0, 4, 6, 1, 0, 1, 2, 0, 0, 7, 4, 6, 2, 9, 6, 8, 9, 2, 7, 2, 8, 3, 2, 0, 1, 1, 1, 1, 4, 2, 9, 7, 9, 1, 5, 2, 2, 8, 7, 4, 7, 8, 0, 1, 3, 4, 4, 3, 9, 1, 4, 4, 5, 3, 7, 3, 7, 2, 2, 0, 8, 3, 5, 2, 6, 9, 0, 6, 7, 1, 3, 4, 9, 0, 7, 7, 8, 4, 5, 3, 4, 6, 1, 7, 4, 5, 4, 0, 6, 3, 3, 6, 0, 3, 4, 3, 8, 8, 6, 0, 0, 5, 9, 1, 0, 9, 6, 2, 3, 7, 2, 5, 0, 7, 5, 1, 3, 3, 9, 6, 5, 3, 8, 3, 4, 2, 2, 6, 4, 9, 2, 9, 1, 1, 6, 0, 6, 6, 9, 6, 6, 9, 9, 7, 3, 9, 8, 3, 5, 6, 0, 9, 1, 8, 4, 2, 6, 2, 4, 7, 5, 1, 4, 0, 1, 1, 0, 6, 3, 2, 1, 6, 2, 3, 7, 6, 3, 3, 8, 2, 3, 2, 8, 2, 5, 2, 7, 5, 9, 5, 2, 3, 0, 6, 9, 9, 6, 7, 4, 4, 3, 6, 9, 0, 6, 5, 9, 8, 9, 3, 2, 4, 5, 2, 9, 5, 3, 3, 2, 1, 1, 2, 7, 7, 1, 7, 9, 6, 1, 5, 3, 4, 7, 4, 1, 2, 3, 6, 5, 9, 1, 1, 7, 4, 2, 8, 0, 3, 7, 7, 6, 1, 5, 3, 9, 0, 6, 4, 3, 5, 3, 9, 3, 7, 3, 9, 9, 0, 8, 6, 4, 9, 0, 4, 4, 8, 6, 3, 4, 1, 0, 8, 3, 2, 2, 5, 4, 7, 1, 8, 8, 8, 0, 7, 6, 4, 9, 9, 4, 0, 3, 7, 2, 0, 5, 4, 0, 3, 9, 2, 4, 9, 9, 1, 5, 6, 1, 8, 5, 4, 5, 5, 4, 3, 9, 7, 2, 6, 0, 0, 0, 8, 7, 1, 0, 9, 1, 0, 8, 7, 4, 1, 2, 0, 3, 5, 0, 0, 8, 1, 0, 3, 7, 9, 6, 1, 2, 0, 3, 2, 6, 6, 8, 9, 1, 3, 6, 8, 6, 1, 1, 0, 0, 8, 3, 6, 8, 6, 1, 8, 2, 3, 7, 9, 5, 5, 0, 2, 0, 3, 3, 2, 4, 5, 3, 8, 6, 5, 8, 5, 3, 6, 3, 8, 6, 9, 1, 4, 6, 4, 4, 8, 7, 1, 3, 4, 5, 8, 9, 4, 0, 3, 2, 7, 7, 3, 0, 9, 4, 6, 2, 0, 7, 3, 2, 0, 5, 9, 1, 5, 9, 2, 5, 8, 3, 6, 7, 4, 6, 6, 5, 9, 3, 6, 8, 2, 3, 5, 9, 7, 6, 7, 3, 7, 9, 2, 9, 4, 3, 5, 2, 4, 4, 9, 5, 7, 9, 4, 3, 2, 7, 1, 5, 4, 5, 8, 5, 6, 7, 8, 3, 2, 0, 2, 9, 6, 7, 2, 1, 1, 8, 2, 9, 0, 6, 3, 4, 1, 8, 3, 2, 5, 3, 2, 7, 7, 1, 1, 1, 7, 6, 9, 4, 6, 8, 6, 4, 6, 3, 4, 9, 6, 2, 6, 4, 7, 8, 8, 6, 1, 4, 4, 2, 8, 5, 0, 8, 0, 2, 4, 8, 1, 5, 2, 0, 2, 4, 3, 8, 3, 5, 7, 8, 0, 2, 4, 0, 5, 0, 0, 5, 3, 0, 5, 8, 7, 8, 2, 9, 5, 8, 8, 9, 8, 1, 0, 6, 7, 8, 5, 9, 4, 5, 0, 6, 2, 4, 4, 2]\n"
          ]
        }
      ],
      "source": [
        "## your code goes here\n",
        "import torchvision \n",
        "import torch\n",
        "import torch.optim as optim\n",
        "import random\n",
        "\n",
        "batch_size = 4\n",
        "\n",
        "new_trainset = torchvision.datasets.CIFAR10(root='./data', train=False,\n",
        "                                       download=True, transform=transform)\n",
        "\n",
        "for i in range(len(new_trainset.targets)):\n",
        "  new_trainset.targets[i] = random.randint(0, 9)\n",
        "\n",
        "print(testset.targets) \n",
        "print(\"after label change\",new_trainset.targets)\n",
        "trainloader_rand = torch.utils.data.DataLoader(new_trainset, batch_size=batch_size,   shuffle=False, num_workers=2)\n",
        "\n",
        "new_classes = ('plane', 'car', 'bird', 'cat',\n",
        "           'deer', 'dog', 'frog', 'horse', 'ship', 'truck')\n",
        "\n",
        "traindataiter_rand = iter(trainloader_rand)\n",
        "trainimages_rand, trainlabels_rand = traindataiter_rand.next()"
      ]
    },
    {
      "cell_type": "code",
      "execution_count": null,
      "metadata": {
        "colab": {
          "base_uri": "https://localhost:8080/"
        },
        "id": "yLD02QLIhPBl",
        "outputId": "e21a8cda-3858-48b3-f1bb-e57155d2b0f6"
      },
      "outputs": [
        {
          "output_type": "stream",
          "name": "stdout",
          "text": [
            "[1,  2000] loss: 2.468\n",
            "Accuracy is 10.6 %\n",
            "[2,  2000] loss: 2.303\n",
            "Accuracy is 10.2 %\n",
            "[3,  2000] loss: 2.302\n",
            "Accuracy is 10.2 %\n",
            "[4,  2000] loss: 2.302\n",
            "Accuracy is 10.2 %\n",
            "[5,  2000] loss: 2.302\n",
            "Accuracy is 10.2 %\n",
            "[6,  2000] loss: 2.302\n",
            "Accuracy is 10.2 %\n",
            "[7,  2000] loss: 2.302\n",
            "Accuracy is 10.2 %\n",
            "[8,  2000] loss: 2.301\n",
            "Accuracy is 10.2 %\n",
            "[9,  2000] loss: 2.302\n",
            "Accuracy is 10.2 %\n",
            "[10,  2000] loss: 2.300\n",
            "Accuracy is 10.1 %\n",
            "[11,  2000] loss: 2.301\n",
            "Accuracy is 10.3 %\n",
            "[12,  2000] loss: 2.299\n",
            "Accuracy is 10.2 %\n",
            "[13,  2000] loss: 2.300\n",
            "Accuracy is 10.2 %\n",
            "[14,  2000] loss: 2.300\n",
            "Accuracy is 10.1 %\n",
            "[15,  2000] loss: 2.299\n",
            "Accuracy is 10.3 %\n",
            "[16,  2000] loss: 2.298\n",
            "Accuracy is 10.2 %\n",
            "[17,  2000] loss: 2.297\n",
            "Accuracy is 10.2 %\n",
            "[18,  2000] loss: 2.296\n",
            "Accuracy is 10.5 %\n",
            "[19,  2000] loss: 2.297\n",
            "Accuracy is 10.5 %\n",
            "[20,  2000] loss: 2.297\n",
            "Accuracy is 10.4 %\n",
            "[21,  2000] loss: 2.294\n",
            "Accuracy is 10.6 %\n",
            "[22,  2000] loss: 2.292\n",
            "Accuracy is 10.4 %\n",
            "[23,  2000] loss: 2.291\n",
            "Accuracy is 10.5 %\n",
            "[24,  2000] loss: 2.290\n",
            "Accuracy is 10.6 %\n",
            "[25,  2000] loss: 2.291\n",
            "Accuracy is 10.5 %\n",
            "[26,  2000] loss: 2.289\n",
            "Accuracy is 10.7 %\n",
            "[27,  2000] loss: 2.289\n",
            "Accuracy is 10.6 %\n",
            "[28,  2000] loss: 2.283\n",
            "Accuracy is 10.8 %\n",
            "[29,  2000] loss: 2.284\n",
            "Accuracy is 11.1 %\n",
            "[30,  2000] loss: 2.284\n",
            "Accuracy is 11.0 %\n",
            "[31,  2000] loss: 2.279\n",
            "Accuracy is 11.1 %\n",
            "[32,  2000] loss: 2.277\n",
            "Accuracy is 11.1 %\n",
            "[33,  2000] loss: 2.276\n",
            "Accuracy is 10.9 %\n",
            "[34,  2000] loss: 2.274\n",
            "Accuracy is 11.3 %\n",
            "[35,  2000] loss: 2.273\n",
            "Accuracy is 11.5 %\n",
            "[36,  2000] loss: 2.269\n",
            "Accuracy is 11.3 %\n",
            "[37,  2000] loss: 2.272\n",
            "Accuracy is 11.5 %\n",
            "[38,  2000] loss: 2.265\n",
            "Accuracy is 11.9 %\n",
            "[39,  2000] loss: 2.264\n",
            "Accuracy is 11.6 %\n",
            "[40,  2000] loss: 2.263\n",
            "Accuracy is 11.7 %\n",
            "469423.96875\n",
            "Finished Training\n"
          ]
        }
      ],
      "source": [
        "num_epochs = 40\n",
        "train_loss_list_rand, train_accu_list_rand = eval_loss_and_accuracy(trainloader_rand,num_epochs)\n",
        "print('Finished Training')"
      ]
    },
    {
      "cell_type": "code",
      "source": [
        "#a. Report the plots for the training accuracy. [4 pt]\n",
        "#b. What is the final training accuracy? [4 pt]\n",
        "#c. What would be the expected accuracy for a random baseline model? [4 pt]\n",
        "plt.plot(train_accu_list_rand,'-o')\n",
        "plt.xlabel('epoch')\n",
        "plt.ylabel('accuracy')\n",
        "plt.title('Train Accuracy Vs Epoch')\n",
        "\n",
        "plt.show()"
      ],
      "metadata": {
        "colab": {
          "base_uri": "https://localhost:8080/",
          "height": 295
        },
        "id": "ALp_T6DwJ7IY",
        "outputId": "1f7d2fa9-8ea8-4b95-97f7-e325b43928dc"
      },
      "execution_count": null,
      "outputs": [
        {
          "output_type": "display_data",
          "data": {
            "text/plain": [
              "<Figure size 432x288 with 1 Axes>"
            ],
            "image/png": "[encoded data removed]"
          },
          "metadata": {
            "needs_background": "light"
          }
        }
      ]
    },
    {
      "cell_type": "code",
      "source": [
        "#a. Report the plots for the training accuracy. [4 pt]\n",
        "plt.plot(train_loss_list_rand,'-o')\n",
        "plt.xlabel('epoch')\n",
        "plt.ylabel('loss')\n",
        "plt.title('Train loss Vs Epoch')\n",
        "\n",
        "plt.show()"
      ],
      "metadata": {
        "colab": {
          "base_uri": "https://localhost:8080/",
          "height": 295
        },
        "id": "5JyZ8DDCKHtA",
        "outputId": "2e4f2d78-60d4-46a6-a093-8d054229387d"
      },
      "execution_count": null,
      "outputs": [
        {
          "output_type": "display_data",
          "data": {
            "text/plain": [
              "<Figure size 432x288 with 1 Axes>"
            ],
            "image/png": "[encoded data removed]"
          },
          "metadata": {
            "needs_background": "light"
          }
        }
      ]
    },
    {
      "cell_type": "markdown",
      "source": [
        "\n",
        "Final training accuracy is around 11.6%\n",
        "\n",
        "From the above experiments, we can also see the accuracy for baseline model can vary between 11 to 60%\n",
        "\n"
      ],
      "metadata": {
        "id": "nWxHQ6XsZ44j"
      }
    },
    {
      "cell_type": "code",
      "execution_count": null,
      "metadata": {
        "id": "F4Hy_Qqw6S39"
      },
      "outputs": [],
      "source": [
        "# For grader use only\n",
        "\n",
        "# insert grade here\n",
        "# G[2,1] =   \n",
        "# G[2,2] = \n",
        "# G[2,3] =\n",
        "\n",
        "\n",
        "maxScore = maxScore + 12\n"
      ]
    },
    {
      "cell_type": "markdown",
      "metadata": {
        "id": "H-1GJYqC5-pg"
      },
      "source": [
        "------------------------------\n",
        "------------------------------\n",
        "------------------------------"
      ]
    },
    {
      "cell_type": "markdown",
      "metadata": {
        "id": "yYOedRCd8JHV"
      },
      "source": [
        "## <font color='blue'> **Question 3.** Modifying the model for MNIST. </font>\n",
        "\n",
        "Let's now work with the MNIST dataset. \n",
        "<br>\n",
        "\n",
        "**a.** Download and prepare the dataloaders for the standard MNIST dataset. **[4 pt]** <br>\n",
        "**b.** Modify the model so that it works with the MNIST dataset. The inner array sizes should be roughly similar, but you can adjust them in the way you choose **[8 pt]** <br>\n",
        "**c.** Report the training and test accuracy after 10 epochs **[4 pt]**\n",
        "\n",
        "\n",
        "\n"
      ]
    },
    {
      "cell_type": "code",
      "execution_count": null,
      "metadata": {
        "id": "OJoD17GQo74_"
      },
      "outputs": [],
      "source": [
        "## your code goes here\n",
        "device = torch.device(\"cuda:0\" if torch.cuda.is_available() else \"cpu\") # To use to cuba GPU"
      ]
    },
    {
      "cell_type": "code",
      "execution_count": null,
      "metadata": {
        "id": "v_R7e2q4pFaw"
      },
      "outputs": [],
      "source": [
        "###a. Download and prepare the dataloaders for the standard MNIST dataset. [4 pt]\n",
        "###b. Modify the model so that it works with the MNIST dataset. The inner array sizes should be roughly similar, but you can adjust them in the way you choose [8 pt]\n",
        "transform = transforms.Compose([transforms.Resize((28,28)),\n",
        "                               transforms.ToTensor(),\n",
        "                               transforms.Normalize((0.5,), (0.5,))\n",
        "                               ])\n",
        "mnist_training_dataset = datasets.MNIST(root='./data_1', train=True, download=True, transform=transform)\n",
        "mnist_validation_dataset = datasets.MNIST(root='./data_1', train=False, download=True, transform=transform)\n",
        "\n",
        "mnist_training_loader = torch.utils.data.DataLoader(mnist_training_dataset, batch_size=100, shuffle=True)\n",
        "mnist_validation_loader = torch.utils.data.DataLoader(mnist_validation_dataset, batch_size = 100, shuffle=False)"
      ]
    },
    {
      "cell_type": "code",
      "execution_count": null,
      "metadata": {
        "colab": {
          "base_uri": "https://localhost:8080/",
          "height": 281
        },
        "id": "8aOMgYfVpIXX",
        "outputId": "679589b3-26e9-4b90-900e-6ac44206447c"
      },
      "outputs": [
        {
          "output_type": "display_data",
          "data": {
            "text/plain": [
              "<Figure size 432x288 with 1 Axes>"
            ],
            "image/png": "[encoded data removed]"
          },
          "metadata": {
            "needs_background": "light"
          }
        }
      ],
      "source": [
        "plt.imshow(mnist_training_dataset.data[0], cmap='gray')\n",
        "plt.title('%i' % mnist_training_dataset.targets[0])\n",
        "plt.show()"
      ]
    },
    {
      "cell_type": "code",
      "execution_count": null,
      "metadata": {
        "colab": {
          "base_uri": "https://localhost:8080/"
        },
        "id": "Gtf6fZIVpKwj",
        "outputId": "4e5586e1-54da-43d3-885c-c469efcfb107"
      },
      "outputs": [
        {
          "output_type": "stream",
          "name": "stdout",
          "text": [
            "torch.Size([60000, 28, 28])\n",
            "torch.Size([10000, 28, 28])\n"
          ]
        }
      ],
      "source": [
        "print(mnist_training_dataset.data.size())\n",
        "print(mnist_validation_dataset.data.size())"
      ]
    },
    {
      "cell_type": "code",
      "execution_count": 12,
      "metadata": {
        "id": "lJeOPKyMpOgL"
      },
      "outputs": [],
      "source": [
        "class CNN_M(nn.Module):\n",
        "    def __init__(self):\n",
        "      super().__init__()\n",
        "      self.conv1 = nn.Conv2d(1, 20, 5, 1) # Conv layer1\n",
        "      self.conv2 = nn.Conv2d(20, 50, 5, 1) # Conv layer2\n",
        "      self.fc1 = nn.Linear(4*4*50, 500)    # Fully connected layer1\n",
        "      self.dropout1 = nn.Dropout(0.5)   # We use dropout layer between these both FCL as they have the highest number of parameters b/t them\n",
        "      self.fc2 = nn.Linear(500, 10)   # Fully connected layer2\n",
        "    def forward(self, x):\n",
        "      x = F.relu(self.conv1(x))  # Apply ReLu to the feature maps produced after Conv 1 layer\n",
        "      x = F.max_pool2d(x, 2, 2)  # Pooling layer after Conv 1 layer\n",
        "      x = F.relu(self.conv2(x))  # Apply ReLu to the feature maps produced after Conv 2 layer\n",
        "      x = F.max_pool2d(x, 2, 2)  # Pooling layer after Conv 2 layer\n",
        "      x = x.view(-1, 4*4*50)     # Flattening the output of CNN to feed it into Fully connected layer\n",
        "      x = F.relu(self.fc1(x))   # Fully connected layer 1 with Relu\n",
        "      x = self.dropout1(x)     # We use dropout layer between these both FCL as they have the highest number of parameters b/t them\n",
        "      x = self.fc2(x)         # Fully connected layer 2 with no activation funct as we need raw output from CrossEntropyLoss\n",
        "      return x"
      ]
    },
    {
      "cell_type": "code",
      "execution_count": 13,
      "metadata": {
        "colab": {
          "base_uri": "https://localhost:8080/"
        },
        "id": "bRID4YItpSy0",
        "outputId": "d16d9b85-9fab-4ac2-ebd1-7f7078d0454b"
      },
      "outputs": [
        {
          "output_type": "execute_result",
          "data": {
            "text/plain": [
              "CNN_M(\n",
              "  (conv1): Conv2d(1, 20, kernel_size=(5, 5), stride=(1, 1))\n",
              "  (conv2): Conv2d(20, 50, kernel_size=(5, 5), stride=(1, 1))\n",
              "  (fc1): Linear(in_features=800, out_features=500, bias=True)\n",
              "  (dropout1): Dropout(p=0.5, inplace=False)\n",
              "  (fc2): Linear(in_features=500, out_features=10, bias=True)\n",
              ")"
            ]
          },
          "metadata": {},
          "execution_count": 13
        }
      ],
      "source": [
        "model = CNN_M().to(device)\n",
        "model"
      ]
    },
    {
      "cell_type": "code",
      "execution_count": 14,
      "metadata": {
        "id": "FObAQZ07pS2H"
      },
      "outputs": [],
      "source": [
        "criterion = nn.CrossEntropyLoss()\n",
        "optimizer = torch.optim.Adam(model.parameters(), lr = 0.0001)"
      ]
    },
    {
      "cell_type": "code",
      "execution_count": null,
      "metadata": {
        "colab": {
          "base_uri": "https://localhost:8080/"
        },
        "id": "2S3gHGmmrGOL",
        "outputId": "d61d1eaf-b767-4f39-fc68-1223987e38bd"
      },
      "outputs": [
        {
          "output_type": "stream",
          "name": "stdout",
          "text": [
            "epoch : 1\n",
            "training loss: 0.0336, acc 98.9850 \n",
            "validation loss: 0.0322, validation acc 98.8800 \n",
            "epoch : 2\n",
            "training loss: 0.0316, acc 99.0000 \n",
            "validation loss: 0.0309, validation acc 98.9700 \n",
            "epoch : 3\n",
            "training loss: 0.0284, acc 99.1583 \n",
            "validation loss: 0.0296, validation acc 99.0800 \n",
            "epoch : 4\n",
            "training loss: 0.0263, acc 99.1950 \n",
            "validation loss: 0.0306, validation acc 98.9100 \n",
            "epoch : 5\n",
            "training loss: 0.0239, acc 99.2500 \n",
            "validation loss: 0.0296, validation acc 99.0600 \n",
            "epoch : 6\n",
            "training loss: 0.0229, acc 99.3133 \n",
            "validation loss: 0.0272, validation acc 99.1200 \n",
            "epoch : 7\n",
            "training loss: 0.0210, acc 99.3267 \n",
            "validation loss: 0.0277, validation acc 99.0600 \n",
            "epoch : 8\n",
            "training loss: 0.0207, acc 99.3183 \n",
            "validation loss: 0.0273, validation acc 99.1200 \n",
            "epoch : 9\n",
            "training loss: 0.0188, acc 99.4233 \n",
            "validation loss: 0.0279, validation acc 99.0900 \n",
            "epoch : 10\n",
            "training loss: 0.0180, acc 99.4300 \n",
            "validation loss: 0.0253, validation acc 99.2000 \n"
          ]
        }
      ],
      "source": [
        "epochs = 10\n",
        "running_loss_history = []\n",
        "running_corrects_history = []\n",
        "val_running_loss_history = []\n",
        "val_running_corrects_history = []\n",
        "\n",
        "for e in range(epochs):\n",
        "  \n",
        "  running_loss = 0.0\n",
        "  running_corrects = 0.0\n",
        "  val_running_loss = 0.0\n",
        "  val_running_corrects = 0.0\n",
        "  \n",
        "  for inputs, labels in mnist_training_loader: # As our train_loader is batch size of 100 and had input images and corresponding labels\n",
        "    inputs = inputs.to(device)  # Put our inputs and labels in the device as our model is also in the device\n",
        "    labels = labels.to(device)\n",
        "    outputs = model(inputs)   # giving input to our model to get corresponding output\n",
        "    loss = criterion(outputs, labels) # comparing out model's output to original labels\n",
        "    \n",
        "    optimizer.zero_grad()  ##sets the initial gradient to zero\n",
        "    loss.backward()  ## The whole calculated loss is then back propogated to the model\n",
        "    optimizer.step()  ## Then the weights are updated by doing their derivative w.r.t the Loss\n",
        "    \n",
        "    _, preds = torch.max(outputs, 1) # Then we select the max value of raw output and consider it as our prediction. We select it from 10 o/ps\n",
        "    running_loss += loss.item()  # total loss of 1 epoch\n",
        "    running_corrects += torch.sum(preds == labels.data) #total accuracy of 1 epoch\n",
        "\n",
        "  else:\n",
        "    with torch.no_grad(): # This we done to set no gradient as we do not need it for val as our model is already trained.\n",
        "      for val_inputs, val_labels in mnist_validation_loader:\n",
        "        val_inputs = val_inputs.to(device)  # Put our val_inputs and labels in the device as our model is also in the device\n",
        "        val_labels = val_labels.to(device)\n",
        "        val_outputs = model(val_inputs)\n",
        "        val_loss = criterion(val_outputs, val_labels)\n",
        "        \n",
        "        _, val_preds = torch.max(val_outputs, 1)\n",
        "        val_running_loss += val_loss.item()\n",
        "        val_running_corrects += torch.sum(val_preds == val_labels.data)\n",
        "      \n",
        "    epoch_loss = running_loss/len(mnist_training_loader)\n",
        "    epoch_acc = running_corrects.float()/ len(mnist_training_loader)\n",
        "    running_loss_history.append(epoch_loss)\n",
        "    running_corrects_history.append(epoch_acc.cpu())\n",
        "    \n",
        "    val_epoch_loss = val_running_loss/len(mnist_validation_loader)\n",
        "    val_epoch_acc = val_running_corrects.float()/ len(mnist_validation_loader)\n",
        "    val_running_loss_history.append(val_epoch_loss)\n",
        "    val_running_corrects_history.append(val_epoch_acc.cpu())\n",
        "    print('epoch :', (e+1))\n",
        "    print('training loss: {:.4f}, acc {:.4f} '.format(epoch_loss, epoch_acc.item()))\n",
        "    print('validation loss: {:.4f}, validation acc {:.4f} '.format(val_epoch_loss, val_epoch_acc.item()))"
      ]
    },
    {
      "cell_type": "code",
      "source": [
        "plt.plot(running_loss_history,'-o')\n",
        "plt.plot(val_running_loss_history,'-o')\n",
        "plt.xlabel('epoch')\n",
        "plt.ylabel('losses')\n",
        "plt.legend(['Train','Valid'])\n",
        "plt.title('Train vs Test Losses')\n",
        "\n",
        "plt.show()"
      ],
      "metadata": {
        "colab": {
          "base_uri": "https://localhost:8080/",
          "height": 295
        },
        "id": "rCHkZCQ98w2c",
        "outputId": "27169b8b-3026-4470-f7bf-80090fc0bfad"
      },
      "execution_count": null,
      "outputs": [
        {
          "output_type": "display_data",
          "data": {
            "text/plain": [
              "<Figure size 432x288 with 1 Axes>"
            ],
            "image/png": "[encoded data removed]"
          },
          "metadata": {
            "needs_background": "light"
          }
        }
      ]
    },
    {
      "cell_type": "code",
      "source": [
        "plt.plot(running_corrects_history,'-o')\n",
        "plt.plot(val_running_corrects_history,'-o')\n",
        "plt.xlabel('epoch')\n",
        "plt.ylabel('losses')\n",
        "plt.legend(['Train','Valid'])\n",
        "plt.title('Train vs Test Accuracy')\n",
        "\n",
        "plt.show()"
      ],
      "metadata": {
        "colab": {
          "base_uri": "https://localhost:8080/",
          "height": 295
        },
        "id": "SpPQjySa83Ss",
        "outputId": "b7321995-0dfe-4bf1-f5eb-56f010cf370e"
      },
      "execution_count": null,
      "outputs": [
        {
          "output_type": "display_data",
          "data": {
            "text/plain": [
              "<Figure size 432x288 with 1 Axes>"
            ],
            "image/png": "[encoded data removed]"
          },
          "metadata": {
            "needs_background": "light"
          }
        }
      ]
    },
    {
      "cell_type": "code",
      "execution_count": null,
      "metadata": {
        "id": "pSWFyJ_k7-cT"
      },
      "outputs": [],
      "source": [
        "# For grader use only\n",
        "\n",
        "# insert grade here\n",
        "# G[3,1] =   \n",
        "# G[3,2] = \n",
        "# G[3,3] =\n",
        "\n",
        "\n",
        "maxScore = maxScore + 16\n"
      ]
    },
    {
      "cell_type": "markdown",
      "metadata": {
        "id": "0QM-Sapd-xOI"
      },
      "source": [
        "------------------------------\n",
        "------------------------------\n",
        "------------------------------"
      ]
    },
    {
      "cell_type": "markdown",
      "metadata": {
        "id": "vllcX_eV-nTw"
      },
      "source": [
        "## <font color='blue'> **Question 4.** MNIST on randomly permuted images. </font>\n",
        "\n",
        "In this question we will see whether a CNN remains as effective for randomly permuted images. \n",
        "<br>\n",
        "\n",
        "**a.** Find a way to randomly permute the entries of a 2d array in numpy or a 2d tensor in PyTorch. This should be 2-3 lines of code - feel free to discuss it on Canvas. **[4 pt]** <br>\n",
        "**b.** Train the model from question 3 on a training set where the images in the training set have re-arranged in a **random** way, which however is the **same** across all images. **[8 pt]** <br>\n",
        "**c.** Report the training and test accuracy after 10 epochs, and after 20 epochs. **[4 pt]**\n",
        "\n",
        "\n",
        "\n"
      ]
    },
    {
      "cell_type": "code",
      "source": [
        "#a. Find a way to randomly permute the entries of a 2d array in numpy or a 2d tensor in PyTorch. This should be 2-3 lines of code - feel free to discuss it on Canvas. [4 pt]\n",
        "transform = transforms.Compose([transforms.Resize((28,28)),\n",
        "                               transforms.ToTensor(),\n",
        "                               transforms.Normalize((0.5,), (0.5,))\n",
        "                               ])\n",
        "MNISTtrainset = datasets.MNIST(root='./data_1', train=True, download=True, transform=transform)\n",
        "MNISTtestset = datasets.MNIST(root='./data_1', train=False, download=True, transform=transform)\n",
        "\n",
        "p1 = torch.randperm(28) #for permuting the pixels randomly\n",
        "p2 = torch.randperm(28)\n",
        "\n",
        "plt.imshow(MNISTtrainset.data[0], cmap='gray')\n",
        "plt.show()\n",
        "\n",
        "for i in range(len(MNISTtrainset)):\n",
        "  tmp = MNISTtrainset.data[i]\n",
        "  shuffle_img = tmp[p1,p2[:,None]]\n",
        "  MNISTtrainset.data[i] = shuffle_img\n",
        "\n",
        "for i in range(len(MNISTtestset)):\n",
        "  tmp = MNISTtestset.data[i]\n",
        "  shuffle_img = tmp[p1,p2[:,None]]\n",
        "  MNISTtestset.data[i]=shuffle_img\n",
        "\n",
        "plt.imshow(MNISTtrainset.data[0], cmap='gray')\n",
        "plt.show()  "
      ],
      "metadata": {
        "id": "QZW2I7HftZDb"
      },
      "execution_count": null,
      "outputs": []
    },
    {
      "cell_type": "code",
      "source": [
        "shuffle_mnist_training_loader = torch.utils.data.DataLoader(MNISTtrainset, batch_size=100, shuffle=True)\n",
        "shuffle_mnist_validation_loader = torch.utils.data.DataLoader(MNISTtrainset, batch_size = 100, shuffle=False)"
      ],
      "metadata": {
        "id": "sXCbQuHlqsaI"
      },
      "execution_count": 8,
      "outputs": []
    },
    {
      "cell_type": "code",
      "source": [
        "device = torch.device(\"cuda:0\" if torch.cuda.is_available() else \"cpu\") # To use to cuba GPU"
      ],
      "metadata": {
        "id": "k8lL-BP_rIiA"
      },
      "execution_count": 9,
      "outputs": []
    },
    {
      "cell_type": "code",
      "source": [
        "#b. Train the model from question 3 on a training set where the images in the training set have re-arranged in a random way, which however is the same across all images. [8 pt]\n",
        "#c. Report the training and test accuracy after 10 epochs, and after 20 epochs. [4 pt]"
      ],
      "metadata": {
        "id": "0jbeX8_Zsczo"
      },
      "execution_count": null,
      "outputs": []
    },
    {
      "cell_type": "code",
      "source": [
        "epochs = 10\n",
        "shuffle_running_loss_history = []\n",
        "shuffle_running_corrects_history = []\n",
        "shuffle_val_running_loss_history = []\n",
        "shuffle_val_running_corrects_history = []\n",
        "\n",
        "for e in range(epochs):\n",
        "  \n",
        "  running_loss = 0.0\n",
        "  running_corrects = 0.0\n",
        "  val_running_loss = 0.0\n",
        "  val_running_corrects = 0.0\n",
        "  \n",
        "  for inputs, labels in shuffle_mnist_training_loader: # As our train_loader is batch size of 100 and had input images and corresponding labels\n",
        "    inputs = inputs.to(device)  # Put our inputs and labels in the device as our model is also in the device\n",
        "    labels = labels.to(device)\n",
        "    outputs = model(inputs)   # giving input to our model to get corresponding output\n",
        "    loss = criterion(outputs, labels) # comparing out model's output to original labels\n",
        "    \n",
        "    optimizer.zero_grad()  ##sets the initial gradient to zero\n",
        "    loss.backward()  ## The whole calculated loss is then back propogated to the model\n",
        "    optimizer.step()  ## Then the weights are updated by doing their derivative w.r.t the Loss\n",
        "    \n",
        "    _, preds = torch.max(outputs, 1) # Then we select the max value of raw output and consider it as our prediction. We select it from 10 o/ps\n",
        "    running_loss += loss.item()  # total loss of 1 epoch\n",
        "    running_corrects += torch.sum(preds == labels.data) #total accuracy of 1 epoch\n",
        "\n",
        "  else:\n",
        "    with torch.no_grad(): # This we done to set no gradient as we do not need it for val as our model is already trained.\n",
        "      for val_inputs, val_labels in shuffle_mnist_validation_loader:\n",
        "        val_inputs = val_inputs.to(device)  # Put our val_inputs and labels in the device as our model is also in the device\n",
        "        val_labels = val_labels.to(device)\n",
        "        val_outputs = model(val_inputs)\n",
        "        val_loss = criterion(val_outputs, val_labels)\n",
        "        \n",
        "        _, val_preds = torch.max(val_outputs, 1)\n",
        "        val_running_loss += val_loss.item()\n",
        "        val_running_corrects += torch.sum(val_preds == val_labels.data)\n",
        "      \n",
        "    epoch_loss = running_loss/len(shuffle_mnist_training_loader)\n",
        "    epoch_acc = running_corrects.float()/ len(shuffle_mnist_training_loader)\n",
        "    shuffle_running_loss_history.append(epoch_loss)\n",
        "    shuffle_running_corrects_history.append(epoch_acc.cpu())\n",
        "    \n",
        "    val_epoch_loss = val_running_loss/len(shuffle_mnist_validation_loader)\n",
        "    val_epoch_acc = val_running_corrects.float()/ len(shuffle_mnist_validation_loader)\n",
        "    shuffle_val_running_loss_history.append(val_epoch_loss)\n",
        "    shuffle_val_running_corrects_history.append(val_epoch_acc.cpu())\n",
        "    print('epoch :', (e+1))\n",
        "    print('training loss: {:.4f}, acc {:.4f} '.format(epoch_loss, epoch_acc.item()))\n",
        "    print('validation loss: {:.4f}, validation acc {:.4f} '.format(val_epoch_loss, val_epoch_acc.item()))"
      ],
      "metadata": {
        "colab": {
          "base_uri": "https://localhost:8080/"
        },
        "id": "680p2DUWrNzJ",
        "outputId": "a131c46b-7de7-4af9-c9c1-b31da13cf95d"
      },
      "execution_count": 15,
      "outputs": [
        {
          "output_type": "stream",
          "name": "stdout",
          "text": [
            "epoch : 1\n",
            "training loss: 1.0412, acc 67.5733 \n",
            "validation loss: 0.5223, validation acc 84.1200 \n",
            "epoch : 2\n",
            "training loss: 0.4409, acc 86.6550 \n",
            "validation loss: 0.3356, validation acc 89.8300 \n",
            "epoch : 3\n",
            "training loss: 0.3142, acc 90.4983 \n",
            "validation loss: 0.2548, validation acc 92.2000 \n",
            "epoch : 4\n",
            "training loss: 0.2466, acc 92.5150 \n",
            "validation loss: 0.2091, validation acc 93.8100 \n",
            "epoch : 5\n",
            "training loss: 0.2085, acc 93.6617 \n",
            "validation loss: 0.1785, validation acc 94.6900 \n",
            "epoch : 6\n",
            "training loss: 0.1813, acc 94.4333 \n",
            "validation loss: 0.1606, validation acc 95.0800 \n",
            "epoch : 7\n",
            "training loss: 0.1591, acc 95.1833 \n",
            "validation loss: 0.1406, validation acc 95.6000 \n",
            "epoch : 8\n",
            "training loss: 0.1450, acc 95.5933 \n",
            "validation loss: 0.1359, validation acc 95.7300 \n",
            "epoch : 9\n",
            "training loss: 0.1309, acc 96.0300 \n",
            "validation loss: 0.1266, validation acc 96.2300 \n",
            "epoch : 10\n",
            "training loss: 0.1214, acc 96.2217 \n",
            "validation loss: 0.1213, validation acc 96.1100 \n"
          ]
        }
      ]
    },
    {
      "cell_type": "code",
      "source": [
        "plt.plot(shuffle_running_loss_history,'-o')\n",
        "plt.plot(shuffle_val_running_loss_history,'-o')\n",
        "plt.xlabel('epoch')\n",
        "plt.ylabel('losses')\n",
        "plt.legend(['Train','Valid'])\n",
        "plt.title('Train vs Test Losses for randomly permutated pixels')\n",
        "\n",
        "plt.show()"
      ],
      "metadata": {
        "colab": {
          "base_uri": "https://localhost:8080/",
          "height": 295
        },
        "id": "EGRo15aNroJN",
        "outputId": "6b88ad34-54fe-47e1-da8e-441140a03d4f"
      },
      "execution_count": 17,
      "outputs": [
        {
          "output_type": "display_data",
          "data": {
            "text/plain": [
              "<Figure size 432x288 with 1 Axes>"
            ],
            "image/png": "[encoded data removed]"
          },
          "metadata": {
            "needs_background": "light"
          }
        }
      ]
    },
    {
      "cell_type": "code",
      "source": [
        "plt.plot(shuffle_running_corrects_history,'-o')\n",
        "plt.plot(shuffle_val_running_corrects_history,'-o')\n",
        "plt.xlabel('epoch')\n",
        "plt.ylabel('losses')\n",
        "plt.legend(['Train','Valid'])\n",
        "plt.title('Train vs Test Acuuracy for randomly permutated pixels')\n",
        "\n",
        "plt.show()"
      ],
      "metadata": {
        "colab": {
          "base_uri": "https://localhost:8080/",
          "height": 295
        },
        "id": "BdmvL9aVr2Tl",
        "outputId": "1e6e6340-ab68-4c54-9ca6-66960012f0fd"
      },
      "execution_count": 18,
      "outputs": [
        {
          "output_type": "display_data",
          "data": {
            "text/plain": [
              "<Figure size 432x288 with 1 Axes>"
            ],
            "image/png": "[encoded data removed]"
          },
          "metadata": {
            "needs_background": "light"
          }
        }
      ]
    },
    {
      "cell_type": "code",
      "source": [
        "epochs = 20\n",
        "shuffle_running_loss_history = []\n",
        "shuffle_running_corrects_history = []\n",
        "shuffle_val_running_loss_history = []\n",
        "shuffle_val_running_corrects_history = []\n",
        "\n",
        "for e in range(epochs):\n",
        "  \n",
        "  running_loss = 0.0\n",
        "  running_corrects = 0.0\n",
        "  val_running_loss = 0.0\n",
        "  val_running_corrects = 0.0\n",
        "  \n",
        "  for inputs, labels in shuffle_mnist_training_loader: # As our train_loader is batch size of 100 and had input images and corresponding labels\n",
        "    inputs = inputs.to(device)  # Put our inputs and labels in the device as our model is also in the device\n",
        "    labels = labels.to(device)\n",
        "    outputs = model(inputs)   # giving input to our model to get corresponding output\n",
        "    loss = criterion(outputs, labels) # comparing out model's output to original labels\n",
        "    \n",
        "    optimizer.zero_grad()  ##sets the initial gradient to zero\n",
        "    loss.backward()  ## The whole calculated loss is then back propogated to the model\n",
        "    optimizer.step()  ## Then the weights are updated by doing their derivative w.r.t the Loss\n",
        "    \n",
        "    _, preds = torch.max(outputs, 1) # Then we select the max value of raw output and consider it as our prediction. We select it from 10 o/ps\n",
        "    running_loss += loss.item()  # total loss of 1 epoch\n",
        "    running_corrects += torch.sum(preds == labels.data) #total accuracy of 1 epoch\n",
        "\n",
        "  else:\n",
        "    with torch.no_grad(): # This we done to set no gradient as we do not need it for val as our model is already trained.\n",
        "      for val_inputs, val_labels in shuffle_mnist_validation_loader:\n",
        "        val_inputs = val_inputs.to(device)  # Put our val_inputs and labels in the device as our model is also in the device\n",
        "        val_labels = val_labels.to(device)\n",
        "        val_outputs = model(val_inputs)\n",
        "        val_loss = criterion(val_outputs, val_labels)\n",
        "        \n",
        "        _, val_preds = torch.max(val_outputs, 1)\n",
        "        val_running_loss += val_loss.item()\n",
        "        val_running_corrects += torch.sum(val_preds == val_labels.data)\n",
        "      \n",
        "    epoch_loss = running_loss/len(shuffle_mnist_training_loader)\n",
        "    epoch_acc = running_corrects.float()/ len(shuffle_mnist_training_loader)\n",
        "    shuffle_running_loss_history.append(epoch_loss)\n",
        "    shuffle_running_corrects_history.append(epoch_acc.cpu())\n",
        "    \n",
        "    val_epoch_loss = val_running_loss/len(shuffle_mnist_validation_loader)\n",
        "    val_epoch_acc = val_running_corrects.float()/ len(shuffle_mnist_validation_loader)\n",
        "    shuffle_val_running_loss_history.append(val_epoch_loss)\n",
        "    shuffle_val_running_corrects_history.append(val_epoch_acc.cpu())\n",
        "    print('epoch :', (e+1))\n",
        "    print('training loss: {:.4f}, acc {:.4f} '.format(epoch_loss, epoch_acc.item()))\n",
        "    print('validation loss: {:.4f}, validation acc {:.4f} '.format(val_epoch_loss, val_epoch_acc.item()))"
      ],
      "metadata": {
        "colab": {
          "base_uri": "https://localhost:8080/"
        },
        "id": "l9Xt-LOvsEFy",
        "outputId": "55c01f84-dbda-497c-fd31-a2976aadf273"
      },
      "execution_count": 19,
      "outputs": [
        {
          "output_type": "stream",
          "name": "stdout",
          "text": [
            "epoch : 1\n",
            "training loss: 0.1117, acc 96.5750 \n",
            "validation loss: 0.1060, validation acc 96.7200 \n",
            "epoch : 2\n",
            "training loss: 0.1046, acc 96.8117 \n",
            "validation loss: 0.1051, validation acc 96.6600 \n",
            "epoch : 3\n",
            "training loss: 0.0983, acc 96.9650 \n",
            "validation loss: 0.1022, validation acc 96.7900 \n",
            "epoch : 4\n",
            "training loss: 0.0917, acc 97.1533 \n",
            "validation loss: 0.0986, validation acc 96.8000 \n",
            "epoch : 5\n",
            "training loss: 0.0865, acc 97.2967 \n",
            "validation loss: 0.0937, validation acc 97.0300 \n",
            "epoch : 6\n",
            "training loss: 0.0822, acc 97.4400 \n",
            "validation loss: 0.0885, validation acc 97.0000 \n",
            "epoch : 7\n",
            "training loss: 0.0770, acc 97.6100 \n",
            "validation loss: 0.0975, validation acc 96.8500 \n",
            "epoch : 8\n",
            "training loss: 0.0720, acc 97.7217 \n",
            "validation loss: 0.0870, validation acc 97.1200 \n",
            "epoch : 9\n",
            "training loss: 0.0687, acc 97.8517 \n",
            "validation loss: 0.0861, validation acc 97.1800 \n",
            "epoch : 10\n",
            "training loss: 0.0653, acc 97.9617 \n",
            "validation loss: 0.0848, validation acc 97.3200 \n",
            "epoch : 11\n",
            "training loss: 0.0615, acc 98.0650 \n",
            "validation loss: 0.0811, validation acc 97.3600 \n",
            "epoch : 12\n",
            "training loss: 0.0581, acc 98.2000 \n",
            "validation loss: 0.0841, validation acc 97.3600 \n",
            "epoch : 13\n",
            "training loss: 0.0559, acc 98.2617 \n",
            "validation loss: 0.0775, validation acc 97.4000 \n",
            "epoch : 14\n",
            "training loss: 0.0526, acc 98.3467 \n",
            "validation loss: 0.0763, validation acc 97.5900 \n",
            "epoch : 15\n",
            "training loss: 0.0494, acc 98.4783 \n",
            "validation loss: 0.0787, validation acc 97.6100 \n",
            "epoch : 16\n",
            "training loss: 0.0472, acc 98.5117 \n",
            "validation loss: 0.0768, validation acc 97.3900 \n",
            "epoch : 17\n",
            "training loss: 0.0452, acc 98.5367 \n",
            "validation loss: 0.0698, validation acc 97.7400 \n",
            "epoch : 18\n",
            "training loss: 0.0422, acc 98.6800 \n",
            "validation loss: 0.0718, validation acc 97.6100 \n",
            "epoch : 19\n",
            "training loss: 0.0411, acc 98.7500 \n",
            "validation loss: 0.0760, validation acc 97.5300 \n",
            "epoch : 20\n",
            "training loss: 0.0386, acc 98.7533 \n",
            "validation loss: 0.0726, validation acc 97.7800 \n"
          ]
        }
      ]
    },
    {
      "cell_type": "code",
      "source": [
        "plt.plot(shuffle_running_loss_history,'-o')\n",
        "plt.plot(shuffle_val_running_loss_history,'-o')\n",
        "plt.xlabel('epoch')\n",
        "plt.ylabel('losses')\n",
        "plt.legend(['Train','Valid'])\n",
        "plt.title('Train vs Test Losses for randomly permutated pixels')\n",
        "\n",
        "plt.show()"
      ],
      "metadata": {
        "colab": {
          "base_uri": "https://localhost:8080/",
          "height": 295
        },
        "id": "DdFAqOWusIF0",
        "outputId": "3b61d2e8-f30c-4b45-cb46-c991ba97cb92"
      },
      "execution_count": 20,
      "outputs": [
        {
          "output_type": "display_data",
          "data": {
            "text/plain": [
              "<Figure size 432x288 with 1 Axes>"
            ],
            "image/png": "[encoded data removed]"
          },
          "metadata": {
            "needs_background": "light"
          }
        }
      ]
    },
    {
      "cell_type": "code",
      "source": [
        "plt.plot(shuffle_running_corrects_history,'-o')\n",
        "plt.plot(shuffle_val_running_corrects_history,'-o')\n",
        "plt.xlabel('epoch')\n",
        "plt.ylabel('losses')\n",
        "plt.legend(['Train','Valid'])\n",
        "plt.title('Train vs Test Acuuracy for randomly permutated pixels')\n",
        "\n",
        "plt.show()"
      ],
      "metadata": {
        "colab": {
          "base_uri": "https://localhost:8080/",
          "height": 295
        },
        "id": "douRojFNsKu3",
        "outputId": "6b098faf-8f9d-4917-8b3d-d475b2171063"
      },
      "execution_count": 21,
      "outputs": [
        {
          "output_type": "display_data",
          "data": {
            "text/plain": [
              "<Figure size 432x288 with 1 Axes>"
            ],
            "image/png": "[encoded data removed]"
          },
          "metadata": {
            "needs_background": "light"
          }
        }
      ]
    },
    {
      "cell_type": "code",
      "execution_count": null,
      "metadata": {
        "id": "DLCVKEDkAmvW"
      },
      "outputs": [],
      "source": [
        "# For grader use only\n",
        "\n",
        "# insert grade here\n",
        "# G[4,1] =   \n",
        "# G[4,2] = \n",
        "# G[4,3] =\n",
        "\n",
        "\n",
        "maxScore = maxScore + 16\n"
      ]
    },
    {
      "cell_type": "markdown",
      "metadata": {
        "id": "mK6g1y403w7a"
      },
      "source": [
        ""
      ]
    },
    {
      "cell_type": "code",
      "execution_count": null,
      "metadata": {
        "id": "fydXo8GRGkbp"
      },
      "outputs": [],
      "source": [
        "# for grader use\n",
        "\n",
        "# Total Grade Calculation\n",
        "rawScore = np.sum(G)\n",
        "score = rawScore*100/maxScore"
      ]
    }
  ],
  "metadata": {
    "accelerator": "GPU",
    "colab": {
      "collapsed_sections": [],
      "name": "Assignment6_NancyJeyakumar1.ipynb",
      "provenance": []
    },
    "kernelspec": {
      "display_name": "Python 3",
      "language": "python",
      "name": "python3"
    },
    "language_info": {
      "codemirror_mode": {
        "name": "ipython",
        "version": 3
      },
      "file_extension": ".py",
      "mimetype": "text/x-python",
      "name": "python",
      "nbconvert_exporter": "python",
      "pygments_lexer": "ipython3",
      "version": "3.7.4"
    }
  },
  "nbformat": 4,
  "nbformat_minor": 0
}