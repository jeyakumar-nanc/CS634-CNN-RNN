{
  "nbformat": 4,
  "nbformat_minor": 0,
  "metadata": {
    "kernelspec": {
      "display_name": "Python 3",
      "language": "python",
      "name": "python3"
    },
    "language_info": {
      "codemirror_mode": {
        "name": "ipython",
        "version": 3
      },
      "file_extension": ".py",
      "mimetype": "text/x-python",
      "name": "python",
      "nbconvert_exporter": "python",
      "pygments_lexer": "ipython3",
      "version": "3.7.4"
    },
    "colab": {
      "name": "Experiments  With Various Classifiers.ipynb",
      "provenance": [],
      "collapsed_sections": [],
      "include_colab_link": true
    }
  },
  "cells": [
    {
      "cell_type": "markdown",
      "metadata": {
        "id": "view-in-github",
        "colab_type": "text"
      },
      "source": [
        "<a href=\"https://colab.research.google.com/github/jeyakumar-nanc/MachineLearning/blob/main/Experiments_With_Various_Classifiers.ipynb\" target=\"_parent\"><img src=\"https://colab.research.google.com/assets/colab-badge.svg\" alt=\"Open In Colab\"/></a>"
      ]
    },
    {
      "cell_type": "markdown",
      "metadata": {
        "id": "Tajfsk_7JY3E"
      },
      "source": [
        "**Note to grader:** Each question consists of parts, e.g. Q1(i), Q1(ii), etc. Each part must be graded  on a 0-4 scale, following the standard NJIT convention (A:4, B+: 3.5, B:3, C+: 2.5, C: 2, D:1, F:0). \n",
        "The total score must be re-scaled to 100 -- that should apply to all future assignments so that Canvas assigns the same weight on all assignments. \n",
        "\n"
      ]
    },
    {
      "cell_type": "code",
      "source": [
        "# Grader's area\n",
        "import numpy as np\n",
        "M = np.zeros([10,10])\n",
        "maxScore = 0\n"
      ],
      "metadata": {
        "id": "zPnHTf9MfT5X"
      },
      "execution_count": null,
      "outputs": []
    },
    {
      "cell_type": "markdown",
      "metadata": {
        "id": "SArgW_Vq-uTh"
      },
      "source": [
        "# **Assignment 4**\n",
        "\n",
        "The goal of this assignment is to run some experiments with scikit-learn on a fairly sizeable and interesting image data set. This is the MNIST data set that consists of lots of images, each having 28x28 pixels. By today's standards, this may seem relatively tiny, but only a few years ago was quite challenging computationally, and it motivated the development of several ML algorithms and models that are now state-of-the-art  solutions for much bigger data sets. \n",
        "\n",
        "The assignment is experimental. We will try to whether a combination of PCA and kNN can yield any good results for the MNIST data set. Let's see if it can be made to work on this data set. \n",
        "\n",
        "Note: There are less difficult Python parts in this assignment. You can get things done by just repeating things from the class notebooks. But your participation and interaction via Canvas is always appreciated!"
      ]
    },
    {
      "cell_type": "markdown",
      "metadata": {
        "id": "IlFM4hig-uTj"
      },
      "source": [
        "## Preparation Steps"
      ]
    },
    {
      "cell_type": "code",
      "metadata": {
        "id": "E3alYkjM-uTk"
      },
      "source": [
        "# Import all necessary python packages\n",
        "import numpy as np\n",
        "#import os\n",
        "#import pandas as pd\n",
        "import matplotlib.pyplot as plt\n",
        "#from matplotlib.colors import ListedColormap\n",
        "#from sklearn.linear_model import LogisticRegression"
      ],
      "execution_count": null,
      "outputs": []
    },
    {
      "cell_type": "code",
      "metadata": {
        "id": "4JEBC9tZEZel"
      },
      "source": [
        "# we load the data set directly from scikit learn \n",
        "# \n",
        "# note: this operation may take a few seconds. If for any reason it fails we \n",
        "# can revert back to loading from local storage. \n",
        "\n",
        "from sklearn.datasets import fetch_openml\n",
        "from sklearn.model_selection import train_test_split\n",
        "\n",
        "\n",
        "X, y = fetch_openml('mnist_784', version=1, return_X_y=True)\n",
        "y = y.astype(int)\n",
        "X = ((X / 255.) - .5) * 2\n",
        "X_train, X_test, y_train, y_test = train_test_split(\n",
        "    X, y, test_size=10000, random_state=123, stratify=y)\n"
      ],
      "execution_count": null,
      "outputs": []
    },
    {
      "cell_type": "markdown",
      "metadata": {
        "id": "GfrfDK0P-uT5"
      },
      "source": [
        "## <font color = 'blue'> Question 1. Inspecting the Dataset </font>\n",
        "\n",
        "**(i)** How many data points are in the training and test sets ? <br>\n",
        "**(ii)** How many attributes does the data set have ?\n",
        "\n",
        "Exlain how you found the answer to the first two questions. \n",
        "\n",
        "[**Hint**: Use the 'shape' method associated with numpy arrays. ]\n",
        "\n",
        "**(iii)** How many different labels does this data set have. Can you demonsrate how to read that number from the vector of labels *y_train*?  <br>\n",
        "**(iv)** How does the number of attributes relates to the size of the images? <br>\n",
        "**(v)** What is the role of line 12 in the above code? \n",
        "\n",
        "\n",
        "\n",
        "\n",
        "\n",
        "*(Please insert cells below for your answers. Clearly id the part of the question you answer)*"
      ]
    },
    {
      "cell_type": "code",
      "source": [
        "print(f\"(i) Data points in training set - {X_train.shape[0]}\")\n",
        "print(f\"(i) Data points in testing set - {X_test.shape[0]}\")\n",
        "print(f\"(ii) Attributes in dataset - {X_test.shape[1]}\")\n",
        "print(f\"(iii) Number of different labels in y_train  - {len(np.unique(y_train))}\")\n",
        "print(np.unique(y_train))\n",
        "\n",
        "print(f\"(iv) Size of the image is 28x28, which gives the number of attributes as 784\")\n",
        "print(f\"(v) To normalize and transform the datapoints\")\n",
        "##Mapping each 784-space point to a scalar"
      ],
      "metadata": {
        "colab": {
          "base_uri": "https://localhost:8080/"
        },
        "id": "7nwDqF4EJN24",
        "outputId": "5fc1931a-e181-4296-d5d9-a76895eb16be"
      },
      "execution_count": null,
      "outputs": [
        {
          "output_type": "stream",
          "name": "stdout",
          "text": [
            "(i) Data points in training set - 60000\n",
            "(i) Data points in testing set - 10000\n",
            "(ii) Attributes in dataset - 784\n",
            "(iii) Number of different labels in y_train  - 10\n",
            "[0 1 2 3 4 5 6 7 8 9]\n",
            "(iv) Size of the image is 28x28, which gives the number of attributes as 784\n",
            "(v) To normalize and transform the datapoints\n"
          ]
        }
      ]
    },
    {
      "cell_type": "code",
      "metadata": {
        "id": "IllLoXxGAIIo"
      },
      "source": [
        "# For grader use only\n",
        "\n",
        "# in this case, make excetion and, assign 0-2 points for each subquestion\n",
        "\n",
        "# insert grade here  \n",
        "# G[1,1] = \n",
        "# G[1,2] =\n",
        "# G[1,3] = \n",
        "# G[1,4] = \n",
        "# G[1,5] =  \n",
        "\n",
        "\n",
        "maxScore = maxScore + 10\n"
      ],
      "execution_count": null,
      "outputs": []
    },
    {
      "cell_type": "markdown",
      "metadata": {
        "id": "YMEcdAp3-uT-"
      },
      "source": [
        "##  <font color = 'blue'> Question 2. PCA on MNIST </font>\n",
        "\n",
        "Because the number of attributes of the MNIST data set may be too big to apply kNN on it (due to the 'curse of dimensionality'), we want to compress the images down to a smaller number of 'fake' attributes. \n",
        "\n",
        "Use scikit-learn to output a data set *X_train_transformed* and *X_test_transformed*, with $l$ attributes. Here a reasonable choice of $l$ is 10, equal to the number of labels. But you can try slightly smaller or bigger values as well. \n",
        "\n",
        "\n",
        "**Hint**: Take a look at [this notebook](https://colab.research.google.com/drive/1DG5PjWejo8F7AhozHxj8329SuMtXZ874?usp=drive_fs) we used in the lecture, and imitate what we did there. Be careful though, to use only the scikit-learn demonstration, not the exhaustive PCA steps we did before it.\n",
        "\n",
        "**Note**: This computation can take a while. If problems are encountered we can try the same experiment on a downsized data set. "
      ]
    },
    {
      "cell_type": "markdown",
      "metadata": {
        "id": "a0ek4Ry_-uT_"
      },
      "source": [
        ""
      ]
    },
    {
      "cell_type": "code",
      "source": [
        "from sklearn.preprocessing import StandardScaler\n",
        "\n",
        "sc = StandardScaler()\n",
        "X_train_std = sc.fit_transform(X_train)\n",
        "X_test_std = sc.transform(X_test)"
      ],
      "metadata": {
        "id": "noMiRheJx1T1"
      },
      "execution_count": null,
      "outputs": []
    },
    {
      "cell_type": "code",
      "source": [
        "print(X_train_std.shape)\n",
        "print(X_test_std.shape)"
      ],
      "metadata": {
        "colab": {
          "base_uri": "https://localhost:8080/"
        },
        "id": "Vs-JOIDHEY37",
        "outputId": "95070c0e-989e-455c-fc4f-d497d93891cd"
      },
      "execution_count": null,
      "outputs": [
        {
          "output_type": "stream",
          "name": "stdout",
          "text": [
            "(60000, 784)\n",
            "(10000, 784)\n"
          ]
        }
      ]
    },
    {
      "cell_type": "code",
      "metadata": {
        "id": "5v7Q2NKp-uUM",
        "colab": {
          "base_uri": "https://localhost:8080/"
        },
        "outputId": "370aa5fe-c132-49ce-ba2a-44bca6b452ce"
      },
      "source": [
        "from sklearn.decomposition import PCA\n",
        "\n",
        "pca = PCA(n_components=10)\n",
        "#pca = PCA(0.95)\n",
        "X_train_pca = pca.fit_transform(X_train_std)\n",
        "X_test_pca = pca.transform(X_test_std)\n",
        "print(X_train_pca.shape)\n",
        "print(X_test_pca.shape)\n",
        "pca.explained_variance_ratio_"
      ],
      "execution_count": null,
      "outputs": [
        {
          "output_type": "stream",
          "name": "stdout",
          "text": [
            "(60000, 10)\n",
            "(10000, 10)\n"
          ]
        },
        {
          "output_type": "execute_result",
          "data": {
            "text/plain": [
              "array([0.05694422, 0.04067321, 0.03768097, 0.02906179, 0.02546531,\n",
              "       0.02205956, 0.01922801, 0.0175268 , 0.01540025, 0.01408934])"
            ]
          },
          "metadata": {},
          "execution_count": 8
        }
      ]
    },
    {
      "cell_type": "code",
      "metadata": {
        "id": "sBjMZF1wGaUp"
      },
      "source": [
        "# for grader use\n",
        "maxScore = maxScore +4 \n",
        "\n",
        "\n",
        "# insert grade here (out of 4)\n",
        "# G[2,1] =\n",
        "\n"
      ],
      "execution_count": null,
      "outputs": []
    },
    {
      "cell_type": "markdown",
      "metadata": {
        "id": "Pe9kKR3J-uUA"
      },
      "source": [
        "## <font color = 'blue'> Question 3. kNN on MNIST attributes from PCA </font>\n",
        "\n",
        "\n",
        "Having calculated the *transformed* MNIST data set we can now apply a kNN approach to the MNIST classification data set. Here are the sets:\n",
        "\n",
        "(i) Fit a $k$-NN classifier on the transformed data set. Here $k$ is a hyperparameter, and you can experiment with it. Be aware though, that larger $k$ can take more time to fit. \n",
        "\n",
        "(ii) Apply the classifier on the transformed test set. What is the classification accuracy? \n",
        "\n",
        "(iii) A theoretical question: if we skipped all the above steps and we just assigned a **random** label to each test point, what would the classification accuracy be on average?  Does your result (ii) beat the random expectation? \n",
        "\n",
        "(iv) Experiment with different settings of $k$, and other hyperparameters that are described in the scikit-learn manual of the kNN classifier. Report your findings in a separate cell. Also for **participation points**: report your best result on Canvas! \n",
        "\n",
        "[**Hint**: Imitate the steps from the classroom notebook]\n"
      ]
    },
    {
      "cell_type": "code",
      "source": [
        "#(i) Fit a  k -NN classifier on the transformed data set. Here  k  is a hyperparameter, \n",
        "#and you can experiment with it. Be aware though, that larger  k  can take more time to fit.\n",
        "from sklearn.neighbors import KNeighborsClassifier\n",
        "\n",
        "\n",
        "knn = KNeighborsClassifier(n_neighbors=3)\n",
        "knn.fit(X_train_pca, y_train) \n",
        "\n",
        "#(ii) Apply the classifier on the transformed test set. What is the classification accuracy?\n",
        "print(f\"Accuracy with PCA - {knn.score(X_train_pca,y_train)}\")"
      ],
      "metadata": {
        "colab": {
          "base_uri": "https://localhost:8080/"
        },
        "id": "qeiSjHsAIllO",
        "outputId": "61ada0d2-4e09-4a78-a6ff-e033d34e4758"
      },
      "execution_count": null,
      "outputs": [
        {
          "output_type": "stream",
          "name": "stdout",
          "text": [
            "Accuracy with PCA - 0.9487\n"
          ]
        }
      ]
    },
    {
      "cell_type": "code",
      "source": [
        "#(iii) A theoretical question: if we skipped all the above steps and we just assigned a random label to each test point, \n",
        "#what would the classification accuracy be on average? Does your result (ii) beat the random expectation?\n",
        "\n",
        "print(\"picking only 10000 datapoints and apply PCA with 10 components with k=3 knn..\")\n",
        "X_train_pca_new = pca.fit_transform(X_train_std[0:10000])\n",
        "X_test_pca_new = pca.transform(X_test_std[0:10000])\n",
        "y_train_new = y_train[0:10000]\n",
        "print(X_train_pca_new.shape)\n",
        "print(X_test_pca_new.shape)\n",
        "\n",
        "\n",
        "knn = KNeighborsClassifier(3)\n",
        "knn.fit(X_train_pca_new, y_train_new)\n",
        "print(f\"Accuracy with PCA for 10000 datapoints - {knn.score(X_train_pca_new,y_train_new)}\")"
      ],
      "metadata": {
        "colab": {
          "base_uri": "https://localhost:8080/"
        },
        "id": "FTrBEJIAx9Gy",
        "outputId": "50f02d43-8815-4599-cc06-946d59a0507f"
      },
      "execution_count": null,
      "outputs": [
        {
          "output_type": "stream",
          "name": "stdout",
          "text": [
            "picking only 10000 datapoints and apply PCA with 10 components with k=3 knn..\n",
            "(10000, 10)\n",
            "(10000, 10)\n",
            "Accuracy with PCA for 10000 datapoints - 0.9316\n"
          ]
        }
      ]
    },
    {
      "cell_type": "code",
      "source": [
        "import numpy as np\n",
        "print(\"picking only 10000 datapoints and randomly assigning y labels and applying knn with k=3 components..\")\n",
        "sc = StandardScaler()\n",
        "X_train_std_new = sc.fit_transform(X_train[0:10000])\n",
        "X_test_std_new = sc.transform(X_test[0:10000])\n",
        "                              \n",
        "y_train_new = y_train[0:10000]\n",
        "\n",
        "res = y_train_new.ravel()\n",
        "np.random.shuffle(res) #Randomly shuffle labels\n",
        "y_train_shuffle = res.reshape(y_train_new.shape)\n",
        "\n",
        "knn.fit(X_train_std_new, y_train_shuffle)\n",
        "print(f\"Accuracy with shuffled y labels on 10000 datapoints - {knn.score(X_train_std_new,y_train_shuffle)}\")"
      ],
      "metadata": {
        "colab": {
          "base_uri": "https://localhost:8080/"
        },
        "id": "CT7qZdz94Vqj",
        "outputId": "5e4c7e51-7eb1-4df8-af03-5c243f08dc26"
      },
      "execution_count": null,
      "outputs": [
        {
          "output_type": "stream",
          "name": "stdout",
          "text": [
            "picking only 10000 datapoints and randomly assigning y labels and applying knn with k=3 components..\n",
            "Accuracy with shuffled y labels on 10000 datapoints - 0.434\n"
          ]
        }
      ]
    },
    {
      "cell_type": "markdown",
      "source": [
        "Based on the above two experiments, Since the labels are assigned randomly, accuracy is less than accuracy obtained with PCA-KNN combination for 10000 datapoints."
      ],
      "metadata": {
        "id": "2l-esKLw_EjZ"
      }
    },
    {
      "cell_type": "code",
      "source": [
        "#(iv) Experiment with different settings of  k , and other hyperparameters that are described in the scikit-learn manual of the kNN classifier.\n",
        "pca = PCA(n_components=20)\n",
        "#pca = PCA(0.95)\n",
        "X_train_pca = pca.fit_transform(X_train_std)\n",
        "X_test_pca = pca.transform(X_test_std)\n",
        "print(X_train_pca.shape)\n",
        "print(X_test_pca.shape)\n",
        "\n",
        "for i in range(13):\n",
        "  n_neighbors=i+3\n",
        "  knn = KNeighborsClassifier(n_neighbors)\n",
        "  knn.fit(X_train_pca, y_train)\n",
        "  print(f\" K = {n_neighbors}, accuracy - {knn.score(X_train_pca,y_train)}\")"
      ],
      "metadata": {
        "colab": {
          "base_uri": "https://localhost:8080/"
        },
        "id": "eYCMEgdoKyO4",
        "outputId": "92a5cf02-76e0-4e75-edc7-9d79e4d38d45"
      },
      "execution_count": null,
      "outputs": [
        {
          "output_type": "stream",
          "name": "stdout",
          "text": [
            "(60000, 20)\n",
            "(10000, 20)\n",
            " K = 3, accuracy - 0.8316\n",
            " K = 4, accuracy - 0.8250833333333333\n",
            " K = 5, accuracy - 0.8223\n",
            " K = 6, accuracy - 0.81965\n"
          ]
        }
      ]
    },
    {
      "cell_type": "code",
      "metadata": {
        "id": "NuYcPkCaGe9p"
      },
      "source": [
        "# for grader use\n",
        "maxScore = maxScore +12\n",
        "\n",
        "# insert grade here (each item out of 4)\n",
        "# G[3,1] =\n",
        "# G[3,2] = \n",
        "# G[3,3] =\n",
        "# G[3,4] = "
      ],
      "execution_count": null,
      "outputs": []
    },
    {
      "cell_type": "code",
      "metadata": {
        "id": "fydXo8GRGkbp",
        "colab": {
          "base_uri": "https://localhost:8080/",
          "height": 217
        },
        "outputId": "2f05eeb9-173b-47d6-a68f-33e74e04280f"
      },
      "source": [
        "# for grader use\n",
        "\n",
        "# Total Grade Calculation\n",
        "rawScore = np.sum(G)\n",
        "score = rawScore*100/maxScore"
      ],
      "execution_count": null,
      "outputs": [
        {
          "output_type": "error",
          "ename": "NameError",
          "evalue": "ignored",
          "traceback": [
            "\u001b[0;31m---------------------------------------------------------------------------\u001b[0m",
            "\u001b[0;31mNameError\u001b[0m                                 Traceback (most recent call last)",
            "\u001b[0;32m<ipython-input-15-9d045ecd90b3>\u001b[0m in \u001b[0;36m<module>\u001b[0;34m()\u001b[0m\n\u001b[1;32m      2\u001b[0m \u001b[0;34m\u001b[0m\u001b[0m\n\u001b[1;32m      3\u001b[0m \u001b[0;31m# Total Grade Calculation\u001b[0m\u001b[0;34m\u001b[0m\u001b[0;34m\u001b[0m\u001b[0;34m\u001b[0m\u001b[0m\n\u001b[0;32m----> 4\u001b[0;31m \u001b[0mrawScore\u001b[0m \u001b[0;34m=\u001b[0m \u001b[0mnp\u001b[0m\u001b[0;34m.\u001b[0m\u001b[0msum\u001b[0m\u001b[0;34m(\u001b[0m\u001b[0mG\u001b[0m\u001b[0;34m)\u001b[0m\u001b[0;34m\u001b[0m\u001b[0;34m\u001b[0m\u001b[0m\n\u001b[0m\u001b[1;32m      5\u001b[0m \u001b[0mscore\u001b[0m \u001b[0;34m=\u001b[0m \u001b[0mrawScore\u001b[0m\u001b[0;34m*\u001b[0m\u001b[0;36m100\u001b[0m\u001b[0;34m/\u001b[0m\u001b[0mmaxScore\u001b[0m\u001b[0;34m\u001b[0m\u001b[0;34m\u001b[0m\u001b[0m\n",
            "\u001b[0;31mNameError\u001b[0m: name 'G' is not defined"
          ]
        }
      ]
    }
  ]
}